{
 "cells": [
  {
   "cell_type": "markdown",
   "id": "807a78c5",
   "metadata": {},
   "source": [
    "**Objective:** The _notebook_ presents the method to prepare the features and labels for a _time series machine learning model_ using the `tensorflow` library. Typically, for a time series problem the features and the output is a sequence of values, where features are, for example, like $x_0, x_1, ..., x_{n-1}$ and output is $y = x_n$ for one time step. This can be developed as:"
   ]
  },
  {
   "cell_type": "code",
   "execution_count": 30,
   "id": "3cec209c",
   "metadata": {
    "ExecuteTime": {
     "end_time": "2023-01-03T06:42:08.228026Z",
     "start_time": "2023-01-03T06:42:08.220029Z"
    }
   },
   "outputs": [],
   "source": [
    "import numpy as np"
   ]
  },
  {
   "cell_type": "code",
   "execution_count": 1,
   "id": "81ea86de",
   "metadata": {
    "ExecuteTime": {
     "end_time": "2023-01-03T06:23:21.044812Z",
     "start_time": "2023-01-03T06:23:11.388073Z"
    }
   },
   "outputs": [
    {
     "name": "stdout",
     "output_type": "stream",
     "text": [
      "Tensorflow Version: 2.9.0\n"
     ]
    },
    {
     "data": {
      "text/plain": [
       "[PhysicalDevice(name='/physical_device:CPU:0', device_type='CPU'),\n",
       " PhysicalDevice(name='/physical_device:GPU:0', device_type='GPU')]"
      ]
     },
     "execution_count": 1,
     "metadata": {},
     "output_type": "execute_result"
    }
   ],
   "source": [
    "import tensorflow as tf\n",
    "print(f\"Tensorflow Version: {tf.__version__}\")\n",
    "\n",
    "tf.config.list_physical_devices()"
   ]
  },
  {
   "cell_type": "code",
   "execution_count": 23,
   "id": "82101181",
   "metadata": {
    "ExecuteTime": {
     "end_time": "2023-01-03T06:37:18.671380Z",
     "start_time": "2023-01-03T06:37:18.643382Z"
    }
   },
   "outputs": [
    {
     "data": {
      "text/plain": [
       "(tensorflow.python.data.ops.dataset_ops.RangeDataset,\n",
       " [(0, tensorflow.python.framework.ops.EagerTensor),\n",
       "  (1, tensorflow.python.framework.ops.EagerTensor),\n",
       "  (2, tensorflow.python.framework.ops.EagerTensor),\n",
       "  (3, tensorflow.python.framework.ops.EagerTensor),\n",
       "  (4, tensorflow.python.framework.ops.EagerTensor),\n",
       "  (5, tensorflow.python.framework.ops.EagerTensor),\n",
       "  (6, tensorflow.python.framework.ops.EagerTensor),\n",
       "  (7, tensorflow.python.framework.ops.EagerTensor),\n",
       "  (8, tensorflow.python.framework.ops.EagerTensor),\n",
       "  (9, tensorflow.python.framework.ops.EagerTensor)])"
      ]
     },
     "execution_count": 23,
     "metadata": {},
     "output_type": "execute_result"
    }
   ],
   "source": [
    "dataset = tf.data.Dataset.range(10) # create a tf with elements 0 to 10\n",
    "type(dataset), [(x.numpy(), type(x)) for x in dataset]"
   ]
  },
  {
   "cell_type": "code",
   "execution_count": 24,
   "id": "ded7e4c3",
   "metadata": {
    "ExecuteTime": {
     "end_time": "2023-01-03T06:37:18.985005Z",
     "start_time": "2023-01-03T06:37:18.975739Z"
    }
   },
   "outputs": [],
   "source": [
    "dataset = dataset.window(5, shift = 1, drop_remainder = True)"
   ]
  },
  {
   "cell_type": "code",
   "execution_count": 25,
   "id": "f62db6c2",
   "metadata": {
    "ExecuteTime": {
     "end_time": "2023-01-03T06:37:19.402699Z",
     "start_time": "2023-01-03T06:37:19.338840Z"
    }
   },
   "outputs": [
    {
     "name": "stdout",
     "output_type": "stream",
     "text": [
      "0 1 2 3 4 \n",
      "1 2 3 4 5 \n",
      "2 3 4 5 6 \n",
      "3 4 5 6 7 \n",
      "4 5 6 7 8 \n",
      "5 6 7 8 9 \n"
     ]
    }
   ],
   "source": [
    "for window in dataset:\n",
    "    for array in window:\n",
    "        print(array.numpy(), end = \" \")\n",
    "    print()"
   ]
  },
  {
   "cell_type": "code",
   "execution_count": 26,
   "id": "037d126e",
   "metadata": {
    "ExecuteTime": {
     "end_time": "2023-01-03T06:37:19.808956Z",
     "start_time": "2023-01-03T06:37:19.779943Z"
    }
   },
   "outputs": [
    {
     "data": {
      "text/plain": [
       "[array([0, 1, 2, 3, 4], dtype=int64),\n",
       " array([1, 2, 3, 4, 5], dtype=int64),\n",
       " array([2, 3, 4, 5, 6], dtype=int64),\n",
       " array([3, 4, 5, 6, 7], dtype=int64),\n",
       " array([4, 5, 6, 7, 8], dtype=int64),\n",
       " array([5, 6, 7, 8, 9], dtype=int64)]"
      ]
     },
     "execution_count": 26,
     "metadata": {},
     "output_type": "execute_result"
    }
   ],
   "source": [
    "dataset = dataset.flat_map(lambda window : window.batch(5)) # collate elements\n",
    "[window.numpy() for window in dataset]"
   ]
  },
  {
   "cell_type": "code",
   "execution_count": 27,
   "id": "9fb6e8bb",
   "metadata": {
    "ExecuteTime": {
     "end_time": "2023-01-03T06:37:20.418151Z",
     "start_time": "2023-01-03T06:37:20.371179Z"
    }
   },
   "outputs": [
    {
     "name": "stdout",
     "output_type": "stream",
     "text": [
      "[0 1 2 3] 4\n",
      "[1 2 3 4] 5\n",
      "[2 3 4 5] 6\n",
      "[3 4 5 6] 7\n",
      "[4 5 6 7] 8\n",
      "[5 6 7 8] 9\n"
     ]
    }
   ],
   "source": [
    "# now map the corresponding `x` and `y` values\n",
    "dataset = dataset.map(lambda window : (window[:-1], window[-1]))\n",
    "\n",
    "for x, y in dataset:\n",
    "    print(x.numpy(), y.numpy())"
   ]
  },
  {
   "cell_type": "code",
   "execution_count": 28,
   "id": "437af1d6",
   "metadata": {
    "ExecuteTime": {
     "end_time": "2023-01-03T06:37:21.055207Z",
     "start_time": "2023-01-03T06:37:21.006984Z"
    }
   },
   "outputs": [
    {
     "name": "stdout",
     "output_type": "stream",
     "text": [
      "[1 2 3 4] 5\n",
      "[5 6 7 8] 9\n",
      "[4 5 6 7] 8\n",
      "[0 1 2 3] 4\n",
      "[3 4 5 6] 7\n",
      "[2 3 4 5] 6\n"
     ]
    }
   ],
   "source": [
    "# shuffle the dataset using the `.shuffle`\n",
    "dataset = dataset.shuffle(buffer_size = 10)\n",
    "\n",
    "for x, y in dataset:\n",
    "    print(x.numpy(), y.numpy())"
   ]
  },
  {
   "cell_type": "code",
   "execution_count": 29,
   "id": "556d22bf",
   "metadata": {
    "ExecuteTime": {
     "end_time": "2023-01-03T06:37:22.785467Z",
     "start_time": "2023-01-03T06:37:22.750476Z"
    }
   },
   "outputs": [
    {
     "name": "stdout",
     "output_type": "stream",
     "text": [
      "<x = [[5 6 7 8]\n",
      " [2 3 4 5]], y = [9 6]>\n",
      "<x = [[4 5 6 7]\n",
      " [3 4 5 6]], y = [8 7]>\n",
      "<x = [[0 1 2 3]\n",
      " [1 2 3 4]], y = [4 5]>\n"
     ]
    }
   ],
   "source": [
    "# batch the data using `.batch` followed by `.prefetch`\n",
    "dataset = dataset.batch(2).prefetch(1)\n",
    "\n",
    "for x, y in dataset:\n",
    "    print(f\"<x = {x.numpy()}, y = {y.numpy()}>\")"
   ]
  },
  {
   "cell_type": "markdown",
   "id": "a99f1f20",
   "metadata": {},
   "source": [
    "Combining the above knowledge, let's create a general dynamic function that can be used for all type of analysis."
   ]
  },
  {
   "cell_type": "code",
   "execution_count": 39,
   "id": "fec4ed7d",
   "metadata": {
    "ExecuteTime": {
     "end_time": "2023-01-03T06:55:21.031309Z",
     "start_time": "2023-01-03T06:55:21.024371Z"
    }
   },
   "outputs": [],
   "source": [
    "def create_xy(series : np.ndarray, window_size : int, batch_size : int, shuffle_buffer : int, **kwargs):\n",
    "    \"\"\"\n",
    "    Process a `np.ndarray` into XY Lables for AI-ML Time Series Analysis\n",
    "    \n",
    "    Consider a 1D-Array the data splits and process it into `xy` where `x` is\n",
    "    the number of features set by the \"window\" element and `y` is the last\n",
    "    element for each data split. For detailed methodlogies check each\n",
    "    steps as dicussed above.\n",
    "    \"\"\"\n",
    "    \n",
    "    dataset = tf.data.Dataset.from_tensor_slices(series)\n",
    "    dataset = dataset.window(window_size + 1, shift = kwargs.get(\"shift\", 1), drop_remainder = True)\n",
    "    dataset = dataset.flat_map(lambda window : window.batch(window_size + 1))\n",
    "    dataset = dataset.shuffle(shuffle_buffer).map(lambda window : (window[:-1], window[-1]))\n",
    "    \n",
    "    return dataset.batch(batch_size).prefetch(1)"
   ]
  },
  {
   "cell_type": "code",
   "execution_count": 46,
   "id": "cda3763e",
   "metadata": {
    "ExecuteTime": {
     "end_time": "2023-01-03T06:56:57.202043Z",
     "start_time": "2023-01-03T06:56:57.191802Z"
    }
   },
   "outputs": [],
   "source": [
    "WINDOW, BATCH, SHUFFLE = 5, 3, 20"
   ]
  },
  {
   "cell_type": "code",
   "execution_count": 47,
   "id": "cc5a01d3",
   "metadata": {
    "ExecuteTime": {
     "end_time": "2023-01-03T06:57:03.491368Z",
     "start_time": "2023-01-03T06:57:03.423386Z"
    }
   },
   "outputs": [
    {
     "name": "stdout",
     "output_type": "stream",
     "text": [
      "<x = [[79 67 30 30  9]\n",
      " [14 66 76 16  9]\n",
      " [17 39 80 53 79]], y = [18  4 67]>\n",
      "<x = [[72 34 66 44 14]\n",
      " [18  3 44 43 57]\n",
      " [16  9  4 17 39]], y = [66 97 80]>\n",
      "<x = [[50  7 72 34 66]\n",
      " [76 16  9  4 17]\n",
      " [39 80 53 79 67]], y = [44 39 30]>\n",
      "<x = [[66 44 14 66 76]\n",
      " [34 66 44 14 66]\n",
      " [ 9 18  3 44 43]], y = [16 76 57]>\n",
      "<x = [[30 30  9 18  3]\n",
      " [44 43 57 97 12]\n",
      " [ 3 44 43 57 97]], y = [44 14 12]>\n",
      "<x = [[53 79 67 30 30]\n",
      " [30  9 18  3 44]\n",
      " [80 53 79 67 30]], y = [ 9 43 30]>\n",
      "<x = [[67 30 30  9 18]\n",
      " [ 7 72 34 66 44]\n",
      " [ 4 17 39 80 53]], y = [ 3 14 79]>\n",
      "<x = [[66 76 16  9  4]\n",
      " [ 9  4 17 39 80]\n",
      " [84 50  7 72 34]], y = [17 53 66]>\n",
      "<x = [[44 14 66 76 16]], y = [9]>\n"
     ]
    }
   ],
   "source": [
    "series = np.random.randint(0, 101, size = 30)\n",
    "dataset = create_xy(series, window_size = WINDOW, batch_size = BATCH, shuffle_buffer = SHUFFLE)\n",
    "\n",
    "for x, y in dataset:\n",
    "    print(f\"<x = {x.numpy()}, y = {y.numpy()}>\")"
   ]
  }
 ],
 "metadata": {
  "kernelspec": {
   "display_name": "TensorFlow 2.9.0 (GPU)",
   "language": "python",
   "name": "tensorflow"
  },
  "language_info": {
   "codemirror_mode": {
    "name": "ipython",
    "version": 3
   },
   "file_extension": ".py",
   "mimetype": "text/x-python",
   "name": "python",
   "nbconvert_exporter": "python",
   "pygments_lexer": "ipython3",
   "version": "3.9.13"
  },
  "toc": {
   "base_numbering": 1,
   "nav_menu": {},
   "number_sections": false,
   "sideBar": true,
   "skip_h1_title": true,
   "title_cell": "Table of Contents",
   "title_sidebar": "Contents",
   "toc_cell": false,
   "toc_position": {},
   "toc_section_display": true,
   "toc_window_display": false
  },
  "varInspector": {
   "cols": {
    "lenName": 16,
    "lenType": 16,
    "lenVar": 40
   },
   "kernels_config": {
    "python": {
     "delete_cmd_postfix": "",
     "delete_cmd_prefix": "del ",
     "library": "var_list.py",
     "varRefreshCmd": "print(var_dic_list())"
    },
    "r": {
     "delete_cmd_postfix": ") ",
     "delete_cmd_prefix": "rm(",
     "library": "var_list.r",
     "varRefreshCmd": "cat(var_dic_list()) "
    }
   },
   "types_to_exclude": [
    "module",
    "function",
    "builtin_function_or_method",
    "instance",
    "_Feature"
   ],
   "window_display": false
  }
 },
 "nbformat": 4,
 "nbformat_minor": 5
}
