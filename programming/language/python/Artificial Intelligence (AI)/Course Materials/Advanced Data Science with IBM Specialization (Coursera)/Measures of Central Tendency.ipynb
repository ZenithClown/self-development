{
    "cells": [
        {
            "metadata": {},
            "cell_type": "code",
            "source": "from math import sqrt",
            "execution_count": 3,
            "outputs": []
        },
        {
            "metadata": {},
            "cell_type": "code",
            "source": "try:\n    from pyspark import SparkContext, SparkConf\n    from pyspark.sql import SparkSession\nexcept ImportError as e:\n    raise ImportError('PySpark is not Configured')\n    \n# Creating a Spark-Context\nsc = SparkContext.getOrCreate(SparkConf().setMaster('local[*]'))\n# Spark Builder\nspark = SparkSession.builder.getOrCreate()",
            "execution_count": 1,
            "outputs": []
        },
        {
            "metadata": {},
            "cell_type": "code",
            "source": "RDD = sc.parallelize([34,1,23,4,3,3,12,4,3,1])",
            "execution_count": 60,
            "outputs": []
        },
        {
            "metadata": {},
            "cell_type": "code",
            "source": "calculateMean = lambda RDD : RDD.sum() / RDD.count() # the Precision is Lost - due to int-Comprehension",
            "execution_count": 61,
            "outputs": []
        },
        {
            "metadata": {},
            "cell_type": "code",
            "source": "calculateMean(RDD)",
            "execution_count": 62,
            "outputs": [
                {
                    "output_type": "execute_result",
                    "execution_count": 62,
                    "data": {
                        "text/plain": "8.8"
                    },
                    "metadata": {}
                }
            ]
        },
        {
            "metadata": {},
            "cell_type": "code",
            "source": "sortedListWithIndex = lambda li_ : li_.sortBy(lambda x : x).zipWithIndex().map(lambda KeyVals : (KeyVals[1], KeyVals[0]))",
            "execution_count": 63,
            "outputs": []
        },
        {
            "metadata": {},
            "cell_type": "code",
            "source": "def calculateMedian(RDD):\n    numElems = RDD.count()\n    if (numElems % 2 == 0):\n        index = [numElems / 2, numElems / 2 - 1]\n        return (sortedListWithIndex(RDD).lookup(index[0])[0] + sortedListWithIndex(RDD).lookup(index[1])[0]) / 2\n    else:\n        index = (numElems - 1) / 2\n        return sortedListWithIndex(RDD).lookup(index)",
            "execution_count": 64,
            "outputs": []
        },
        {
            "metadata": {},
            "cell_type": "code",
            "source": "calculateMedian(RDD)",
            "execution_count": 65,
            "outputs": [
                {
                    "output_type": "execute_result",
                    "execution_count": 65,
                    "data": {
                        "text/plain": "3.5"
                    },
                    "metadata": {}
                }
            ]
        },
        {
            "metadata": {},
            "cell_type": "code",
            "source": "mean     = calculateMean(RDD)\nnumElems = float(RDD.count())",
            "execution_count": 66,
            "outputs": []
        },
        {
            "metadata": {},
            "cell_type": "code",
            "source": "numElems",
            "execution_count": 67,
            "outputs": [
                {
                    "output_type": "execute_result",
                    "execution_count": 67,
                    "data": {
                        "text/plain": "10.0"
                    },
                    "metadata": {}
                }
            ]
        },
        {
            "metadata": {},
            "cell_type": "code",
            "source": "CalculateStandardDeviation = sqrt(RDD.map(lambda x: pow(x - mean, 2)).sum() / numElems)",
            "execution_count": 68,
            "outputs": []
        },
        {
            "metadata": {},
            "cell_type": "code",
            "source": "CalculateStandardDeviation",
            "execution_count": 69,
            "outputs": [
                {
                    "output_type": "execute_result",
                    "execution_count": 69,
                    "data": {
                        "text/plain": "10.562196741208714"
                    },
                    "metadata": {}
                }
            ]
        },
        {
            "metadata": {},
            "cell_type": "code",
            "source": "Skewness = numElems / ((numElems - 1) * (numElems - 2)) * RDD.map(lambda x : pow(x - mean, 3) / pow(CalculateStandardDeviation, 3)).sum()",
            "execution_count": 70,
            "outputs": []
        },
        {
            "metadata": {},
            "cell_type": "code",
            "source": "Skewness",
            "execution_count": 71,
            "outputs": [
                {
                    "output_type": "execute_result",
                    "execution_count": 71,
                    "data": {
                        "text/plain": "2.0207040735991666"
                    },
                    "metadata": {}
                }
            ]
        },
        {
            "metadata": {},
            "cell_type": "code",
            "source": "Kurtosis = RDD.map(lambda x: pow(x - mean, 4) / pow(CalculateStandardDeviation, 4)).sum() / (1 - numElems)",
            "execution_count": 72,
            "outputs": []
        },
        {
            "metadata": {},
            "cell_type": "code",
            "source": "Kurtosis",
            "execution_count": 73,
            "outputs": [
                {
                    "output_type": "execute_result",
                    "execution_count": 73,
                    "data": {
                        "text/plain": "-4.070137783548084"
                    },
                    "metadata": {}
                }
            ]
        }
    ],
    "metadata": {
        "kernelspec": {
            "name": "python3",
            "display_name": "Python 3.6",
            "language": "python"
        },
        "language_info": {
            "name": "python",
            "version": "3.6.9",
            "mimetype": "text/x-python",
            "codemirror_mode": {
                "name": "ipython",
                "version": 3
            },
            "pygments_lexer": "ipython3",
            "nbconvert_exporter": "python",
            "file_extension": ".py"
        }
    },
    "nbformat": 4,
    "nbformat_minor": 1
}