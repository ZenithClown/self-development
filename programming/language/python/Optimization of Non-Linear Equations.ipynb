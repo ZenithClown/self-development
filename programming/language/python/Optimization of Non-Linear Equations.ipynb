{
 "cells": [
  {
   "cell_type": "markdown",
   "metadata": {},
   "source": [
    "<h1 align = \"center\">Optimization of Non-Linear Equations</h1>\n",
    "\n",
    "<p align = \"justify\"><font color = \"#3e5c8c\">A system where the change in output is not proportional to the change in input is termed as a <b>non-linear system</b>.</font> In this notebook, we'll look into various ways of optimizations using <code>python</code>.<p>"
   ]
  },
  {
   "cell_type": "markdown",
   "metadata": {},
   "source": [
    "**Problem Statement** Minimize $x_1 x_4 (x_1 +x_2 + x_3) + x-3$, given the following conditions:\n",
    "\n",
    "* $x_1 x_2 x_3 x_4 \\geq 25$ <br><br>\n",
    "\n",
    "* $x_1^2 x_2^2 x_3^2 x_4^2 = 40$ <br><br>\n",
    "\n",
    "* $1 \\leq x_1 x_2 x_3 x_4 \\leq 5$ <br><br>\n",
    "\n",
    "Let, $x_0 = (1, 5, 5, 1)$."
   ]
  },
  {
   "cell_type": "code",
   "execution_count": 1,
   "metadata": {
    "ExecuteTime": {
     "end_time": "2021-12-20T11:42:15.147123Z",
     "start_time": "2021-12-20T11:42:06.257991Z"
    }
   },
   "outputs": [],
   "source": [
    "import numpy as np\n",
    "from scipy.optimize import minimize"
   ]
  },
  {
   "cell_type": "code",
   "execution_count": 20,
   "metadata": {
    "ExecuteTime": {
     "end_time": "2021-12-20T12:02:09.389391Z",
     "start_time": "2021-12-20T12:02:09.364709Z"
    }
   },
   "outputs": [],
   "source": [
    "def objective(xs):\n",
    "    x1, x2, x3, x4 = xs    \n",
    "    return x1 * x4 * (x1 + x2 + x3) + x3"
   ]
  },
  {
   "cell_type": "code",
   "execution_count": 9,
   "metadata": {
    "ExecuteTime": {
     "end_time": "2021-12-20T11:57:48.213347Z",
     "start_time": "2021-12-20T11:57:48.198020Z"
    }
   },
   "outputs": [],
   "source": [
    "constraints = [\n",
    "    {\n",
    "        \"type\" : \"ineq\",\n",
    "        \"fun\"  : lambda xs : np.prod(xs) - 25\n",
    "    },\n",
    "    \n",
    "    {\n",
    "        \"type\" : \"eq\",\n",
    "        \"fun\"  : lambda xs : np.sum(xs ** 2) - 40\n",
    "    }\n",
    "]"
   ]
  },
  {
   "cell_type": "code",
   "execution_count": 10,
   "metadata": {
    "ExecuteTime": {
     "end_time": "2021-12-20T11:59:05.872724Z",
     "start_time": "2021-12-20T11:59:05.858985Z"
    }
   },
   "outputs": [],
   "source": [
    "_bound = (1, 5)\n",
    "bounds = (_bound, _bound, _bound, _bound)"
   ]
  },
  {
   "cell_type": "code",
   "execution_count": 11,
   "metadata": {
    "ExecuteTime": {
     "end_time": "2021-12-20T11:59:47.270981Z",
     "start_time": "2021-12-20T11:59:47.248092Z"
    }
   },
   "outputs": [],
   "source": [
    "x0 = np.array([1, 5, 5, 1])"
   ]
  },
  {
   "cell_type": "code",
   "execution_count": 21,
   "metadata": {
    "ExecuteTime": {
     "end_time": "2021-12-20T12:02:11.320234Z",
     "start_time": "2021-12-20T12:02:10.889447Z"
    }
   },
   "outputs": [
    {
     "name": "stdout",
     "output_type": "stream",
     "text": [
      "     fun: 17.01401724556073\n",
      "     jac: array([14.57227039,  1.37940764,  2.37940764,  9.56415081])\n",
      " message: 'Optimization terminated successfully'\n",
      "    nfev: 25\n",
      "     nit: 5\n",
      "    njev: 5\n",
      "  status: 0\n",
      " success: True\n",
      "       x: array([1.        , 4.74299607, 3.82115466, 1.37940764])\n"
     ]
    }
   ],
   "source": [
    "solution = minimize(objective, x0, method = \"SLSQP\", bounds = bounds, constraints = constraints)\n",
    "print(solution)"
   ]
  }
 ],
 "metadata": {
  "kernelspec": {
   "display_name": "Python 3",
   "language": "python",
   "name": "python3"
  },
  "language_info": {
   "codemirror_mode": {
    "name": "ipython",
    "version": 3
   },
   "file_extension": ".py",
   "mimetype": "text/x-python",
   "name": "python",
   "nbconvert_exporter": "python",
   "pygments_lexer": "ipython3",
   "version": "3.8.3"
  },
  "latex_envs": {
   "LaTeX_envs_menu_present": true,
   "autoclose": false,
   "autocomplete": true,
   "bibliofile": "biblio.bib",
   "cite_by": "apalike",
   "current_citInitial": 1,
   "eqLabelWithNumbers": true,
   "eqNumInitial": 1,
   "hotkeys": {
    "equation": "Ctrl-E",
    "itemize": "Ctrl-I"
   },
   "labels_anchors": false,
   "latex_user_defs": false,
   "report_style_numbering": false,
   "user_envs_cfg": false
  },
  "toc": {
   "base_numbering": 1,
   "nav_menu": {},
   "number_sections": false,
   "sideBar": true,
   "skip_h1_title": true,
   "title_cell": "Table of Contents",
   "title_sidebar": "Contents",
   "toc_cell": false,
   "toc_position": {},
   "toc_section_display": true,
   "toc_window_display": false
  },
  "varInspector": {
   "cols": {
    "lenName": 16,
    "lenType": 16,
    "lenVar": 40
   },
   "kernels_config": {
    "python": {
     "delete_cmd_postfix": "",
     "delete_cmd_prefix": "del ",
     "library": "var_list.py",
     "varRefreshCmd": "print(var_dic_list())"
    },
    "r": {
     "delete_cmd_postfix": ") ",
     "delete_cmd_prefix": "rm(",
     "library": "var_list.r",
     "varRefreshCmd": "cat(var_dic_list()) "
    }
   },
   "types_to_exclude": [
    "module",
    "function",
    "builtin_function_or_method",
    "instance",
    "_Feature"
   ],
   "window_display": false
  }
 },
 "nbformat": 4,
 "nbformat_minor": 4
}
