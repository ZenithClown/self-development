{
 "cells": [
  {
   "cell_type": "markdown",
   "id": "19c251de",
   "metadata": {},
   "source": [
    "<h1 align = \"center\">Predict Future Sales</h1>\n",
    "\n",
    "The challenge is to [*predict future sales*](https://www.kaggle.com/competitions/competitive-data-science-predict-future-sales) for every product and store for the next (upcoming) month. All the data files are available in `data` directory, however they are ignored from GIT.\n",
    "\n",
    "## Objective\n",
    "The notebook is designed to serve the purpose of understanding the dataset, do feature engineering and finally make some predictions. The code also uses [**`googletrans`**](https://pypi.org/project/googletrans/) library to convert Russian language to English, and finally do some NLP to create a more meaningful bag of product category."
   ]
  },
  {
   "cell_type": "code",
   "execution_count": 1,
   "id": "52e9a09f",
   "metadata": {
    "ExecuteTime": {
     "end_time": "2022-04-06T11:31:47.003211Z",
     "start_time": "2022-04-06T11:31:45.116670Z"
    }
   },
   "outputs": [],
   "source": [
    "import numpy as np\n",
    "import pandas as pd\n",
    "import seaborn as sns\n",
    "import matplotlib.pyplot as plt\n",
    "\n",
    "%precision 3\n",
    "%matplotlib inline\n",
    "sns.set_style('whitegrid');\n",
    "plt.style.use('default-style');\n",
    "np.set_printoptions(precision = 3, threshold = 15)"
   ]
  },
  {
   "cell_type": "code",
   "execution_count": 2,
   "id": "493fb6cb",
   "metadata": {
    "ExecuteTime": {
     "end_time": "2022-04-06T11:31:47.036515Z",
     "start_time": "2022-04-06T11:31:47.003851Z"
    }
   },
   "outputs": [],
   "source": [
    "from time import ctime # will be used in logging, file/output directory create etc.\n",
    "from os import makedirs # create directories dynamically, if not already done so manually\n",
    "from os.path import join # keep directories `os`-independent\n",
    "from copy import deepcopy # `pd.Dataframe` is mutable, so any `df` operation may need `deepcopy`\n",
    "from tqdm import tqdm as TQ # provide progress bar for code completions\n",
    "from uuid import uuid1 as UUID # keep output file name unique\n",
    "from datetime import datetime as dt # formatting datetime objects"
   ]
  },
  {
   "cell_type": "code",
   "execution_count": 3,
   "id": "4487d48d",
   "metadata": {
    "ExecuteTime": {
     "end_time": "2022-04-06T11:31:47.151958Z",
     "start_time": "2022-04-06T11:31:47.036515Z"
    },
    "deletable": false,
    "editable": false
   },
   "outputs": [],
   "source": [
    "from utilities import read_file"
   ]
  },
  {
   "cell_type": "markdown",
   "id": "c4f4e0fc",
   "metadata": {},
   "source": [
    "**Global Constants**"
   ]
  },
  {
   "cell_type": "code",
   "execution_count": 4,
   "id": "12d2345b",
   "metadata": {
    "ExecuteTime": {
     "end_time": "2022-04-06T11:31:47.186505Z",
     "start_time": "2022-04-06T11:31:47.151958Z"
    },
    "deletable": false,
    "editable": false
   },
   "outputs": [
    {
     "name": "stdout",
     "output_type": "stream",
     "text": [
      "Output File : .\\output\\Wed, Apr 06 2022\\24b06545-b59d-11ec-abdd-5405db104a4e.xlsx\n"
     ]
    }
   ],
   "source": [
    "ROOT = \".\"\n",
    "DATA = join(ROOT, \"data\")\n",
    "\n",
    "# define output directory\n",
    "# this is defined on current date\n",
    "today = dt.strftime(dt.strptime(ctime(), \"%a %b %d %H:%M:%S %Y\"), \"%a, %b %d %Y\")\n",
    "\n",
    "OUTPUT_DIR = join(ROOT, \"output\", today)\n",
    "makedirs(OUTPUT_DIR, exist_ok = True) # create dir if not exist\n",
    "\n",
    "# set/change output file name\n",
    "OUTPUT_FILE = f\"{UUID()}.xlsx\" # randomly generate names\n",
    "\n",
    "# log/inform users of current output file name\n",
    "print(f\"Output File : {join(OUTPUT_DIR, OUTPUT_FILE)}\") # use this syntax"
   ]
  },
  {
   "cell_type": "markdown",
   "id": "e143646b",
   "metadata": {},
   "source": [
    "## Imports\n",
    "Import all the data file, and process the data for ML modeling."
   ]
  },
  {
   "cell_type": "code",
   "execution_count": null,
   "id": "c0b862a9",
   "metadata": {
    "ExecuteTime": {
     "end_time": "2022-04-04T17:19:11.565103Z",
     "start_time": "2022-04-04T17:19:11.527729Z"
    },
    "deletable": false,
    "editable": false,
    "run_control": {
     "frozen": true
    }
   },
   "outputs": [],
   "source": [
    "# check the contents of `data` directory\n",
    "# this cell is meant to be run on *nix systems\n",
    "!ls ./data/"
   ]
  },
  {
   "cell_type": "code",
   "execution_count": 5,
   "id": "5f2c6d71",
   "metadata": {
    "ExecuteTime": {
     "end_time": "2022-04-06T11:31:49.684584Z",
     "start_time": "2022-04-06T11:31:47.186505Z"
    }
   },
   "outputs": [
    {
     "data": {
      "text/html": [
       "<div>\n",
       "<style scoped>\n",
       "    .dataframe tbody tr th:only-of-type {\n",
       "        vertical-align: middle;\n",
       "    }\n",
       "\n",
       "    .dataframe tbody tr th {\n",
       "        vertical-align: top;\n",
       "    }\n",
       "\n",
       "    .dataframe thead th {\n",
       "        text-align: right;\n",
       "    }\n",
       "</style>\n",
       "<table border=\"1\" class=\"dataframe\">\n",
       "  <thead>\n",
       "    <tr style=\"text-align: right;\">\n",
       "      <th></th>\n",
       "      <th>date</th>\n",
       "      <th>date_block_num</th>\n",
       "      <th>shop_id</th>\n",
       "      <th>item_id</th>\n",
       "      <th>item_price</th>\n",
       "      <th>item_cnt_day</th>\n",
       "    </tr>\n",
       "  </thead>\n",
       "  <tbody>\n",
       "    <tr>\n",
       "      <th>1829057</th>\n",
       "      <td>2014-07-22</td>\n",
       "      <td>18</td>\n",
       "      <td>13</td>\n",
       "      <td>4244</td>\n",
       "      <td>734.0</td>\n",
       "      <td>1.0</td>\n",
       "    </tr>\n",
       "    <tr>\n",
       "      <th>488099</th>\n",
       "      <td>2013-05-16</td>\n",
       "      <td>4</td>\n",
       "      <td>54</td>\n",
       "      <td>1939</td>\n",
       "      <td>999.0</td>\n",
       "      <td>1.0</td>\n",
       "    </tr>\n",
       "    <tr>\n",
       "      <th>1957330</th>\n",
       "      <td>2014-09-18</td>\n",
       "      <td>20</td>\n",
       "      <td>44</td>\n",
       "      <td>7070</td>\n",
       "      <td>299.0</td>\n",
       "      <td>1.0</td>\n",
       "    </tr>\n",
       "    <tr>\n",
       "      <th>1903897</th>\n",
       "      <td>2014-08-14</td>\n",
       "      <td>19</td>\n",
       "      <td>51</td>\n",
       "      <td>9786</td>\n",
       "      <td>80.0</td>\n",
       "      <td>1.0</td>\n",
       "    </tr>\n",
       "    <tr>\n",
       "      <th>1420215</th>\n",
       "      <td>2014-02-01</td>\n",
       "      <td>13</td>\n",
       "      <td>52</td>\n",
       "      <td>1829</td>\n",
       "      <td>698.0</td>\n",
       "      <td>1.0</td>\n",
       "    </tr>\n",
       "  </tbody>\n",
       "</table>\n",
       "</div>"
      ],
      "text/plain": [
       "              date  date_block_num  shop_id  item_id  item_price  item_cnt_day\n",
       "1829057 2014-07-22              18       13     4244       734.0           1.0\n",
       "488099  2013-05-16               4       54     1939       999.0           1.0\n",
       "1957330 2014-09-18              20       44     7070       299.0           1.0\n",
       "1903897 2014-08-14              19       51     9786        80.0           1.0\n",
       "1420215 2014-02-01              13       52     1829       698.0           1.0"
      ]
     },
     "execution_count": 5,
     "metadata": {},
     "output_type": "execute_result"
    }
   ],
   "source": [
    "train = read_file(join(DATA, \"sales_train.csv\"))\n",
    "train.sample(5)"
   ]
  }
 ],
 "metadata": {
  "kernelspec": {
   "display_name": "Python 3 (ipykernel)",
   "language": "python",
   "name": "python3"
  },
  "language_info": {
   "codemirror_mode": {
    "name": "ipython",
    "version": 3
   },
   "file_extension": ".py",
   "mimetype": "text/x-python",
   "name": "python",
   "nbconvert_exporter": "python",
   "pygments_lexer": "ipython3",
   "version": "3.9.7"
  },
  "toc": {
   "base_numbering": 1,
   "nav_menu": {},
   "number_sections": false,
   "sideBar": true,
   "skip_h1_title": true,
   "title_cell": "Table of Contents",
   "title_sidebar": "Contents",
   "toc_cell": false,
   "toc_position": {},
   "toc_section_display": true,
   "toc_window_display": false
  },
  "varInspector": {
   "cols": {
    "lenName": 16,
    "lenType": 16,
    "lenVar": 40
   },
   "kernels_config": {
    "python": {
     "delete_cmd_postfix": "",
     "delete_cmd_prefix": "del ",
     "library": "var_list.py",
     "varRefreshCmd": "print(var_dic_list())"
    },
    "r": {
     "delete_cmd_postfix": ") ",
     "delete_cmd_prefix": "rm(",
     "library": "var_list.r",
     "varRefreshCmd": "cat(var_dic_list()) "
    }
   },
   "types_to_exclude": [
    "module",
    "function",
    "builtin_function_or_method",
    "instance",
    "_Feature"
   ],
   "window_display": false
  }
 },
 "nbformat": 4,
 "nbformat_minor": 5
}
