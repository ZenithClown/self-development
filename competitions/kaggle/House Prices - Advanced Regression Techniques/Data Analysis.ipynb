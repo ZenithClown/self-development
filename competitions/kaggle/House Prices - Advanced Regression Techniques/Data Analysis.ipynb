{
 "cells": [
  {
   "cell_type": "markdown",
   "metadata": {},
   "source": [
    "<h1 align = \"center\">House Price Prediction</h1>\n",
    "\n",
    "---\n",
    "\n",
    "**Objective:** [House Prices - Advanced Regression Techniques](https://www.kaggle.com/competitions/house-prices-advanced-regression-techniques) is a free to use dataset provided in Kaggle. I'd previously used this dataset, however the results were poor. Let's see if my skills have increased! The notebook will serve to provide data analysis without any prior knowledge on the data. In this notebbok, let's discuss the following things:\n",
    " * **Understand the Dataset/Problem:** The given dataset has about `79` features, lets analyze each feature one by one and understand their practical impact."
   ]
  },
  {
   "cell_type": "code",
   "execution_count": 11,
   "metadata": {
    "ExecuteTime": {
     "end_time": "2022-04-06T12:18:31.377215Z",
     "start_time": "2022-04-06T12:18:31.357912Z"
    },
    "deletable": false,
    "editable": false,
    "run_control": {
     "frozen": true
    }
   },
   "outputs": [
    {
     "data": {
      "text/plain": [
       "'development #semver-2.0.0'"
      ]
     },
     "execution_count": 11,
     "metadata": {},
     "output_type": "execute_result"
    }
   ],
   "source": [
    "# show current code version\n",
    "# use https://semver.org/\n",
    "# this file is kept to keep track of individual\n",
    "# project/competitions progress in check\n",
    "# the actual tag is represented as: <PROJECT_CODE>:<version>\n",
    "open(\"VERSION\", 'rt').read() # bump codecov"
   ]
  },
  {
   "cell_type": "markdown",
   "metadata": {},
   "source": [
    "## Code Imports\n",
    "\n",
    "**PEP8 Style Guide** lists out the following *guidelines* for imports:\n",
    " 1. Imports should be on separate lines,\n",
    " 2. Import order should be:\n",
    "    * standard library/modules,\n",
    "    * related third party imports,\n",
    "    * local application/user defined imports\n",
    " 3. Wildcard import (`*`) should be avoided, else specifically tagged with **`# noqa: F403`** as per `flake8`\n",
    " 4. Avoid using relative imports; use explicit imports instead.\n",
    " \n",
    "For more details, visit [here](https://peps.python.org/pep-0008/#imports) for more information. Note, that actual `flake8` file is currently missing from the template, and will be later added if required. In addition, `logging` module is imported and configured.\n",
    "\n",
    "[**`logging`**](https://docs.python.org/3/howto/logging.html) is a standard python module that is meant for tracking any events that happen during any software/code operations. This module is super powerful and helpful for code debugging and other purposes. The next section defines a `logging` configuration in **`/logs/`** directory. Each project is separated as `<PROJECT_CODE>/<VERSION>/<DATE>.log` file. The directory is automatically created, if not available. Use logging operations like:\n",
    "\n",
    "```python\n",
    " >> logging.debug(\"This is a Debug Message.\")\n",
    " >> logging.info(\"This is a Information Message.\")\n",
    " >> logging.warning(\"This is a Warning Message.\")\n",
    " >> logging.error(\"This is a ERROR Message.\")\n",
    " >> logging.critical(\"This is a CRITICAL Message.\")\n",
    "```"
   ]
  },
  {
   "cell_type": "code",
   "execution_count": 48,
   "metadata": {
    "ExecuteTime": {
     "end_time": "2022-04-06T14:41:16.171396Z",
     "start_time": "2022-04-06T14:41:16.162390Z"
    }
   },
   "outputs": [],
   "source": [
    "import random"
   ]
  },
  {
   "cell_type": "code",
   "execution_count": 3,
   "metadata": {
    "ExecuteTime": {
     "end_time": "2022-04-06T13:52:58.430642Z",
     "start_time": "2022-04-06T13:52:58.416632Z"
    },
    "deletable": false,
    "editable": false
   },
   "outputs": [],
   "source": [
    "import logging # configure logging on `global arguments` section"
   ]
  },
  {
   "cell_type": "code",
   "execution_count": 4,
   "metadata": {
    "ExecuteTime": {
     "end_time": "2022-04-06T13:52:58.682142Z",
     "start_time": "2022-04-06T13:52:58.656933Z"
    }
   },
   "outputs": [],
   "source": [
    "from time import ctime # will be used in logging, file/output directory create etc.\n",
    "from os import makedirs # create directories dynamically, if not already done so manually\n",
    "from os.path import join # keep directories `os`-independent\n",
    "from copy import deepcopy # `pd.Dataframe` is mutable, so any `df` operation may need `deepcopy`\n",
    "from tqdm import tqdm as TQ # provide progress bar for code completions\n",
    "from uuid import uuid1 as UUID # keep output file name unique\n",
    "from datetime import datetime as dt # formatting datetime objects"
   ]
  },
  {
   "cell_type": "code",
   "execution_count": 16,
   "metadata": {
    "ExecuteTime": {
     "end_time": "2022-04-06T13:55:35.540359Z",
     "start_time": "2022-04-06T13:55:35.528118Z"
    }
   },
   "outputs": [],
   "source": [
    "import numpy as np\n",
    "import pandas as pd\n",
    "import seaborn as sns\n",
    "import matplotlib.pyplot as plt\n",
    "\n",
    "%precision 3\n",
    "%matplotlib inline\n",
    "sns.set_style('whitegrid');\n",
    "plt.style.use('default-style');\n",
    "np.set_printoptions(precision = 3, threshold = 15)"
   ]
  },
  {
   "cell_type": "markdown",
   "metadata": {},
   "source": [
    "## Define Global Arguments"
   ]
  },
  {
   "cell_type": "code",
   "execution_count": 5,
   "metadata": {
    "ExecuteTime": {
     "end_time": "2022-04-06T13:53:01.092899Z",
     "start_time": "2022-04-06T13:53:01.081903Z"
    },
    "deletable": false,
    "editable": false
   },
   "outputs": [],
   "source": [
    "# a single project can have multiple sub-projects and/or output\n",
    "# generally, each sub-project has it's own `notebook` and code files\n",
    "# use the `PROJECT_CODE` tag to create a directory of the format\n",
    "# <execution date>/<PROJECT_CODE> thus giving an unique identity for\n",
    "# each run of code. Once defined, keep this code same throughout.\n",
    "# this code can also be used for keeping track on progress per\n",
    "# sub-project level.\n",
    "PROJECT_CODE = \"House Price Prediction (data analysis)\""
   ]
  },
  {
   "cell_type": "code",
   "execution_count": 6,
   "metadata": {
    "ExecuteTime": {
     "end_time": "2022-04-06T13:53:01.327844Z",
     "start_time": "2022-04-06T13:53:01.320842Z"
    }
   },
   "outputs": [],
   "source": [
    "ROOT = \".\" # current directory\n",
    "DATA = join(ROOT, \"data\")"
   ]
  },
  {
   "cell_type": "code",
   "execution_count": 7,
   "metadata": {
    "ExecuteTime": {
     "end_time": "2022-04-06T13:53:01.704088Z",
     "start_time": "2022-04-06T13:53:01.698087Z"
    },
    "deletable": false,
    "editable": false
   },
   "outputs": [
    {
     "name": "stdout",
     "output_type": "stream",
     "text": [
      "Code Execution Started on: Wed, Apr 06 2022\n"
     ]
    }
   ],
   "source": [
    "# define output directory\n",
    "# this is defined on current date\n",
    "# `today` is so configured that it permits windows/*.nix file/directory names\n",
    "today = dt.strftime(dt.strptime(ctime(), \"%a %b %d %H:%M:%S %Y\"), \"%a, %b %d %Y\")\n",
    "\n",
    "print(f\"Code Execution Started on: {today}\") # only date"
   ]
  },
  {
   "cell_type": "code",
   "execution_count": 8,
   "metadata": {
    "ExecuteTime": {
     "end_time": "2022-04-06T13:53:02.575943Z",
     "start_time": "2022-04-06T13:53:02.569946Z"
    },
    "deletable": false,
    "editable": false
   },
   "outputs": [],
   "source": [
    "OUTPUT_DIR = join(ROOT, \"output\", today, PROJECT_CODE)\n",
    "makedirs(OUTPUT_DIR, exist_ok = True) # create dir if not exist\n",
    "\n",
    "# also create directory for `logs`\n",
    "LOGS_DIR = join(\"/\", \"logs\", PROJECT_CODE, open(\"VERSION\", 'rt').read())\n",
    "makedirs(LOGS_DIR, exist_ok = True)"
   ]
  },
  {
   "cell_type": "code",
   "execution_count": 9,
   "metadata": {
    "ExecuteTime": {
     "end_time": "2022-04-06T13:53:03.346534Z",
     "start_time": "2022-04-06T13:53:03.327508Z"
    },
    "deletable": false,
    "editable": false
   },
   "outputs": [],
   "source": [
    "logging.basicConfig(\n",
    "    filename = join(LOGS_DIR, f\"{today}.log\"), # change `reports` file name\n",
    "    filemode = \"a\", # append logs to existing file, if file exists\n",
    "    format = \"%(asctime)s - %(name)s - CLASS:%(levelname)s:%(levelno)s:L#%(lineno)d - %(message)s\",\n",
    "    level = logging.DEBUG\n",
    ")"
   ]
  },
  {
   "cell_type": "code",
   "execution_count": 10,
   "metadata": {
    "ExecuteTime": {
     "end_time": "2022-04-06T13:53:04.028861Z",
     "start_time": "2022-04-06T13:53:04.016364Z"
    }
   },
   "outputs": [
    {
     "name": "stdout",
     "output_type": "stream",
     "text": [
      "Output File : .\\output\\Wed, Apr 06 2022\\House Price Prediction (data analysis)\\e1490665-b5b0-11ec-b086-5405db104a4e.xlsx\n"
     ]
    }
   ],
   "source": [
    "# set/change output file name\n",
    "OUTPUT_FILE = f\"{UUID()}.xlsx\" # randomly generate names\n",
    "\n",
    "# log/inform users of current output file name\n",
    "logging.info(f\"Output File : {join(OUTPUT_DIR, OUTPUT_FILE)}\")\n",
    "print(f\"Output File : {join(OUTPUT_DIR, OUTPUT_FILE)}\") # use this syntax"
   ]
  },
  {
   "cell_type": "code",
   "execution_count": 11,
   "metadata": {
    "ExecuteTime": {
     "end_time": "2022-04-06T13:53:05.483074Z",
     "start_time": "2022-04-06T13:53:05.466278Z"
    }
   },
   "outputs": [],
   "source": [
    "INPUT_FILENAME = join(DATA, \"train.csv\") # let's start with `training` dataset"
   ]
  },
  {
   "cell_type": "markdown",
   "metadata": {},
   "source": [
    "## Read & Process Input File(s)"
   ]
  },
  {
   "cell_type": "code",
   "execution_count": 12,
   "metadata": {
    "ExecuteTime": {
     "end_time": "2022-04-06T13:53:07.195212Z",
     "start_time": "2022-04-06T13:53:07.186213Z"
    }
   },
   "outputs": [],
   "source": [
    "def read_file(filename : str) -> pd.DataFrame:\n",
    "    \"\"\"\n",
    "    Read a CSV File using `pd.read_csv()`\n",
    "    \n",
    "    The function is intended to read the given `training` and `testing` file,\n",
    "    for the given project. Since we're dealing with the same type file for\n",
    "    both the use case, the same function can be used to read and process both\n",
    "    the training and testing file.\n",
    "    \n",
    "    :param filename: Input file name. Generally, this is either `train.csv` or\n",
    "                     `test.csv` along with total (absolute/relative) path.\n",
    "    \"\"\"\n",
    "    \n",
    "    data = pd.read_csv(filename, index_col = 0)\n",
    "    return data.copy() # deepcopy"
   ]
  },
  {
   "cell_type": "markdown",
   "metadata": {},
   "source": [
    "### Understand the Dataset/Problem\n",
    "\n",
    "The **objective** is to predict the **`SalePrice`** given various attributes that describes (almost) every aspect of residential homes in Ames, Iowa. In order to understand our data, let's look into each of the categories, and understand their relevance in comparison to the given problem. But, first let's check the distribution of `SalePrice`."
   ]
  },
  {
   "cell_type": "code",
   "execution_count": 13,
   "metadata": {
    "ExecuteTime": {
     "end_time": "2022-04-06T13:54:04.526770Z",
     "start_time": "2022-04-06T13:54:04.469853Z"
    }
   },
   "outputs": [
    {
     "data": {
      "text/html": [
       "<div>\n",
       "<style scoped>\n",
       "    .dataframe tbody tr th:only-of-type {\n",
       "        vertical-align: middle;\n",
       "    }\n",
       "\n",
       "    .dataframe tbody tr th {\n",
       "        vertical-align: top;\n",
       "    }\n",
       "\n",
       "    .dataframe thead th {\n",
       "        text-align: right;\n",
       "    }\n",
       "</style>\n",
       "<table border=\"1\" class=\"dataframe\">\n",
       "  <thead>\n",
       "    <tr style=\"text-align: right;\">\n",
       "      <th></th>\n",
       "      <th>MSSubClass</th>\n",
       "      <th>MSZoning</th>\n",
       "      <th>LotFrontage</th>\n",
       "      <th>LotArea</th>\n",
       "      <th>Street</th>\n",
       "      <th>Alley</th>\n",
       "      <th>LotShape</th>\n",
       "      <th>LandContour</th>\n",
       "      <th>Utilities</th>\n",
       "      <th>LotConfig</th>\n",
       "      <th>...</th>\n",
       "      <th>PoolArea</th>\n",
       "      <th>PoolQC</th>\n",
       "      <th>Fence</th>\n",
       "      <th>MiscFeature</th>\n",
       "      <th>MiscVal</th>\n",
       "      <th>MoSold</th>\n",
       "      <th>YrSold</th>\n",
       "      <th>SaleType</th>\n",
       "      <th>SaleCondition</th>\n",
       "      <th>SalePrice</th>\n",
       "    </tr>\n",
       "    <tr>\n",
       "      <th>Id</th>\n",
       "      <th></th>\n",
       "      <th></th>\n",
       "      <th></th>\n",
       "      <th></th>\n",
       "      <th></th>\n",
       "      <th></th>\n",
       "      <th></th>\n",
       "      <th></th>\n",
       "      <th></th>\n",
       "      <th></th>\n",
       "      <th></th>\n",
       "      <th></th>\n",
       "      <th></th>\n",
       "      <th></th>\n",
       "      <th></th>\n",
       "      <th></th>\n",
       "      <th></th>\n",
       "      <th></th>\n",
       "      <th></th>\n",
       "      <th></th>\n",
       "      <th></th>\n",
       "    </tr>\n",
       "  </thead>\n",
       "  <tbody>\n",
       "    <tr>\n",
       "      <th>1205</th>\n",
       "      <td>20</td>\n",
       "      <td>RL</td>\n",
       "      <td>78.0</td>\n",
       "      <td>10140</td>\n",
       "      <td>Pave</td>\n",
       "      <td>NaN</td>\n",
       "      <td>Reg</td>\n",
       "      <td>Lvl</td>\n",
       "      <td>AllPub</td>\n",
       "      <td>Inside</td>\n",
       "      <td>...</td>\n",
       "      <td>0</td>\n",
       "      <td>NaN</td>\n",
       "      <td>MnPrv</td>\n",
       "      <td>NaN</td>\n",
       "      <td>0</td>\n",
       "      <td>7</td>\n",
       "      <td>2006</td>\n",
       "      <td>WD</td>\n",
       "      <td>Normal</td>\n",
       "      <td>153500</td>\n",
       "    </tr>\n",
       "    <tr>\n",
       "      <th>1328</th>\n",
       "      <td>20</td>\n",
       "      <td>RL</td>\n",
       "      <td>60.0</td>\n",
       "      <td>6600</td>\n",
       "      <td>Pave</td>\n",
       "      <td>NaN</td>\n",
       "      <td>Reg</td>\n",
       "      <td>Lvl</td>\n",
       "      <td>AllPub</td>\n",
       "      <td>Inside</td>\n",
       "      <td>...</td>\n",
       "      <td>0</td>\n",
       "      <td>NaN</td>\n",
       "      <td>MnPrv</td>\n",
       "      <td>NaN</td>\n",
       "      <td>0</td>\n",
       "      <td>10</td>\n",
       "      <td>2008</td>\n",
       "      <td>WD</td>\n",
       "      <td>Normal</td>\n",
       "      <td>130500</td>\n",
       "    </tr>\n",
       "    <tr>\n",
       "      <th>69</th>\n",
       "      <td>30</td>\n",
       "      <td>RM</td>\n",
       "      <td>47.0</td>\n",
       "      <td>4608</td>\n",
       "      <td>Pave</td>\n",
       "      <td>NaN</td>\n",
       "      <td>Reg</td>\n",
       "      <td>Lvl</td>\n",
       "      <td>AllPub</td>\n",
       "      <td>Corner</td>\n",
       "      <td>...</td>\n",
       "      <td>0</td>\n",
       "      <td>NaN</td>\n",
       "      <td>NaN</td>\n",
       "      <td>NaN</td>\n",
       "      <td>0</td>\n",
       "      <td>6</td>\n",
       "      <td>2010</td>\n",
       "      <td>WD</td>\n",
       "      <td>Normal</td>\n",
       "      <td>80000</td>\n",
       "    </tr>\n",
       "    <tr>\n",
       "      <th>817</th>\n",
       "      <td>20</td>\n",
       "      <td>RL</td>\n",
       "      <td>NaN</td>\n",
       "      <td>11425</td>\n",
       "      <td>Pave</td>\n",
       "      <td>NaN</td>\n",
       "      <td>IR1</td>\n",
       "      <td>Lvl</td>\n",
       "      <td>AllPub</td>\n",
       "      <td>Corner</td>\n",
       "      <td>...</td>\n",
       "      <td>0</td>\n",
       "      <td>NaN</td>\n",
       "      <td>NaN</td>\n",
       "      <td>NaN</td>\n",
       "      <td>0</td>\n",
       "      <td>7</td>\n",
       "      <td>2006</td>\n",
       "      <td>WD</td>\n",
       "      <td>Normal</td>\n",
       "      <td>137000</td>\n",
       "    </tr>\n",
       "    <tr>\n",
       "      <th>1227</th>\n",
       "      <td>60</td>\n",
       "      <td>RL</td>\n",
       "      <td>86.0</td>\n",
       "      <td>14598</td>\n",
       "      <td>Pave</td>\n",
       "      <td>NaN</td>\n",
       "      <td>IR1</td>\n",
       "      <td>Lvl</td>\n",
       "      <td>AllPub</td>\n",
       "      <td>CulDSac</td>\n",
       "      <td>...</td>\n",
       "      <td>0</td>\n",
       "      <td>NaN</td>\n",
       "      <td>NaN</td>\n",
       "      <td>NaN</td>\n",
       "      <td>0</td>\n",
       "      <td>1</td>\n",
       "      <td>2008</td>\n",
       "      <td>WD</td>\n",
       "      <td>Normal</td>\n",
       "      <td>214000</td>\n",
       "    </tr>\n",
       "  </tbody>\n",
       "</table>\n",
       "<p>5 rows × 80 columns</p>\n",
       "</div>"
      ],
      "text/plain": [
       "      MSSubClass MSZoning  LotFrontage  LotArea Street Alley LotShape  \\\n",
       "Id                                                                      \n",
       "1205          20       RL         78.0    10140   Pave   NaN      Reg   \n",
       "1328          20       RL         60.0     6600   Pave   NaN      Reg   \n",
       "69            30       RM         47.0     4608   Pave   NaN      Reg   \n",
       "817           20       RL          NaN    11425   Pave   NaN      IR1   \n",
       "1227          60       RL         86.0    14598   Pave   NaN      IR1   \n",
       "\n",
       "     LandContour Utilities LotConfig  ... PoolArea PoolQC  Fence MiscFeature  \\\n",
       "Id                                    ...                                      \n",
       "1205         Lvl    AllPub    Inside  ...        0    NaN  MnPrv         NaN   \n",
       "1328         Lvl    AllPub    Inside  ...        0    NaN  MnPrv         NaN   \n",
       "69           Lvl    AllPub    Corner  ...        0    NaN    NaN         NaN   \n",
       "817          Lvl    AllPub    Corner  ...        0    NaN    NaN         NaN   \n",
       "1227         Lvl    AllPub   CulDSac  ...        0    NaN    NaN         NaN   \n",
       "\n",
       "     MiscVal MoSold  YrSold  SaleType  SaleCondition  SalePrice  \n",
       "Id                                                               \n",
       "1205       0      7    2006        WD         Normal     153500  \n",
       "1328       0     10    2008        WD         Normal     130500  \n",
       "69         0      6    2010        WD         Normal      80000  \n",
       "817        0      7    2006        WD         Normal     137000  \n",
       "1227       0      1    2008        WD         Normal     214000  \n",
       "\n",
       "[5 rows x 80 columns]"
      ]
     },
     "execution_count": 13,
     "metadata": {},
     "output_type": "execute_result"
    }
   ],
   "source": [
    "data = read_file(INPUT_FILENAME)\n",
    "\n",
    "logging.info(f\"{INPUT_FILENAME} Read using `read_file()`\")\n",
    "data.sample(5)"
   ]
  },
  {
   "cell_type": "markdown",
   "metadata": {},
   "source": [
    "#### Distribution of `SalePrice`\n",
    "\n",
    "Obviously, the best way to get statistical information from a column is just by `df.column.describe()`, but let's make a good visual representation and plot everything with `seaborn`."
   ]
  },
  {
   "cell_type": "code",
   "execution_count": 61,
   "metadata": {
    "ExecuteTime": {
     "end_time": "2022-04-06T14:53:19.344532Z",
     "start_time": "2022-04-06T14:53:19.088481Z"
    },
    "deletable": false,
    "editable": false,
    "run_control": {
     "frozen": true
    },
    "scrolled": false
   },
   "outputs": [
    {
     "name": "stderr",
     "output_type": "stream",
     "text": [
      "C:\\ProgramData\\Anaconda3\\lib\\site-packages\\seaborn\\distributions.py:2619: FutureWarning: `distplot` is a deprecated function and will be removed in a future version. Please adapt your code to use either `displot` (a figure-level function with similar flexibility) or `histplot` (an axes-level function for histograms).\n",
      "  warnings.warn(msg, FutureWarning)\n"
     ]
    },
    {
     "data": {
      "image/png": "[encoded data removed]",
      "text/plain": [
       "<Figure size 1512x504 with 1 Axes>"
      ]
     },
     "metadata": {},
     "output_type": "display_data"
    }
   ],
   "source": [
    "# ignore FutureWarning `displot`\n",
    "# if `seaborn` is updated > '0.11.2'\n",
    "# use `sns.displot` instead\n",
    "# sns.displot(data.SalePrice)\n",
    "\n",
    "sns.distplot(data.SalePrice)\n",
    "\n",
    "# add `axvline` to denote span of the graph\n",
    "# using `for` loop to reduce code duplicacy\n",
    "for v, c, label in zip(\n",
    "        [data.SalePrice.min(), data.SalePrice.mean(), data.SalePrice.max()], # v : x-value\n",
    "        ['k', 'g', 'r'], # c : color\n",
    "        ['min', 'avg', 'max'] # label : for legend\n",
    "    ):\n",
    "    plt.axvline(v, c = c, label = f\"{label} : {round(v, 2)}\")\n",
    "    \n",
    "# similarly, let's add percentile lines\n",
    "for q in [5, 25, 50, 75, 95]:\n",
    "    # q = percentile ∈ [0, 100]\n",
    "    # check `np.percentile` for more\n",
    "    color = \"#\" + \"%06x\" % random.randint(0, 0xFFFFFF) # randomly generate\n",
    "    percentile = np.percentile(data.SalePrice, q)\n",
    "    \n",
    "    plt.text(percentile - 1e4, 5e-6, str(round(percentile, 3)), rotation = 'vertical', fontweight = 'bold', alpha = 0.7)\n",
    "    plt.axvline(percentile, c = color, ls = \"--\", label = f\"{q}%-th Percentile\")\n",
    "\n",
    "plt.title(\"Distribution of SalePrice\")\n",
    "plt.legend(loc = \"upper right\", bbox_to_anchor=(1.15, 1))\n",
    "plt.show()"
   ]
  },
  {
   "cell_type": "markdown",
   "metadata": {},
   "source": [
    "In statistics, **Normal Distribution** of data has many advantage while dealing with a *machine learning* problem. The advantage of normal distribution is explained in [Miami University Library](#mm-lib), and mathematically the distribution is formulated as:\n",
    "\n",
    "$$\n",
    "    f(x) = \\frac{1}{\\sigma \\sqrt{2 \\pi}} e^{-\\frac{1}{2}(\\frac{x - \\mu}{\\sigma})^2}\n",
    "$$\n",
    "\n",
    "where, $f(x)$ is the probability density function, with a standard deviation of $\\sigma$ and a mean of $\\mu$.\n",
    "\n",
    "Well, our `SalePrice` does not however follow the *normal distribution* as seen above. To understand this type of distribution we may look into `skewness` and `kurtosis`. As explained in [this article](#itl-nist-gov) - *skewness* is a measure of symmetry, or more precisely, the lack of symmetry. A distribution, or data set, is symmetric if it looks the same to the left and right of the center point. While, *kurtosis* is a measure of whether the data are heavy-tailed or light-tailed relative to a normal distribution."
   ]
  },
  {
   "cell_type": "code",
   "execution_count": 64,
   "metadata": {
    "ExecuteTime": {
     "end_time": "2022-04-06T15:25:00.690705Z",
     "start_time": "2022-04-06T15:25:00.682676Z"
    }
   },
   "outputs": [
    {
     "name": "stdout",
     "output_type": "stream",
     "text": [
      "Skewness: 1.882876\n",
      "Kurtosis: 6.536282\n"
     ]
    }
   ],
   "source": [
    "print(f\"Skewness: {round(data.SalePrice.skew(), 6)}\")\n",
    "print(f\"Kurtosis: {round(data.SalePrice.kurt(), 6)}\")"
   ]
  },
  {
   "cell_type": "markdown",
   "metadata": {},
   "source": [
    "## Reference\n",
    "\n",
    " * <a id = \"mm-lib\" href = \"https://libanswers.lib.miamioh.edu/stats-faq/faq/343640\">What are the advantages of the normal distribution?</a>\n",
    " * <a id = \"itl-nist-gov\" href = \"https://www.itl.nist.gov/div898/handbook/eda/section3/eda35b.htm\">Measures of Skewness and Kurtosis</a>"
   ]
  }
 ],
 "metadata": {
  "hide_input": false,
  "kernelspec": {
   "display_name": "Python 3 (ipykernel)",
   "language": "python",
   "name": "python3"
  },
  "language_info": {
   "codemirror_mode": {
    "name": "ipython",
    "version": 3
   },
   "file_extension": ".py",
   "mimetype": "text/x-python",
   "name": "python",
   "nbconvert_exporter": "python",
   "pygments_lexer": "ipython3",
   "version": "3.9.7"
  },
  "latex_envs": {
   "LaTeX_envs_menu_present": true,
   "autoclose": true,
   "autocomplete": true,
   "bibliofile": "biblio.bib",
   "cite_by": "apalike",
   "current_citInitial": 1,
   "eqLabelWithNumbers": true,
   "eqNumInitial": 1,
   "hotkeys": {
    "equation": "Ctrl-E",
    "itemize": "Ctrl-I"
   },
   "labels_anchors": false,
   "latex_user_defs": false,
   "report_style_numbering": false,
   "user_envs_cfg": false
  },
  "toc": {
   "base_numbering": 1,
   "nav_menu": {},
   "number_sections": false,
   "sideBar": true,
   "skip_h1_title": true,
   "title_cell": "Table of Contents",
   "title_sidebar": "Contents",
   "toc_cell": false,
   "toc_position": {},
   "toc_section_display": true,
   "toc_window_display": false
  },
  "varInspector": {
   "cols": {
    "lenName": 16,
    "lenType": 16,
    "lenVar": 40
   },
   "kernels_config": {
    "python": {
     "delete_cmd_postfix": "",
     "delete_cmd_prefix": "del ",
     "library": "var_list.py",
     "varRefreshCmd": "print(var_dic_list())"
    },
    "r": {
     "delete_cmd_postfix": ") ",
     "delete_cmd_prefix": "rm(",
     "library": "var_list.r",
     "varRefreshCmd": "cat(var_dic_list()) "
    }
   },
   "types_to_exclude": [
    "module",
    "function",
    "builtin_function_or_method",
    "instance",
    "_Feature"
   ],
   "window_display": false
  }
 },
 "nbformat": 4,
 "nbformat_minor": 2
}
