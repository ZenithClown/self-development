{
 "cells": [
  {
   "cell_type": "code",
   "execution_count": 1,
   "metadata": {
    "ExecuteTime": {
     "end_time": "2021-12-20T05:52:08.935327Z",
     "start_time": "2021-12-20T05:52:08.514798Z"
    }
   },
   "outputs": [],
   "source": [
    "from os.path import join\n",
    "from copy import deepcopy\n",
    "from tqdm import tqdm as TQ"
   ]
  },
  {
   "cell_type": "code",
   "execution_count": 2,
   "metadata": {
    "ExecuteTime": {
     "end_time": "2021-12-20T05:52:32.217731Z",
     "start_time": "2021-12-20T05:52:08.967184Z"
    }
   },
   "outputs": [],
   "source": [
    "import numpy as np\n",
    "import pandas as pd\n",
    "import seaborn as sns\n",
    "import matplotlib.pyplot as plt\n",
    "\n",
    "%precision 3\n",
    "%matplotlib inline\n",
    "sns.set_style('whitegrid');\n",
    "plt.style.use('default-style');\n",
    "np.set_printoptions(precision = 3, threshold = 15)"
   ]
  },
  {
   "cell_type": "code",
   "execution_count": 3,
   "metadata": {
    "ExecuteTime": {
     "end_time": "2021-12-20T05:52:33.749035Z",
     "start_time": "2021-12-20T05:52:32.245255Z"
    }
   },
   "outputs": [],
   "source": [
    "from sklearn.preprocessing import (\n",
    "    MinMaxScaler,\n",
    "    LabelEncoder\n",
    ")"
   ]
  },
  {
   "cell_type": "code",
   "execution_count": 4,
   "metadata": {
    "ExecuteTime": {
     "end_time": "2021-12-20T05:53:08.421728Z",
     "start_time": "2021-12-20T05:52:33.799584Z"
    }
   },
   "outputs": [
    {
     "name": "stdout",
     "output_type": "stream",
     "text": [
      "Tensorflow Version: 2.3.1\n"
     ]
    },
    {
     "data": {
      "text/plain": [
       "[PhysicalDevice(name='/physical_device:CPU:0', device_type='CPU'),\n",
       " PhysicalDevice(name='/physical_device:XLA_CPU:0', device_type='XLA_CPU'),\n",
       " PhysicalDevice(name='/physical_device:GPU:0', device_type='GPU'),\n",
       " PhysicalDevice(name='/physical_device:XLA_GPU:0', device_type='XLA_GPU')]"
      ]
     },
     "execution_count": 4,
     "metadata": {},
     "output_type": "execute_result"
    }
   ],
   "source": [
    "import tensorflow as tf\n",
    "print('Tensorflow Version: {}'.format(tf.__version__))\n",
    "\n",
    "# check physical devices\n",
    "tf.config.list_physical_devices()"
   ]
  },
  {
   "cell_type": "code",
   "execution_count": 5,
   "metadata": {
    "ExecuteTime": {
     "end_time": "2021-12-20T05:53:08.461063Z",
     "start_time": "2021-12-20T05:53:08.453051Z"
    }
   },
   "outputs": [],
   "source": [
    "# ignore specific warnings\n",
    "import warnings\n",
    "warnings.simplefilter(\"ignore\", FutureWarning)"
   ]
  },
  {
   "cell_type": "code",
   "execution_count": 6,
   "metadata": {
    "ExecuteTime": {
     "end_time": "2021-12-20T05:53:08.525055Z",
     "start_time": "2021-12-20T05:53:08.493092Z"
    }
   },
   "outputs": [],
   "source": [
    "# https://www.analyticsvidhya.com/blog/2021/04/how-to-reduce-memory-usage-in-python-pandas/\n",
    "# https://towardsdatascience.com/reducing-memory-usage-in-pandas-with-smaller-datatypes-b527635830af\n",
    "\n",
    "calculateMemory = lambda frame : frame.memory_usage(deep = True).sum() / 1024 ** 2 # return usage in MB\n",
    "\n",
    "def limitNumeric(frame : pd.DataFrame, verbose : bool = True, **kwargs) -> pd.DataFrame:\n",
    "    \"\"\"Given a DataFrame (frame) - the function considers each numeric columns (integer and/or float) and sets the data type to any of `np.dtypes` to Reduce Memory Usage\"\"\"\n",
    "    \n",
    "    if verbose:\n",
    "        actual = calculateMemory(frame)\n",
    "    \n",
    "    frame = deepcopy(frame)\n",
    "    \n",
    "    # foreach column calculate the min and max value\n",
    "    # and map the data to its relevant unit category - int8, int16, int32 or int64\n",
    "    # by default - pandas treats each numeric column to its highest number base - int64/float64\n",
    "    for col in TQ(frame.columns, desc = \"converting dtypes\"):\n",
    "        c_min = frame[col].min()\n",
    "        c_max = frame[col].max()\n",
    "        \n",
    "        if c_min > np.iinfo(np.int8).min and c_max <= np.iinfo(np.int8).max:\n",
    "            frame[col] = frame[col].astype(np.int8)\n",
    "        elif c_min > np.iinfo(np.int16).min and c_max <= np.iinfo(np.int16).max:\n",
    "            frame[col] = frame[col].astype(np.int16)\n",
    "        if c_min > np.iinfo(np.int32).min and c_max <= np.iinfo(np.int32).max:\n",
    "            frame[col] = frame[col].astype(np.int32)\n",
    "        else:\n",
    "            frame[col] = frame[col].astype(np.int64)\n",
    "            \n",
    "    if verbose:\n",
    "        final = calculateMemory(frame)\n",
    "        print(f\"Actual Size : {actual:.2f} MB | Final Size : {final:.2f} MB || Reduction Ration = {((actual - final) / actual) * 100:.2f}%\")\n",
    "        \n",
    "    return frame\n",
    "\n",
    "def loadData(path : str, reduce_memory : bool = True, **kwargs) -> pd.DataFrame:\n",
    "    \"\"\"Load a CSV File into Memory, with Optional Arguments\"\"\"\n",
    "    \n",
    "    frame = pd.read_csv(path, **kwargs)\n",
    "    \n",
    "    if reduce_memory: # reduces the dtypes\n",
    "        frame = limitNumeric(frame, **kwargs)\n",
    "        \n",
    "    return frame"
   ]
  },
  {
   "cell_type": "code",
   "execution_count": 7,
   "metadata": {
    "ExecuteTime": {
     "end_time": "2021-12-20T05:53:08.573061Z",
     "start_time": "2021-12-20T05:53:08.557057Z"
    }
   },
   "outputs": [],
   "source": [
    "TRAIN_DATA = join(\".\", \"output\", \"train-100.csv\")\n",
    "EVALUATION_DATA = join(\".\", \"output\", \"test-100.csv\")"
   ]
  },
  {
   "cell_type": "code",
   "execution_count": 8,
   "metadata": {
    "ExecuteTime": {
     "end_time": "2021-12-20T05:54:20.850426Z",
     "start_time": "2021-12-20T05:53:08.605087Z"
    }
   },
   "outputs": [
    {
     "name": "stderr",
     "output_type": "stream",
     "text": [
      "converting dtypes: 100%|████████████████████████████████████████████████████████████████████████████████████████████████████████████████████████████████████| 64/64 [00:31<00:00,  2.01it/s]\n"
     ]
    },
    {
     "name": "stdout",
     "output_type": "stream",
     "text": [
      "Actual Size : 2777.21 MB | Final Size : 1388.60 MB || Reduction Ration = 50.00%\n"
     ]
    },
    {
     "data": {
      "text/html": [
       "<div>\n",
       "<style scoped>\n",
       "    .dataframe tbody tr th:only-of-type {\n",
       "        vertical-align: middle;\n",
       "    }\n",
       "\n",
       "    .dataframe tbody tr th {\n",
       "        vertical-align: top;\n",
       "    }\n",
       "\n",
       "    .dataframe thead th {\n",
       "        text-align: right;\n",
       "    }\n",
       "</style>\n",
       "<table border=\"1\" class=\"dataframe\">\n",
       "  <thead>\n",
       "    <tr style=\"text-align: right;\">\n",
       "      <th></th>\n",
       "      <th>Elevation</th>\n",
       "      <th>Aspect</th>\n",
       "      <th>Slope</th>\n",
       "      <th>Horizontal_Distance_To_Hydrology</th>\n",
       "      <th>Vertical_Distance_To_Hydrology</th>\n",
       "      <th>Horizontal_Distance_To_Roadways</th>\n",
       "      <th>Hillshade_9am</th>\n",
       "      <th>Hillshade_Noon</th>\n",
       "      <th>Hillshade_3pm</th>\n",
       "      <th>Horizontal_Distance_To_Fire_Points</th>\n",
       "      <th>...</th>\n",
       "      <th>distanceHydro</th>\n",
       "      <th>distanceRoads</th>\n",
       "      <th>distanceFires</th>\n",
       "      <th>soil_type_count_r</th>\n",
       "      <th>soil_type_count_vs</th>\n",
       "      <th>soil_type_count_es</th>\n",
       "      <th>soil_type_count_s</th>\n",
       "      <th>soil_type_count_total</th>\n",
       "      <th>wilderness_area_count</th>\n",
       "      <th>Cover_Type</th>\n",
       "    </tr>\n",
       "  </thead>\n",
       "  <tbody>\n",
       "    <tr>\n",
       "      <th>2661288</th>\n",
       "      <td>2922</td>\n",
       "      <td>59</td>\n",
       "      <td>6</td>\n",
       "      <td>350</td>\n",
       "      <td>42</td>\n",
       "      <td>107</td>\n",
       "      <td>218</td>\n",
       "      <td>251</td>\n",
       "      <td>145</td>\n",
       "      <td>318</td>\n",
       "      <td>...</td>\n",
       "      <td>352</td>\n",
       "      <td>2923</td>\n",
       "      <td>2939</td>\n",
       "      <td>0</td>\n",
       "      <td>0</td>\n",
       "      <td>1</td>\n",
       "      <td>1</td>\n",
       "      <td>1</td>\n",
       "      <td>1</td>\n",
       "      <td>2</td>\n",
       "    </tr>\n",
       "    <tr>\n",
       "      <th>3547928</th>\n",
       "      <td>2809</td>\n",
       "      <td>26</td>\n",
       "      <td>10</td>\n",
       "      <td>31</td>\n",
       "      <td>31</td>\n",
       "      <td>989</td>\n",
       "      <td>165</td>\n",
       "      <td>236</td>\n",
       "      <td>234</td>\n",
       "      <td>705</td>\n",
       "      <td>...</td>\n",
       "      <td>43</td>\n",
       "      <td>2978</td>\n",
       "      <td>2896</td>\n",
       "      <td>0</td>\n",
       "      <td>0</td>\n",
       "      <td>0</td>\n",
       "      <td>0</td>\n",
       "      <td>0</td>\n",
       "      <td>1</td>\n",
       "      <td>2</td>\n",
       "    </tr>\n",
       "    <tr>\n",
       "      <th>1897718</th>\n",
       "      <td>3244</td>\n",
       "      <td>280</td>\n",
       "      <td>18</td>\n",
       "      <td>78</td>\n",
       "      <td>31</td>\n",
       "      <td>2477</td>\n",
       "      <td>199</td>\n",
       "      <td>238</td>\n",
       "      <td>214</td>\n",
       "      <td>598</td>\n",
       "      <td>...</td>\n",
       "      <td>83</td>\n",
       "      <td>4081</td>\n",
       "      <td>3298</td>\n",
       "      <td>0</td>\n",
       "      <td>0</td>\n",
       "      <td>0</td>\n",
       "      <td>0</td>\n",
       "      <td>0</td>\n",
       "      <td>1</td>\n",
       "      <td>1</td>\n",
       "    </tr>\n",
       "    <tr>\n",
       "      <th>1960068</th>\n",
       "      <td>2812</td>\n",
       "      <td>325</td>\n",
       "      <td>15</td>\n",
       "      <td>274</td>\n",
       "      <td>-11</td>\n",
       "      <td>2022</td>\n",
       "      <td>249</td>\n",
       "      <td>230</td>\n",
       "      <td>164</td>\n",
       "      <td>1539</td>\n",
       "      <td>...</td>\n",
       "      <td>274</td>\n",
       "      <td>3463</td>\n",
       "      <td>3205</td>\n",
       "      <td>0</td>\n",
       "      <td>0</td>\n",
       "      <td>2</td>\n",
       "      <td>2</td>\n",
       "      <td>2</td>\n",
       "      <td>1</td>\n",
       "      <td>2</td>\n",
       "    </tr>\n",
       "    <tr>\n",
       "      <th>5557819</th>\n",
       "      <td>2953</td>\n",
       "      <td>114</td>\n",
       "      <td>39</td>\n",
       "      <td>97</td>\n",
       "      <td>111</td>\n",
       "      <td>981</td>\n",
       "      <td>181</td>\n",
       "      <td>209</td>\n",
       "      <td>184</td>\n",
       "      <td>7633</td>\n",
       "      <td>...</td>\n",
       "      <td>147</td>\n",
       "      <td>3111</td>\n",
       "      <td>8184</td>\n",
       "      <td>1</td>\n",
       "      <td>0</td>\n",
       "      <td>0</td>\n",
       "      <td>0</td>\n",
       "      <td>1</td>\n",
       "      <td>1</td>\n",
       "      <td>5</td>\n",
       "    </tr>\n",
       "  </tbody>\n",
       "</table>\n",
       "<p>5 rows × 64 columns</p>\n",
       "</div>"
      ],
      "text/plain": [
       "         Elevation  Aspect  Slope  Horizontal_Distance_To_Hydrology  \\\n",
       "2661288       2922      59      6                               350   \n",
       "3547928       2809      26     10                                31   \n",
       "1897718       3244     280     18                                78   \n",
       "1960068       2812     325     15                               274   \n",
       "5557819       2953     114     39                                97   \n",
       "\n",
       "         Vertical_Distance_To_Hydrology  Horizontal_Distance_To_Roadways  \\\n",
       "2661288                              42                              107   \n",
       "3547928                              31                              989   \n",
       "1897718                              31                             2477   \n",
       "1960068                             -11                             2022   \n",
       "5557819                             111                              981   \n",
       "\n",
       "         Hillshade_9am  Hillshade_Noon  Hillshade_3pm  \\\n",
       "2661288            218             251            145   \n",
       "3547928            165             236            234   \n",
       "1897718            199             238            214   \n",
       "1960068            249             230            164   \n",
       "5557819            181             209            184   \n",
       "\n",
       "         Horizontal_Distance_To_Fire_Points  ...  distanceHydro  \\\n",
       "2661288                                 318  ...            352   \n",
       "3547928                                 705  ...             43   \n",
       "1897718                                 598  ...             83   \n",
       "1960068                                1539  ...            274   \n",
       "5557819                                7633  ...            147   \n",
       "\n",
       "         distanceRoads  distanceFires  soil_type_count_r  soil_type_count_vs  \\\n",
       "2661288           2923           2939                  0                   0   \n",
       "3547928           2978           2896                  0                   0   \n",
       "1897718           4081           3298                  0                   0   \n",
       "1960068           3463           3205                  0                   0   \n",
       "5557819           3111           8184                  1                   0   \n",
       "\n",
       "         soil_type_count_es  soil_type_count_s  soil_type_count_total  \\\n",
       "2661288                   1                  1                      1   \n",
       "3547928                   0                  0                      0   \n",
       "1897718                   0                  0                      0   \n",
       "1960068                   2                  2                      2   \n",
       "5557819                   0                  0                      1   \n",
       "\n",
       "         wilderness_area_count  Cover_Type  \n",
       "2661288                      1           2  \n",
       "3547928                      1           2  \n",
       "1897718                      1           1  \n",
       "1960068                      1           2  \n",
       "5557819                      1           5  \n",
       "\n",
       "[5 rows x 64 columns]"
      ]
     },
     "execution_count": 8,
     "metadata": {},
     "output_type": "execute_result"
    }
   ],
   "source": [
    "dataTrain = loadData(TRAIN_DATA)\n",
    "dataTrain.sample(5)"
   ]
  },
  {
   "cell_type": "code",
   "execution_count": 9,
   "metadata": {
    "ExecuteTime": {
     "end_time": "2021-12-20T05:54:32.889957Z",
     "start_time": "2021-12-20T05:54:21.204198Z"
    }
   },
   "outputs": [
    {
     "name": "stderr",
     "output_type": "stream",
     "text": [
      "converting dtypes: 100%|████████████████████████████████████████████████████████████████████████████████████████████████████████████████████████████████████| 63/63 [00:05<00:00, 12.57it/s]\n"
     ]
    },
    {
     "name": "stdout",
     "output_type": "stream",
     "text": [
      "Actual Size : 480.65 MB | Final Size : 240.33 MB || Reduction Ration = 50.00%\n"
     ]
    },
    {
     "data": {
      "text/html": [
       "<div>\n",
       "<style scoped>\n",
       "    .dataframe tbody tr th:only-of-type {\n",
       "        vertical-align: middle;\n",
       "    }\n",
       "\n",
       "    .dataframe tbody tr th {\n",
       "        vertical-align: top;\n",
       "    }\n",
       "\n",
       "    .dataframe thead th {\n",
       "        text-align: right;\n",
       "    }\n",
       "</style>\n",
       "<table border=\"1\" class=\"dataframe\">\n",
       "  <thead>\n",
       "    <tr style=\"text-align: right;\">\n",
       "      <th></th>\n",
       "      <th>Elevation</th>\n",
       "      <th>Aspect</th>\n",
       "      <th>Slope</th>\n",
       "      <th>Horizontal_Distance_To_Hydrology</th>\n",
       "      <th>Vertical_Distance_To_Hydrology</th>\n",
       "      <th>Horizontal_Distance_To_Roadways</th>\n",
       "      <th>Hillshade_9am</th>\n",
       "      <th>Hillshade_Noon</th>\n",
       "      <th>Hillshade_3pm</th>\n",
       "      <th>Horizontal_Distance_To_Fire_Points</th>\n",
       "      <th>...</th>\n",
       "      <th>Soil_Type40</th>\n",
       "      <th>distanceHydro</th>\n",
       "      <th>distanceRoads</th>\n",
       "      <th>distanceFires</th>\n",
       "      <th>soil_type_count_r</th>\n",
       "      <th>soil_type_count_vs</th>\n",
       "      <th>soil_type_count_es</th>\n",
       "      <th>soil_type_count_s</th>\n",
       "      <th>soil_type_count_total</th>\n",
       "      <th>wilderness_area_count</th>\n",
       "    </tr>\n",
       "  </thead>\n",
       "  <tbody>\n",
       "    <tr>\n",
       "      <th>977834</th>\n",
       "      <td>2595</td>\n",
       "      <td>304</td>\n",
       "      <td>14</td>\n",
       "      <td>98</td>\n",
       "      <td>48</td>\n",
       "      <td>936</td>\n",
       "      <td>206</td>\n",
       "      <td>214</td>\n",
       "      <td>182</td>\n",
       "      <td>1689</td>\n",
       "      <td>...</td>\n",
       "      <td>0</td>\n",
       "      <td>109</td>\n",
       "      <td>2758</td>\n",
       "      <td>3096</td>\n",
       "      <td>0</td>\n",
       "      <td>0</td>\n",
       "      <td>0</td>\n",
       "      <td>0</td>\n",
       "      <td>0</td>\n",
       "      <td>0</td>\n",
       "    </tr>\n",
       "    <tr>\n",
       "      <th>623452</th>\n",
       "      <td>3276</td>\n",
       "      <td>24</td>\n",
       "      <td>5</td>\n",
       "      <td>187</td>\n",
       "      <td>0</td>\n",
       "      <td>2994</td>\n",
       "      <td>171</td>\n",
       "      <td>235</td>\n",
       "      <td>140</td>\n",
       "      <td>1310</td>\n",
       "      <td>...</td>\n",
       "      <td>0</td>\n",
       "      <td>187</td>\n",
       "      <td>4438</td>\n",
       "      <td>3528</td>\n",
       "      <td>0</td>\n",
       "      <td>0</td>\n",
       "      <td>0</td>\n",
       "      <td>0</td>\n",
       "      <td>0</td>\n",
       "      <td>0</td>\n",
       "    </tr>\n",
       "    <tr>\n",
       "      <th>284921</th>\n",
       "      <td>2728</td>\n",
       "      <td>169</td>\n",
       "      <td>15</td>\n",
       "      <td>48</td>\n",
       "      <td>43</td>\n",
       "      <td>2544</td>\n",
       "      <td>243</td>\n",
       "      <td>227</td>\n",
       "      <td>170</td>\n",
       "      <td>2755</td>\n",
       "      <td>...</td>\n",
       "      <td>1</td>\n",
       "      <td>64</td>\n",
       "      <td>3730</td>\n",
       "      <td>3877</td>\n",
       "      <td>0</td>\n",
       "      <td>0</td>\n",
       "      <td>1</td>\n",
       "      <td>1</td>\n",
       "      <td>1</td>\n",
       "      <td>0</td>\n",
       "    </tr>\n",
       "    <tr>\n",
       "      <th>97106</th>\n",
       "      <td>2669</td>\n",
       "      <td>48</td>\n",
       "      <td>18</td>\n",
       "      <td>26</td>\n",
       "      <td>93</td>\n",
       "      <td>1168</td>\n",
       "      <td>231</td>\n",
       "      <td>229</td>\n",
       "      <td>161</td>\n",
       "      <td>1571</td>\n",
       "      <td>...</td>\n",
       "      <td>0</td>\n",
       "      <td>96</td>\n",
       "      <td>2913</td>\n",
       "      <td>3097</td>\n",
       "      <td>0</td>\n",
       "      <td>0</td>\n",
       "      <td>0</td>\n",
       "      <td>0</td>\n",
       "      <td>0</td>\n",
       "      <td>1</td>\n",
       "    </tr>\n",
       "    <tr>\n",
       "      <th>819614</th>\n",
       "      <td>3575</td>\n",
       "      <td>48</td>\n",
       "      <td>17</td>\n",
       "      <td>470</td>\n",
       "      <td>1</td>\n",
       "      <td>4447</td>\n",
       "      <td>209</td>\n",
       "      <td>203</td>\n",
       "      <td>102</td>\n",
       "      <td>2304</td>\n",
       "      <td>...</td>\n",
       "      <td>0</td>\n",
       "      <td>470</td>\n",
       "      <td>5705</td>\n",
       "      <td>4253</td>\n",
       "      <td>0</td>\n",
       "      <td>0</td>\n",
       "      <td>0</td>\n",
       "      <td>0</td>\n",
       "      <td>0</td>\n",
       "      <td>0</td>\n",
       "    </tr>\n",
       "  </tbody>\n",
       "</table>\n",
       "<p>5 rows × 63 columns</p>\n",
       "</div>"
      ],
      "text/plain": [
       "        Elevation  Aspect  Slope  Horizontal_Distance_To_Hydrology  \\\n",
       "977834       2595     304     14                                98   \n",
       "623452       3276      24      5                               187   \n",
       "284921       2728     169     15                                48   \n",
       "97106        2669      48     18                                26   \n",
       "819614       3575      48     17                               470   \n",
       "\n",
       "        Vertical_Distance_To_Hydrology  Horizontal_Distance_To_Roadways  \\\n",
       "977834                              48                              936   \n",
       "623452                               0                             2994   \n",
       "284921                              43                             2544   \n",
       "97106                               93                             1168   \n",
       "819614                               1                             4447   \n",
       "\n",
       "        Hillshade_9am  Hillshade_Noon  Hillshade_3pm  \\\n",
       "977834            206             214            182   \n",
       "623452            171             235            140   \n",
       "284921            243             227            170   \n",
       "97106             231             229            161   \n",
       "819614            209             203            102   \n",
       "\n",
       "        Horizontal_Distance_To_Fire_Points  ...  Soil_Type40  distanceHydro  \\\n",
       "977834                                1689  ...            0            109   \n",
       "623452                                1310  ...            0            187   \n",
       "284921                                2755  ...            1             64   \n",
       "97106                                 1571  ...            0             96   \n",
       "819614                                2304  ...            0            470   \n",
       "\n",
       "        distanceRoads  distanceFires  soil_type_count_r  soil_type_count_vs  \\\n",
       "977834           2758           3096                  0                   0   \n",
       "623452           4438           3528                  0                   0   \n",
       "284921           3730           3877                  0                   0   \n",
       "97106            2913           3097                  0                   0   \n",
       "819614           5705           4253                  0                   0   \n",
       "\n",
       "        soil_type_count_es  soil_type_count_s  soil_type_count_total  \\\n",
       "977834                   0                  0                      0   \n",
       "623452                   0                  0                      0   \n",
       "284921                   1                  1                      1   \n",
       "97106                    0                  0                      0   \n",
       "819614                   0                  0                      0   \n",
       "\n",
       "        wilderness_area_count  \n",
       "977834                      0  \n",
       "623452                      0  \n",
       "284921                      0  \n",
       "97106                       1  \n",
       "819614                      0  \n",
       "\n",
       "[5 rows x 63 columns]"
      ]
     },
     "execution_count": 9,
     "metadata": {},
     "output_type": "execute_result"
    }
   ],
   "source": [
    "dataTest = loadData(EVALUATION_DATA)\n",
    "dataTest.sample(5)"
   ]
  },
  {
   "cell_type": "code",
   "execution_count": 10,
   "metadata": {
    "ExecuteTime": {
     "end_time": "2021-12-20T05:55:34.644191Z",
     "start_time": "2021-12-20T05:55:32.266899Z"
    }
   },
   "outputs": [],
   "source": [
    "# remove soil type 7 & 15\n",
    "# https://www.kaggle.com/sumeetbohra/eda-feature-engineering-xgboost?scriptVersionId=82762447&cellId=11\n",
    "dataTest.drop(columns = [\"Soil_Type7\" , \"Soil_Type15\"], inplace = True)\n",
    "dataTrain.drop(columns = [\"Soil_Type7\" , \"Soil_Type15\"], inplace = True)\n",
    "\n",
    "# remove feature 4 and re-train to check accuracy\n",
    "dataTrain = dataTrain[dataTrain.Cover_Type != 5]"
   ]
  },
  {
   "cell_type": "code",
   "execution_count": 11,
   "metadata": {
    "ExecuteTime": {
     "end_time": "2021-12-20T05:55:51.044182Z",
     "start_time": "2021-12-20T05:55:50.946200Z"
    }
   },
   "outputs": [
    {
     "data": {
      "text/plain": [
       "2    2262087\n",
       "1    1468136\n",
       "7     391500\n",
       "6     391500\n",
       "4     391500\n",
       "3     391500\n",
       "Name: Cover_Type, dtype: int64"
      ]
     },
     "execution_count": 11,
     "metadata": {},
     "output_type": "execute_result"
    }
   ],
   "source": [
    "dataTrain.Cover_Type.value_counts()"
   ]
  },
  {
   "cell_type": "code",
   "execution_count": 12,
   "metadata": {
    "ExecuteTime": {
     "end_time": "2021-12-20T05:55:59.361547Z",
     "start_time": "2021-12-20T05:55:58.593567Z"
    }
   },
   "outputs": [],
   "source": [
    "X = dataTrain.drop(columns = \"Cover_Type\")\n",
    "y = dataTrain.Cover_Type"
   ]
  },
  {
   "cell_type": "code",
   "execution_count": 13,
   "metadata": {
    "ExecuteTime": {
     "end_time": "2021-12-20T05:56:00.121708Z",
     "start_time": "2021-12-20T05:56:00.111792Z"
    }
   },
   "outputs": [],
   "source": [
    "scaler = MinMaxScaler()\n",
    "encoder = LabelEncoder()"
   ]
  },
  {
   "cell_type": "code",
   "execution_count": 14,
   "metadata": {
    "ExecuteTime": {
     "end_time": "2021-12-20T05:56:05.073282Z",
     "start_time": "2021-12-20T05:56:01.236167Z"
    }
   },
   "outputs": [],
   "source": [
    "XScaled = scaler.fit_transform(X)\n",
    "yScaled = encoder.fit_transform(y)"
   ]
  },
  {
   "cell_type": "code",
   "execution_count": 15,
   "metadata": {
    "ExecuteTime": {
     "end_time": "2021-12-20T05:56:05.819867Z",
     "start_time": "2021-12-20T05:56:05.801641Z"
    }
   },
   "outputs": [
    {
     "data": {
      "text/plain": [
       "(61, 6)"
      ]
     },
     "execution_count": 15,
     "metadata": {},
     "output_type": "execute_result"
    }
   ],
   "source": [
    "INPUT_SHAPE = XScaled.shape[1]\n",
    "OUTPUT_SHAPE = encoder.classes_.shape[0]\n",
    "\n",
    "INPUT_SHAPE, OUTPUT_SHAPE"
   ]
  },
  {
   "cell_type": "code",
   "execution_count": 49,
   "metadata": {
    "ExecuteTime": {
     "end_time": "2021-12-17T09:29:48.195796Z",
     "start_time": "2021-12-17T09:29:48.188774Z"
    }
   },
   "outputs": [],
   "source": [
    "initializer = tf.keras.initializers.LecunNormal()\n",
    "regularizer = tf.keras.regularizers.l1_l2(l1 = 1e-4, l2 = 1e-3)"
   ]
  },
  {
   "cell_type": "code",
   "execution_count": 16,
   "metadata": {
    "ExecuteTime": {
     "end_time": "2021-12-20T05:57:18.242446Z",
     "start_time": "2021-12-20T05:57:10.728815Z"
    }
   },
   "outputs": [
    {
     "name": "stdout",
     "output_type": "stream",
     "text": [
      "Model: \"DFC-1.0.0\"\n",
      "_______________________________________________________________________________________________________________________________\n",
      "Layer (type)                                             Output Shape                                      Param #             \n",
      "===============================================================================================================================\n",
      "iLayer (Dense)                                           (None, 64)                                        3968                \n",
      "_______________________________________________________________________________________________________________________________\n",
      "dropout (Dropout)                                        (None, 64)                                        0                   \n",
      "_______________________________________________________________________________________________________________________________\n",
      "dense (Dense)                                            (None, 128)                                       8320                \n",
      "_______________________________________________________________________________________________________________________________\n",
      "dropout_1 (Dropout)                                      (None, 128)                                       0                   \n",
      "_______________________________________________________________________________________________________________________________\n",
      "dense_1 (Dense)                                          (None, 256)                                       33024               \n",
      "_______________________________________________________________________________________________________________________________\n",
      "dropout_2 (Dropout)                                      (None, 256)                                       0                   \n",
      "_______________________________________________________________________________________________________________________________\n",
      "dense_2 (Dense)                                          (None, 64)                                        16448               \n",
      "_______________________________________________________________________________________________________________________________\n",
      "batch_normalization (BatchNormalization)                 (None, 64)                                        256                 \n",
      "_______________________________________________________________________________________________________________________________\n",
      "oLayer (Dense)                                           (None, 6)                                         390                 \n",
      "===============================================================================================================================\n",
      "Total params: 62,406\n",
      "Trainable params: 62,278\n",
      "Non-trainable params: 128\n",
      "_______________________________________________________________________________________________________________________________\n"
     ]
    }
   ],
   "source": [
    "model = tf.keras.Sequential([\n",
    "    tf.keras.layers.Dense(64, input_shape = (INPUT_SHAPE, ), activation = \"relu\", name = \"iLayer\"),\n",
    "    tf.keras.layers.Dropout(0.2),\n",
    "    tf.keras.layers.Dense(128, activation = \"relu\"),\n",
    "    tf.keras.layers.Dropout(0.2),\n",
    "    tf.keras.layers.Dense(256, activation = \"relu\"),\n",
    "    tf.keras.layers.Dropout(0.2),\n",
    "    tf.keras.layers.Dense(64, activation = \"relu\"),\n",
    "    tf.keras.layers.BatchNormalization(),\n",
    "    tf.keras.layers.Dense(OUTPUT_SHAPE, activation = \"softmax\", name = \"oLayer\"),\n",
    "], name = \"DFC-1.0.0\")\n",
    "\n",
    "# model = tf.keras.Sequential([\n",
    "#     tf.keras.layers.Dense(64, input_shape = (INPUT_SHAPE, ), activation = \"relu\", kernel_initializer = initializer, name = \"iLayer\"),\n",
    "#     tf.keras.layers.Dropout(0.2),\n",
    "#     tf.keras.layers.Dense(128, activation = \"relu\", kernel_regularizer = regularizer),\n",
    "#     tf.keras.layers.Dropout(0.2),\n",
    "#     tf.keras.layers.Dense(256, activation = \"relu\", kernel_regularizer = regularizer),\n",
    "#     tf.keras.layers.Dropout(0.2),\n",
    "#     tf.keras.layers.Dense(64, activation = \"relu\", kernel_regularizer = regularizer),\n",
    "#     tf.keras.layers.BatchNormalization(),\n",
    "#     tf.keras.layers.Dense(OUTPUT_SHAPE, activation = \"softmax\", name = \"oLayer\"),\n",
    "# ], name = \"DFC-1.1.0\")\n",
    "\n",
    "model.summary(line_length = 127)"
   ]
  },
  {
   "cell_type": "code",
   "execution_count": 17,
   "metadata": {
    "ExecuteTime": {
     "end_time": "2021-12-20T05:57:59.349033Z",
     "start_time": "2021-12-20T05:57:58.945258Z"
    }
   },
   "outputs": [],
   "source": [
    "model.compile(\n",
    "    optimizer = \"adam\",\n",
    "    loss = tf.keras.losses.SparseCategoricalCrossentropy(from_logits = True),\n",
    "    metrics = [tf.keras.metrics.SparseCategoricalAccuracy(name = \"sparse\")]\n",
    ")\n",
    "\n",
    "# model.compile(\n",
    "#     optimizer = tf.keras.optimizers.Adam(lr = 1e-3),\n",
    "#     loss = tf.keras.losses.SparseCategoricalCrossentropy(from_logits = False, name = \"loss\"),\n",
    "#     metrics = [tf.keras.metrics.SparseTopKCategoricalAccuracy(k = 7, name = \"topK\"), tf.keras.metrics.SparseCategoricalAccuracy(name = \"sparse\")]\n",
    "# )"
   ]
  },
  {
   "cell_type": "code",
   "execution_count": 18,
   "metadata": {
    "ExecuteTime": {
     "end_time": "2021-12-20T06:03:05.032851Z",
     "start_time": "2021-12-20T05:58:14.067072Z"
    }
   },
   "outputs": [
    {
     "name": "stdout",
     "output_type": "stream",
     "text": [
      "Epoch 1/10\n",
      "10345/10345 [==============================] - 28s 3ms/step - loss: 1.1449 - sparse: 0.8982\n",
      "Epoch 2/10\n",
      "10345/10345 [==============================] - 28s 3ms/step - loss: 1.1171 - sparse: 0.9259\n",
      "Epoch 3/10\n",
      "10345/10345 [==============================] - 28s 3ms/step - loss: 1.1124 - sparse: 0.9306\n",
      "Epoch 4/10\n",
      "10345/10345 [==============================] - 29s 3ms/step - loss: 1.1096 - sparse: 0.9335\n",
      "Epoch 5/10\n",
      "10345/10345 [==============================] - 28s 3ms/step - loss: 1.1078 - sparse: 0.9353\n",
      "Epoch 6/10\n",
      "10345/10345 [==============================] - 28s 3ms/step - loss: 1.1063 - sparse: 0.9368\n",
      "Epoch 7/10\n",
      "10345/10345 [==============================] - 30s 3ms/step - loss: 1.1049 - sparse: 0.9382\n",
      "Epoch 8/10\n",
      "10345/10345 [==============================] - 29s 3ms/step - loss: 1.1043 - sparse: 0.9389\n",
      "Epoch 9/10\n",
      "10345/10345 [==============================] - 29s 3ms/step - loss: 1.1035 - sparse: 0.9395\n",
      "Epoch 10/10\n",
      "10345/10345 [==============================] - 29s 3ms/step - loss: 1.1028 - sparse: 0.9403\n"
     ]
    }
   ],
   "source": [
    "history = model.fit(XScaled, yScaled, epochs = 10, batch_size = 512)"
   ]
  },
  {
   "cell_type": "code",
   "execution_count": 53,
   "metadata": {
    "ExecuteTime": {
     "end_time": "2021-12-17T09:52:25.287109Z",
     "start_time": "2021-12-17T09:52:25.275487Z"
    }
   },
   "outputs": [
    {
     "data": {
      "text/plain": [
       "dict_keys(['loss', 'topK', 'sparse'])"
      ]
     },
     "execution_count": 53,
     "metadata": {},
     "output_type": "execute_result"
    }
   ],
   "source": [
    "history.history.keys()"
   ]
  },
  {
   "cell_type": "code",
   "execution_count": null,
   "metadata": {},
   "outputs": [],
   "source": [
    "fig, axs = plt.subplots(1, 2)"
   ]
  },
  {
   "cell_type": "code",
   "execution_count": 23,
   "metadata": {
    "ExecuteTime": {
     "end_time": "2021-12-17T06:05:59.425565Z",
     "start_time": "2021-12-17T06:05:57.743587Z"
    }
   },
   "outputs": [
    {
     "data": {
      "image/png": "[encoded data removed]",
      "text/plain": [
       "<Figure size 1512x504 with 1 Axes>"
      ]
     },
     "metadata": {},
     "output_type": "display_data"
    }
   ],
   "source": [
    "plt.plot(history.history['loss'])\n",
    "plt.plot(history.history['sparse_categorical_accuracy'])\n",
    "plt.title('model accuracy')\n",
    "plt.ylabel('accuracy')\n",
    "plt.xlabel('epoch')\n",
    "plt.legend(['train', 'val'], loc='upper left')\n",
    "plt.show()"
   ]
  },
  {
   "cell_type": "code",
   "execution_count": 19,
   "metadata": {
    "ExecuteTime": {
     "end_time": "2021-12-20T06:03:43.510547Z",
     "start_time": "2021-12-20T06:03:17.612201Z"
    }
   },
   "outputs": [
    {
     "data": {
      "text/html": [
       "<div>\n",
       "<style scoped>\n",
       "    .dataframe tbody tr th:only-of-type {\n",
       "        vertical-align: middle;\n",
       "    }\n",
       "\n",
       "    .dataframe tbody tr th {\n",
       "        vertical-align: top;\n",
       "    }\n",
       "\n",
       "    .dataframe thead th {\n",
       "        text-align: right;\n",
       "    }\n",
       "</style>\n",
       "<table border=\"1\" class=\"dataframe\">\n",
       "  <thead>\n",
       "    <tr style=\"text-align: right;\">\n",
       "      <th></th>\n",
       "      <th>Id</th>\n",
       "      <th>Cover_Type</th>\n",
       "    </tr>\n",
       "  </thead>\n",
       "  <tbody>\n",
       "    <tr>\n",
       "      <th>5333</th>\n",
       "      <td>4005333</td>\n",
       "      <td>1</td>\n",
       "    </tr>\n",
       "    <tr>\n",
       "      <th>976010</th>\n",
       "      <td>4976010</td>\n",
       "      <td>1</td>\n",
       "    </tr>\n",
       "    <tr>\n",
       "      <th>710212</th>\n",
       "      <td>4710212</td>\n",
       "      <td>2</td>\n",
       "    </tr>\n",
       "    <tr>\n",
       "      <th>270378</th>\n",
       "      <td>4270378</td>\n",
       "      <td>1</td>\n",
       "    </tr>\n",
       "    <tr>\n",
       "      <th>624912</th>\n",
       "      <td>4624912</td>\n",
       "      <td>3</td>\n",
       "    </tr>\n",
       "  </tbody>\n",
       "</table>\n",
       "</div>"
      ],
      "text/plain": [
       "             Id  Cover_Type\n",
       "5333    4005333           1\n",
       "976010  4976010           1\n",
       "710212  4710212           2\n",
       "270378  4270378           1\n",
       "624912  4624912           3"
      ]
     },
     "execution_count": 19,
     "metadata": {},
     "output_type": "execute_result"
    }
   ],
   "source": [
    "testScaled = scaler.transform(dataTest)\n",
    "\n",
    "yPredicted = model.predict(testScaled)\n",
    "yPredictedMax = [np.argmax(i) + 1 for i in yPredicted]\n",
    "\n",
    "# DFC-1.0.0\n",
    "output = pd.DataFrame({\n",
    "    \"Id\" : range(4000000, 4000000 + len(yPredictedMax)),\n",
    "    \"Cover_Type\" : yPredictedMax\n",
    "})\n",
    "\n",
    "output.sample(5)"
   ]
  },
  {
   "cell_type": "code",
   "execution_count": 20,
   "metadata": {
    "ExecuteTime": {
     "end_time": "2021-12-20T06:03:47.752763Z",
     "start_time": "2021-12-20T06:03:46.769474Z"
    }
   },
   "outputs": [],
   "source": [
    "output.to_csv(\"dfc100-4.csv\", index = False)"
   ]
  }
 ],
 "metadata": {
  "kernelspec": {
   "display_name": "TensorFlow 2.8.0 (GPU)",
   "language": "python",
   "name": "tensorflow"
  },
  "language_info": {
   "codemirror_mode": {
    "name": "ipython",
    "version": 3
   },
   "file_extension": ".py",
   "mimetype": "text/x-python",
   "name": "python",
   "nbconvert_exporter": "python",
   "pygments_lexer": "ipython3",
   "version": "3.9.12"
  },
  "latex_envs": {
   "LaTeX_envs_menu_present": true,
   "autoclose": false,
   "autocomplete": true,
   "bibliofile": "biblio.bib",
   "cite_by": "apalike",
   "current_citInitial": 1,
   "eqLabelWithNumbers": true,
   "eqNumInitial": 1,
   "hotkeys": {
    "equation": "Ctrl-E",
    "itemize": "Ctrl-I"
   },
   "labels_anchors": false,
   "latex_user_defs": false,
   "report_style_numbering": false,
   "user_envs_cfg": false
  },
  "toc": {
   "base_numbering": 1,
   "nav_menu": {},
   "number_sections": false,
   "sideBar": true,
   "skip_h1_title": true,
   "title_cell": "Table of Contents",
   "title_sidebar": "Contents",
   "toc_cell": false,
   "toc_position": {},
   "toc_section_display": true,
   "toc_window_display": false
  },
  "varInspector": {
   "cols": {
    "lenName": 16,
    "lenType": 16,
    "lenVar": 40
   },
   "kernels_config": {
    "python": {
     "delete_cmd_postfix": "",
     "delete_cmd_prefix": "del ",
     "library": "var_list.py",
     "varRefreshCmd": "print(var_dic_list())"
    },
    "r": {
     "delete_cmd_postfix": ") ",
     "delete_cmd_prefix": "rm(",
     "library": "var_list.r",
     "varRefreshCmd": "cat(var_dic_list()) "
    }
   },
   "types_to_exclude": [
    "module",
    "function",
    "builtin_function_or_method",
    "instance",
    "_Feature"
   ],
   "window_display": false
  }
 },
 "nbformat": 4,
 "nbformat_minor": 4
}
