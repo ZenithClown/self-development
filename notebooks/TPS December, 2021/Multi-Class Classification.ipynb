{
 "cells": [
  {
   "cell_type": "markdown",
   "metadata": {},
   "source": [
    "<h1 align = \"center\">Multi-Class Classification</h1>\n",
    "\n",
    "<p align = \"justify\"><b>Objective:</b> The notebook is created to create a multi-class classification for <a href = \"https://www.kaggle.com/c/tabular-playground-series-dec-2021/overview\">Tabular Playground Series - Dec 2021</a>. The data contains <b><code>55-features</code></b> out of which <b><code>Cover_Type</code></b> is to be classified among classes labled $(1, 2, ..., 7)$. Before diving into, being a good practioner, let's understand the data by doing some analysis - and understand what we're up against!</p>\n",
    "\n",
    "## Data Preprocessing\n",
    "\n",
    "<p align = \"justify\">Before we deep-dive into feature engineering, we need to process the data - namely <b>clean</b> the data to fix any errors (like encoding), and <b>impute</b> any missing values. However, the data in question is clean and has no encoding errors. This was verified using the following codes, however their output was omitted from this notebook.</p>\n",
    "\n",
    "```python\n",
    "# data is either `dataTrain` or `dataTest`\n",
    "data.info() # returns all dtypes as `int`\n",
    "\n",
    "# checking null values using `sns` and `pd.isnull`\n",
    "# the image for training and testing dataset on null-values is shown below\n",
    "sns.heatmap(data.isnull())\n",
    "```\n",
    "\n",
    "![na-in-training](images/training.png)\n",
    "![na-in-training](images/testing.png)"
   ]
  },
  {
   "cell_type": "code",
   "execution_count": 6,
   "metadata": {
    "ExecuteTime": {
     "end_time": "2021-12-16T12:35:16.549168Z",
     "start_time": "2021-12-16T12:35:16.538702Z"
    }
   },
   "outputs": [],
   "source": [
    "from os.path import join\n",
    "from copy import deepcopy\n",
    "from tqdm import tqdm as TQ"
   ]
  },
  {
   "cell_type": "code",
   "execution_count": 7,
   "metadata": {
    "ExecuteTime": {
     "end_time": "2021-12-16T12:35:16.564381Z",
     "start_time": "2021-12-16T12:35:16.551167Z"
    }
   },
   "outputs": [],
   "source": [
    "import numpy as np\n",
    "import pandas as pd\n",
    "import seaborn as sns\n",
    "import matplotlib.pyplot as plt\n",
    "\n",
    "%precision 3\n",
    "%matplotlib inline\n",
    "sns.set_style('whitegrid');\n",
    "plt.style.use('default-style');\n",
    "np.set_printoptions(precision = 3, threshold = 15)"
   ]
  },
  {
   "cell_type": "code",
   "execution_count": 8,
   "metadata": {
    "ExecuteTime": {
     "end_time": "2021-12-16T12:35:16.579381Z",
     "start_time": "2021-12-16T12:35:16.565382Z"
    }
   },
   "outputs": [],
   "source": [
    "from imblearn.over_sampling import (\n",
    "    SMOTE, # https://en.wikipedia.org/wiki/Oversampling_and_undersampling_in_data_analysis#SMOTE\n",
    "    ADASYN # https://en.wikipedia.org/wiki/Oversampling_and_undersampling_in_data_analysis#ADASYN\n",
    ")\n",
    "\n",
    "from sklearn.preprocessing import (\n",
    "    MinMaxScaler,\n",
    "    LabelEncoder\n",
    ")"
   ]
  },
  {
   "cell_type": "code",
   "execution_count": 9,
   "metadata": {
    "ExecuteTime": {
     "end_time": "2021-12-16T12:35:16.594382Z",
     "start_time": "2021-12-16T12:35:16.581380Z"
    }
   },
   "outputs": [
    {
     "name": "stdout",
     "output_type": "stream",
     "text": [
      "Tensorflow Version: 2.3.1\n"
     ]
    },
    {
     "data": {
      "text/plain": [
       "[PhysicalDevice(name='/physical_device:CPU:0', device_type='CPU'),\n",
       " PhysicalDevice(name='/physical_device:XLA_CPU:0', device_type='XLA_CPU'),\n",
       " PhysicalDevice(name='/physical_device:GPU:0', device_type='GPU'),\n",
       " PhysicalDevice(name='/physical_device:XLA_GPU:0', device_type='XLA_GPU')]"
      ]
     },
     "execution_count": 9,
     "metadata": {},
     "output_type": "execute_result"
    }
   ],
   "source": [
    "import tensorflow as tf\n",
    "print('Tensorflow Version: {}'.format(tf.__version__))\n",
    "\n",
    "# check physical devices\n",
    "tf.config.list_physical_devices()"
   ]
  },
  {
   "cell_type": "code",
   "execution_count": 10,
   "metadata": {
    "ExecuteTime": {
     "end_time": "2021-12-16T12:35:16.610381Z",
     "start_time": "2021-12-16T12:35:16.595382Z"
    }
   },
   "outputs": [],
   "source": [
    "# ignore specific warnings\n",
    "import warnings\n",
    "warnings.simplefilter(\"ignore\", FutureWarning)"
   ]
  },
  {
   "cell_type": "code",
   "execution_count": 11,
   "metadata": {
    "ExecuteTime": {
     "end_time": "2021-12-16T12:35:16.626381Z",
     "start_time": "2021-12-16T12:35:16.611382Z"
    }
   },
   "outputs": [],
   "source": [
    "# https://www.analyticsvidhya.com/blog/2021/04/how-to-reduce-memory-usage-in-python-pandas/\n",
    "# https://towardsdatascience.com/reducing-memory-usage-in-pandas-with-smaller-datatypes-b527635830af\n",
    "\n",
    "calculateMemory = lambda frame : frame.memory_usage(deep = True).sum() / 1024 ** 2 # return usage in MB\n",
    "\n",
    "def limitNumeric(frame : pd.DataFrame, verbose : bool = True) -> pd.DataFrame:\n",
    "    \"\"\"Given a DataFrame (frame) - the function considers each numeric columns (integer and/or float) and sets the data type to any of `np.dtypes` to Reduce Memory Usage\"\"\"\n",
    "    \n",
    "    if verbose:\n",
    "        actual = calculateMemory(frame)\n",
    "    \n",
    "    # foreach column calculate the min and max value\n",
    "    # and map the data to its relevant unit category - int8, int16, int32 or int64\n",
    "    # by default - pandas treats each numeric column to its highest number base - int64/float64\n",
    "    for col in TQ(frame.columns, desc = \"converting dtypes\"):\n",
    "        c_min = frame[col].min()\n",
    "        c_max = frame[col].max()\n",
    "        \n",
    "        if c_min > np.iinfo(np.int8).min and c_max <= np.iinfo(np.int8).max:\n",
    "            frame[col] = frame[col].astype(np.int8)\n",
    "        elif c_min > np.iinfo(np.int16).min and c_max <= np.iinfo(np.int16).max:\n",
    "            frame[col] = frame[col].astype(np.int16)\n",
    "        if c_min > np.iinfo(np.int32).min and c_max <= np.iinfo(np.int32).max:\n",
    "            frame[col] = frame[col].astype(np.int32)\n",
    "        else:\n",
    "            frame[col] = frame[col].astype(np.int64)\n",
    "            \n",
    "    if verbose:\n",
    "        final = calculateMemory(frame)\n",
    "        print(f\"Actual Size : {actual:.2f} MB | Final Size : {final:.2f} MB || Reduction Ration = {((actual - final) / actual) * 100:.2f}%\")\n",
    "        \n",
    "    return frame"
   ]
  },
  {
   "cell_type": "code",
   "execution_count": 12,
   "metadata": {
    "ExecuteTime": {
     "end_time": "2021-12-16T12:35:16.642382Z",
     "start_time": "2021-12-16T12:35:16.627381Z"
    }
   },
   "outputs": [],
   "source": [
    "TRAIN_DATA = join(\".\", \"train.csv\")\n",
    "EVALUATION_DATA = join(\".\", \"test.csv\")"
   ]
  },
  {
   "cell_type": "code",
   "execution_count": 13,
   "metadata": {
    "ExecuteTime": {
     "end_time": "2021-12-16T12:35:36.785215Z",
     "start_time": "2021-12-16T12:35:16.644382Z"
    }
   },
   "outputs": [
    {
     "name": "stderr",
     "output_type": "stream",
     "text": [
      "converting dtypes: 100%|████████████████████████████████████████████████████████████████████████████████████████████████████████████████████████████████████| 55/55 [00:13<00:00,  4.16it/s]"
     ]
    },
    {
     "name": "stdout",
     "output_type": "stream",
     "text": [
      "Actual Size : 1708.98 MB | Final Size : 869.75 MB || Reduction Ration = 49.11%\n"
     ]
    },
    {
     "name": "stderr",
     "output_type": "stream",
     "text": [
      "\n"
     ]
    },
    {
     "data": {
      "text/html": [
       "<div>\n",
       "<style scoped>\n",
       "    .dataframe tbody tr th:only-of-type {\n",
       "        vertical-align: middle;\n",
       "    }\n",
       "\n",
       "    .dataframe tbody tr th {\n",
       "        vertical-align: top;\n",
       "    }\n",
       "\n",
       "    .dataframe thead th {\n",
       "        text-align: right;\n",
       "    }\n",
       "</style>\n",
       "<table border=\"1\" class=\"dataframe\">\n",
       "  <thead>\n",
       "    <tr style=\"text-align: right;\">\n",
       "      <th></th>\n",
       "      <th>Elevation</th>\n",
       "      <th>Aspect</th>\n",
       "      <th>Slope</th>\n",
       "      <th>Horizontal_Distance_To_Hydrology</th>\n",
       "      <th>Vertical_Distance_To_Hydrology</th>\n",
       "      <th>Horizontal_Distance_To_Roadways</th>\n",
       "      <th>Hillshade_9am</th>\n",
       "      <th>Hillshade_Noon</th>\n",
       "      <th>Hillshade_3pm</th>\n",
       "      <th>Horizontal_Distance_To_Fire_Points</th>\n",
       "      <th>...</th>\n",
       "      <th>Soil_Type32</th>\n",
       "      <th>Soil_Type33</th>\n",
       "      <th>Soil_Type34</th>\n",
       "      <th>Soil_Type35</th>\n",
       "      <th>Soil_Type36</th>\n",
       "      <th>Soil_Type37</th>\n",
       "      <th>Soil_Type38</th>\n",
       "      <th>Soil_Type39</th>\n",
       "      <th>Soil_Type40</th>\n",
       "      <th>Cover_Type</th>\n",
       "    </tr>\n",
       "    <tr>\n",
       "      <th>Id</th>\n",
       "      <th></th>\n",
       "      <th></th>\n",
       "      <th></th>\n",
       "      <th></th>\n",
       "      <th></th>\n",
       "      <th></th>\n",
       "      <th></th>\n",
       "      <th></th>\n",
       "      <th></th>\n",
       "      <th></th>\n",
       "      <th></th>\n",
       "      <th></th>\n",
       "      <th></th>\n",
       "      <th></th>\n",
       "      <th></th>\n",
       "      <th></th>\n",
       "      <th></th>\n",
       "      <th></th>\n",
       "      <th></th>\n",
       "      <th></th>\n",
       "      <th></th>\n",
       "    </tr>\n",
       "  </thead>\n",
       "  <tbody>\n",
       "    <tr>\n",
       "      <th>0</th>\n",
       "      <td>3189</td>\n",
       "      <td>40</td>\n",
       "      <td>8</td>\n",
       "      <td>30</td>\n",
       "      <td>13</td>\n",
       "      <td>3270</td>\n",
       "      <td>206</td>\n",
       "      <td>234</td>\n",
       "      <td>193</td>\n",
       "      <td>4873</td>\n",
       "      <td>...</td>\n",
       "      <td>0</td>\n",
       "      <td>0</td>\n",
       "      <td>0</td>\n",
       "      <td>0</td>\n",
       "      <td>0</td>\n",
       "      <td>0</td>\n",
       "      <td>0</td>\n",
       "      <td>0</td>\n",
       "      <td>0</td>\n",
       "      <td>1</td>\n",
       "    </tr>\n",
       "    <tr>\n",
       "      <th>1</th>\n",
       "      <td>3026</td>\n",
       "      <td>182</td>\n",
       "      <td>5</td>\n",
       "      <td>280</td>\n",
       "      <td>29</td>\n",
       "      <td>3270</td>\n",
       "      <td>233</td>\n",
       "      <td>240</td>\n",
       "      <td>106</td>\n",
       "      <td>5423</td>\n",
       "      <td>...</td>\n",
       "      <td>0</td>\n",
       "      <td>0</td>\n",
       "      <td>0</td>\n",
       "      <td>0</td>\n",
       "      <td>0</td>\n",
       "      <td>0</td>\n",
       "      <td>0</td>\n",
       "      <td>0</td>\n",
       "      <td>0</td>\n",
       "      <td>2</td>\n",
       "    </tr>\n",
       "    <tr>\n",
       "      <th>2</th>\n",
       "      <td>3106</td>\n",
       "      <td>13</td>\n",
       "      <td>7</td>\n",
       "      <td>351</td>\n",
       "      <td>37</td>\n",
       "      <td>2914</td>\n",
       "      <td>208</td>\n",
       "      <td>234</td>\n",
       "      <td>137</td>\n",
       "      <td>5269</td>\n",
       "      <td>...</td>\n",
       "      <td>0</td>\n",
       "      <td>0</td>\n",
       "      <td>0</td>\n",
       "      <td>0</td>\n",
       "      <td>0</td>\n",
       "      <td>0</td>\n",
       "      <td>0</td>\n",
       "      <td>0</td>\n",
       "      <td>0</td>\n",
       "      <td>1</td>\n",
       "    </tr>\n",
       "    <tr>\n",
       "      <th>3</th>\n",
       "      <td>3022</td>\n",
       "      <td>276</td>\n",
       "      <td>13</td>\n",
       "      <td>192</td>\n",
       "      <td>16</td>\n",
       "      <td>3034</td>\n",
       "      <td>207</td>\n",
       "      <td>238</td>\n",
       "      <td>156</td>\n",
       "      <td>2866</td>\n",
       "      <td>...</td>\n",
       "      <td>0</td>\n",
       "      <td>0</td>\n",
       "      <td>0</td>\n",
       "      <td>0</td>\n",
       "      <td>0</td>\n",
       "      <td>0</td>\n",
       "      <td>0</td>\n",
       "      <td>0</td>\n",
       "      <td>0</td>\n",
       "      <td>2</td>\n",
       "    </tr>\n",
       "    <tr>\n",
       "      <th>4</th>\n",
       "      <td>2906</td>\n",
       "      <td>186</td>\n",
       "      <td>13</td>\n",
       "      <td>266</td>\n",
       "      <td>22</td>\n",
       "      <td>2916</td>\n",
       "      <td>231</td>\n",
       "      <td>231</td>\n",
       "      <td>154</td>\n",
       "      <td>2642</td>\n",
       "      <td>...</td>\n",
       "      <td>0</td>\n",
       "      <td>0</td>\n",
       "      <td>0</td>\n",
       "      <td>0</td>\n",
       "      <td>0</td>\n",
       "      <td>0</td>\n",
       "      <td>0</td>\n",
       "      <td>0</td>\n",
       "      <td>0</td>\n",
       "      <td>2</td>\n",
       "    </tr>\n",
       "  </tbody>\n",
       "</table>\n",
       "<p>5 rows × 55 columns</p>\n",
       "</div>"
      ],
      "text/plain": [
       "    Elevation  Aspect  Slope  Horizontal_Distance_To_Hydrology  \\\n",
       "Id                                                               \n",
       "0        3189      40      8                                30   \n",
       "1        3026     182      5                               280   \n",
       "2        3106      13      7                               351   \n",
       "3        3022     276     13                               192   \n",
       "4        2906     186     13                               266   \n",
       "\n",
       "    Vertical_Distance_To_Hydrology  Horizontal_Distance_To_Roadways  \\\n",
       "Id                                                                    \n",
       "0                               13                             3270   \n",
       "1                               29                             3270   \n",
       "2                               37                             2914   \n",
       "3                               16                             3034   \n",
       "4                               22                             2916   \n",
       "\n",
       "    Hillshade_9am  Hillshade_Noon  Hillshade_3pm  \\\n",
       "Id                                                 \n",
       "0             206             234            193   \n",
       "1             233             240            106   \n",
       "2             208             234            137   \n",
       "3             207             238            156   \n",
       "4             231             231            154   \n",
       "\n",
       "    Horizontal_Distance_To_Fire_Points  ...  Soil_Type32  Soil_Type33  \\\n",
       "Id                                      ...                             \n",
       "0                                 4873  ...            0            0   \n",
       "1                                 5423  ...            0            0   \n",
       "2                                 5269  ...            0            0   \n",
       "3                                 2866  ...            0            0   \n",
       "4                                 2642  ...            0            0   \n",
       "\n",
       "    Soil_Type34  Soil_Type35  Soil_Type36  Soil_Type37  Soil_Type38  \\\n",
       "Id                                                                    \n",
       "0             0            0            0            0            0   \n",
       "1             0            0            0            0            0   \n",
       "2             0            0            0            0            0   \n",
       "3             0            0            0            0            0   \n",
       "4             0            0            0            0            0   \n",
       "\n",
       "    Soil_Type39  Soil_Type40  Cover_Type  \n",
       "Id                                        \n",
       "0             0            0           1  \n",
       "1             0            0           2  \n",
       "2             0            0           1  \n",
       "3             0            0           2  \n",
       "4             0            0           2  \n",
       "\n",
       "[5 rows x 55 columns]"
      ]
     },
     "execution_count": 13,
     "metadata": {},
     "output_type": "execute_result"
    }
   ],
   "source": [
    "dataTrain = pd.read_csv(TRAIN_DATA, index_col = 0)\n",
    "dataTrain = limitNumeric(dataTrain)\n",
    "\n",
    "dataTrain.head() # FutureWarning Ignored https://stackoverflow.com/a/46721064/6623589"
   ]
  },
  {
   "cell_type": "code",
   "execution_count": 14,
   "metadata": {
    "ExecuteTime": {
     "end_time": "2021-12-16T12:35:41.740797Z",
     "start_time": "2021-12-16T12:35:36.787218Z"
    },
    "scrolled": false
   },
   "outputs": [
    {
     "name": "stderr",
     "output_type": "stream",
     "text": [
      "converting dtypes: 100%|████████████████████████████████████████████████████████████████████████████████████████████████████████████████████████████████████| 54/54 [00:03<00:00, 16.42it/s]"
     ]
    },
    {
     "name": "stdout",
     "output_type": "stream",
     "text": [
      "Actual Size : 419.62 MB | Final Size : 213.62 MB || Reduction Ration = 49.09%\n"
     ]
    },
    {
     "name": "stderr",
     "output_type": "stream",
     "text": [
      "\n"
     ]
    },
    {
     "data": {
      "text/html": [
       "<div>\n",
       "<style scoped>\n",
       "    .dataframe tbody tr th:only-of-type {\n",
       "        vertical-align: middle;\n",
       "    }\n",
       "\n",
       "    .dataframe tbody tr th {\n",
       "        vertical-align: top;\n",
       "    }\n",
       "\n",
       "    .dataframe thead th {\n",
       "        text-align: right;\n",
       "    }\n",
       "</style>\n",
       "<table border=\"1\" class=\"dataframe\">\n",
       "  <thead>\n",
       "    <tr style=\"text-align: right;\">\n",
       "      <th></th>\n",
       "      <th>Elevation</th>\n",
       "      <th>Aspect</th>\n",
       "      <th>Slope</th>\n",
       "      <th>Horizontal_Distance_To_Hydrology</th>\n",
       "      <th>Vertical_Distance_To_Hydrology</th>\n",
       "      <th>Horizontal_Distance_To_Roadways</th>\n",
       "      <th>Hillshade_9am</th>\n",
       "      <th>Hillshade_Noon</th>\n",
       "      <th>Hillshade_3pm</th>\n",
       "      <th>Horizontal_Distance_To_Fire_Points</th>\n",
       "      <th>...</th>\n",
       "      <th>Soil_Type31</th>\n",
       "      <th>Soil_Type32</th>\n",
       "      <th>Soil_Type33</th>\n",
       "      <th>Soil_Type34</th>\n",
       "      <th>Soil_Type35</th>\n",
       "      <th>Soil_Type36</th>\n",
       "      <th>Soil_Type37</th>\n",
       "      <th>Soil_Type38</th>\n",
       "      <th>Soil_Type39</th>\n",
       "      <th>Soil_Type40</th>\n",
       "    </tr>\n",
       "    <tr>\n",
       "      <th>Id</th>\n",
       "      <th></th>\n",
       "      <th></th>\n",
       "      <th></th>\n",
       "      <th></th>\n",
       "      <th></th>\n",
       "      <th></th>\n",
       "      <th></th>\n",
       "      <th></th>\n",
       "      <th></th>\n",
       "      <th></th>\n",
       "      <th></th>\n",
       "      <th></th>\n",
       "      <th></th>\n",
       "      <th></th>\n",
       "      <th></th>\n",
       "      <th></th>\n",
       "      <th></th>\n",
       "      <th></th>\n",
       "      <th></th>\n",
       "      <th></th>\n",
       "      <th></th>\n",
       "    </tr>\n",
       "  </thead>\n",
       "  <tbody>\n",
       "    <tr>\n",
       "      <th>4000000</th>\n",
       "      <td>2763</td>\n",
       "      <td>78</td>\n",
       "      <td>20</td>\n",
       "      <td>377</td>\n",
       "      <td>88</td>\n",
       "      <td>3104</td>\n",
       "      <td>218</td>\n",
       "      <td>213</td>\n",
       "      <td>195</td>\n",
       "      <td>1931</td>\n",
       "      <td>...</td>\n",
       "      <td>0</td>\n",
       "      <td>0</td>\n",
       "      <td>0</td>\n",
       "      <td>0</td>\n",
       "      <td>0</td>\n",
       "      <td>0</td>\n",
       "      <td>0</td>\n",
       "      <td>0</td>\n",
       "      <td>0</td>\n",
       "      <td>0</td>\n",
       "    </tr>\n",
       "    <tr>\n",
       "      <th>4000001</th>\n",
       "      <td>2826</td>\n",
       "      <td>153</td>\n",
       "      <td>11</td>\n",
       "      <td>264</td>\n",
       "      <td>39</td>\n",
       "      <td>295</td>\n",
       "      <td>219</td>\n",
       "      <td>238</td>\n",
       "      <td>148</td>\n",
       "      <td>2557</td>\n",
       "      <td>...</td>\n",
       "      <td>0</td>\n",
       "      <td>0</td>\n",
       "      <td>0</td>\n",
       "      <td>0</td>\n",
       "      <td>0</td>\n",
       "      <td>0</td>\n",
       "      <td>0</td>\n",
       "      <td>0</td>\n",
       "      <td>0</td>\n",
       "      <td>0</td>\n",
       "    </tr>\n",
       "    <tr>\n",
       "      <th>4000002</th>\n",
       "      <td>2948</td>\n",
       "      <td>57</td>\n",
       "      <td>19</td>\n",
       "      <td>56</td>\n",
       "      <td>44</td>\n",
       "      <td>852</td>\n",
       "      <td>202</td>\n",
       "      <td>217</td>\n",
       "      <td>163</td>\n",
       "      <td>1803</td>\n",
       "      <td>...</td>\n",
       "      <td>0</td>\n",
       "      <td>0</td>\n",
       "      <td>1</td>\n",
       "      <td>0</td>\n",
       "      <td>0</td>\n",
       "      <td>0</td>\n",
       "      <td>0</td>\n",
       "      <td>0</td>\n",
       "      <td>0</td>\n",
       "      <td>0</td>\n",
       "    </tr>\n",
       "    <tr>\n",
       "      <th>4000003</th>\n",
       "      <td>2926</td>\n",
       "      <td>119</td>\n",
       "      <td>6</td>\n",
       "      <td>158</td>\n",
       "      <td>134</td>\n",
       "      <td>2136</td>\n",
       "      <td>234</td>\n",
       "      <td>240</td>\n",
       "      <td>142</td>\n",
       "      <td>857</td>\n",
       "      <td>...</td>\n",
       "      <td>0</td>\n",
       "      <td>0</td>\n",
       "      <td>0</td>\n",
       "      <td>0</td>\n",
       "      <td>0</td>\n",
       "      <td>0</td>\n",
       "      <td>0</td>\n",
       "      <td>0</td>\n",
       "      <td>0</td>\n",
       "      <td>0</td>\n",
       "    </tr>\n",
       "    <tr>\n",
       "      <th>4000004</th>\n",
       "      <td>2690</td>\n",
       "      <td>10</td>\n",
       "      <td>4</td>\n",
       "      <td>38</td>\n",
       "      <td>108</td>\n",
       "      <td>3589</td>\n",
       "      <td>213</td>\n",
       "      <td>221</td>\n",
       "      <td>229</td>\n",
       "      <td>431</td>\n",
       "      <td>...</td>\n",
       "      <td>0</td>\n",
       "      <td>0</td>\n",
       "      <td>0</td>\n",
       "      <td>0</td>\n",
       "      <td>0</td>\n",
       "      <td>0</td>\n",
       "      <td>0</td>\n",
       "      <td>0</td>\n",
       "      <td>0</td>\n",
       "      <td>0</td>\n",
       "    </tr>\n",
       "  </tbody>\n",
       "</table>\n",
       "<p>5 rows × 54 columns</p>\n",
       "</div>"
      ],
      "text/plain": [
       "         Elevation  Aspect  Slope  Horizontal_Distance_To_Hydrology  \\\n",
       "Id                                                                    \n",
       "4000000       2763      78     20                               377   \n",
       "4000001       2826     153     11                               264   \n",
       "4000002       2948      57     19                                56   \n",
       "4000003       2926     119      6                               158   \n",
       "4000004       2690      10      4                                38   \n",
       "\n",
       "         Vertical_Distance_To_Hydrology  Horizontal_Distance_To_Roadways  \\\n",
       "Id                                                                         \n",
       "4000000                              88                             3104   \n",
       "4000001                              39                              295   \n",
       "4000002                              44                              852   \n",
       "4000003                             134                             2136   \n",
       "4000004                             108                             3589   \n",
       "\n",
       "         Hillshade_9am  Hillshade_Noon  Hillshade_3pm  \\\n",
       "Id                                                      \n",
       "4000000            218             213            195   \n",
       "4000001            219             238            148   \n",
       "4000002            202             217            163   \n",
       "4000003            234             240            142   \n",
       "4000004            213             221            229   \n",
       "\n",
       "         Horizontal_Distance_To_Fire_Points  ...  Soil_Type31  Soil_Type32  \\\n",
       "Id                                           ...                             \n",
       "4000000                                1931  ...            0            0   \n",
       "4000001                                2557  ...            0            0   \n",
       "4000002                                1803  ...            0            0   \n",
       "4000003                                 857  ...            0            0   \n",
       "4000004                                 431  ...            0            0   \n",
       "\n",
       "         Soil_Type33  Soil_Type34  Soil_Type35  Soil_Type36  Soil_Type37  \\\n",
       "Id                                                                         \n",
       "4000000            0            0            0            0            0   \n",
       "4000001            0            0            0            0            0   \n",
       "4000002            1            0            0            0            0   \n",
       "4000003            0            0            0            0            0   \n",
       "4000004            0            0            0            0            0   \n",
       "\n",
       "         Soil_Type38  Soil_Type39  Soil_Type40  \n",
       "Id                                              \n",
       "4000000            0            0            0  \n",
       "4000001            0            0            0  \n",
       "4000002            0            0            0  \n",
       "4000003            0            0            0  \n",
       "4000004            0            0            0  \n",
       "\n",
       "[5 rows x 54 columns]"
      ]
     },
     "execution_count": 14,
     "metadata": {},
     "output_type": "execute_result"
    }
   ],
   "source": [
    "dataTest = pd.read_csv(EVALUATION_DATA, index_col = 0)\n",
    "dataTest = limitNumeric(dataTest)\n",
    "\n",
    "dataTest.head() # FutureWarning Ignored https://stackoverflow.com/a/46721064/6623589"
   ]
  },
  {
   "cell_type": "markdown",
   "metadata": {},
   "source": [
    "## Feature Engineering\n",
    "\n",
    "<p align = \"justify\">\"<i>Feature engineering is the process of using domain knowledge to extract features (characteristics, properties, attributes) from raw data. Feature engineering has been employed in Kaggle competitions and machine learning projects.</i>\" In the following dataset, the following feature-engineering strategies are identified and applied. These are compiled into a function named <b><code>featureEngineering</code></b> and thus, the same types of engineering has been done in both training and testing dataset.</p>\n",
    "\n",
    "### #1 Determining Distance of Water-Body\n",
    "\n",
    "<p align = \"justify\">The dataset is based of the original dataset <a href = \"https://www.kaggle.com/c/forest-cover-type-prediction/data\">Forest Cover Type Prediction</a> which lists out the details of the column names. Interestingly, the data provides horizontal as well as vertical distance to its nearest water surface - which can be used to measure the actual distance of the water body from the <i>forest</i> considering it at the origin. Euclidean Distance metric is used, and can be defined as follows (for this setup):</p>\n",
    "\n",
    "$$\n",
    "d = \\sqrt{h_d^2 + v_d^2}\n",
    "$$\n",
    "\n",
    "where, $h_d$ is the horizontal distance, $v_d$ is the vertical distance, and the forest is located at origin $O_{(0, 0)}$.\n",
    "\n",
    "### #2 Additional Parameters\n",
    "\n",
    "<p align = \"justify\">As suggested by Craig Thomas in his <a href = \"https://www.kaggle.com/c/tabular-playground-series-dec-2021/discussion/292823\">discussion</a> additional features are included into the training and testing data - <code>soil_type_count</code> and <code>wilderness_area_count</code>.</p>"
   ]
  },
  {
   "cell_type": "code",
   "execution_count": 15,
   "metadata": {
    "ExecuteTime": {
     "end_time": "2021-12-16T12:35:41.755885Z",
     "start_time": "2021-12-16T12:35:41.741797Z"
    }
   },
   "outputs": [],
   "source": [
    "soilTypes = {\n",
    "    1   : \"Cathedral family - Rock outcrop complex, extremely stony.\",\n",
    "    2   : \"Vanet - Ratake families complex, very stony.\",\n",
    "    3   : \"Haploborolis - Rock outcrop complex, rubbly.\",\n",
    "    4   : \"Ratake family - Rock outcrop complex, rubbly.\",\n",
    "    5   : \"Vanet family - Rock outcrop complex complex, rubbly.\",\n",
    "    6   : \"Vanet - Wetmore families - Rock outcrop complex, stony.\",\n",
    "    7   : \"Gothic family.\",\n",
    "    8   : \"Supervisor - Limber families complex.\",\n",
    "    9   : \"Troutville family, very stony.\",\n",
    "    10  : \"Bullwark - Catamount families - Rock outcrop complex, rubbly.\",\n",
    "    11  : \"Bullwark - Catamount families - Rock land complex, rubbly.\",\n",
    "    12  : \"Legault family - Rock land complex, stony.\",\n",
    "    13  : \"Catamount family - Rock land - Bullwark family complex, rubbly.\",\n",
    "    14  : \"Pachic Argiborolis - Aquolis complex.\",\n",
    "    15  : \"unspecified in the USFS Soil and ELU Survey.\",\n",
    "    16  : \"Cryaquolis - Cryoborolis complex.\",\n",
    "    17  : \"Gateview family - Cryaquolis complex.\",\n",
    "    18  : \"Rogert family, very stony.\",\n",
    "    19  : \"Typic Cryaquolis - Borohemists complex.\",\n",
    "    20  : \"Typic Cryaquepts - Typic Cryaquolls complex.\",\n",
    "    21  : \"Typic Cryaquolls - Leighcan family, till substratum complex.\",\n",
    "    22  : \"Leighcan family, till substratum, extremely bouldery.\",\n",
    "    23  : \"Leighcan family, till substratum - Typic Cryaquolls complex.\",\n",
    "    24  : \"Leighcan family, extremely stony.\",\n",
    "    25  : \"Leighcan family, warm, extremely stony.\",\n",
    "    26  : \"Granile - Catamount families complex, very stony.\",\n",
    "    27  : \"Leighcan family, warm - Rock outcrop complex, extremely stony.\",\n",
    "    28  : \"Leighcan family - Rock outcrop complex, extremely stony.\",\n",
    "    29  : \"Como - Legault families complex, extremely stony.\",\n",
    "    30  : \"Como family - Rock land - Legault family complex, extremely stony.\",\n",
    "    31  : \"Leighcan - Catamount families complex, extremely stony.\",\n",
    "    32  : \"Catamount family - Rock outcrop - Leighcan family complex, extremely stony.\",\n",
    "    33  : \"Leighcan - Catamount families - Rock outcrop complex, extremely stony.\",\n",
    "    34  : \"Cryorthents - Rock land complex, extremely stony.\",\n",
    "    35  : \"Cryumbrepts - Rock outcrop - Cryaquepts complex.\",\n",
    "    36  : \"Bross family - Rock land - Cryumbrepts complex, extremely stony.\",\n",
    "    37  : \"Rock outcrop - Cryumbrepts - Cryorthents complex, extremely stony.\",\n",
    "    38  : \"Leighcan - Moran families - Cryaquolls complex, extremely stony.\",\n",
    "    39  : \"Moran family - Cryorthents - Leighcan family complex, extremely stony.\",\n",
    "    40  : \"Moran family - Cryorthents - Rock land complex, extremely stony.\"\n",
    "}"
   ]
  },
  {
   "cell_type": "code",
   "execution_count": 16,
   "metadata": {
    "ExecuteTime": {
     "end_time": "2021-12-16T12:35:41.770929Z",
     "start_time": "2021-12-16T12:35:41.756887Z"
    }
   },
   "outputs": [],
   "source": [
    "rubblyStonyCats = [f\"Soil_Type{k}\" for k, v in soilTypes.items() if \"rubbly\" in v.lower()]\n",
    "\n",
    "veryStonyCats = [f\"Soil_Type{k}\" for k, v in soilTypes.items() if \"very stony\" in v.lower()]\n",
    "extremelyStonyCats = [f\"Soil_Type{k}\" for k, v in soilTypes.items() if \"extremely stony\" in v.lower()]"
   ]
  },
  {
   "cell_type": "code",
   "execution_count": 17,
   "metadata": {
    "ExecuteTime": {
     "end_time": "2021-12-16T12:35:41.786930Z",
     "start_time": "2021-12-16T12:35:41.774928Z"
    }
   },
   "outputs": [],
   "source": [
    "# Calculate the Euclidean Distance - adheres to #1 of Feature-Engineering\n",
    "distance = lambda xVals, yVals : np.array((xVals ** 2 + yVals ** 2) ** 0.5, dtype = np.float64)\n",
    "\n",
    "def featureEngineering(frame : pd.DataFrame) -> pd.DataFrame:\n",
    "    \"\"\"Apply Feature Engineering on the Given DataFrame\"\"\"\n",
    "    \n",
    "    frame = deepcopy(frame) # keeps the original data intact - useful in quick analysis\n",
    "    \n",
    "    # calculate resource distances\n",
    "    frame[\"distanceHydro\"] = distance(frame[\"Horizontal_Distance_To_Hydrology\"].values, frame[\"Vertical_Distance_To_Hydrology\"].values)\n",
    "    frame[\"distanceRoads\"] = distance(frame[\"Elevation\"].values, frame[\"Horizontal_Distance_To_Roadways\"].values)\n",
    "    frame[\"distanceFires\"] = distance(frame[\"Elevation\"].values, frame[\"Horizontal_Distance_To_Fire_Points\"].values)\n",
    "    \n",
    "    # calculate different soil type and wilderness type count\n",
    "    frame[\"soil_type_count_r\"] = frame[rubblyStonyCats].sum(axis = 1)\n",
    "    frame[\"soil_type_count_vs\"] = frame[veryStonyCats].sum(axis = 1)\n",
    "    frame[\"soil_type_count_es\"] = frame[extremelyStonyCats].sum(axis = 1)\n",
    "    frame[\"soil_type_count_s\"] = frame[[\"soil_type_count_vs\", \"soil_type_count_es\"]].sum(axis = 1)\n",
    "    frame[\"soil_type_count_total\"] = frame[[x for x in frame.columns if x.startswith(\"Soil_Type\")]].sum(axis = 1)\n",
    "    frame[\"wilderness_area_count\"] = frame[[x for x in frame.columns if x.startswith(\"Wilderness_Area\")]].sum(axis = 1)\n",
    "    \n",
    "    return frame"
   ]
  },
  {
   "cell_type": "code",
   "execution_count": 18,
   "metadata": {
    "ExecuteTime": {
     "end_time": "2021-12-16T12:35:44.623083Z",
     "start_time": "2021-12-16T12:35:41.787931Z"
    }
   },
   "outputs": [],
   "source": [
    "dataTrain = featureEngineering(dataTrain)\n",
    "dataTest = featureEngineering(dataTest)"
   ]
  },
  {
   "cell_type": "markdown",
   "metadata": {},
   "source": [
    "### #3 Highly Imbalanced Data\n",
    "\n",
    "**`Cover_Type`** for each of the class is highly imbalanced, infact `value_counts` reveals:\n",
    "\n",
    "```python\n",
    "2    2262087\n",
    "1    1468136\n",
    "3     195712\n",
    "7      62261\n",
    "6      11426\n",
    "4        377\n",
    "5          1\n",
    "Name: Cover_Type, dtype: int64\n",
    "```\n",
    "\n",
    "<p align = \"justify\">Referencing the work on dealing with <a href = \"https://www.kaggle.com/dpramanik/customer-churn-prediction-using-ann-and-smote\">an Imbalanced Dataset</a> that I'd earlier used in Customer Churn Prediction, he will <i>oversample</i> minority classed. In this section, a combination of two oversampling methods - namely <b>SMOTE</b> and <b>ADASYN</b> is used for classes $4, 6, 7$; and <b>SMOTE</b> is used for $1, 3$. For class $5$ it is impossible/meaningless to generate large number of synthetic samples - and thus the data is simply duplicated 100,000 times - just that the class is not neglected.</p>"
   ]
  },
  {
   "cell_type": "code",
   "execution_count": 19,
   "metadata": {
    "ExecuteTime": {
     "end_time": "2021-12-16T12:35:44.638181Z",
     "start_time": "2021-12-16T12:35:44.623083Z"
    }
   },
   "outputs": [],
   "source": [
    "smote = SMOTE(k_neighbors = 7)\n",
    "adasyn = ADASYN(n_neighbors = 7)"
   ]
  },
  {
   "cell_type": "code",
   "execution_count": 20,
   "metadata": {
    "ExecuteTime": {
     "end_time": "2021-12-16T12:35:44.890935Z",
     "start_time": "2021-12-16T12:35:44.641174Z"
    }
   },
   "outputs": [],
   "source": [
    "# bring the count upto 195712 (class-3) using ADASYN for 4,6,7\n",
    "Xy = dataTrain[\n",
    "    (dataTrain.Cover_Type == 3) |\n",
    "    (dataTrain.Cover_Type == 4) |\n",
    "    (dataTrain.Cover_Type == 6) |\n",
    "    (dataTrain.Cover_Type == 7)\n",
    "]\n",
    "\n",
    "X = Xy.drop(columns = \"Cover_Type\")\n",
    "y = Xy.Cover_Type\n",
    "\n",
    "del Xy # house-keeping"
   ]
  },
  {
   "cell_type": "code",
   "execution_count": 21,
   "metadata": {
    "ExecuteTime": {
     "end_time": "2021-12-16T12:41:23.629886Z",
     "start_time": "2021-12-16T12:35:44.893911Z"
    }
   },
   "outputs": [
    {
     "data": {
      "text/plain": [
       "6    196553\n",
       "3    195712\n",
       "7    195703\n",
       "4    195565\n",
       "Name: Cover_Type, dtype: int64"
      ]
     },
     "execution_count": 21,
     "metadata": {},
     "output_type": "execute_result"
    }
   ],
   "source": [
    "XSynth, ySynth = adasyn.fit_resample(X, y)\n",
    "ySynth.value_counts()"
   ]
  },
  {
   "cell_type": "markdown",
   "metadata": {},
   "source": [
    "<p align = \"justify\">Okay, so we now somewhat have a equal class-weitage data. Now, we can use the SMOTE algorithm to process further. <b>But,</b> the complexity of non-linear SVM is on the order $O(n^2)$ to $O(n^3)$ where $n$ is the number of samples (<a href = \"https://datascience.stackexchange.com/questions/48709/\">reference</a>). Also, the ratio of $\\frac{c_1}{c_4} = \\frac{1468136}{195743} \\approx 7.5$ and $\\frac{c_2}{c_1} = \\frac{2262087}{1468136} \\approx 1.5$. Hence, processing a data of this scale on a single time may take forever! Also, increasing the data may also reduce the accuracy of the SMOTE algorithm, and impact in model training.</p>"
   ]
  },
  {
   "cell_type": "code",
   "execution_count": 22,
   "metadata": {
    "ExecuteTime": {
     "end_time": "2021-12-16T12:41:25.756197Z",
     "start_time": "2021-12-16T12:41:23.631868Z"
    }
   },
   "outputs": [
    {
     "data": {
      "text/html": [
       "<div>\n",
       "<style scoped>\n",
       "    .dataframe tbody tr th:only-of-type {\n",
       "        vertical-align: middle;\n",
       "    }\n",
       "\n",
       "    .dataframe tbody tr th {\n",
       "        vertical-align: top;\n",
       "    }\n",
       "\n",
       "    .dataframe thead th {\n",
       "        text-align: right;\n",
       "    }\n",
       "</style>\n",
       "<table border=\"1\" class=\"dataframe\">\n",
       "  <thead>\n",
       "    <tr style=\"text-align: right;\">\n",
       "      <th></th>\n",
       "      <th>Elevation</th>\n",
       "      <th>Aspect</th>\n",
       "      <th>Slope</th>\n",
       "      <th>Horizontal_Distance_To_Hydrology</th>\n",
       "      <th>Vertical_Distance_To_Hydrology</th>\n",
       "      <th>Horizontal_Distance_To_Roadways</th>\n",
       "      <th>Hillshade_9am</th>\n",
       "      <th>Hillshade_Noon</th>\n",
       "      <th>Hillshade_3pm</th>\n",
       "      <th>Horizontal_Distance_To_Fire_Points</th>\n",
       "      <th>...</th>\n",
       "      <th>distanceHydro</th>\n",
       "      <th>distanceRoads</th>\n",
       "      <th>distanceFires</th>\n",
       "      <th>soil_type_count_r</th>\n",
       "      <th>soil_type_count_vs</th>\n",
       "      <th>soil_type_count_es</th>\n",
       "      <th>soil_type_count_s</th>\n",
       "      <th>soil_type_count_total</th>\n",
       "      <th>wilderness_area_count</th>\n",
       "      <th>Cover_Type</th>\n",
       "    </tr>\n",
       "  </thead>\n",
       "  <tbody>\n",
       "    <tr>\n",
       "      <th>1271511</th>\n",
       "      <td>3035</td>\n",
       "      <td>104</td>\n",
       "      <td>22</td>\n",
       "      <td>729</td>\n",
       "      <td>-15</td>\n",
       "      <td>2114</td>\n",
       "      <td>209</td>\n",
       "      <td>216</td>\n",
       "      <td>127</td>\n",
       "      <td>726</td>\n",
       "      <td>...</td>\n",
       "      <td>729.154305</td>\n",
       "      <td>3698.678277</td>\n",
       "      <td>3120.625098</td>\n",
       "      <td>0</td>\n",
       "      <td>0</td>\n",
       "      <td>0</td>\n",
       "      <td>0</td>\n",
       "      <td>1</td>\n",
       "      <td>1</td>\n",
       "      <td>1</td>\n",
       "    </tr>\n",
       "    <tr>\n",
       "      <th>1708899</th>\n",
       "      <td>3023</td>\n",
       "      <td>33</td>\n",
       "      <td>16</td>\n",
       "      <td>238</td>\n",
       "      <td>0</td>\n",
       "      <td>1607</td>\n",
       "      <td>241</td>\n",
       "      <td>246</td>\n",
       "      <td>118</td>\n",
       "      <td>620</td>\n",
       "      <td>...</td>\n",
       "      <td>238.000000</td>\n",
       "      <td>3423.591389</td>\n",
       "      <td>3085.924335</td>\n",
       "      <td>0</td>\n",
       "      <td>0</td>\n",
       "      <td>0</td>\n",
       "      <td>0</td>\n",
       "      <td>0</td>\n",
       "      <td>1</td>\n",
       "      <td>2</td>\n",
       "    </tr>\n",
       "    <tr>\n",
       "      <th>1892743</th>\n",
       "      <td>2967</td>\n",
       "      <td>117</td>\n",
       "      <td>15</td>\n",
       "      <td>171</td>\n",
       "      <td>30</td>\n",
       "      <td>1126</td>\n",
       "      <td>238</td>\n",
       "      <td>234</td>\n",
       "      <td>187</td>\n",
       "      <td>1447</td>\n",
       "      <td>...</td>\n",
       "      <td>173.611636</td>\n",
       "      <td>3173.478376</td>\n",
       "      <td>3301.044986</td>\n",
       "      <td>1</td>\n",
       "      <td>0</td>\n",
       "      <td>0</td>\n",
       "      <td>0</td>\n",
       "      <td>2</td>\n",
       "      <td>1</td>\n",
       "      <td>2</td>\n",
       "    </tr>\n",
       "    <tr>\n",
       "      <th>3594273</th>\n",
       "      <td>3354</td>\n",
       "      <td>148</td>\n",
       "      <td>8</td>\n",
       "      <td>1004</td>\n",
       "      <td>117</td>\n",
       "      <td>1249</td>\n",
       "      <td>206</td>\n",
       "      <td>246</td>\n",
       "      <td>41</td>\n",
       "      <td>932</td>\n",
       "      <td>...</td>\n",
       "      <td>1010.794242</td>\n",
       "      <td>3579.010617</td>\n",
       "      <td>3481.083165</td>\n",
       "      <td>0</td>\n",
       "      <td>0</td>\n",
       "      <td>0</td>\n",
       "      <td>0</td>\n",
       "      <td>0</td>\n",
       "      <td>1</td>\n",
       "      <td>1</td>\n",
       "    </tr>\n",
       "    <tr>\n",
       "      <th>3982222</th>\n",
       "      <td>2560</td>\n",
       "      <td>219</td>\n",
       "      <td>12</td>\n",
       "      <td>52</td>\n",
       "      <td>418</td>\n",
       "      <td>85</td>\n",
       "      <td>212</td>\n",
       "      <td>202</td>\n",
       "      <td>146</td>\n",
       "      <td>3955</td>\n",
       "      <td>...</td>\n",
       "      <td>421.222032</td>\n",
       "      <td>2561.410744</td>\n",
       "      <td>4711.223302</td>\n",
       "      <td>1</td>\n",
       "      <td>0</td>\n",
       "      <td>0</td>\n",
       "      <td>0</td>\n",
       "      <td>2</td>\n",
       "      <td>1</td>\n",
       "      <td>2</td>\n",
       "    </tr>\n",
       "  </tbody>\n",
       "</table>\n",
       "<p>5 rows × 64 columns</p>\n",
       "</div>"
      ],
      "text/plain": [
       "         Elevation  Aspect  Slope  Horizontal_Distance_To_Hydrology  \\\n",
       "1271511       3035     104     22                               729   \n",
       "1708899       3023      33     16                               238   \n",
       "1892743       2967     117     15                               171   \n",
       "3594273       3354     148      8                              1004   \n",
       "3982222       2560     219     12                                52   \n",
       "\n",
       "         Vertical_Distance_To_Hydrology  Horizontal_Distance_To_Roadways  \\\n",
       "1271511                             -15                             2114   \n",
       "1708899                               0                             1607   \n",
       "1892743                              30                             1126   \n",
       "3594273                             117                             1249   \n",
       "3982222                             418                               85   \n",
       "\n",
       "         Hillshade_9am  Hillshade_Noon  Hillshade_3pm  \\\n",
       "1271511            209             216            127   \n",
       "1708899            241             246            118   \n",
       "1892743            238             234            187   \n",
       "3594273            206             246             41   \n",
       "3982222            212             202            146   \n",
       "\n",
       "         Horizontal_Distance_To_Fire_Points  ...  distanceHydro  \\\n",
       "1271511                                 726  ...     729.154305   \n",
       "1708899                                 620  ...     238.000000   \n",
       "1892743                                1447  ...     173.611636   \n",
       "3594273                                 932  ...    1010.794242   \n",
       "3982222                                3955  ...     421.222032   \n",
       "\n",
       "         distanceRoads  distanceFires  soil_type_count_r  soil_type_count_vs  \\\n",
       "1271511    3698.678277    3120.625098                  0                   0   \n",
       "1708899    3423.591389    3085.924335                  0                   0   \n",
       "1892743    3173.478376    3301.044986                  1                   0   \n",
       "3594273    3579.010617    3481.083165                  0                   0   \n",
       "3982222    2561.410744    4711.223302                  1                   0   \n",
       "\n",
       "         soil_type_count_es  soil_type_count_s  soil_type_count_total  \\\n",
       "1271511                   0                  0                      1   \n",
       "1708899                   0                  0                      0   \n",
       "1892743                   0                  0                      2   \n",
       "3594273                   0                  0                      0   \n",
       "3982222                   0                  0                      2   \n",
       "\n",
       "         wilderness_area_count  Cover_Type  \n",
       "1271511                      1           1  \n",
       "1708899                      1           2  \n",
       "1892743                      1           2  \n",
       "3594273                      1           1  \n",
       "3982222                      1           2  \n",
       "\n",
       "[5 rows x 64 columns]"
      ]
     },
     "execution_count": 22,
     "metadata": {},
     "output_type": "execute_result"
    }
   ],
   "source": [
    "Xy = XSynth\n",
    "Xy[\"Cover_Type\"] = ySynth.values\n",
    "\n",
    "Xy = pd.concat([\n",
    "    Xy, dataTrain[\n",
    "        (dataTrain.Cover_Type == 1) |\n",
    "        (dataTrain.Cover_Type == 2)\n",
    "    ]\n",
    "], ignore_index = True)\n",
    "\n",
    "Xy.sample(5)"
   ]
  },
  {
   "cell_type": "code",
   "execution_count": 23,
   "metadata": {
    "ExecuteTime": {
     "end_time": "2021-12-16T12:41:27.649284Z",
     "start_time": "2021-12-16T12:41:25.757198Z"
    }
   },
   "outputs": [],
   "source": [
    "parts = pd.concat([\n",
    "    # increase the data size by approximately twice\n",
    "    Xy[Xy.Cover_Type == 1].sample(391500),\n",
    "    Xy[Xy.Cover_Type == 2].sample(391500),\n",
    "    Xy[(Xy.Cover_Type > 2) & (Xy.Cover_Type != 5)]\n",
    "])\n",
    "\n",
    "X = parts.drop(columns = \"Cover_Type\")\n",
    "y = parts.Cover_Type"
   ]
  },
  {
   "cell_type": "code",
   "execution_count": 24,
   "metadata": {
    "ExecuteTime": {
     "end_time": "2021-12-16T13:12:02.295528Z",
     "start_time": "2021-12-16T12:41:27.649284Z"
    },
    "scrolled": true
   },
   "outputs": [
    {
     "data": {
      "text/plain": [
       "7    391500\n",
       "6    391500\n",
       "4    391500\n",
       "3    391500\n",
       "2    391500\n",
       "1    391500\n",
       "Name: Cover_Type, dtype: int64"
      ]
     },
     "execution_count": 24,
     "metadata": {},
     "output_type": "execute_result"
    }
   ],
   "source": [
    "XSynth, ySynth = smote.fit_resample(X, y)\n",
    "ySynth.value_counts()"
   ]
  },
  {
   "cell_type": "code",
   "execution_count": 25,
   "metadata": {
    "ExecuteTime": {
     "end_time": "2021-12-16T13:12:04.888664Z",
     "start_time": "2021-12-16T13:12:02.297530Z"
    }
   },
   "outputs": [
    {
     "data": {
      "text/plain": [
       "2    2262087\n",
       "1    1468136\n",
       "7     391500\n",
       "6     391500\n",
       "5     391500\n",
       "4     391500\n",
       "3     391500\n",
       "Name: Cover_Type, dtype: int64"
      ]
     },
     "execution_count": 25,
     "metadata": {},
     "output_type": "execute_result"
    }
   ],
   "source": [
    "Xy = XSynth\n",
    "Xy[\"Cover_Type\"] = ySynth.values\n",
    "\n",
    "Xy = pd.concat([\n",
    "    Xy[Xy.Cover_Type > 2],\n",
    "    dataTrain[\n",
    "        (dataTrain.Cover_Type == 1) |\n",
    "        (dataTrain.Cover_Type == 2)\n",
    "    ],\n",
    "    dataTrain[dataTrain.Cover_Type == 5].sample(391500, replace = True)\n",
    "], ignore_index = True)\n",
    "\n",
    "Xy.Cover_Type.value_counts()"
   ]
  },
  {
   "cell_type": "code",
   "execution_count": 26,
   "metadata": {
    "ExecuteTime": {
     "end_time": "2021-12-16T13:12:04.965668Z",
     "start_time": "2021-12-16T13:12:04.890637Z"
    }
   },
   "outputs": [],
   "source": [
    "del XSynth, ySynth # house-keeping"
   ]
  },
  {
   "cell_type": "code",
   "execution_count": 27,
   "metadata": {
    "ExecuteTime": {
     "end_time": "2021-12-16T13:12:05.826619Z",
     "start_time": "2021-12-16T13:12:04.967688Z"
    }
   },
   "outputs": [
    {
     "data": {
      "text/html": [
       "<div>\n",
       "<style scoped>\n",
       "    .dataframe tbody tr th:only-of-type {\n",
       "        vertical-align: middle;\n",
       "    }\n",
       "\n",
       "    .dataframe tbody tr th {\n",
       "        vertical-align: top;\n",
       "    }\n",
       "\n",
       "    .dataframe thead th {\n",
       "        text-align: right;\n",
       "    }\n",
       "</style>\n",
       "<table border=\"1\" class=\"dataframe\">\n",
       "  <thead>\n",
       "    <tr style=\"text-align: right;\">\n",
       "      <th></th>\n",
       "      <th>Elevation</th>\n",
       "      <th>Aspect</th>\n",
       "      <th>Slope</th>\n",
       "      <th>Horizontal_Distance_To_Hydrology</th>\n",
       "      <th>Vertical_Distance_To_Hydrology</th>\n",
       "      <th>Horizontal_Distance_To_Roadways</th>\n",
       "      <th>Hillshade_9am</th>\n",
       "      <th>Hillshade_Noon</th>\n",
       "      <th>Hillshade_3pm</th>\n",
       "      <th>Horizontal_Distance_To_Fire_Points</th>\n",
       "      <th>...</th>\n",
       "      <th>distanceHydro</th>\n",
       "      <th>distanceRoads</th>\n",
       "      <th>distanceFires</th>\n",
       "      <th>soil_type_count_r</th>\n",
       "      <th>soil_type_count_vs</th>\n",
       "      <th>soil_type_count_es</th>\n",
       "      <th>soil_type_count_s</th>\n",
       "      <th>soil_type_count_total</th>\n",
       "      <th>wilderness_area_count</th>\n",
       "      <th>Cover_Type</th>\n",
       "    </tr>\n",
       "  </thead>\n",
       "  <tbody>\n",
       "    <tr>\n",
       "      <th>3386553</th>\n",
       "      <td>2583</td>\n",
       "      <td>201</td>\n",
       "      <td>25</td>\n",
       "      <td>403</td>\n",
       "      <td>98</td>\n",
       "      <td>1130</td>\n",
       "      <td>232</td>\n",
       "      <td>176</td>\n",
       "      <td>128</td>\n",
       "      <td>1020</td>\n",
       "      <td>...</td>\n",
       "      <td>414.744500</td>\n",
       "      <td>2819.359679</td>\n",
       "      <td>2777.100826</td>\n",
       "      <td>0</td>\n",
       "      <td>0</td>\n",
       "      <td>1</td>\n",
       "      <td>1</td>\n",
       "      <td>1</td>\n",
       "      <td>1</td>\n",
       "      <td>2</td>\n",
       "    </tr>\n",
       "    <tr>\n",
       "      <th>2126230</th>\n",
       "      <td>3351</td>\n",
       "      <td>83</td>\n",
       "      <td>8</td>\n",
       "      <td>164</td>\n",
       "      <td>1</td>\n",
       "      <td>2628</td>\n",
       "      <td>233</td>\n",
       "      <td>231</td>\n",
       "      <td>152</td>\n",
       "      <td>1193</td>\n",
       "      <td>...</td>\n",
       "      <td>164.003049</td>\n",
       "      <td>4258.589555</td>\n",
       "      <td>3557.028254</td>\n",
       "      <td>0</td>\n",
       "      <td>0</td>\n",
       "      <td>0</td>\n",
       "      <td>0</td>\n",
       "      <td>1</td>\n",
       "      <td>1</td>\n",
       "      <td>1</td>\n",
       "    </tr>\n",
       "    <tr>\n",
       "      <th>4062349</th>\n",
       "      <td>3174</td>\n",
       "      <td>119</td>\n",
       "      <td>12</td>\n",
       "      <td>695</td>\n",
       "      <td>-6</td>\n",
       "      <td>825</td>\n",
       "      <td>240</td>\n",
       "      <td>247</td>\n",
       "      <td>77</td>\n",
       "      <td>492</td>\n",
       "      <td>...</td>\n",
       "      <td>695.025899</td>\n",
       "      <td>3279.466572</td>\n",
       "      <td>3211.905976</td>\n",
       "      <td>0</td>\n",
       "      <td>0</td>\n",
       "      <td>0</td>\n",
       "      <td>0</td>\n",
       "      <td>0</td>\n",
       "      <td>1</td>\n",
       "      <td>1</td>\n",
       "    </tr>\n",
       "    <tr>\n",
       "      <th>3467675</th>\n",
       "      <td>3277</td>\n",
       "      <td>33</td>\n",
       "      <td>9</td>\n",
       "      <td>204</td>\n",
       "      <td>16</td>\n",
       "      <td>1015</td>\n",
       "      <td>200</td>\n",
       "      <td>220</td>\n",
       "      <td>82</td>\n",
       "      <td>3874</td>\n",
       "      <td>...</td>\n",
       "      <td>204.626489</td>\n",
       "      <td>3430.590911</td>\n",
       "      <td>5074.111252</td>\n",
       "      <td>0</td>\n",
       "      <td>0</td>\n",
       "      <td>0</td>\n",
       "      <td>0</td>\n",
       "      <td>1</td>\n",
       "      <td>1</td>\n",
       "      <td>1</td>\n",
       "    </tr>\n",
       "    <tr>\n",
       "      <th>753149</th>\n",
       "      <td>3102</td>\n",
       "      <td>117</td>\n",
       "      <td>10</td>\n",
       "      <td>37</td>\n",
       "      <td>8</td>\n",
       "      <td>1608</td>\n",
       "      <td>241</td>\n",
       "      <td>234</td>\n",
       "      <td>136</td>\n",
       "      <td>75</td>\n",
       "      <td>...</td>\n",
       "      <td>39.658004</td>\n",
       "      <td>3495.008849</td>\n",
       "      <td>3103.496331</td>\n",
       "      <td>0</td>\n",
       "      <td>0</td>\n",
       "      <td>1</td>\n",
       "      <td>1</td>\n",
       "      <td>1</td>\n",
       "      <td>1</td>\n",
       "      <td>7</td>\n",
       "    </tr>\n",
       "  </tbody>\n",
       "</table>\n",
       "<p>5 rows × 64 columns</p>\n",
       "</div>"
      ],
      "text/plain": [
       "         Elevation  Aspect  Slope  Horizontal_Distance_To_Hydrology  \\\n",
       "3386553       2583     201     25                               403   \n",
       "2126230       3351      83      8                               164   \n",
       "4062349       3174     119     12                               695   \n",
       "3467675       3277      33      9                               204   \n",
       "753149        3102     117     10                                37   \n",
       "\n",
       "         Vertical_Distance_To_Hydrology  Horizontal_Distance_To_Roadways  \\\n",
       "3386553                              98                             1130   \n",
       "2126230                               1                             2628   \n",
       "4062349                              -6                              825   \n",
       "3467675                              16                             1015   \n",
       "753149                                8                             1608   \n",
       "\n",
       "         Hillshade_9am  Hillshade_Noon  Hillshade_3pm  \\\n",
       "3386553            232             176            128   \n",
       "2126230            233             231            152   \n",
       "4062349            240             247             77   \n",
       "3467675            200             220             82   \n",
       "753149             241             234            136   \n",
       "\n",
       "         Horizontal_Distance_To_Fire_Points  ...  distanceHydro  \\\n",
       "3386553                                1020  ...     414.744500   \n",
       "2126230                                1193  ...     164.003049   \n",
       "4062349                                 492  ...     695.025899   \n",
       "3467675                                3874  ...     204.626489   \n",
       "753149                                   75  ...      39.658004   \n",
       "\n",
       "         distanceRoads  distanceFires  soil_type_count_r  soil_type_count_vs  \\\n",
       "3386553    2819.359679    2777.100826                  0                   0   \n",
       "2126230    4258.589555    3557.028254                  0                   0   \n",
       "4062349    3279.466572    3211.905976                  0                   0   \n",
       "3467675    3430.590911    5074.111252                  0                   0   \n",
       "753149     3495.008849    3103.496331                  0                   0   \n",
       "\n",
       "         soil_type_count_es  soil_type_count_s  soil_type_count_total  \\\n",
       "3386553                   1                  1                      1   \n",
       "2126230                   0                  0                      1   \n",
       "4062349                   0                  0                      0   \n",
       "3467675                   0                  0                      1   \n",
       "753149                    1                  1                      1   \n",
       "\n",
       "         wilderness_area_count  Cover_Type  \n",
       "3386553                      1           2  \n",
       "2126230                      1           1  \n",
       "4062349                      1           1  \n",
       "3467675                      1           1  \n",
       "753149                       1           7  \n",
       "\n",
       "[5 rows x 64 columns]"
      ]
     },
     "execution_count": 27,
     "metadata": {},
     "output_type": "execute_result"
    }
   ],
   "source": [
    "Xy.sample(5)"
   ]
  },
  {
   "cell_type": "code",
   "execution_count": 56,
   "metadata": {
    "ExecuteTime": {
     "end_time": "2021-12-16T17:40:50.912987Z",
     "start_time": "2021-12-16T17:40:38.322112Z"
    }
   },
   "outputs": [
    {
     "name": "stdout",
     "output_type": "stream",
     "text": [
      "1 (1468136, 64)\n",
      "2 (2262087, 64)\n",
      "3 (391500, 64)\n",
      "4 (391499, 64)\n",
      "5 (1, 64)\n",
      "6 (391500, 64)\n",
      "7 (391489, 64)\n"
     ]
    }
   ],
   "source": [
    "for i in range(1, 8):\n",
    "    print(i, Xy[Xy.Cover_Type == i].drop_duplicates().shape)"
   ]
  },
  {
   "cell_type": "code",
   "execution_count": 48,
   "metadata": {
    "ExecuteTime": {
     "end_time": "2021-12-16T17:24:58.461550Z",
     "start_time": "2021-12-16T17:20:49.076759Z"
    }
   },
   "outputs": [],
   "source": [
    "Xy.to_csv(join(\".\", \"output\", \"train-100.csv\"), index = False)\n",
    "dataTest.to_csv(join(\".\", \"output\", \"test-100.csv\"), index = False)"
   ]
  },
  {
   "cell_type": "markdown",
   "metadata": {},
   "source": [
    "### Data Scaling\n",
    "\n",
    "<p align = \"justify\">Considering numerical data, a good machine learning model performs and predicts well when the data is scaled. For this, will be using <a href = \"https://scikit-learn.org/stable/modules/generated/sklearn.preprocessing.MinMaxScaler.html\"><code>MinMaxScaler</code></a> for all feature columns, and <a href = \"https://scikit-learn.org/stable/modules/generated/sklearn.preprocessing.LabelEncoder.html\"><code>LabelEncoder</code></a> for <code>Coverage_Type</code>.</p>"
   ]
  },
  {
   "cell_type": "code",
   "execution_count": 29,
   "metadata": {
    "ExecuteTime": {
     "end_time": "2021-12-16T13:12:06.414901Z",
     "start_time": "2021-12-16T13:12:05.844615Z"
    }
   },
   "outputs": [],
   "source": [
    "X = Xy.drop(columns = \"Cover_Type\")\n",
    "y = Xy.Cover_Type"
   ]
  },
  {
   "cell_type": "code",
   "execution_count": 30,
   "metadata": {
    "ExecuteTime": {
     "end_time": "2021-12-16T13:12:06.430418Z",
     "start_time": "2021-12-16T13:12:06.414901Z"
    }
   },
   "outputs": [],
   "source": [
    "scaler = MinMaxScaler()\n",
    "encoder = LabelEncoder()"
   ]
  },
  {
   "cell_type": "code",
   "execution_count": 31,
   "metadata": {
    "ExecuteTime": {
     "end_time": "2021-12-16T13:12:10.496984Z",
     "start_time": "2021-12-16T13:12:06.432434Z"
    }
   },
   "outputs": [],
   "source": [
    "XScaled = scaler.fit_transform(X)\n",
    "yScaled = encoder.fit_transform(y)"
   ]
  },
  {
   "cell_type": "markdown",
   "metadata": {},
   "source": [
    "## Creating Model"
   ]
  },
  {
   "cell_type": "code",
   "execution_count": 32,
   "metadata": {
    "ExecuteTime": {
     "end_time": "2021-12-16T13:12:10.512348Z",
     "start_time": "2021-12-16T13:12:10.496984Z"
    }
   },
   "outputs": [
    {
     "data": {
      "text/plain": [
       "(63, 7)"
      ]
     },
     "execution_count": 32,
     "metadata": {},
     "output_type": "execute_result"
    }
   ],
   "source": [
    "INPUT_SHAPE = XScaled.shape[1]\n",
    "OUTPUT_SHAPE = encoder.classes_.shape[0]\n",
    "\n",
    "INPUT_SHAPE, OUTPUT_SHAPE"
   ]
  },
  {
   "cell_type": "code",
   "execution_count": 41,
   "metadata": {
    "ExecuteTime": {
     "end_time": "2021-12-16T15:50:59.716644Z",
     "start_time": "2021-12-16T15:50:59.488470Z"
    }
   },
   "outputs": [
    {
     "name": "stdout",
     "output_type": "stream",
     "text": [
      "Model: \"DFC-1.1.0\"\n",
      "_______________________________________________________________________________________________________________________________\n",
      "Layer (type)                                             Output Shape                                      Param #             \n",
      "===============================================================================================================================\n",
      "iLayer (Dense)                                           (None, 64)                                        4096                \n",
      "_______________________________________________________________________________________________________________________________\n",
      "dropout_3 (Dropout)                                      (None, 64)                                        0                   \n",
      "_______________________________________________________________________________________________________________________________\n",
      "dense_3 (Dense)                                          (None, 128)                                       8320                \n",
      "_______________________________________________________________________________________________________________________________\n",
      "dropout_4 (Dropout)                                      (None, 128)                                       0                   \n",
      "_______________________________________________________________________________________________________________________________\n",
      "dense_4 (Dense)                                          (None, 256)                                       33024               \n",
      "_______________________________________________________________________________________________________________________________\n",
      "dropout_5 (Dropout)                                      (None, 256)                                       0                   \n",
      "_______________________________________________________________________________________________________________________________\n",
      "dense_5 (Dense)                                          (None, 256)                                       65792               \n",
      "_______________________________________________________________________________________________________________________________\n",
      "dropout_6 (Dropout)                                      (None, 256)                                       0                   \n",
      "_______________________________________________________________________________________________________________________________\n",
      "dense_6 (Dense)                                          (None, 128)                                       32896               \n",
      "_______________________________________________________________________________________________________________________________\n",
      "dropout_7 (Dropout)                                      (None, 128)                                       0                   \n",
      "_______________________________________________________________________________________________________________________________\n",
      "dense_7 (Dense)                                          (None, 64)                                        8256                \n",
      "_______________________________________________________________________________________________________________________________\n",
      "batch_normalization_1 (BatchNormalization)               (None, 64)                                        256                 \n",
      "_______________________________________________________________________________________________________________________________\n",
      "oLayer (Dense)                                           (None, 7)                                         455                 \n",
      "===============================================================================================================================\n",
      "Total params: 153,095\n",
      "Trainable params: 152,967\n",
      "Non-trainable params: 128\n",
      "_______________________________________________________________________________________________________________________________\n"
     ]
    }
   ],
   "source": [
    "model = tf.keras.Sequential([\n",
    "    tf.keras.layers.Dense(64, input_shape = (INPUT_SHAPE, ), activation = \"relu\", name = \"iLayer\"),\n",
    "    tf.keras.layers.Dropout(0.2),\n",
    "    tf.keras.layers.Dense(128, activation = \"relu\"),\n",
    "    tf.keras.layers.Dropout(0.2),\n",
    "    tf.keras.layers.Dense(256, activation = \"relu\"),\n",
    "    tf.keras.layers.Dropout(0.2),\n",
    "    tf.keras.layers.Dense(64, activation = \"relu\"),\n",
    "    tf.keras.layers.BatchNormalization(),\n",
    "    tf.keras.layers.Dense(OUTPUT_SHAPE, activation = \"softmax\", name = \"oLayer\"),\n",
    "], name = \"DFC-1.0.0\")\n",
    "\n",
    "model.summary(line_length = 127)"
   ]
  },
  {
   "cell_type": "code",
   "execution_count": 42,
   "metadata": {
    "ExecuteTime": {
     "end_time": "2021-12-16T15:51:06.580148Z",
     "start_time": "2021-12-16T15:51:06.554374Z"
    }
   },
   "outputs": [],
   "source": [
    "model.compile(\n",
    "    optimizer = \"adam\",\n",
    "    loss = tf.keras.losses.SparseCategoricalCrossentropy(from_logits = True),\n",
    "    metrics = [tf.keras.metrics.SparseCategoricalAccuracy()]\n",
    ")"
   ]
  },
  {
   "cell_type": "code",
   "execution_count": 43,
   "metadata": {
    "ExecuteTime": {
     "end_time": "2021-12-16T16:08:50.737098Z",
     "start_time": "2021-12-16T15:52:43.371207Z"
    }
   },
   "outputs": [
    {
     "name": "stdout",
     "output_type": "stream",
     "text": [
      "Epoch 1/10\n",
      "44436/44436 [==============================] - 91s 2ms/step - loss: 1.2685 - sparse_categorical_accuracy: 0.8965\n",
      "Epoch 2/10\n",
      "44436/44436 [==============================] - 94s 2ms/step - loss: 1.2421 - sparse_categorical_accuracy: 0.9230\n",
      "Epoch 3/10\n",
      "44436/44436 [==============================] - 95s 2ms/step - loss: 1.2371 - sparse_categorical_accuracy: 0.9279\n",
      "Epoch 4/10\n",
      "44436/44436 [==============================] - 95s 2ms/step - loss: 1.2346 - sparse_categorical_accuracy: 0.9305\n",
      "Epoch 5/10\n",
      "44436/44436 [==============================] - 96s 2ms/step - loss: 1.2322 - sparse_categorical_accuracy: 0.9329\n",
      "Epoch 6/10\n",
      "44436/44436 [==============================] - 96s 2ms/step - loss: 1.2307 - sparse_categorical_accuracy: 0.9343\n",
      "Epoch 7/10\n",
      "44436/44436 [==============================] - 95s 2ms/step - loss: 1.2292 - sparse_categorical_accuracy: 0.9359\n",
      "Epoch 8/10\n",
      "44436/44436 [==============================] - 102s 2ms/step - loss: 1.2282 - sparse_categorical_accuracy: 0.9369\n",
      "Epoch 9/10\n",
      "44436/44436 [==============================] - 98s 2ms/step - loss: 1.2271 - sparse_categorical_accuracy: 0.9380\n",
      "Epoch 10/10\n",
      "44436/44436 [==============================] - 97s 2ms/step - loss: 1.2267 - sparse_categorical_accuracy: 0.9384\n"
     ]
    },
    {
     "data": {
      "text/plain": [
       "<tensorflow.python.keras.callbacks.History at 0x1b4bdea8a90>"
      ]
     },
     "execution_count": 43,
     "metadata": {},
     "output_type": "execute_result"
    }
   ],
   "source": [
    "model.fit(XScaled, yScaled, epochs = 10, batch_size = 128)"
   ]
  },
  {
   "cell_type": "code",
   "execution_count": 36,
   "metadata": {
    "ExecuteTime": {
     "end_time": "2021-12-16T13:16:19.968943Z",
     "start_time": "2021-12-16T13:16:19.378571Z"
    }
   },
   "outputs": [],
   "source": [
    "testScaled = scaler.transform(dataTest)"
   ]
  },
  {
   "cell_type": "code",
   "execution_count": 37,
   "metadata": {
    "ExecuteTime": {
     "end_time": "2021-12-16T13:16:36.628270Z",
     "start_time": "2021-12-16T13:16:19.968943Z"
    }
   },
   "outputs": [],
   "source": [
    "yPredicted = model.predict(testScaled)"
   ]
  },
  {
   "cell_type": "code",
   "execution_count": 38,
   "metadata": {
    "ExecuteTime": {
     "end_time": "2021-12-16T13:16:38.640393Z",
     "start_time": "2021-12-16T13:16:36.628270Z"
    }
   },
   "outputs": [],
   "source": [
    "# considering argmax\n",
    "yPredictedMax = [np.argmax(i) + 1 for i in yPredicted]"
   ]
  },
  {
   "cell_type": "code",
   "execution_count": 39,
   "metadata": {
    "ExecuteTime": {
     "end_time": "2021-12-16T13:16:38.859369Z",
     "start_time": "2021-12-16T13:16:38.642419Z"
    }
   },
   "outputs": [
    {
     "data": {
      "text/html": [
       "<div>\n",
       "<style scoped>\n",
       "    .dataframe tbody tr th:only-of-type {\n",
       "        vertical-align: middle;\n",
       "    }\n",
       "\n",
       "    .dataframe tbody tr th {\n",
       "        vertical-align: top;\n",
       "    }\n",
       "\n",
       "    .dataframe thead th {\n",
       "        text-align: right;\n",
       "    }\n",
       "</style>\n",
       "<table border=\"1\" class=\"dataframe\">\n",
       "  <thead>\n",
       "    <tr style=\"text-align: right;\">\n",
       "      <th></th>\n",
       "      <th>Id</th>\n",
       "      <th>Cover_Type</th>\n",
       "    </tr>\n",
       "  </thead>\n",
       "  <tbody>\n",
       "    <tr>\n",
       "      <th>326846</th>\n",
       "      <td>4326846</td>\n",
       "      <td>3</td>\n",
       "    </tr>\n",
       "    <tr>\n",
       "      <th>242605</th>\n",
       "      <td>4242605</td>\n",
       "      <td>2</td>\n",
       "    </tr>\n",
       "    <tr>\n",
       "      <th>988681</th>\n",
       "      <td>4988681</td>\n",
       "      <td>1</td>\n",
       "    </tr>\n",
       "    <tr>\n",
       "      <th>466158</th>\n",
       "      <td>4466158</td>\n",
       "      <td>3</td>\n",
       "    </tr>\n",
       "    <tr>\n",
       "      <th>120872</th>\n",
       "      <td>4120872</td>\n",
       "      <td>1</td>\n",
       "    </tr>\n",
       "  </tbody>\n",
       "</table>\n",
       "</div>"
      ],
      "text/plain": [
       "             Id  Cover_Type\n",
       "326846  4326846           3\n",
       "242605  4242605           2\n",
       "988681  4988681           1\n",
       "466158  4466158           3\n",
       "120872  4120872           1"
      ]
     },
     "execution_count": 39,
     "metadata": {},
     "output_type": "execute_result"
    }
   ],
   "source": [
    "# DFC-1.0.0\n",
    "output = pd.DataFrame({\n",
    "    \"Id\" : dataTest.index.values,\n",
    "    \"Cover_Type\" : yPredictedMax\n",
    "})\n",
    "\n",
    "output.sample(5)"
   ]
  },
  {
   "cell_type": "code",
   "execution_count": 40,
   "metadata": {
    "ExecuteTime": {
     "end_time": "2021-12-16T13:16:39.811727Z",
     "start_time": "2021-12-16T13:16:38.860367Z"
    }
   },
   "outputs": [],
   "source": [
    "output.to_csv(\"dfc100-2.csv\", index = False)"
   ]
  }
 ],
 "metadata": {
  "kernelspec": {
   "display_name": "TensorFlow-2.6.0 (GPU)",
   "language": "python",
   "name": "tensorflow"
  },
  "language_info": {
   "codemirror_mode": {
    "name": "ipython",
    "version": 3
   },
   "file_extension": ".py",
   "mimetype": "text/x-python",
   "name": "python",
   "nbconvert_exporter": "python",
   "pygments_lexer": "ipython3",
   "version": "3.9.12"
  },
  "latex_envs": {
   "LaTeX_envs_menu_present": true,
   "autoclose": false,
   "autocomplete": true,
   "bibliofile": "biblio.bib",
   "cite_by": "apalike",
   "current_citInitial": 1,
   "eqLabelWithNumbers": true,
   "eqNumInitial": 1,
   "hotkeys": {
    "equation": "Ctrl-E",
    "itemize": "Ctrl-I"
   },
   "labels_anchors": false,
   "latex_user_defs": false,
   "report_style_numbering": false,
   "user_envs_cfg": false
  },
  "toc": {
   "base_numbering": 1,
   "nav_menu": {},
   "number_sections": false,
   "sideBar": true,
   "skip_h1_title": true,
   "title_cell": "Table of Contents",
   "title_sidebar": "Contents",
   "toc_cell": false,
   "toc_position": {},
   "toc_section_display": true,
   "toc_window_display": false
  },
  "varInspector": {
   "cols": {
    "lenName": 16,
    "lenType": 16,
    "lenVar": 40
   },
   "kernels_config": {
    "python": {
     "delete_cmd_postfix": "",
     "delete_cmd_prefix": "del ",
     "library": "var_list.py",
     "varRefreshCmd": "print(var_dic_list())"
    },
    "r": {
     "delete_cmd_postfix": ") ",
     "delete_cmd_prefix": "rm(",
     "library": "var_list.r",
     "varRefreshCmd": "cat(var_dic_list()) "
    }
   },
   "types_to_exclude": [
    "module",
    "function",
    "builtin_function_or_method",
    "instance",
    "_Feature"
   ],
   "window_display": false
  }
 },
 "nbformat": 4,
 "nbformat_minor": 4
}
