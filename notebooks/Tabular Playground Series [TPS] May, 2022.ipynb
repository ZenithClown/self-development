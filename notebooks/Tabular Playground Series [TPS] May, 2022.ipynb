{
 "cells": [
  {
   "cell_type": "markdown",
   "metadata": {},
   "source": [
    "<h1 align = \"center\">TPS May 2022</h1>\n",
    "\n",
    "---\n",
    "\n",
    "\n",
    "**Objective:** The May edition of the 2022 Tabular Playground series binary classification problem that includes a number of different feature interactions. This competition is an opportunity to explore various methods for identifying and exploiting these feature interactions ([competition](https://www.kaggle.com/competitions/tabular-playground-series-may-2022/overview)). This notebook serves to provide codes that I've used for solving TPS May 2022. My initial plan is to use a powerful *neural network* to do a binary classification for *predicting states of manufacturing control data*."
   ]
  },
  {
   "cell_type": "markdown",
   "metadata": {},
   "source": [
    "## Code Imports\n",
    "\n",
    "**PEP8 Style Guide** lists out the following [*guidelines*](https://peps.python.org/pep-0008/#imports) for imports:\n",
    " 1. Imports should be on separate lines,\n",
    " 2. Import order should be:\n",
    "    * standard library/modules,\n",
    "    * related third party imports,\n",
    "    * local application/user defined imports\n",
    " 3. Wildcard import (`*`) should be avoided, else specifically tagged with **`# noqa: F403`** as per `flake8` [(ignoring errors)](https://flake8.pycqa.org/en/3.1.1/user/ignoring-errors.html).\n",
    " 4. Avoid using relative imports; use explicit imports instead."
   ]
  },
  {
   "cell_type": "code",
   "execution_count": 1,
   "metadata": {
    "ExecuteTime": {
     "end_time": "2022-05-26T03:59:29.783507Z",
     "start_time": "2022-05-26T03:59:29.767061Z"
    }
   },
   "outputs": [],
   "source": [
    "import sys # append additional directories to list\n",
    "import warnings # display specified user warnings as required"
   ]
  },
  {
   "cell_type": "code",
   "execution_count": 2,
   "metadata": {
    "ExecuteTime": {
     "end_time": "2022-05-26T03:59:30.196617Z",
     "start_time": "2022-05-26T03:59:30.190862Z"
    }
   },
   "outputs": [],
   "source": [
    "from os import walk # get list of files in a directory and subdirectory\n",
    "from time import time # get the epoch time, helpful in saving files\n",
    "from time import ctime # print computer time in human redable format\n",
    "from os import makedirs # create directories dynamically\n",
    "from os.path import join # joins mutiple path without os dependency\n",
    "# from copy import deepcopy # make an actual copy of immutable objects like `str`\n",
    "# from tqdm import tqdm as TQ # for displaying a nice progress bar while running\n",
    "# from uuid import uuid1 as UUID # for generating unique identifier\n",
    "from datetime import datetime as dt # formatting/defining datetime objects"
   ]
  },
  {
   "cell_type": "code",
   "execution_count": 3,
   "metadata": {
    "ExecuteTime": {
     "end_time": "2022-05-26T03:59:30.664865Z",
     "start_time": "2022-05-26T03:59:30.640863Z"
    }
   },
   "outputs": [],
   "source": [
    "from typing import Iterable"
   ]
  },
  {
   "cell_type": "markdown",
   "metadata": {},
   "source": [
    "[**`logging`**](https://docs.python.org/3/howto/logging.html) is a standard python module that is meant for tracking any events that happen during any software/code operations. This module is super powerful and helpful for code debugging and other purposes. The next section defines a `logging` configuration in **`../logs/`** directory. Modify the **`LOGS_DIR`** variable under *Global Arguments* to change the default directory. The module is configured with a simplistic approach, such that any `print())` statement can be update to `logging.LEVEL_NAME()` and the code will work. Use logging operations like:\n",
    "\n",
    "```python\n",
    " >> logging.debug(\"This is a Debug Message.\")\n",
    " >> logging.info(\"This is a Information Message.\")\n",
    " >> logging.warning(\"This is a Warning Message.\")\n",
    " >> logging.error(\"This is a ERROR Message.\")\n",
    " >> logging.critical(\"This is a CRITICAL Message.\")\n",
    "```\n",
    "\n",
    "Note: some directories related to logging is created by default. This can be updated/changed in the following configuration section."
   ]
  },
  {
   "cell_type": "code",
   "execution_count": 4,
   "metadata": {
    "ExecuteTime": {
     "end_time": "2022-05-26T03:59:31.765058Z",
     "start_time": "2022-05-26T03:59:31.747082Z"
    }
   },
   "outputs": [],
   "source": [
    "import logging # configure logging on `global arguments` section, as file path is required"
   ]
  },
  {
   "cell_type": "markdown",
   "metadata": {},
   "source": [
    "### Data Frame, NumPy and Visualization Libraries\n",
    "\n",
    "Daily use libraries like `pandas`, `numpy` is available for import along with *display* settings in a python notebook. Generally, I prefer to use `matplotlib` and `seaborn` which is imported below with certain configurations as mentioned. Stylesheet is available [here](https://gitlab.com/ZenithClown/computer-configurations-and-setups/-/blob/master/default-style.mplstyle)."
   ]
  },
  {
   "cell_type": "code",
   "execution_count": 5,
   "metadata": {
    "ExecuteTime": {
     "end_time": "2022-05-26T03:59:34.913930Z",
     "start_time": "2022-05-26T03:59:32.804283Z"
    }
   },
   "outputs": [],
   "source": [
    "import numpy as np\n",
    "import pandas as pd\n",
    "import seaborn as sns\n",
    "import matplotlib.pyplot as plt\n",
    "\n",
    "%precision 3\n",
    "%matplotlib inline\n",
    "sns.set_style('whitegrid');\n",
    "plt.style.use('default-style');\n",
    "pd.set_option('display.max_rows', 50)\n",
    "pd.set_option('display.max_columns', 35)\n",
    "np.set_printoptions(precision = 3, threshold = 15)\n",
    "pd.options.display.float_format = '{:,.2f}'.format"
   ]
  },
  {
   "cell_type": "markdown",
   "metadata": {},
   "source": [
    "### Machine Learning Libraries\n",
    "\n",
    "Uncomment and import any of the `sklearn` libraries below. In addition, boilerplate for importing `tensorflow` is also provided."
   ]
  },
  {
   "cell_type": "code",
   "execution_count": 6,
   "metadata": {
    "ExecuteTime": {
     "end_time": "2022-05-26T03:59:36.051403Z",
     "start_time": "2022-05-26T03:59:34.949270Z"
    }
   },
   "outputs": [],
   "source": [
    "import optuna"
   ]
  },
  {
   "cell_type": "code",
   "execution_count": 7,
   "metadata": {
    "ExecuteTime": {
     "end_time": "2022-05-26T03:59:36.099324Z",
     "start_time": "2022-05-26T03:59:36.078766Z"
    }
   },
   "outputs": [],
   "source": [
    "from sklearn.linear_model import LinearRegression # for developing base model\n",
    "from sklearn.model_selection import train_test_split\n",
    "from sklearn.preprocessing import LabelEncoder, StandardScaler\n",
    "from sklearn.metrics import roc_auc_score, mean_squared_error, confusion_matrix, ConfusionMatrixDisplay"
   ]
  },
  {
   "cell_type": "code",
   "execution_count": 8,
   "metadata": {
    "ExecuteTime": {
     "end_time": "2022-05-26T03:59:36.873436Z",
     "start_time": "2022-05-26T03:59:36.804778Z"
    }
   },
   "outputs": [],
   "source": [
    "from xgboost import XGBClassifier # xgb classification"
   ]
  },
  {
   "cell_type": "code",
   "execution_count": 9,
   "metadata": {
    "ExecuteTime": {
     "end_time": "2022-05-26T03:59:43.517352Z",
     "start_time": "2022-05-26T03:59:37.925186Z"
    },
    "deletable": false,
    "editable": false
   },
   "outputs": [
    {
     "name": "stdout",
     "output_type": "stream",
     "text": [
      "Tensorflow Version: 2.8.0\n"
     ]
    },
    {
     "data": {
      "text/plain": [
       "[PhysicalDevice(name='/physical_device:CPU:0', device_type='CPU'),\n",
       " PhysicalDevice(name='/physical_device:GPU:0', device_type='GPU')]"
      ]
     },
     "execution_count": 9,
     "metadata": {},
     "output_type": "execute_result"
    }
   ],
   "source": [
    "import tensorflow as tf\n",
    "print(f\"Tensorflow Version: {tf.__version__}\")\n",
    "\n",
    "# check physical devices\n",
    "tf.config.list_physical_devices()"
   ]
  },
  {
   "cell_type": "code",
   "execution_count": 6,
   "metadata": {
    "ExecuteTime": {
     "end_time": "2022-05-25T05:34:20.778404Z",
     "start_time": "2022-05-25T05:34:20.758437Z"
    },
    "deletable": false,
    "editable": false,
    "run_control": {
     "frozen": true
    }
   },
   "outputs": [
    {
     "name": "stdout",
     "output_type": "stream",
     "text": [
      "GPU Computing Available.\n"
     ]
    }
   ],
   "source": [
    "if len(tf.config.list_physical_devices(device_type = \"GPU\")):\n",
    "    # https://stackoverflow.com/q/38009682/6623589\n",
    "    # https://stackoverflow.com/a/59179238/6623589\n",
    "    print(\"GPU Computing Available.\")\n",
    "else:\n",
    "    print(\"GPU Computing Not Available. If `GPU` is present, check configuration.\")"
   ]
  },
  {
   "cell_type": "markdown",
   "metadata": {},
   "source": [
    "## Global Argument(s)\n",
    "\n",
    "The global arguments are *notebook* specific, however they may also be extended to external libraries and functions on import. The *boilerplate* provides a basic ML directory structure which contains a directory for `data` and a separate directory for `output`. In addition, a separate directory (`data/processed`) is created to save processed dataset such that preprocessing can be avoided."
   ]
  },
  {
   "cell_type": "code",
   "execution_count": 10,
   "metadata": {
    "ExecuteTime": {
     "end_time": "2022-05-26T03:59:44.868537Z",
     "start_time": "2022-05-26T03:59:44.852498Z"
    }
   },
   "outputs": [],
   "source": [
    "ROOT = \"..\" # the document root is one level up, that contains all code structure\n",
    "DATA = join(ROOT, \"data\") # the directory contains all data files, subdirectory (if any) can also be used/defined\n",
    "\n",
    "# processed data directory can be used, such that preprocessing steps is not\n",
    "# required to run again-and-again each time on kernel restart\n",
    "PROCESSED_DATA = join(DATA, \"processed\")"
   ]
  },
  {
   "cell_type": "code",
   "execution_count": 11,
   "metadata": {
    "ExecuteTime": {
     "end_time": "2022-05-26T03:59:45.802001Z",
     "start_time": "2022-05-26T03:59:45.787471Z"
    }
   },
   "outputs": [
    {
     "name": "stdout",
     "output_type": "stream",
     "text": [
      "Code Execution Started on: Thu, May 26 2022\n"
     ]
    }
   ],
   "source": [
    "# long projects can be overwhelming, and keeping track of files, outputs and\n",
    "# saved models can be intriguing! to help this out, `today` can be used. for\n",
    "# instance output can be stored at `output/<today>/` etc.\n",
    "# `today` is so configured that it permits windows/*.nix file/directory names\n",
    "today = dt.strftime(dt.strptime(ctime(), \"%a %b %d %H:%M:%S %Y\"), \"%a, %b %d %Y\")\n",
    "print(f\"Code Execution Started on: {today}\") # only date, name of the sub-directory"
   ]
  },
  {
   "cell_type": "code",
   "execution_count": 12,
   "metadata": {
    "ExecuteTime": {
     "end_time": "2022-05-26T03:59:46.931969Z",
     "start_time": "2022-05-26T03:59:46.902977Z"
    }
   },
   "outputs": [],
   "source": [
    "OUTPUT_DIR = join(ROOT, \"output\", today)\n",
    "makedirs(OUTPUT_DIR, exist_ok = True) # create dir if not exist\n",
    "\n",
    "# in addition create directory for images, saved models\n",
    "IMAGE_DIR = join(ROOT, \"output\", \"images\", today)\n",
    "MODEL_DIR = join(ROOT, \"output\", \"savedmodels\", today)\n",
    "\n",
    "makedirs(IMAGE_DIR, exist_ok = True) # create dir if not exist\n",
    "makedirs(MODEL_DIR, exist_ok = True) # create dir if not exist\n",
    "\n",
    "# also create directory for `logs`\n",
    "LOGS_DIR = join(ROOT, \"logs\", \"TPS May 2022\")\n",
    "makedirs(LOGS_DIR, exist_ok = True)"
   ]
  },
  {
   "cell_type": "code",
   "execution_count": 13,
   "metadata": {
    "ExecuteTime": {
     "end_time": "2022-05-26T03:59:47.515065Z",
     "start_time": "2022-05-26T03:59:47.499060Z"
    },
    "deletable": false,
    "editable": false
   },
   "outputs": [
    {
     "name": "stdout",
     "output_type": "stream",
     "text": [
      "..\\logs\\TPS May 2022\n"
     ]
    }
   ],
   "source": [
    "print(LOGS_DIR) # logs file will be generated here"
   ]
  },
  {
   "cell_type": "code",
   "execution_count": 14,
   "metadata": {
    "ExecuteTime": {
     "end_time": "2022-05-26T03:59:48.174932Z",
     "start_time": "2022-05-26T03:59:48.076809Z"
    },
    "deletable": false,
    "editable": false
   },
   "outputs": [],
   "source": [
    "logging.captureWarnings(True) # send warnings to log file automatically https://stackoverflow.com/a/37979724/6623589\n",
    "logging.basicConfig(\n",
    "    filename = join(LOGS_DIR, f\"{today}.log\"), # change `reports` file name\n",
    "    filemode = \"a\", # append logs to existing file, if file exists\n",
    "    format = \"%(asctime)s - %(name)s - CLASS:%(levelname)s:%(levelno)s:L#%(lineno)d - %(message)s\",\n",
    "    level = logging.DEBUG\n",
    ")"
   ]
  },
  {
   "cell_type": "code",
   "execution_count": 15,
   "metadata": {
    "ExecuteTime": {
     "end_time": "2022-05-26T03:59:49.148250Z",
     "start_time": "2022-05-26T03:59:49.140247Z"
    },
    "deletable": false,
    "editable": false
   },
   "outputs": [],
   "source": [
    "logging.info(\"Initializing Kernel, Global Arguments Configured....\")\n",
    "logging.info(f\"Data Directory: {DATA}\")\n",
    "logging.info(f\"Output Data Directory: {OUTPUT_DIR}\")"
   ]
  },
  {
   "cell_type": "code",
   "execution_count": 16,
   "metadata": {
    "ExecuteTime": {
     "end_time": "2022-05-26T03:59:49.957896Z",
     "start_time": "2022-05-26T03:59:49.945443Z"
    },
    "deletable": false,
    "editable": false
   },
   "outputs": [],
   "source": [
    "logging.info(f\"Tensorflow Version: {tf.__version__}\")\n",
    "\n",
    "NUM_GPUs = len(tf.config.list_physical_devices('GPU'))\n",
    "logging.info(f\"Num GPUs Available: {NUM_GPUs}\")\n",
    "if NUM_GPUs == 0:\n",
    "    warnings.warn(\"Using TF in CPU Only Mode. Is GPU Configured?\")"
   ]
  },
  {
   "cell_type": "markdown",
   "metadata": {},
   "source": [
    "## User Defined Function(s)\n",
    "\n",
    "It is recommended that any UDFs are defined outside the scope of the *jupyter notebook* such that development/editing of function can be done more practically. As per *programming guidelines* as [`src`](https://fileinfo.com/extension/src) file/directory is beneficial in code development and/or production release. However, *jupyter notebook* requires *kernel restart* if any imported code file is changed in disc, for this frequently changing functions can be defined in this section.\n",
    "\n",
    "**Getting Started** with **`PYTHONPATH`**\n",
    "\n",
    "One must know what are [Environment Variable](https://medium.com/chingu/an-introduction-to-environment-variables-and-how-to-use-them-f602f66d15fa) and how to call/use them in your choice of programming language. Note that an environment variable is *case sensitive* in all operating systems (except windows, since DOS is not case sensitive). Generally, we can access environment variables from terminal/shell/command prompt as:\n",
    "\n",
    "```shell\n",
    "# macOS/*nix\n",
    "echo $VARNAME\n",
    "\n",
    "# windows\n",
    "echo %VARNAME%\n",
    "```\n",
    "\n",
    "Once you've setup your system with [`PYTHONPATH`](https://bic-berkeley.github.io/psych-214-fall-2016/using_pythonpath.html) as per [*python documentation*](https://docs.python.org/3/using/cmdline.html#envvar-PYTHONPATH) is an important directory where any `import` statements looks for based on their order of importance. If a source code/module is not available check necessary environment variables and/or ask the administrator for the source files.\n",
    "\n",
    "For testing purpose, the module boasts the use of `src`, `utils` and `config` directories. However, these directories are available at `ROOT` level, and thus using `sys.path.append()` to add directories while importing."
   ]
  },
  {
   "cell_type": "code",
   "execution_count": 66,
   "metadata": {
    "ExecuteTime": {
     "end_time": "2022-05-26T07:43:05.118491Z",
     "start_time": "2022-05-26T07:43:05.102439Z"
    },
    "deletable": false,
    "editable": false
   },
   "outputs": [],
   "source": [
    "sys.path.append(join(ROOT, \"src\")) # source files\n",
    "sys.path.append(join(ROOT, \"src\", \"agents\")) # agents for an efficient rl model\n",
    "sys.path.append(join(ROOT, \"src\", \"engine\")) # ai/ml code engines for modelling\n",
    "sys.path.append(join(ROOT, \"src\", \"models\")) # defination of actual ai/ml model\n",
    "sys.path.append(join(ROOT, \"src\", \"optimizer\")) # pre-defined optimizers for optuna\n",
    "sys.path.append(join(ROOT, \"utilities\")) # provide a list of utility functions"
   ]
  },
  {
   "cell_type": "code",
   "execution_count": 18,
   "metadata": {
    "ExecuteTime": {
     "end_time": "2022-05-26T03:59:52.470786Z",
     "start_time": "2022-05-26T03:59:52.356563Z"
    }
   },
   "outputs": [],
   "source": [
    "from grn import VariableSelection"
   ]
  },
  {
   "cell_type": "code",
   "execution_count": 19,
   "metadata": {
    "ExecuteTime": {
     "end_time": "2022-05-26T03:59:53.722424Z",
     "start_time": "2022-05-26T03:59:53.684533Z"
    }
   },
   "outputs": [],
   "source": [
    "from dfutils import reduce_mem_usage\n",
    "from visualizations import corr_heatmap"
   ]
  },
  {
   "cell_type": "code",
   "execution_count": 20,
   "metadata": {
    "ExecuteTime": {
     "end_time": "2022-05-26T03:59:54.268694Z",
     "start_time": "2022-05-26T03:59:54.252688Z"
    }
   },
   "outputs": [],
   "source": [
    "def read_file(filepaths : str, **kwargs) -> pd.DataFrame:\n",
    "    trn = pd.read_csv(filepaths[0]) # read training data csv file as is\n",
    "    tst = pd.read_csv(filepaths[1]) # read training data csv file as is\n",
    "    \n",
    "    # since the data set has different values in categorical variables,\n",
    "    # thus, the data is first concatenated - to perform the following ops:\n",
    "    #  1. `one_hot_encode` : `cat_cols` which was identified previously\n",
    "    #  2. `perform_encode` : on `f_27` using `LabelEncoder()`\n",
    "    trn[\"isTrain\"] = True\n",
    "    tst[\"isTrain\"] = False\n",
    "    \n",
    "    data = pd.concat([trn, tst], ignore_index = True) # index is later replaced\n",
    "    # do some pre-processing on the data-frame\n",
    "    data.set_index(\"id\", inplace = True) # set index\n",
    "    \n",
    "    # get keyword arguments, and do operations\n",
    "    drop_feature = kwargs.get(\"drop_feature\", False)\n",
    "    reduce_memory = kwargs.get(\"reduce_memory\", True)\n",
    "    one_hot_encode = kwargs.get(\"one_hot_encode\", True)\n",
    "    perform_encode = kwargs.get(\"perform_encode\", True)\n",
    "    add_stats_feat = kwargs.get(\"add_stats_feat\", False)\n",
    "    \n",
    "    if perform_encode:\n",
    "        encoder = LabelEncoder()\n",
    "        data[\"f_27_enc\"] = encoder.fit_transform(data[\"f_27\"])\n",
    "    \n",
    "    if drop_feature:\n",
    "        # remove `f_27` column from data set\n",
    "        data.drop(columns = [\"f_27\"], inplace = True) # drop object feature\n",
    "        \n",
    "    if one_hot_encode:\n",
    "        # apply one hot encoding on the dataset\n",
    "        # using the inbuilt `pd.get_dummies` method\n",
    "        # also drop the categorical columns which were previously identified\n",
    "        cat_cols = [\n",
    "            'f_07', 'f_08', 'f_09', 'f_10', 'f_11', 'f_12', 'f_13',\n",
    "            'f_14', 'f_15', 'f_16', 'f_17', 'f_18', 'f_29', 'f_30'\n",
    "        ]\n",
    "        \n",
    "        data = pd.get_dummies(data, columns = cat_cols, drop_first = True)\n",
    "        # data.drop(columns = cat_cols, inplace = True)\n",
    "        \n",
    "    if reduce_memory:\n",
    "        # perform data type casting to reduce memory usage\n",
    "        # check documentation for more information on the method\n",
    "        data = reduce_mem_usage(data, subset = None, copy = False)\n",
    "        \n",
    "    if add_stats_feat:\n",
    "        num_cols = [\n",
    "            'f_00', 'f_01', 'f_02', 'f_03', 'f_04', 'f_05', 'f_06', 'f_19',\n",
    "            'f_20', 'f_21', 'f_22', 'f_23', 'f_24', 'f_25', 'f_26', 'f_28'\n",
    "        ]\n",
    "        data[\"f_min\"] = data[num_cols].min(axis = 1)\n",
    "        data[\"f_max\"] = data[num_cols].max(axis = 1)\n",
    "        data[\"f_sum\"] = data[num_cols].sum(axis = 1)\n",
    "        data[\"f_std\"] = data[num_cols].std(axis = 1)\n",
    "        data[\"f_mad\"] = data[num_cols].mad(axis = 1)\n",
    "        data[\"f_mean\"] = data[num_cols].mean(axis = 1)\n",
    "        data[\"f_kurt\"] = data[num_cols].kurt(axis = 1)\n",
    "        \n",
    "    # now seperate the training and testing dataset\n",
    "    # and return a deep copy version of the data frame\n",
    "    trn_trf = data[data[\"isTrain\"]]\n",
    "    tst_trf = data[~data[\"isTrain\"]]\n",
    "    \n",
    "    trn_trf.drop(columns = [\"isTrain\"], inplace = True)\n",
    "    tst_trf.drop(columns = [\"isTrain\", \"target\"], inplace = True)\n",
    "    \n",
    "    return trn_trf.copy(), tst_trf.copy()"
   ]
  },
  {
   "cell_type": "markdown",
   "metadata": {},
   "source": [
    "## Read Input File(s)\n",
    "\n",
    "A typical machine learning project revolves around six important stages (as available in [Amazon ML Life Cycle Documentation](https://docs.aws.amazon.com/wellarchitected/latest/machine-learning-lens/well-architected-machine-learning-lifecycle.html)). The notebook boilerplate is provided to address two pillars:\n",
    "\n",
    " 1. **Data Processing:** An integral part of any machine learning project, which is the most time consuming step! A brief introduction and best practices is available [here](https://towardsdatascience.com/introduction-to-data-preprocessing-in-machine-learning-a9fa83a5dc9d).\n",
    " 2. **Model Development:** From understanding to deployment, this section address development (training, validating and testing) of an machine learning model.\n",
    "\n",
    "![ML Life Cycle](https://docs.aws.amazon.com/wellarchitected/latest/machine-learning-lens/images/ml-lifecycle.png)"
   ]
  },
  {
   "cell_type": "code",
   "execution_count": 30,
   "metadata": {
    "ExecuteTime": {
     "end_time": "2022-05-26T04:04:21.165814Z",
     "start_time": "2022-05-26T04:04:12.378545Z"
    }
   },
   "outputs": [],
   "source": [
    "# trn_data, tst_data = read_file(filepaths = [join(DATA, \"train.csv\"), join(DATA, \"test.csv\")], drop_feature = True, reduce_memory = False)\n",
    "# trn_data, tst_data = read_file(filepaths = [join(DATA, \"train.csv\"), join(DATA, \"test.csv\")], drop_feature = True, reduce_memory = False, add_stats_feat = True)\n",
    "trn_data, tst_data = read_file(filepaths = [join(DATA, \"train.csv\"), join(DATA, \"test.csv\")], drop_feature = True, reduce_memory = False, add_stats_feat = False, one_hot_encode = False)"
   ]
  },
  {
   "cell_type": "code",
   "execution_count": 31,
   "metadata": {
    "ExecuteTime": {
     "end_time": "2022-05-26T04:04:21.419959Z",
     "start_time": "2022-05-26T04:04:21.367675Z"
    }
   },
   "outputs": [
    {
     "data": {
      "text/html": [
       "<div>\n",
       "<style scoped>\n",
       "    .dataframe tbody tr th:only-of-type {\n",
       "        vertical-align: middle;\n",
       "    }\n",
       "\n",
       "    .dataframe tbody tr th {\n",
       "        vertical-align: top;\n",
       "    }\n",
       "\n",
       "    .dataframe thead th {\n",
       "        text-align: right;\n",
       "    }\n",
       "</style>\n",
       "<table border=\"1\" class=\"dataframe\">\n",
       "  <thead>\n",
       "    <tr style=\"text-align: right;\">\n",
       "      <th></th>\n",
       "      <th>f_00</th>\n",
       "      <th>f_01</th>\n",
       "      <th>f_02</th>\n",
       "      <th>f_03</th>\n",
       "      <th>f_04</th>\n",
       "      <th>f_05</th>\n",
       "      <th>f_06</th>\n",
       "      <th>f_07</th>\n",
       "      <th>f_08</th>\n",
       "      <th>f_09</th>\n",
       "      <th>f_10</th>\n",
       "      <th>f_11</th>\n",
       "      <th>f_12</th>\n",
       "      <th>f_13</th>\n",
       "      <th>f_14</th>\n",
       "      <th>f_15</th>\n",
       "      <th>f_16</th>\n",
       "      <th>f_17</th>\n",
       "      <th>f_18</th>\n",
       "      <th>f_19</th>\n",
       "      <th>f_20</th>\n",
       "      <th>f_21</th>\n",
       "      <th>f_22</th>\n",
       "      <th>f_23</th>\n",
       "      <th>f_24</th>\n",
       "      <th>f_25</th>\n",
       "      <th>f_26</th>\n",
       "      <th>f_28</th>\n",
       "      <th>f_29</th>\n",
       "      <th>f_30</th>\n",
       "      <th>target</th>\n",
       "      <th>f_27_enc</th>\n",
       "    </tr>\n",
       "    <tr>\n",
       "      <th>id</th>\n",
       "      <th></th>\n",
       "      <th></th>\n",
       "      <th></th>\n",
       "      <th></th>\n",
       "      <th></th>\n",
       "      <th></th>\n",
       "      <th></th>\n",
       "      <th></th>\n",
       "      <th></th>\n",
       "      <th></th>\n",
       "      <th></th>\n",
       "      <th></th>\n",
       "      <th></th>\n",
       "      <th></th>\n",
       "      <th></th>\n",
       "      <th></th>\n",
       "      <th></th>\n",
       "      <th></th>\n",
       "      <th></th>\n",
       "      <th></th>\n",
       "      <th></th>\n",
       "      <th></th>\n",
       "      <th></th>\n",
       "      <th></th>\n",
       "      <th></th>\n",
       "      <th></th>\n",
       "      <th></th>\n",
       "      <th></th>\n",
       "      <th></th>\n",
       "      <th></th>\n",
       "      <th></th>\n",
       "      <th></th>\n",
       "    </tr>\n",
       "  </thead>\n",
       "  <tbody>\n",
       "    <tr>\n",
       "      <th>661788</th>\n",
       "      <td>-0.53</td>\n",
       "      <td>-1.56</td>\n",
       "      <td>-1.76</td>\n",
       "      <td>0.70</td>\n",
       "      <td>-0.76</td>\n",
       "      <td>-0.18</td>\n",
       "      <td>0.75</td>\n",
       "      <td>5</td>\n",
       "      <td>1</td>\n",
       "      <td>1</td>\n",
       "      <td>2</td>\n",
       "      <td>0</td>\n",
       "      <td>2</td>\n",
       "      <td>3</td>\n",
       "      <td>1</td>\n",
       "      <td>1</td>\n",
       "      <td>4</td>\n",
       "      <td>0</td>\n",
       "      <td>3</td>\n",
       "      <td>0.77</td>\n",
       "      <td>2.53</td>\n",
       "      <td>1.12</td>\n",
       "      <td>-0.68</td>\n",
       "      <td>-1.50</td>\n",
       "      <td>1.41</td>\n",
       "      <td>1.39</td>\n",
       "      <td>1.81</td>\n",
       "      <td>-133.16</td>\n",
       "      <td>0</td>\n",
       "      <td>1</td>\n",
       "      <td>0.00</td>\n",
       "      <td>708599</td>\n",
       "    </tr>\n",
       "  </tbody>\n",
       "</table>\n",
       "</div>"
      ],
      "text/plain": [
       "        f_00  f_01  f_02  f_03  f_04  f_05  f_06  f_07  f_08  f_09  f_10  \\\n",
       "id                                                                         \n",
       "661788 -0.53 -1.56 -1.76  0.70 -0.76 -0.18  0.75     5     1     1     2   \n",
       "\n",
       "        f_11  f_12  f_13  f_14  f_15  f_16  f_17  f_18  f_19  f_20  f_21  \\\n",
       "id                                                                         \n",
       "661788     0     2     3     1     1     4     0     3  0.77  2.53  1.12   \n",
       "\n",
       "        f_22  f_23  f_24  f_25  f_26    f_28  f_29  f_30  target  f_27_enc  \n",
       "id                                                                          \n",
       "661788 -0.68 -1.50  1.41  1.39  1.81 -133.16     0     1    0.00    708599  "
      ]
     },
     "execution_count": 31,
     "metadata": {},
     "output_type": "execute_result"
    }
   ],
   "source": [
    "trn_data.sample()"
   ]
  },
  {
   "cell_type": "code",
   "execution_count": 23,
   "metadata": {
    "ExecuteTime": {
     "end_time": "2022-05-26T04:00:04.268339Z",
     "start_time": "2022-05-26T04:00:04.257156Z"
    },
    "deletable": false,
    "editable": false
   },
   "outputs": [
    {
     "name": "stdout",
     "output_type": "stream",
     "text": [
      "['f_07', 'f_08', 'f_09', 'f_10', 'f_11', 'f_12', 'f_13', 'f_14', 'f_15', 'f_16', 'f_17', 'f_18', 'f_29', 'f_30']\n"
     ]
    }
   ],
   "source": [
    "# cat_cols = trn_data.drop(columns = \"target\").nunique().where(lambda x : x <= 16).dropna().index.tolist() # maybe do featuring\n",
    "cat_cols = [\n",
    "    'f_07', 'f_08', 'f_09', 'f_10', 'f_11', 'f_12', 'f_13',\n",
    "    'f_14', 'f_15', 'f_16', 'f_17', 'f_18', 'f_29', 'f_30'\n",
    "]\n",
    "\n",
    "print(cat_cols) # list of previously identified categorical variables"
   ]
  },
  {
   "cell_type": "code",
   "execution_count": 24,
   "metadata": {
    "ExecuteTime": {
     "end_time": "2022-05-26T04:00:04.338242Z",
     "start_time": "2022-05-26T04:00:04.328761Z"
    },
    "deletable": false,
    "editable": false
   },
   "outputs": [
    {
     "name": "stdout",
     "output_type": "stream",
     "text": [
      "['f_00', 'f_01', 'f_02', 'f_03', 'f_04', 'f_05', 'f_06', 'f_19', 'f_20', 'f_21', 'f_22', 'f_23', 'f_24', 'f_25', 'f_26', 'f_28']\n"
     ]
    }
   ],
   "source": [
    "num_cols = ['f_00', 'f_01', 'f_02', 'f_03', 'f_04', 'f_05', 'f_06', 'f_19','f_20', 'f_21', 'f_22', 'f_23', 'f_24', 'f_25', 'f_26', 'f_28']\n",
    "print(num_cols)"
   ]
  },
  {
   "cell_type": "markdown",
   "metadata": {},
   "source": [
    "### Basic Data Information\n",
    "\n",
    "Training and testing data is read into two variables `trn_data` and `tst_data` respectively. Let's use the basic `pandas` functionalities to find information about the data. The target is a binary column and marked as `target`, and the data has a total of 31 features marked as `f_00, f_01, ..., f_30`. Apart from this, let's display some statistical information for analysis.\n",
    "\n",
    " * There are a total of 0.9 million records in training data, and testing is to be performed on 0.7 million records (a fair ratio).\n",
    " * There are no `NaN` values (can be verified using `trn_data.isnull().sum().sum()`).\n",
    " * The target is binary i.e. either `0` or `1`, generally a `sigmoid` activation should be okay? Let's check this while the model is developed.\n",
    " \n",
    "Below, we can use the `value_counts` method to quickly check the distribution of target variable."
   ]
  },
  {
   "cell_type": "code",
   "execution_count": 32,
   "metadata": {
    "ExecuteTime": {
     "end_time": "2022-05-09T07:44:31.825346Z",
     "start_time": "2022-05-09T07:44:31.744008Z"
    },
    "deletable": false,
    "editable": false,
    "run_control": {
     "frozen": true
    }
   },
   "outputs": [
    {
     "data": {
      "image/png": "[encoded data removed]",
      "text/plain": [
       "<Figure size 1512x504 with 1 Axes>"
      ]
     },
     "metadata": {},
     "output_type": "display_data"
    }
   ],
   "source": [
    "target_distribution = trn_data[\"target\"].value_counts(normalize = True)\n",
    "\n",
    "graph_labels = [f\"State-{idx}\" for idx in  target_distribution.index]\n",
    "\n",
    "fig, axs = plt.subplots()\n",
    "_, _, autopct = plt.pie(target_distribution, labels = graph_labels, autopct = lambda v : f\"{v:.2f}%\", pctdistance = 0.85, textprops = {\"weight\" : \"bold\"}) # plot a pie chart\n",
    "plt.setp(autopct, **{\"color\" : \"white\", \"weight\" : \"regular\", \"fontsize\" : 12.5})\n",
    "\n",
    "circle = plt.Circle((0, 0), 0.7, color = \"white\")\n",
    "plt.gcf().gca().add_artist(circle)\n",
    "\n",
    "plt.title(\"Target Distribution\")\n",
    "plt.show()"
   ]
  },
  {
   "cell_type": "markdown",
   "metadata": {},
   "source": [
    "The target variable is evenly distributed (i.e. around 50% of data is present in each state)."
   ]
  },
  {
   "cell_type": "code",
   "execution_count": 21,
   "metadata": {
    "ExecuteTime": {
     "end_time": "2022-05-08T16:29:33.873697Z",
     "start_time": "2022-05-08T16:29:33.829668Z"
    },
    "deletable": false,
    "editable": false,
    "run_control": {
     "frozen": true
    }
   },
   "outputs": [
    {
     "data": {
      "text/html": [
       "<div>\n",
       "<style scoped>\n",
       "    .dataframe tbody tr th:only-of-type {\n",
       "        vertical-align: middle;\n",
       "    }\n",
       "\n",
       "    .dataframe tbody tr th {\n",
       "        vertical-align: top;\n",
       "    }\n",
       "\n",
       "    .dataframe thead th {\n",
       "        text-align: right;\n",
       "    }\n",
       "</style>\n",
       "<table border=\"1\" class=\"dataframe\">\n",
       "  <thead>\n",
       "    <tr style=\"text-align: right;\">\n",
       "      <th></th>\n",
       "      <th>f_00</th>\n",
       "      <th>f_01</th>\n",
       "      <th>f_02</th>\n",
       "      <th>f_03</th>\n",
       "      <th>f_04</th>\n",
       "      <th>f_05</th>\n",
       "      <th>f_06</th>\n",
       "      <th>f_07</th>\n",
       "      <th>f_08</th>\n",
       "      <th>f_09</th>\n",
       "      <th>f_10</th>\n",
       "      <th>f_11</th>\n",
       "      <th>f_12</th>\n",
       "      <th>f_13</th>\n",
       "      <th>f_14</th>\n",
       "      <th>f_15</th>\n",
       "      <th>f_16</th>\n",
       "      <th>f_17</th>\n",
       "      <th>f_18</th>\n",
       "      <th>f_19</th>\n",
       "      <th>f_20</th>\n",
       "      <th>f_21</th>\n",
       "      <th>f_22</th>\n",
       "      <th>f_23</th>\n",
       "      <th>f_24</th>\n",
       "      <th>f_25</th>\n",
       "      <th>f_26</th>\n",
       "      <th>f_27</th>\n",
       "      <th>f_28</th>\n",
       "      <th>f_29</th>\n",
       "      <th>f_30</th>\n",
       "      <th>target</th>\n",
       "    </tr>\n",
       "    <tr>\n",
       "      <th>id</th>\n",
       "      <th></th>\n",
       "      <th></th>\n",
       "      <th></th>\n",
       "      <th></th>\n",
       "      <th></th>\n",
       "      <th></th>\n",
       "      <th></th>\n",
       "      <th></th>\n",
       "      <th></th>\n",
       "      <th></th>\n",
       "      <th></th>\n",
       "      <th></th>\n",
       "      <th></th>\n",
       "      <th></th>\n",
       "      <th></th>\n",
       "      <th></th>\n",
       "      <th></th>\n",
       "      <th></th>\n",
       "      <th></th>\n",
       "      <th></th>\n",
       "      <th></th>\n",
       "      <th></th>\n",
       "      <th></th>\n",
       "      <th></th>\n",
       "      <th></th>\n",
       "      <th></th>\n",
       "      <th></th>\n",
       "      <th></th>\n",
       "      <th></th>\n",
       "      <th></th>\n",
       "      <th></th>\n",
       "      <th></th>\n",
       "    </tr>\n",
       "  </thead>\n",
       "  <tbody>\n",
       "    <tr>\n",
       "      <th>317060</th>\n",
       "      <td>-0.46</td>\n",
       "      <td>-1.15</td>\n",
       "      <td>-0.85</td>\n",
       "      <td>-0.33</td>\n",
       "      <td>-0.64</td>\n",
       "      <td>1.39</td>\n",
       "      <td>-1.07</td>\n",
       "      <td>3</td>\n",
       "      <td>0</td>\n",
       "      <td>2</td>\n",
       "      <td>1</td>\n",
       "      <td>1</td>\n",
       "      <td>4</td>\n",
       "      <td>1</td>\n",
       "      <td>4</td>\n",
       "      <td>0</td>\n",
       "      <td>3</td>\n",
       "      <td>1</td>\n",
       "      <td>2</td>\n",
       "      <td>-2.25</td>\n",
       "      <td>3.50</td>\n",
       "      <td>-8.55</td>\n",
       "      <td>1.45</td>\n",
       "      <td>-2.68</td>\n",
       "      <td>-1.00</td>\n",
       "      <td>1.17</td>\n",
       "      <td>-0.09</td>\n",
       "      <td>BABEAACMAB</td>\n",
       "      <td>-71.49</td>\n",
       "      <td>1</td>\n",
       "      <td>1</td>\n",
       "      <td>0</td>\n",
       "    </tr>\n",
       "    <tr>\n",
       "      <th>188147</th>\n",
       "      <td>-0.29</td>\n",
       "      <td>-0.48</td>\n",
       "      <td>-2.44</td>\n",
       "      <td>-1.78</td>\n",
       "      <td>-1.44</td>\n",
       "      <td>0.93</td>\n",
       "      <td>0.74</td>\n",
       "      <td>2</td>\n",
       "      <td>5</td>\n",
       "      <td>4</td>\n",
       "      <td>0</td>\n",
       "      <td>3</td>\n",
       "      <td>3</td>\n",
       "      <td>0</td>\n",
       "      <td>2</td>\n",
       "      <td>1</td>\n",
       "      <td>2</td>\n",
       "      <td>2</td>\n",
       "      <td>2</td>\n",
       "      <td>1.61</td>\n",
       "      <td>1.72</td>\n",
       "      <td>-2.27</td>\n",
       "      <td>2.52</td>\n",
       "      <td>-1.91</td>\n",
       "      <td>2.02</td>\n",
       "      <td>-1.20</td>\n",
       "      <td>-0.66</td>\n",
       "      <td>BDBADADICF</td>\n",
       "      <td>-151.33</td>\n",
       "      <td>0</td>\n",
       "      <td>2</td>\n",
       "      <td>0</td>\n",
       "    </tr>\n",
       "    <tr>\n",
       "      <th>644769</th>\n",
       "      <td>0.51</td>\n",
       "      <td>-0.98</td>\n",
       "      <td>-1.93</td>\n",
       "      <td>1.60</td>\n",
       "      <td>0.43</td>\n",
       "      <td>1.22</td>\n",
       "      <td>0.04</td>\n",
       "      <td>2</td>\n",
       "      <td>2</td>\n",
       "      <td>1</td>\n",
       "      <td>5</td>\n",
       "      <td>4</td>\n",
       "      <td>4</td>\n",
       "      <td>3</td>\n",
       "      <td>1</td>\n",
       "      <td>4</td>\n",
       "      <td>2</td>\n",
       "      <td>3</td>\n",
       "      <td>1</td>\n",
       "      <td>1.01</td>\n",
       "      <td>-1.88</td>\n",
       "      <td>-0.72</td>\n",
       "      <td>-3.43</td>\n",
       "      <td>2.09</td>\n",
       "      <td>-0.40</td>\n",
       "      <td>-3.80</td>\n",
       "      <td>0.81</td>\n",
       "      <td>BDBDABEFBE</td>\n",
       "      <td>47.71</td>\n",
       "      <td>0</td>\n",
       "      <td>0</td>\n",
       "      <td>1</td>\n",
       "    </tr>\n",
       "    <tr>\n",
       "      <th>407494</th>\n",
       "      <td>0.06</td>\n",
       "      <td>-0.52</td>\n",
       "      <td>0.51</td>\n",
       "      <td>0.30</td>\n",
       "      <td>0.37</td>\n",
       "      <td>-0.81</td>\n",
       "      <td>0.69</td>\n",
       "      <td>1</td>\n",
       "      <td>1</td>\n",
       "      <td>2</td>\n",
       "      <td>2</td>\n",
       "      <td>2</td>\n",
       "      <td>2</td>\n",
       "      <td>0</td>\n",
       "      <td>3</td>\n",
       "      <td>3</td>\n",
       "      <td>2</td>\n",
       "      <td>0</td>\n",
       "      <td>1</td>\n",
       "      <td>-1.83</td>\n",
       "      <td>-0.36</td>\n",
       "      <td>-3.03</td>\n",
       "      <td>-0.29</td>\n",
       "      <td>-1.44</td>\n",
       "      <td>0.16</td>\n",
       "      <td>-0.86</td>\n",
       "      <td>0.29</td>\n",
       "      <td>ADBDAADDCD</td>\n",
       "      <td>-54.02</td>\n",
       "      <td>0</td>\n",
       "      <td>0</td>\n",
       "      <td>0</td>\n",
       "    </tr>\n",
       "    <tr>\n",
       "      <th>582457</th>\n",
       "      <td>-2.11</td>\n",
       "      <td>-0.82</td>\n",
       "      <td>1.48</td>\n",
       "      <td>-0.37</td>\n",
       "      <td>-0.66</td>\n",
       "      <td>-0.82</td>\n",
       "      <td>0.65</td>\n",
       "      <td>1</td>\n",
       "      <td>1</td>\n",
       "      <td>2</td>\n",
       "      <td>4</td>\n",
       "      <td>5</td>\n",
       "      <td>4</td>\n",
       "      <td>1</td>\n",
       "      <td>2</td>\n",
       "      <td>0</td>\n",
       "      <td>4</td>\n",
       "      <td>2</td>\n",
       "      <td>2</td>\n",
       "      <td>-0.68</td>\n",
       "      <td>0.57</td>\n",
       "      <td>-3.97</td>\n",
       "      <td>-2.11</td>\n",
       "      <td>-2.91</td>\n",
       "      <td>-0.75</td>\n",
       "      <td>-0.13</td>\n",
       "      <td>3.11</td>\n",
       "      <td>BCBCBBBPBA</td>\n",
       "      <td>84.01</td>\n",
       "      <td>1</td>\n",
       "      <td>0</td>\n",
       "      <td>0</td>\n",
       "    </tr>\n",
       "  </tbody>\n",
       "</table>\n",
       "</div>"
      ],
      "text/plain": [
       "        f_00  f_01  f_02  f_03  f_04  f_05  f_06  f_07  f_08  f_09  f_10  \\\n",
       "id                                                                         \n",
       "317060 -0.46 -1.15 -0.85 -0.33 -0.64  1.39 -1.07     3     0     2     1   \n",
       "188147 -0.29 -0.48 -2.44 -1.78 -1.44  0.93  0.74     2     5     4     0   \n",
       "644769  0.51 -0.98 -1.93  1.60  0.43  1.22  0.04     2     2     1     5   \n",
       "407494  0.06 -0.52  0.51  0.30  0.37 -0.81  0.69     1     1     2     2   \n",
       "582457 -2.11 -0.82  1.48 -0.37 -0.66 -0.82  0.65     1     1     2     4   \n",
       "\n",
       "        f_11  f_12  f_13  f_14  f_15  f_16  f_17  f_18  f_19  f_20  f_21  \\\n",
       "id                                                                         \n",
       "317060     1     4     1     4     0     3     1     2 -2.25  3.50 -8.55   \n",
       "188147     3     3     0     2     1     2     2     2  1.61  1.72 -2.27   \n",
       "644769     4     4     3     1     4     2     3     1  1.01 -1.88 -0.72   \n",
       "407494     2     2     0     3     3     2     0     1 -1.83 -0.36 -3.03   \n",
       "582457     5     4     1     2     0     4     2     2 -0.68  0.57 -3.97   \n",
       "\n",
       "        f_22  f_23  f_24  f_25  f_26        f_27    f_28  f_29  f_30  target  \n",
       "id                                                                            \n",
       "317060  1.45 -2.68 -1.00  1.17 -0.09  BABEAACMAB  -71.49     1     1       0  \n",
       "188147  2.52 -1.91  2.02 -1.20 -0.66  BDBADADICF -151.33     0     2       0  \n",
       "644769 -3.43  2.09 -0.40 -3.80  0.81  BDBDABEFBE   47.71     0     0       1  \n",
       "407494 -0.29 -1.44  0.16 -0.86  0.29  ADBDAADDCD  -54.02     0     0       0  \n",
       "582457 -2.11 -2.91 -0.75 -0.13  3.11  BCBCBBBPBA   84.01     1     0       0  "
      ]
     },
     "execution_count": 21,
     "metadata": {},
     "output_type": "execute_result"
    }
   ],
   "source": [
    "trn_data.sample(5)"
   ]
  },
  {
   "cell_type": "code",
   "execution_count": 38,
   "metadata": {
    "ExecuteTime": {
     "end_time": "2022-05-08T16:29:56.207714Z",
     "start_time": "2022-05-08T16:29:56.190718Z"
    },
    "deletable": false,
    "editable": false,
    "run_control": {
     "frozen": true
    }
   },
   "outputs": [
    {
     "data": {
      "text/plain": [
       "(900000, 32)"
      ]
     },
     "execution_count": 38,
     "metadata": {},
     "output_type": "execute_result"
    }
   ],
   "source": [
    "trn_data.shape"
   ]
  },
  {
   "cell_type": "code",
   "execution_count": 34,
   "metadata": {
    "ExecuteTime": {
     "end_time": "2022-05-08T16:29:49.955662Z",
     "start_time": "2022-05-08T16:29:49.136103Z"
    },
    "deletable": false,
    "editable": false,
    "run_control": {
     "frozen": true
    }
   },
   "outputs": [
    {
     "data": {
      "text/html": [
       "<div>\n",
       "<style scoped>\n",
       "    .dataframe tbody tr th:only-of-type {\n",
       "        vertical-align: middle;\n",
       "    }\n",
       "\n",
       "    .dataframe tbody tr th {\n",
       "        vertical-align: top;\n",
       "    }\n",
       "\n",
       "    .dataframe thead th {\n",
       "        text-align: right;\n",
       "    }\n",
       "</style>\n",
       "<table border=\"1\" class=\"dataframe\">\n",
       "  <thead>\n",
       "    <tr style=\"text-align: right;\">\n",
       "      <th></th>\n",
       "      <th>f_00</th>\n",
       "      <th>f_01</th>\n",
       "      <th>f_02</th>\n",
       "      <th>f_03</th>\n",
       "      <th>f_04</th>\n",
       "      <th>f_05</th>\n",
       "      <th>f_06</th>\n",
       "      <th>f_07</th>\n",
       "      <th>f_08</th>\n",
       "      <th>f_09</th>\n",
       "      <th>f_10</th>\n",
       "      <th>f_11</th>\n",
       "      <th>f_12</th>\n",
       "      <th>f_13</th>\n",
       "      <th>f_14</th>\n",
       "      <th>f_15</th>\n",
       "      <th>f_16</th>\n",
       "      <th>f_17</th>\n",
       "      <th>f_18</th>\n",
       "      <th>f_19</th>\n",
       "      <th>f_20</th>\n",
       "      <th>f_21</th>\n",
       "      <th>f_22</th>\n",
       "      <th>f_23</th>\n",
       "      <th>f_24</th>\n",
       "      <th>f_25</th>\n",
       "      <th>f_26</th>\n",
       "      <th>f_28</th>\n",
       "      <th>f_29</th>\n",
       "      <th>f_30</th>\n",
       "      <th>target</th>\n",
       "    </tr>\n",
       "  </thead>\n",
       "  <tbody>\n",
       "    <tr>\n",
       "      <th>count</th>\n",
       "      <td>900,000.00</td>\n",
       "      <td>900,000.00</td>\n",
       "      <td>900,000.00</td>\n",
       "      <td>900,000.00</td>\n",
       "      <td>900,000.00</td>\n",
       "      <td>900,000.00</td>\n",
       "      <td>900,000.00</td>\n",
       "      <td>900,000.00</td>\n",
       "      <td>900,000.00</td>\n",
       "      <td>900,000.00</td>\n",
       "      <td>900,000.00</td>\n",
       "      <td>900,000.00</td>\n",
       "      <td>900,000.00</td>\n",
       "      <td>900,000.00</td>\n",
       "      <td>900,000.00</td>\n",
       "      <td>900,000.00</td>\n",
       "      <td>900,000.00</td>\n",
       "      <td>900,000.00</td>\n",
       "      <td>900,000.00</td>\n",
       "      <td>900,000.00</td>\n",
       "      <td>900,000.00</td>\n",
       "      <td>900,000.00</td>\n",
       "      <td>900,000.00</td>\n",
       "      <td>900,000.00</td>\n",
       "      <td>900,000.00</td>\n",
       "      <td>900,000.00</td>\n",
       "      <td>900,000.00</td>\n",
       "      <td>900,000.00</td>\n",
       "      <td>900,000.00</td>\n",
       "      <td>900,000.00</td>\n",
       "      <td>900,000.00</td>\n",
       "    </tr>\n",
       "    <tr>\n",
       "      <th>mean</th>\n",
       "      <td>-0.00</td>\n",
       "      <td>0.00</td>\n",
       "      <td>0.00</td>\n",
       "      <td>-0.00</td>\n",
       "      <td>-0.00</td>\n",
       "      <td>0.00</td>\n",
       "      <td>-0.00</td>\n",
       "      <td>2.03</td>\n",
       "      <td>2.06</td>\n",
       "      <td>2.36</td>\n",
       "      <td>2.18</td>\n",
       "      <td>1.80</td>\n",
       "      <td>2.84</td>\n",
       "      <td>2.24</td>\n",
       "      <td>1.51</td>\n",
       "      <td>2.10</td>\n",
       "      <td>2.10</td>\n",
       "      <td>1.86</td>\n",
       "      <td>2.07</td>\n",
       "      <td>0.31</td>\n",
       "      <td>-0.18</td>\n",
       "      <td>-0.16</td>\n",
       "      <td>-0.01</td>\n",
       "      <td>-0.37</td>\n",
       "      <td>-0.34</td>\n",
       "      <td>0.18</td>\n",
       "      <td>0.36</td>\n",
       "      <td>-0.38</td>\n",
       "      <td>0.35</td>\n",
       "      <td>1.00</td>\n",
       "      <td>0.49</td>\n",
       "    </tr>\n",
       "    <tr>\n",
       "      <th>std</th>\n",
       "      <td>1.00</td>\n",
       "      <td>1.00</td>\n",
       "      <td>1.00</td>\n",
       "      <td>1.00</td>\n",
       "      <td>1.00</td>\n",
       "      <td>1.00</td>\n",
       "      <td>1.00</td>\n",
       "      <td>1.66</td>\n",
       "      <td>1.59</td>\n",
       "      <td>1.64</td>\n",
       "      <td>1.65</td>\n",
       "      <td>1.54</td>\n",
       "      <td>1.76</td>\n",
       "      <td>1.54</td>\n",
       "      <td>1.36</td>\n",
       "      <td>1.57</td>\n",
       "      <td>1.56</td>\n",
       "      <td>1.47</td>\n",
       "      <td>1.56</td>\n",
       "      <td>2.32</td>\n",
       "      <td>2.40</td>\n",
       "      <td>2.48</td>\n",
       "      <td>2.45</td>\n",
       "      <td>2.45</td>\n",
       "      <td>2.39</td>\n",
       "      <td>2.42</td>\n",
       "      <td>2.48</td>\n",
       "      <td>238.77</td>\n",
       "      <td>0.48</td>\n",
       "      <td>0.82</td>\n",
       "      <td>0.50</td>\n",
       "    </tr>\n",
       "    <tr>\n",
       "      <th>min</th>\n",
       "      <td>-4.60</td>\n",
       "      <td>-4.68</td>\n",
       "      <td>-4.64</td>\n",
       "      <td>-4.66</td>\n",
       "      <td>-4.75</td>\n",
       "      <td>-4.75</td>\n",
       "      <td>-4.84</td>\n",
       "      <td>0.00</td>\n",
       "      <td>0.00</td>\n",
       "      <td>0.00</td>\n",
       "      <td>0.00</td>\n",
       "      <td>0.00</td>\n",
       "      <td>0.00</td>\n",
       "      <td>0.00</td>\n",
       "      <td>0.00</td>\n",
       "      <td>0.00</td>\n",
       "      <td>0.00</td>\n",
       "      <td>0.00</td>\n",
       "      <td>0.00</td>\n",
       "      <td>-11.28</td>\n",
       "      <td>-11.26</td>\n",
       "      <td>-13.31</td>\n",
       "      <td>-11.85</td>\n",
       "      <td>-12.30</td>\n",
       "      <td>-11.42</td>\n",
       "      <td>-11.92</td>\n",
       "      <td>-14.30</td>\n",
       "      <td>-1,229.75</td>\n",
       "      <td>0.00</td>\n",
       "      <td>0.00</td>\n",
       "      <td>0.00</td>\n",
       "    </tr>\n",
       "    <tr>\n",
       "      <th>5%</th>\n",
       "      <td>-1.64</td>\n",
       "      <td>-1.64</td>\n",
       "      <td>-1.65</td>\n",
       "      <td>-1.65</td>\n",
       "      <td>-1.64</td>\n",
       "      <td>-1.64</td>\n",
       "      <td>-1.65</td>\n",
       "      <td>0.00</td>\n",
       "      <td>0.00</td>\n",
       "      <td>0.00</td>\n",
       "      <td>0.00</td>\n",
       "      <td>0.00</td>\n",
       "      <td>0.00</td>\n",
       "      <td>0.00</td>\n",
       "      <td>0.00</td>\n",
       "      <td>0.00</td>\n",
       "      <td>0.00</td>\n",
       "      <td>0.00</td>\n",
       "      <td>0.00</td>\n",
       "      <td>-3.53</td>\n",
       "      <td>-4.11</td>\n",
       "      <td>-4.24</td>\n",
       "      <td>-4.11</td>\n",
       "      <td>-4.36</td>\n",
       "      <td>-4.26</td>\n",
       "      <td>-3.77</td>\n",
       "      <td>-3.78</td>\n",
       "      <td>-392.09</td>\n",
       "      <td>0.00</td>\n",
       "      <td>0.00</td>\n",
       "      <td>0.00</td>\n",
       "    </tr>\n",
       "    <tr>\n",
       "      <th>25%</th>\n",
       "      <td>-0.68</td>\n",
       "      <td>-0.68</td>\n",
       "      <td>-0.67</td>\n",
       "      <td>-0.68</td>\n",
       "      <td>-0.68</td>\n",
       "      <td>-0.67</td>\n",
       "      <td>-0.67</td>\n",
       "      <td>1.00</td>\n",
       "      <td>1.00</td>\n",
       "      <td>1.00</td>\n",
       "      <td>1.00</td>\n",
       "      <td>1.00</td>\n",
       "      <td>2.00</td>\n",
       "      <td>1.00</td>\n",
       "      <td>0.00</td>\n",
       "      <td>1.00</td>\n",
       "      <td>1.00</td>\n",
       "      <td>1.00</td>\n",
       "      <td>1.00</td>\n",
       "      <td>-1.24</td>\n",
       "      <td>-1.80</td>\n",
       "      <td>-1.82</td>\n",
       "      <td>-1.65</td>\n",
       "      <td>-2.02</td>\n",
       "      <td>-1.96</td>\n",
       "      <td>-1.44</td>\n",
       "      <td>-1.26</td>\n",
       "      <td>-159.43</td>\n",
       "      <td>0.00</td>\n",
       "      <td>0.00</td>\n",
       "      <td>0.00</td>\n",
       "    </tr>\n",
       "    <tr>\n",
       "      <th>50%</th>\n",
       "      <td>0.00</td>\n",
       "      <td>0.00</td>\n",
       "      <td>0.00</td>\n",
       "      <td>-0.00</td>\n",
       "      <td>-0.00</td>\n",
       "      <td>-0.00</td>\n",
       "      <td>-0.00</td>\n",
       "      <td>2.00</td>\n",
       "      <td>2.00</td>\n",
       "      <td>2.00</td>\n",
       "      <td>2.00</td>\n",
       "      <td>2.00</td>\n",
       "      <td>3.00</td>\n",
       "      <td>2.00</td>\n",
       "      <td>1.00</td>\n",
       "      <td>2.00</td>\n",
       "      <td>2.00</td>\n",
       "      <td>2.00</td>\n",
       "      <td>2.00</td>\n",
       "      <td>0.33</td>\n",
       "      <td>-0.19</td>\n",
       "      <td>-0.15</td>\n",
       "      <td>0.03</td>\n",
       "      <td>-0.39</td>\n",
       "      <td>-0.34</td>\n",
       "      <td>0.16</td>\n",
       "      <td>0.40</td>\n",
       "      <td>-0.52</td>\n",
       "      <td>0.00</td>\n",
       "      <td>1.00</td>\n",
       "      <td>0.00</td>\n",
       "    </tr>\n",
       "    <tr>\n",
       "      <th>75%</th>\n",
       "      <td>0.67</td>\n",
       "      <td>0.68</td>\n",
       "      <td>0.68</td>\n",
       "      <td>0.67</td>\n",
       "      <td>0.67</td>\n",
       "      <td>0.68</td>\n",
       "      <td>0.67</td>\n",
       "      <td>3.00</td>\n",
       "      <td>3.00</td>\n",
       "      <td>3.00</td>\n",
       "      <td>3.00</td>\n",
       "      <td>3.00</td>\n",
       "      <td>4.00</td>\n",
       "      <td>3.00</td>\n",
       "      <td>2.00</td>\n",
       "      <td>3.00</td>\n",
       "      <td>3.00</td>\n",
       "      <td>3.00</td>\n",
       "      <td>3.00</td>\n",
       "      <td>1.88</td>\n",
       "      <td>1.44</td>\n",
       "      <td>1.51</td>\n",
       "      <td>1.66</td>\n",
       "      <td>1.26</td>\n",
       "      <td>1.27</td>\n",
       "      <td>1.80</td>\n",
       "      <td>2.03</td>\n",
       "      <td>158.99</td>\n",
       "      <td>1.00</td>\n",
       "      <td>2.00</td>\n",
       "      <td>1.00</td>\n",
       "    </tr>\n",
       "    <tr>\n",
       "      <th>95%</th>\n",
       "      <td>1.64</td>\n",
       "      <td>1.65</td>\n",
       "      <td>1.65</td>\n",
       "      <td>1.64</td>\n",
       "      <td>1.65</td>\n",
       "      <td>1.65</td>\n",
       "      <td>1.65</td>\n",
       "      <td>5.00</td>\n",
       "      <td>5.00</td>\n",
       "      <td>5.00</td>\n",
       "      <td>5.00</td>\n",
       "      <td>5.00</td>\n",
       "      <td>6.00</td>\n",
       "      <td>5.00</td>\n",
       "      <td>4.00</td>\n",
       "      <td>5.00</td>\n",
       "      <td>5.00</td>\n",
       "      <td>5.00</td>\n",
       "      <td>5.00</td>\n",
       "      <td>4.08</td>\n",
       "      <td>3.78</td>\n",
       "      <td>3.91</td>\n",
       "      <td>3.95</td>\n",
       "      <td>3.71</td>\n",
       "      <td>3.58</td>\n",
       "      <td>4.16</td>\n",
       "      <td>4.34</td>\n",
       "      <td>392.65</td>\n",
       "      <td>1.00</td>\n",
       "      <td>2.00</td>\n",
       "      <td>1.00</td>\n",
       "    </tr>\n",
       "    <tr>\n",
       "      <th>max</th>\n",
       "      <td>4.75</td>\n",
       "      <td>4.82</td>\n",
       "      <td>4.96</td>\n",
       "      <td>4.45</td>\n",
       "      <td>4.95</td>\n",
       "      <td>4.97</td>\n",
       "      <td>4.82</td>\n",
       "      <td>15.00</td>\n",
       "      <td>16.00</td>\n",
       "      <td>14.00</td>\n",
       "      <td>14.00</td>\n",
       "      <td>13.00</td>\n",
       "      <td>16.00</td>\n",
       "      <td>12.00</td>\n",
       "      <td>14.00</td>\n",
       "      <td>14.00</td>\n",
       "      <td>15.00</td>\n",
       "      <td>14.00</td>\n",
       "      <td>13.00</td>\n",
       "      <td>12.08</td>\n",
       "      <td>11.48</td>\n",
       "      <td>14.46</td>\n",
       "      <td>11.34</td>\n",
       "      <td>12.25</td>\n",
       "      <td>12.39</td>\n",
       "      <td>12.53</td>\n",
       "      <td>12.91</td>\n",
       "      <td>1,229.56</td>\n",
       "      <td>1.00</td>\n",
       "      <td>2.00</td>\n",
       "      <td>1.00</td>\n",
       "    </tr>\n",
       "  </tbody>\n",
       "</table>\n",
       "</div>"
      ],
      "text/plain": [
       "            f_00       f_01       f_02       f_03       f_04       f_05  \\\n",
       "count 900,000.00 900,000.00 900,000.00 900,000.00 900,000.00 900,000.00   \n",
       "mean       -0.00       0.00       0.00      -0.00      -0.00       0.00   \n",
       "std         1.00       1.00       1.00       1.00       1.00       1.00   \n",
       "min        -4.60      -4.68      -4.64      -4.66      -4.75      -4.75   \n",
       "5%         -1.64      -1.64      -1.65      -1.65      -1.64      -1.64   \n",
       "25%        -0.68      -0.68      -0.67      -0.68      -0.68      -0.67   \n",
       "50%         0.00       0.00       0.00      -0.00      -0.00      -0.00   \n",
       "75%         0.67       0.68       0.68       0.67       0.67       0.68   \n",
       "95%         1.64       1.65       1.65       1.64       1.65       1.65   \n",
       "max         4.75       4.82       4.96       4.45       4.95       4.97   \n",
       "\n",
       "            f_06       f_07       f_08       f_09       f_10       f_11  \\\n",
       "count 900,000.00 900,000.00 900,000.00 900,000.00 900,000.00 900,000.00   \n",
       "mean       -0.00       2.03       2.06       2.36       2.18       1.80   \n",
       "std         1.00       1.66       1.59       1.64       1.65       1.54   \n",
       "min        -4.84       0.00       0.00       0.00       0.00       0.00   \n",
       "5%         -1.65       0.00       0.00       0.00       0.00       0.00   \n",
       "25%        -0.67       1.00       1.00       1.00       1.00       1.00   \n",
       "50%        -0.00       2.00       2.00       2.00       2.00       2.00   \n",
       "75%         0.67       3.00       3.00       3.00       3.00       3.00   \n",
       "95%         1.65       5.00       5.00       5.00       5.00       5.00   \n",
       "max         4.82      15.00      16.00      14.00      14.00      13.00   \n",
       "\n",
       "            f_12       f_13       f_14       f_15       f_16       f_17  \\\n",
       "count 900,000.00 900,000.00 900,000.00 900,000.00 900,000.00 900,000.00   \n",
       "mean        2.84       2.24       1.51       2.10       2.10       1.86   \n",
       "std         1.76       1.54       1.36       1.57       1.56       1.47   \n",
       "min         0.00       0.00       0.00       0.00       0.00       0.00   \n",
       "5%          0.00       0.00       0.00       0.00       0.00       0.00   \n",
       "25%         2.00       1.00       0.00       1.00       1.00       1.00   \n",
       "50%         3.00       2.00       1.00       2.00       2.00       2.00   \n",
       "75%         4.00       3.00       2.00       3.00       3.00       3.00   \n",
       "95%         6.00       5.00       4.00       5.00       5.00       5.00   \n",
       "max        16.00      12.00      14.00      14.00      15.00      14.00   \n",
       "\n",
       "            f_18       f_19       f_20       f_21       f_22       f_23  \\\n",
       "count 900,000.00 900,000.00 900,000.00 900,000.00 900,000.00 900,000.00   \n",
       "mean        2.07       0.31      -0.18      -0.16      -0.01      -0.37   \n",
       "std         1.56       2.32       2.40       2.48       2.45       2.45   \n",
       "min         0.00     -11.28     -11.26     -13.31     -11.85     -12.30   \n",
       "5%          0.00      -3.53      -4.11      -4.24      -4.11      -4.36   \n",
       "25%         1.00      -1.24      -1.80      -1.82      -1.65      -2.02   \n",
       "50%         2.00       0.33      -0.19      -0.15       0.03      -0.39   \n",
       "75%         3.00       1.88       1.44       1.51       1.66       1.26   \n",
       "95%         5.00       4.08       3.78       3.91       3.95       3.71   \n",
       "max        13.00      12.08      11.48      14.46      11.34      12.25   \n",
       "\n",
       "            f_24       f_25       f_26       f_28       f_29       f_30  \\\n",
       "count 900,000.00 900,000.00 900,000.00 900,000.00 900,000.00 900,000.00   \n",
       "mean       -0.34       0.18       0.36      -0.38       0.35       1.00   \n",
       "std         2.39       2.42       2.48     238.77       0.48       0.82   \n",
       "min       -11.42     -11.92     -14.30  -1,229.75       0.00       0.00   \n",
       "5%         -4.26      -3.77      -3.78    -392.09       0.00       0.00   \n",
       "25%        -1.96      -1.44      -1.26    -159.43       0.00       0.00   \n",
       "50%        -0.34       0.16       0.40      -0.52       0.00       1.00   \n",
       "75%         1.27       1.80       2.03     158.99       1.00       2.00   \n",
       "95%         3.58       4.16       4.34     392.65       1.00       2.00   \n",
       "max        12.39      12.53      12.91   1,229.56       1.00       2.00   \n",
       "\n",
       "          target  \n",
       "count 900,000.00  \n",
       "mean        0.49  \n",
       "std         0.50  \n",
       "min         0.00  \n",
       "5%          0.00  \n",
       "25%         0.00  \n",
       "50%         0.00  \n",
       "75%         1.00  \n",
       "95%         1.00  \n",
       "max         1.00  "
      ]
     },
     "execution_count": 34,
     "metadata": {},
     "output_type": "execute_result"
    }
   ],
   "source": [
    "trn_data.describe(percentiles = [0.05, 0.25, 0.50, 0.75, 0.95])"
   ]
  },
  {
   "cell_type": "markdown",
   "metadata": {},
   "source": [
    "### Correlation \\& Feature Engineering"
   ]
  },
  {
   "cell_type": "code",
   "execution_count": 46,
   "metadata": {
    "ExecuteTime": {
     "end_time": "2022-05-08T17:16:44.094544Z",
     "start_time": "2022-05-08T17:16:41.184259Z"
    },
    "deletable": false,
    "editable": false,
    "run_control": {
     "frozen": true
    }
   },
   "outputs": [
    {
     "data": {
      "image/png": "[encoded data removed]",
      "text/plain": [
       "<Figure size 1512x504 with 2 Axes>"
      ]
     },
     "metadata": {},
     "output_type": "display_data"
    }
   ],
   "source": [
    "corr_heatmap(trn_data, annot_threshold = 0.1)\n",
    "\n",
    "plt.title(\"Correlation Heat-Map\")\n",
    "plt.show()"
   ]
  },
  {
   "cell_type": "code",
   "execution_count": 54,
   "metadata": {
    "ExecuteTime": {
     "end_time": "2022-05-09T14:30:01.132257Z",
     "start_time": "2022-05-09T14:29:57.677266Z"
    },
    "deletable": false,
    "editable": false,
    "run_control": {
     "frozen": true
    }
   },
   "outputs": [
    {
     "data": {
      "image/png": "[encoded data removed]",
      "text/plain": [
       "<Figure size 1512x504 with 1 Axes>"
      ]
     },
     "metadata": {},
     "output_type": "display_data"
    }
   ],
   "source": [
    "# no value has much correlation\n",
    "# let's check the individual values against target\n",
    "corr = trn_data[num_cols + [\"target\"]].corr(method = \"spearman\").round(3)\n",
    "\n",
    "# get correlation of all features against target variable\n",
    "corr = corr.iloc[:-1, -1].sort_values(ascending = False).reset_index()\n",
    "\n",
    "axs = sns.barplot(x = \"index\", y = \"target\", data = corr, palette = sns.color_palette(\"RdYlBu\", len(num_cols)).as_hex())\n",
    "\n",
    "# show corr value on graph\n",
    "corr_ = corr[\"target\"].values\n",
    "for tick in range(len(axs.get_xticklabels())):\n",
    "    y_pos = corr_[tick] + 5e-4 if corr_[tick] >= 0 else corr_[tick] - 6e-3\n",
    "    axs.text(tick, y_pos, str(corr_[tick]), ha = \"center\", weight = \"bold\")\n",
    "    \n",
    "axs.set(xlabel = \"Feature Name\")\n",
    "axs.set(ylabel = \"Spearman Correlation\")\n",
    "\n",
    "plt.title(\"Correlation of Numerical Variables against `target` Variable\")\n",
    "plt.show()"
   ]
  },
  {
   "cell_type": "markdown",
   "metadata": {},
   "source": [
    "From correlation heat map, it is evident that there is no column which shares a strong relation with the target variable. In this type of cases, feature engineering may improve the prediction results significantly. Thus, let's perform the following feature engineering."
   ]
  },
  {
   "cell_type": "markdown",
   "metadata": {},
   "source": [
    "#### Categorical Variable \\& One-Hot Encoding\n",
    "\n",
    "Let's first check the number of unique values for each given features (excluding *target variable*). Also from the data sample we know that `f_27` is already a *categorical variable*, however we can see that the number of unique count is high (so some special attention for this column)."
   ]
  },
  {
   "cell_type": "code",
   "execution_count": 48,
   "metadata": {
    "ExecuteTime": {
     "end_time": "2022-05-08T17:26:23.652663Z",
     "start_time": "2022-05-08T17:26:22.542592Z"
    },
    "deletable": false,
    "editable": false,
    "run_control": {
     "frozen": true
    }
   },
   "outputs": [
    {
     "data": {
      "text/plain": [
       "f_29         2\n",
       "f_30         3\n",
       "f_13        13\n",
       "f_18        14\n",
       "f_17        14\n",
       "f_14        14\n",
       "f_11        14\n",
       "f_10        15\n",
       "f_09        15\n",
       "f_15        15\n",
       "f_07        16\n",
       "f_12        16\n",
       "f_16        16\n",
       "f_08        16\n",
       "f_27    741354\n",
       "f_28    900000\n",
       "f_26    900000\n",
       "f_25    900000\n",
       "f_24    900000\n",
       "f_23    900000\n",
       "f_22    900000\n",
       "f_20    900000\n",
       "f_19    900000\n",
       "f_01    900000\n",
       "f_02    900000\n",
       "f_03    900000\n",
       "f_04    900000\n",
       "f_05    900000\n",
       "f_06    900000\n",
       "f_21    900000\n",
       "f_00    900000\n",
       "dtype: int64"
      ]
     },
     "execution_count": 48,
     "metadata": {},
     "output_type": "execute_result"
    }
   ],
   "source": [
    "trn_data.drop(columns = \"target\").nunique().sort_values(ascending = True) # check unique value count"
   ]
  },
  {
   "cell_type": "markdown",
   "metadata": {},
   "source": [
    "Let's check the data of only the identified categorical data. For this, using the `np.where` functionality to filter the column names."
   ]
  },
  {
   "cell_type": "code",
   "execution_count": 50,
   "metadata": {
    "ExecuteTime": {
     "end_time": "2022-05-08T17:30:15.509280Z",
     "start_time": "2022-05-08T17:30:15.443131Z"
    },
    "deletable": false,
    "editable": false,
    "run_control": {
     "frozen": true
    }
   },
   "outputs": [
    {
     "data": {
      "text/html": [
       "<div>\n",
       "<style scoped>\n",
       "    .dataframe tbody tr th:only-of-type {\n",
       "        vertical-align: middle;\n",
       "    }\n",
       "\n",
       "    .dataframe tbody tr th {\n",
       "        vertical-align: top;\n",
       "    }\n",
       "\n",
       "    .dataframe thead th {\n",
       "        text-align: right;\n",
       "    }\n",
       "</style>\n",
       "<table border=\"1\" class=\"dataframe\">\n",
       "  <thead>\n",
       "    <tr style=\"text-align: right;\">\n",
       "      <th></th>\n",
       "      <th>f_07</th>\n",
       "      <th>f_08</th>\n",
       "      <th>f_09</th>\n",
       "      <th>f_10</th>\n",
       "      <th>f_11</th>\n",
       "      <th>f_12</th>\n",
       "      <th>f_13</th>\n",
       "      <th>f_14</th>\n",
       "      <th>f_15</th>\n",
       "      <th>f_16</th>\n",
       "      <th>f_17</th>\n",
       "      <th>f_18</th>\n",
       "      <th>f_29</th>\n",
       "      <th>f_30</th>\n",
       "    </tr>\n",
       "    <tr>\n",
       "      <th>id</th>\n",
       "      <th></th>\n",
       "      <th></th>\n",
       "      <th></th>\n",
       "      <th></th>\n",
       "      <th></th>\n",
       "      <th></th>\n",
       "      <th></th>\n",
       "      <th></th>\n",
       "      <th></th>\n",
       "      <th></th>\n",
       "      <th></th>\n",
       "      <th></th>\n",
       "      <th></th>\n",
       "      <th></th>\n",
       "    </tr>\n",
       "  </thead>\n",
       "  <tbody>\n",
       "    <tr>\n",
       "      <th>874189</th>\n",
       "      <td>1</td>\n",
       "      <td>1</td>\n",
       "      <td>3</td>\n",
       "      <td>7</td>\n",
       "      <td>5</td>\n",
       "      <td>3</td>\n",
       "      <td>1</td>\n",
       "      <td>0</td>\n",
       "      <td>2</td>\n",
       "      <td>0</td>\n",
       "      <td>1</td>\n",
       "      <td>1</td>\n",
       "      <td>1</td>\n",
       "      <td>2</td>\n",
       "    </tr>\n",
       "    <tr>\n",
       "      <th>496397</th>\n",
       "      <td>1</td>\n",
       "      <td>0</td>\n",
       "      <td>0</td>\n",
       "      <td>2</td>\n",
       "      <td>1</td>\n",
       "      <td>0</td>\n",
       "      <td>3</td>\n",
       "      <td>3</td>\n",
       "      <td>1</td>\n",
       "      <td>3</td>\n",
       "      <td>3</td>\n",
       "      <td>1</td>\n",
       "      <td>1</td>\n",
       "      <td>1</td>\n",
       "    </tr>\n",
       "    <tr>\n",
       "      <th>238913</th>\n",
       "      <td>0</td>\n",
       "      <td>4</td>\n",
       "      <td>4</td>\n",
       "      <td>0</td>\n",
       "      <td>1</td>\n",
       "      <td>2</td>\n",
       "      <td>2</td>\n",
       "      <td>1</td>\n",
       "      <td>3</td>\n",
       "      <td>1</td>\n",
       "      <td>3</td>\n",
       "      <td>1</td>\n",
       "      <td>0</td>\n",
       "      <td>1</td>\n",
       "    </tr>\n",
       "    <tr>\n",
       "      <th>86127</th>\n",
       "      <td>2</td>\n",
       "      <td>1</td>\n",
       "      <td>0</td>\n",
       "      <td>3</td>\n",
       "      <td>4</td>\n",
       "      <td>3</td>\n",
       "      <td>3</td>\n",
       "      <td>0</td>\n",
       "      <td>1</td>\n",
       "      <td>3</td>\n",
       "      <td>0</td>\n",
       "      <td>2</td>\n",
       "      <td>1</td>\n",
       "      <td>0</td>\n",
       "    </tr>\n",
       "    <tr>\n",
       "      <th>565713</th>\n",
       "      <td>3</td>\n",
       "      <td>4</td>\n",
       "      <td>4</td>\n",
       "      <td>4</td>\n",
       "      <td>2</td>\n",
       "      <td>3</td>\n",
       "      <td>2</td>\n",
       "      <td>1</td>\n",
       "      <td>5</td>\n",
       "      <td>1</td>\n",
       "      <td>4</td>\n",
       "      <td>2</td>\n",
       "      <td>1</td>\n",
       "      <td>2</td>\n",
       "    </tr>\n",
       "  </tbody>\n",
       "</table>\n",
       "</div>"
      ],
      "text/plain": [
       "        f_07  f_08  f_09  f_10  f_11  f_12  f_13  f_14  f_15  f_16  f_17  \\\n",
       "id                                                                         \n",
       "874189     1     1     3     7     5     3     1     0     2     0     1   \n",
       "496397     1     0     0     2     1     0     3     3     1     3     3   \n",
       "238913     0     4     4     0     1     2     2     1     3     1     3   \n",
       "86127      2     1     0     3     4     3     3     0     1     3     0   \n",
       "565713     3     4     4     4     2     3     2     1     5     1     4   \n",
       "\n",
       "        f_18  f_29  f_30  \n",
       "id                        \n",
       "874189     1     1     2  \n",
       "496397     1     1     1  \n",
       "238913     1     0     1  \n",
       "86127      2     1     0  \n",
       "565713     2     1     2  "
      ]
     },
     "execution_count": 50,
     "metadata": {},
     "output_type": "execute_result"
    }
   ],
   "source": [
    "trn_data[cat_cols].sample(5)"
   ]
  },
  {
   "cell_type": "code",
   "execution_count": 55,
   "metadata": {
    "ExecuteTime": {
     "end_time": "2022-05-08T17:36:44.395860Z",
     "start_time": "2022-05-08T17:36:44.306218Z"
    },
    "deletable": false,
    "editable": false,
    "run_control": {
     "frozen": true
    }
   },
   "outputs": [
    {
     "data": {
      "text/plain": [
       "{'f_07': [0, 1, 2, 3, 4, 5, 6, 7, 8, 9, 10, 11, 12, 13, 14, 15],\n",
       " 'f_08': [0, 1, 2, 3, 4, 5, 6, 7, 8, 9, 10, 11, 12, 13, 14, 16],\n",
       " 'f_09': [0, 1, 2, 3, 4, 5, 6, 7, 8, 9, 10, 11, 12, 13, 14],\n",
       " 'f_10': [0, 1, 2, 3, 4, 5, 6, 7, 8, 9, 10, 11, 12, 13, 14],\n",
       " 'f_11': [0, 1, 2, 3, 4, 5, 6, 7, 8, 9, 10, 11, 12, 13],\n",
       " 'f_12': [0, 1, 2, 3, 4, 5, 6, 7, 8, 9, 10, 11, 12, 13, 14, 16],\n",
       " 'f_13': [0, 1, 2, 3, 4, 5, 6, 7, 8, 9, 10, 11, 12],\n",
       " 'f_14': [0, 1, 2, 3, 4, 5, 6, 7, 8, 9, 10, 11, 12, 14],\n",
       " 'f_15': [0, 1, 2, 3, 4, 5, 6, 7, 8, 9, 10, 11, 12, 13, 14],\n",
       " 'f_16': [0, 1, 2, 3, 4, 5, 6, 7, 8, 9, 10, 11, 12, 13, 14, 15],\n",
       " 'f_17': [0, 1, 2, 3, 4, 5, 6, 7, 8, 9, 10, 11, 12, 14],\n",
       " 'f_18': [0, 1, 2, 3, 4, 5, 6, 7, 8, 9, 10, 11, 12, 13],\n",
       " 'f_29': [0, 1],\n",
       " 'f_30': [0, 1, 2]}"
      ]
     },
     "execution_count": 55,
     "metadata": {},
     "output_type": "execute_result"
    }
   ],
   "source": [
    "# let's check the unique values\n",
    "{col : sorted(trn_data[col].unique().tolist()) for col in cat_cols}"
   ]
  },
  {
   "cell_type": "code",
   "execution_count": 105,
   "metadata": {
    "ExecuteTime": {
     "end_time": "2022-05-09T13:37:21.959170Z",
     "start_time": "2022-05-09T13:37:21.871556Z"
    },
    "deletable": false,
    "editable": false,
    "run_control": {
     "frozen": true
    }
   },
   "outputs": [
    {
     "data": {
      "text/plain": [
       "{'f_07': [0, 1, 2, 3, 4, 5, 6, 7, 8, 9, 10, 11, 12, 13, 15, 16],\n",
       " 'f_08': [0, 1, 2, 3, 4, 5, 6, 7, 8, 9, 10, 11, 12, 13],\n",
       " 'f_09': [0, 1, 2, 3, 4, 5, 6, 7, 8, 9, 10, 11, 12, 13, 14, 16],\n",
       " 'f_10': [0, 1, 2, 3, 4, 5, 6, 7, 8, 9, 10, 11, 12, 13, 14, 15],\n",
       " 'f_11': [0, 1, 2, 3, 4, 5, 6, 7, 8, 9, 10, 11, 12, 13, 14],\n",
       " 'f_12': [0, 1, 2, 3, 4, 5, 6, 7, 8, 9, 10, 11, 12, 13, 14, 15],\n",
       " 'f_13': [0, 1, 2, 3, 4, 5, 6, 7, 8, 9, 10, 11, 12, 13],\n",
       " 'f_14': [0, 1, 2, 3, 4, 5, 6, 7, 8, 9, 10, 11, 12],\n",
       " 'f_15': [0, 1, 2, 3, 4, 5, 6, 7, 8, 9, 10, 11, 12, 14],\n",
       " 'f_16': [0, 1, 2, 3, 4, 5, 6, 7, 8, 9, 10, 11, 12, 13],\n",
       " 'f_17': [0, 1, 2, 3, 4, 5, 6, 7, 8, 9, 10, 11, 12, 13],\n",
       " 'f_18': [0, 1, 2, 3, 4, 5, 6, 7, 8, 9, 10, 11, 12, 13],\n",
       " 'f_29': [0, 1],\n",
       " 'f_30': [0, 1, 2]}"
      ]
     },
     "execution_count": 105,
     "metadata": {},
     "output_type": "execute_result"
    }
   ],
   "source": [
    "# let's check the unique values\n",
    "{col : sorted(tst_data[col].unique().tolist()) for col in cat_cols}"
   ]
  },
  {
   "cell_type": "markdown",
   "metadata": {},
   "source": [
    "Thus, considering the above detected variables, implementing the *one hot encoding* method in the `read_file` method, to make our life easy! Also, the original columns are deleted, as they are not required."
   ]
  },
  {
   "cell_type": "code",
   "execution_count": 33,
   "metadata": {
    "ExecuteTime": {
     "end_time": "2022-05-08T18:12:30.653471Z",
     "start_time": "2022-05-08T18:12:30.606999Z"
    },
    "deletable": false,
    "editable": false,
    "run_control": {
     "frozen": true
    },
    "scrolled": true
   },
   "outputs": [
    {
     "data": {
      "text/html": [
       "<div>\n",
       "<style scoped>\n",
       "    .dataframe tbody tr th:only-of-type {\n",
       "        vertical-align: middle;\n",
       "    }\n",
       "\n",
       "    .dataframe tbody tr th {\n",
       "        vertical-align: top;\n",
       "    }\n",
       "\n",
       "    .dataframe thead th {\n",
       "        text-align: right;\n",
       "    }\n",
       "</style>\n",
       "<table border=\"1\" class=\"dataframe\">\n",
       "  <thead>\n",
       "    <tr style=\"text-align: right;\">\n",
       "      <th></th>\n",
       "      <th>f_00</th>\n",
       "      <th>f_01</th>\n",
       "      <th>f_02</th>\n",
       "      <th>f_03</th>\n",
       "      <th>f_04</th>\n",
       "      <th>f_05</th>\n",
       "      <th>f_06</th>\n",
       "      <th>f_19</th>\n",
       "      <th>f_20</th>\n",
       "      <th>f_21</th>\n",
       "      <th>f_22</th>\n",
       "      <th>f_23</th>\n",
       "      <th>f_24</th>\n",
       "      <th>f_25</th>\n",
       "      <th>f_26</th>\n",
       "      <th>f_28</th>\n",
       "      <th>target</th>\n",
       "      <th>...</th>\n",
       "      <th>f_17_14</th>\n",
       "      <th>f_18_1</th>\n",
       "      <th>f_18_2</th>\n",
       "      <th>f_18_3</th>\n",
       "      <th>f_18_4</th>\n",
       "      <th>f_18_5</th>\n",
       "      <th>f_18_6</th>\n",
       "      <th>f_18_7</th>\n",
       "      <th>f_18_8</th>\n",
       "      <th>f_18_9</th>\n",
       "      <th>f_18_10</th>\n",
       "      <th>f_18_11</th>\n",
       "      <th>f_18_12</th>\n",
       "      <th>f_18_13</th>\n",
       "      <th>f_29_1</th>\n",
       "      <th>f_30_1</th>\n",
       "      <th>f_30_2</th>\n",
       "    </tr>\n",
       "    <tr>\n",
       "      <th>id</th>\n",
       "      <th></th>\n",
       "      <th></th>\n",
       "      <th></th>\n",
       "      <th></th>\n",
       "      <th></th>\n",
       "      <th></th>\n",
       "      <th></th>\n",
       "      <th></th>\n",
       "      <th></th>\n",
       "      <th></th>\n",
       "      <th></th>\n",
       "      <th></th>\n",
       "      <th></th>\n",
       "      <th></th>\n",
       "      <th></th>\n",
       "      <th></th>\n",
       "      <th></th>\n",
       "      <th></th>\n",
       "      <th></th>\n",
       "      <th></th>\n",
       "      <th></th>\n",
       "      <th></th>\n",
       "      <th></th>\n",
       "      <th></th>\n",
       "      <th></th>\n",
       "      <th></th>\n",
       "      <th></th>\n",
       "      <th></th>\n",
       "      <th></th>\n",
       "      <th></th>\n",
       "      <th></th>\n",
       "      <th></th>\n",
       "      <th></th>\n",
       "      <th></th>\n",
       "      <th></th>\n",
       "    </tr>\n",
       "  </thead>\n",
       "  <tbody>\n",
       "    <tr>\n",
       "      <th>203867</th>\n",
       "      <td>-1.10</td>\n",
       "      <td>-1.31</td>\n",
       "      <td>0.56</td>\n",
       "      <td>-0.21</td>\n",
       "      <td>1.85</td>\n",
       "      <td>0.18</td>\n",
       "      <td>0.02</td>\n",
       "      <td>0.34</td>\n",
       "      <td>-1.28</td>\n",
       "      <td>-1.01</td>\n",
       "      <td>-1.38</td>\n",
       "      <td>0.91</td>\n",
       "      <td>1.66</td>\n",
       "      <td>0.32</td>\n",
       "      <td>2.33</td>\n",
       "      <td>87.62</td>\n",
       "      <td>1</td>\n",
       "      <td>...</td>\n",
       "      <td>0</td>\n",
       "      <td>0</td>\n",
       "      <td>0</td>\n",
       "      <td>0</td>\n",
       "      <td>0</td>\n",
       "      <td>0</td>\n",
       "      <td>0</td>\n",
       "      <td>0</td>\n",
       "      <td>0</td>\n",
       "      <td>0</td>\n",
       "      <td>0</td>\n",
       "      <td>0</td>\n",
       "      <td>0</td>\n",
       "      <td>0</td>\n",
       "      <td>0</td>\n",
       "      <td>0</td>\n",
       "      <td>0</td>\n",
       "    </tr>\n",
       "    <tr>\n",
       "      <th>369825</th>\n",
       "      <td>-0.88</td>\n",
       "      <td>-1.29</td>\n",
       "      <td>1.76</td>\n",
       "      <td>-1.79</td>\n",
       "      <td>0.28</td>\n",
       "      <td>0.21</td>\n",
       "      <td>-0.93</td>\n",
       "      <td>0.98</td>\n",
       "      <td>-0.53</td>\n",
       "      <td>1.86</td>\n",
       "      <td>-3.69</td>\n",
       "      <td>2.70</td>\n",
       "      <td>1.73</td>\n",
       "      <td>-1.35</td>\n",
       "      <td>0.31</td>\n",
       "      <td>-488.50</td>\n",
       "      <td>1</td>\n",
       "      <td>...</td>\n",
       "      <td>0</td>\n",
       "      <td>0</td>\n",
       "      <td>1</td>\n",
       "      <td>0</td>\n",
       "      <td>0</td>\n",
       "      <td>0</td>\n",
       "      <td>0</td>\n",
       "      <td>0</td>\n",
       "      <td>0</td>\n",
       "      <td>0</td>\n",
       "      <td>0</td>\n",
       "      <td>0</td>\n",
       "      <td>0</td>\n",
       "      <td>0</td>\n",
       "      <td>0</td>\n",
       "      <td>0</td>\n",
       "      <td>0</td>\n",
       "    </tr>\n",
       "    <tr>\n",
       "      <th>379045</th>\n",
       "      <td>0.69</td>\n",
       "      <td>0.94</td>\n",
       "      <td>0.73</td>\n",
       "      <td>-1.18</td>\n",
       "      <td>-0.45</td>\n",
       "      <td>0.70</td>\n",
       "      <td>-1.35</td>\n",
       "      <td>-7.12</td>\n",
       "      <td>-1.25</td>\n",
       "      <td>-2.66</td>\n",
       "      <td>3.51</td>\n",
       "      <td>1.03</td>\n",
       "      <td>4.48</td>\n",
       "      <td>4.53</td>\n",
       "      <td>-3.38</td>\n",
       "      <td>-167.12</td>\n",
       "      <td>1</td>\n",
       "      <td>...</td>\n",
       "      <td>0</td>\n",
       "      <td>0</td>\n",
       "      <td>1</td>\n",
       "      <td>0</td>\n",
       "      <td>0</td>\n",
       "      <td>0</td>\n",
       "      <td>0</td>\n",
       "      <td>0</td>\n",
       "      <td>0</td>\n",
       "      <td>0</td>\n",
       "      <td>0</td>\n",
       "      <td>0</td>\n",
       "      <td>0</td>\n",
       "      <td>0</td>\n",
       "      <td>0</td>\n",
       "      <td>1</td>\n",
       "      <td>0</td>\n",
       "    </tr>\n",
       "    <tr>\n",
       "      <th>274848</th>\n",
       "      <td>-0.19</td>\n",
       "      <td>-0.94</td>\n",
       "      <td>0.34</td>\n",
       "      <td>-2.16</td>\n",
       "      <td>0.85</td>\n",
       "      <td>1.37</td>\n",
       "      <td>0.60</td>\n",
       "      <td>1.03</td>\n",
       "      <td>5.20</td>\n",
       "      <td>0.91</td>\n",
       "      <td>0.17</td>\n",
       "      <td>3.10</td>\n",
       "      <td>-3.01</td>\n",
       "      <td>-2.61</td>\n",
       "      <td>-1.37</td>\n",
       "      <td>-50.91</td>\n",
       "      <td>0</td>\n",
       "      <td>...</td>\n",
       "      <td>0</td>\n",
       "      <td>0</td>\n",
       "      <td>1</td>\n",
       "      <td>0</td>\n",
       "      <td>0</td>\n",
       "      <td>0</td>\n",
       "      <td>0</td>\n",
       "      <td>0</td>\n",
       "      <td>0</td>\n",
       "      <td>0</td>\n",
       "      <td>0</td>\n",
       "      <td>0</td>\n",
       "      <td>0</td>\n",
       "      <td>0</td>\n",
       "      <td>0</td>\n",
       "      <td>0</td>\n",
       "      <td>0</td>\n",
       "    </tr>\n",
       "    <tr>\n",
       "      <th>725608</th>\n",
       "      <td>0.08</td>\n",
       "      <td>-1.43</td>\n",
       "      <td>-0.03</td>\n",
       "      <td>1.70</td>\n",
       "      <td>-0.87</td>\n",
       "      <td>-0.14</td>\n",
       "      <td>0.79</td>\n",
       "      <td>1.90</td>\n",
       "      <td>-0.03</td>\n",
       "      <td>-0.81</td>\n",
       "      <td>1.05</td>\n",
       "      <td>-0.82</td>\n",
       "      <td>0.04</td>\n",
       "      <td>-0.76</td>\n",
       "      <td>0.28</td>\n",
       "      <td>186.25</td>\n",
       "      <td>0</td>\n",
       "      <td>...</td>\n",
       "      <td>0</td>\n",
       "      <td>0</td>\n",
       "      <td>0</td>\n",
       "      <td>0</td>\n",
       "      <td>1</td>\n",
       "      <td>0</td>\n",
       "      <td>0</td>\n",
       "      <td>0</td>\n",
       "      <td>0</td>\n",
       "      <td>0</td>\n",
       "      <td>0</td>\n",
       "      <td>0</td>\n",
       "      <td>0</td>\n",
       "      <td>0</td>\n",
       "      <td>1</td>\n",
       "      <td>0</td>\n",
       "      <td>0</td>\n",
       "    </tr>\n",
       "  </tbody>\n",
       "</table>\n",
       "<p>5 rows × 187 columns</p>\n",
       "</div>"
      ],
      "text/plain": [
       "        f_00  f_01  f_02  f_03  f_04  f_05  f_06  f_19  f_20  f_21  f_22  \\\n",
       "id                                                                         \n",
       "203867 -1.10 -1.31  0.56 -0.21  1.85  0.18  0.02  0.34 -1.28 -1.01 -1.38   \n",
       "369825 -0.88 -1.29  1.76 -1.79  0.28  0.21 -0.93  0.98 -0.53  1.86 -3.69   \n",
       "379045  0.69  0.94  0.73 -1.18 -0.45  0.70 -1.35 -7.12 -1.25 -2.66  3.51   \n",
       "274848 -0.19 -0.94  0.34 -2.16  0.85  1.37  0.60  1.03  5.20  0.91  0.17   \n",
       "725608  0.08 -1.43 -0.03  1.70 -0.87 -0.14  0.79  1.90 -0.03 -0.81  1.05   \n",
       "\n",
       "        f_23  f_24  f_25  f_26    f_28 target  ... f_17_14 f_18_1 f_18_2  \\\n",
       "id                                             ...                         \n",
       "203867  0.91  1.66  0.32  2.33   87.62      1  ...       0      0      0   \n",
       "369825  2.70  1.73 -1.35  0.31 -488.50      1  ...       0      0      1   \n",
       "379045  1.03  4.48  4.53 -3.38 -167.12      1  ...       0      0      1   \n",
       "274848  3.10 -3.01 -2.61 -1.37  -50.91      0  ...       0      0      1   \n",
       "725608 -0.82  0.04 -0.76  0.28  186.25      0  ...       0      0      0   \n",
       "\n",
       "       f_18_3 f_18_4 f_18_5 f_18_6 f_18_7 f_18_8 f_18_9 f_18_10 f_18_11  \\\n",
       "id                                                                        \n",
       "203867      0      0      0      0      0      0      0       0       0   \n",
       "369825      0      0      0      0      0      0      0       0       0   \n",
       "379045      0      0      0      0      0      0      0       0       0   \n",
       "274848      0      0      0      0      0      0      0       0       0   \n",
       "725608      0      1      0      0      0      0      0       0       0   \n",
       "\n",
       "       f_18_12 f_18_13 f_29_1 f_30_1 f_30_2  \n",
       "id                                           \n",
       "203867       0       0      0      0      0  \n",
       "369825       0       0      0      0      0  \n",
       "379045       0       0      0      1      0  \n",
       "274848       0       0      0      0      0  \n",
       "725608       0       0      1      0      0  \n",
       "\n",
       "[5 rows x 187 columns]"
      ]
     },
     "execution_count": 33,
     "metadata": {},
     "output_type": "execute_result"
    }
   ],
   "source": [
    "trn_data.sample(5)"
   ]
  },
  {
   "cell_type": "markdown",
   "metadata": {},
   "source": [
    "#### EDA on Numerical Variables"
   ]
  },
  {
   "cell_type": "code",
   "execution_count": 101,
   "metadata": {
    "ExecuteTime": {
     "end_time": "2022-05-09T08:52:19.265789Z",
     "start_time": "2022-05-09T08:52:12.569378Z"
    },
    "deletable": false,
    "editable": false,
    "run_control": {
     "frozen": true
    },
    "scrolled": false
   },
   "outputs": [
    {
     "data": {
      "image/png": "[encoded data removed]",
      "text/plain": [
       "<Figure size 1512x1728 with 16 Axes>"
      ]
     },
     "metadata": {},
     "output_type": "display_data"
    }
   ],
   "source": [
    "fig, axs = plt.subplots(4, 4, figsize = (21, 24))\n",
    "\n",
    "grouped = trn_data.groupby(\"target\").agg([\"median\", \"min\", \"max\"])\n",
    "axs = axs.ravel() # https://stackoverflow.com/a/17211410/6623589\n",
    "for idx, col in enumerate(num_cols):\n",
    "    # sns.boxplot with axs https://stackoverflow.com/a/41384984/6623589\n",
    "    g = sns.boxplot(x = \"target\", y = col, data = trn_data, palette = [\"#38A6A5\", \"#E1B580\"], ax = axs[idx])\n",
    "    \n",
    "    # https://stackoverflow.com/a/58476779/6623589\n",
    "    g.set(title = \"Feature: \" + col.split(\"_\")[1])\n",
    "    g.set(ylabel = None)\n",
    "    \n",
    "    # also display statistican values in boxplot\n",
    "    mins = np.round(grouped[col, \"min\"].values, 2)\n",
    "    maxs = np.round(grouped[col, \"max\"].values, 2)\n",
    "    medians = np.round(grouped[col, \"median\"].values, 2)\n",
    "    \n",
    "    ind = 0\n",
    "    for tick in range(len(g.get_xticklabels())):\n",
    "        # adding min and max values\n",
    "        g.text(tick + 0.2, mins[ind + 1] - 0.05, str(mins[ind + 1]), ha = \"center\")\n",
    "        g.text(tick + 0.2, maxs[ind + 1] - 0.05, str(maxs[ind + 1]), ha = \"center\")\n",
    "        \n",
    "        # adding median value\n",
    "        # https://stackoverflow.com/a/45476485/6623589\n",
    "        g.text(tick, medians[ind + 1] + 0.2, str(medians[ind + 1]), ha = \"center\", color = \"white\", weight = \"semibold\")\n",
    "    \n",
    "plt.suptitle(\"Distribution of Numerical Variables\")\n",
    "plt.tight_layout(rect=[0, 0.2, 1, 0.99])\n",
    "plt.show()"
   ]
  },
  {
   "cell_type": "markdown",
   "metadata": {},
   "source": [
    "## Deep Learning Application\n",
    "\n",
    "TPS May 2022 is a binary classification problem. For this, initially a basic *base model* is developed by applying *Polynomial Regression* on training data, and thus defining a base/minimum accuracy."
   ]
  },
  {
   "cell_type": "code",
   "execution_count": 32,
   "metadata": {
    "ExecuteTime": {
     "end_time": "2022-05-26T04:04:36.525033Z",
     "start_time": "2022-05-26T04:04:36.338387Z"
    }
   },
   "outputs": [],
   "source": [
    "# training data\n",
    "x_train = trn_data.drop(columns = \"target\").values\n",
    "y_train = trn_data[\"target\"].values\n",
    "\n",
    "# testing data\n",
    "x_test = tst_data.values"
   ]
  },
  {
   "cell_type": "markdown",
   "metadata": {},
   "source": [
    "### Data Scaling"
   ]
  },
  {
   "cell_type": "code",
   "execution_count": 33,
   "metadata": {
    "ExecuteTime": {
     "end_time": "2022-05-26T04:04:38.575638Z",
     "start_time": "2022-05-26T04:04:38.139406Z"
    },
    "deletable": false,
    "editable": false
   },
   "outputs": [],
   "source": [
    "scalar = StandardScaler()\n",
    "\n",
    "x_train_sc = scalar.fit_transform(x_train)\n",
    "x_test_sc = scalar.transform(x_test)"
   ]
  },
  {
   "cell_type": "code",
   "execution_count": 71,
   "metadata": {
    "ExecuteTime": {
     "end_time": "2022-05-26T07:59:44.678801Z",
     "start_time": "2022-05-26T07:59:43.144560Z"
    },
    "deletable": false,
    "editable": false,
    "run_control": {
     "frozen": true
    }
   },
   "outputs": [],
   "source": [
    "# save to `np` object\n",
    "with open(join(DATA, \"processed\", \"TPSMay2022-ScaledData.npy\"), \"wb\") as f:\n",
    "    np.save(f, x_train_sc) # training scaled data\n",
    "    np.save(f, y_train) # order is important - as loaded"
   ]
  },
  {
   "cell_type": "code",
   "execution_count": 34,
   "metadata": {
    "ExecuteTime": {
     "end_time": "2022-05-26T04:04:43.166141Z",
     "start_time": "2022-05-26T04:04:43.146140Z"
    },
    "deletable": false,
    "editable": false,
    "run_control": {
     "frozen": true
    }
   },
   "outputs": [
    {
     "data": {
      "text/plain": [
       "((900000, 31), (900000,), (700000, 31))"
      ]
     },
     "execution_count": 34,
     "metadata": {},
     "output_type": "execute_result"
    }
   ],
   "source": [
    "x_train.shape, y_train.shape, x_test.shape"
   ]
  },
  {
   "cell_type": "code",
   "execution_count": 35,
   "metadata": {
    "ExecuteTime": {
     "end_time": "2022-05-26T04:04:43.186503Z",
     "start_time": "2022-05-26T04:04:43.168620Z"
    },
    "deletable": false,
    "editable": false,
    "run_control": {
     "frozen": true
    }
   },
   "outputs": [
    {
     "data": {
      "text/plain": [
       "((900000, 31), (700000, 31))"
      ]
     },
     "execution_count": 35,
     "metadata": {},
     "output_type": "execute_result"
    }
   ],
   "source": [
    "x_train_sc.shape, x_test_sc.shape"
   ]
  },
  {
   "cell_type": "code",
   "execution_count": 36,
   "metadata": {
    "ExecuteTime": {
     "end_time": "2022-05-26T04:04:48.311048Z",
     "start_time": "2022-05-26T04:04:48.225903Z"
    },
    "deletable": false,
    "editable": false
   },
   "outputs": [
    {
     "data": {
      "text/plain": [
       "(31, 2)"
      ]
     },
     "execution_count": 36,
     "metadata": {},
     "output_type": "execute_result"
    }
   ],
   "source": [
    "INPUT_SHAPE = x_train.shape[1]\n",
    "OUTPUT_SHAPE = len(set(y_train))\n",
    "\n",
    "INPUT_SHAPE, OUTPUT_SHAPE"
   ]
  },
  {
   "cell_type": "markdown",
   "metadata": {},
   "source": [
    "### Base Model"
   ]
  },
  {
   "cell_type": "code",
   "execution_count": 37,
   "metadata": {
    "ExecuteTime": {
     "end_time": "2022-05-26T04:04:50.730186Z",
     "start_time": "2022-05-26T04:04:50.234253Z"
    },
    "deletable": false,
    "editable": false
   },
   "outputs": [],
   "source": [
    "x_train_base, x_test_base, y_train_base, y_test_base = train_test_split(x_train_sc, y_train, test_size = 0.15, random_state = 7) # keep `test_size` for validation on other models"
   ]
  },
  {
   "cell_type": "code",
   "execution_count": 26,
   "metadata": {
    "ExecuteTime": {
     "end_time": "2022-05-25T08:40:22.670436Z",
     "start_time": "2022-05-25T08:40:22.664421Z"
    },
    "deletable": false,
    "editable": false,
    "run_control": {
     "frozen": true
    }
   },
   "outputs": [],
   "source": [
    "model = LinearRegression()\n",
    "model.fit(x_train_base, y_train_base) # fit regression model"
   ]
  },
  {
   "cell_type": "code",
   "execution_count": 29,
   "metadata": {
    "ExecuteTime": {
     "end_time": "2022-05-25T08:40:34.543692Z",
     "start_time": "2022-05-25T08:40:34.524696Z"
    },
    "deletable": false,
    "editable": false,
    "run_control": {
     "frozen": true
    }
   },
   "outputs": [],
   "source": [
    "# predict on test data, and display confusion matrix\n",
    "y_test_predicted = model.predict(x_test_base)\n",
    "\n",
    "# however, we can also set an threshold and directly predict 0/1\n",
    "# setting threshold based on the data distribution of training data (i.e. 51%)\n",
    "y_test_predicted_lim = np.array([1.0 if y_ >= 0.5135 else 0.0 for y_ in y_test_predicted])"
   ]
  },
  {
   "cell_type": "code",
   "execution_count": 30,
   "metadata": {
    "ExecuteTime": {
     "end_time": "2022-05-25T08:40:35.682334Z",
     "start_time": "2022-05-25T08:40:35.670338Z"
    },
    "deletable": false,
    "editable": false,
    "run_control": {
     "frozen": true
    }
   },
   "outputs": [
    {
     "name": "stdout",
     "output_type": "stream",
     "text": [
      "Mean Squared Error = 0.231\n"
     ]
    }
   ],
   "source": [
    "mse = mean_squared_error(y_test_base, y_test_predicted)\n",
    "print(f\"Mean Squared Error = {round(mse, 3)}\")"
   ]
  },
  {
   "cell_type": "code",
   "execution_count": 32,
   "metadata": {
    "ExecuteTime": {
     "end_time": "2022-05-25T08:40:44.819043Z",
     "start_time": "2022-05-25T08:40:44.574522Z"
    },
    "deletable": false,
    "editable": false,
    "run_control": {
     "frozen": true
    }
   },
   "outputs": [
    {
     "data": {
      "image/png": "[encoded data removed]",
      "text/plain": [
       "<Figure size 1512x504 with 2 Axes>"
      ]
     },
     "metadata": {
      "needs_background": "light"
     },
     "output_type": "display_data"
    }
   ],
   "source": [
    "cm = confusion_matrix(y_test_base, y_test_predicted_lim)\n",
    "disp = ConfusionMatrixDisplay(cm)\n",
    "disp.plot()\n",
    "plt.show()"
   ]
  },
  {
   "cell_type": "markdown",
   "metadata": {},
   "source": [
    "### XGBoost\n",
    "\n",
    "Okay, as the data is not linearly seperable thus the performance of `LinearRegresssion` is poor and expected. Let's also explore `XGBoost` modelling and hyperparameter tuning using [`optuna`](https://github.com/optuna/optuna). Using the training data, let's create a `train_test_split` for parameter optimization, and finally predict the results.\n",
    "\n",
    "**Note:** the actual study is carried out seperately ([`src/optimizer/xgbclassifier.py`](../src/optimizer/xgbclassifier.py)), and the saved file is available at ([`output/savedmodels/XGBClassifier-ESR150.db`](../output/savedmodels/XGBClassifier-ESR150.db)). Here, in this section the [`optuna.study`](https://optuna.readthedocs.io/en/stable/reference/study.html) is loaded for further analysis and predict results."
   ]
  },
  {
   "cell_type": "code",
   "execution_count": 77,
   "metadata": {
    "ExecuteTime": {
     "end_time": "2022-05-26T11:35:04.907427Z",
     "start_time": "2022-05-26T11:35:04.862456Z"
    },
    "scrolled": true
   },
   "outputs": [
    {
     "name": "stderr",
     "output_type": "stream",
     "text": [
      "\u001b[32m[I 2022-05-26 17:05:04,891]\u001b[0m Using an existing study with name 'XGBClassifier-ESR150' instead of creating a new one.\u001b[0m\n"
     ]
    }
   ],
   "source": [
    "OPTUNA_STUDY_NAME = \"XGBClassifier-ESR150\"\n",
    "study = optuna.create_study(direction = \"maximize\", study_name = OPTUNA_STUDY_NAME, storage = f\"sqlite:///../output/savedmodels/{OPTUNA_STUDY_NAME}.db\", load_if_exists = True)"
   ]
  },
  {
   "cell_type": "code",
   "execution_count": 118,
   "metadata": {
    "ExecuteTime": {
     "end_time": "2022-05-26T11:56:34.662095Z",
     "start_time": "2022-05-26T11:56:34.001908Z"
    },
    "deletable": false,
    "editable": false,
    "run_control": {
     "frozen": true
    }
   },
   "outputs": [
    {
     "data": {
      "image/png": "[encoded data removed]",
      "text/plain": [
       "<Figure size 1512x504 with 2 Axes>"
      ]
     },
     "metadata": {},
     "output_type": "display_data"
    }
   ],
   "source": [
    "# show individual steps time taken to complete, and the accuracy obtained\n",
    "fig = plt.figure(constrained_layout = True)\n",
    "\n",
    "# get each trials individual accuracy score\n",
    "scores_ = [i.values[0] if i.state == optuna.trial.TrialState.COMPLETE else 0 for i in study.trials]\n",
    "exec_time_ = [(i.datetime_complete - i.datetime_start).seconds / 3600 if i.state == optuna.trial.TrialState.COMPLETE else 0 for i in study.trials]\n",
    "\n",
    "# use two axis model to show in a single graph\n",
    "ax1 = fig.add_subplot() # use `ax1` for plotting accuracy\n",
    "ax2 = ax1.twinx() # use `ax2` for plotting time taken in hours\n",
    "\n",
    "ax1.set_title(\"Optimization Progress\")\n",
    "ax1.plot(scores_, label = \"Accuracy Score\")\n",
    "ax2.plot(exec_time_, \"k--\")\n",
    "\n",
    "ax1.legend(loc = \"lower left\")\n",
    "ax1.set_xlabel(\"Trial Number ($n$)\")\n",
    "\n",
    "ax1.set_ylabel(\"Model Accuracy\")\n",
    "ax2.set_ylabel(\"Execution Time ($t$) [in hrs.]\")\n",
    "\n",
    "ax1.set_ybound(0, 1.0)\n",
    "ax2.set_ybound(0)\n",
    "\n",
    "# plt.savefig(join(IMAGE_DIR, f\"{OPTUNA_STUDY_NAME} Tuning Performance.png\"))\n",
    "plt.show()"
   ]
  },
  {
   "cell_type": "code",
   "execution_count": 119,
   "metadata": {
    "ExecuteTime": {
     "end_time": "2022-05-26T11:58:56.949250Z",
     "start_time": "2022-05-26T11:58:56.930249Z"
    },
    "deletable": false,
    "editable": false
   },
   "outputs": [
    {
     "name": "stdout",
     "output_type": "stream",
     "text": [
      "0.943290914061309\n"
     ]
    }
   ],
   "source": [
    "best_trial = study.best_trial\n",
    "print(best_trial.value) # expected accuracy\n",
    "\n",
    "# best parameters\n",
    "parameters = best_trial.params"
   ]
  },
  {
   "cell_type": "code",
   "execution_count": 120,
   "metadata": {
    "ExecuteTime": {
     "end_time": "2022-05-26T11:59:07.548549Z",
     "start_time": "2022-05-26T11:59:07.522351Z"
    },
    "deletable": false,
    "editable": false
   },
   "outputs": [
    {
     "data": {
      "text/plain": [
       "XGBClassifier(alpha=0.0003286033357432481, base_score=None, booster=None,\n",
       "              callbacks=None, colsample_bylevel=None, colsample_bynode=None,\n",
       "              colsample_bytree=0.9000000000000001, early_stopping_rounds=None,\n",
       "              enable_categorical=False, eval_metric=None, gamma=None,\n",
       "              gpu_id=None, grow_policy=None, importance_type=None,\n",
       "              interaction_constraints=None, lambda=6.90777252095449,\n",
       "              learning_rate=0.016000000000000007, max_bin=None,\n",
       "              max_cat_to_onehot=None, max_delta_step=None, max_depth=20,\n",
       "              max_leaves=None, min_child_weight=96, missing=nan,\n",
       "              monotone_constraints=None, n_estimators=7177, n_jobs=None,\n",
       "              num_parallel_tree=None, predictor=None, random_state=None, ...)"
      ]
     },
     "execution_count": 120,
     "metadata": {},
     "output_type": "execute_result"
    }
   ],
   "source": [
    "model = XGBClassifier(**parameters)\n",
    "model"
   ]
  },
  {
   "cell_type": "code",
   "execution_count": 54,
   "metadata": {
    "ExecuteTime": {
     "end_time": "2022-05-26T07:02:02.575727Z",
     "start_time": "2022-05-26T05:23:59.419409Z"
    },
    "deletable": false,
    "editable": false,
    "run_control": {
     "frozen": true
    }
   },
   "outputs": [
    {
     "data": {
      "text/plain": [
       "XGBClassifier(alpha=0.0012447844254356213, base_score=0.5, booster='gbtree',\n",
       "              callbacks=None, colsample_bylevel=1, colsample_bynode=1,\n",
       "              colsample_bytree=0.9, early_stopping_rounds=None,\n",
       "              enable_categorical=False, eval_metric=None, gamma=0, gpu_id=-1,\n",
       "              grow_policy='depthwise', importance_type=None,\n",
       "              interaction_constraints='', lambda=7.12453109103749,\n",
       "              learning_rate=0.02, max_bin=256, max_cat_to_onehot=4,\n",
       "              max_delta_step=0, max_depth=8, max_leaves=0, min_child_weight=3,\n",
       "              missing=nan, monotone_constraints='()', n_estimators=5079,\n",
       "              n_jobs=0, num_parallel_tree=1, predictor='auto', random_state=48, ...)"
      ]
     },
     "execution_count": 54,
     "metadata": {},
     "output_type": "execute_result"
    }
   ],
   "source": [
    "model.fit(x_train, y_train) # fit model"
   ]
  },
  {
   "cell_type": "code",
   "execution_count": 55,
   "metadata": {
    "ExecuteTime": {
     "end_time": "2022-05-26T07:02:19.833473Z",
     "start_time": "2022-05-26T07:02:02.687770Z"
    },
    "deletable": false,
    "editable": false,
    "run_control": {
     "frozen": true
    }
   },
   "outputs": [],
   "source": [
    "predictions = model.predict_proba(x_test)[:, 1]"
   ]
  },
  {
   "cell_type": "code",
   "execution_count": 56,
   "metadata": {
    "ExecuteTime": {
     "end_time": "2022-05-26T07:02:19.978832Z",
     "start_time": "2022-05-26T07:02:19.948831Z"
    },
    "deletable": false,
    "editable": false,
    "run_control": {
     "frozen": true
    }
   },
   "outputs": [
    {
     "data": {
      "text/html": [
       "<div>\n",
       "<style scoped>\n",
       "    .dataframe tbody tr th:only-of-type {\n",
       "        vertical-align: middle;\n",
       "    }\n",
       "\n",
       "    .dataframe tbody tr th {\n",
       "        vertical-align: top;\n",
       "    }\n",
       "\n",
       "    .dataframe thead th {\n",
       "        text-align: right;\n",
       "    }\n",
       "</style>\n",
       "<table border=\"1\" class=\"dataframe\">\n",
       "  <thead>\n",
       "    <tr style=\"text-align: right;\">\n",
       "      <th></th>\n",
       "      <th>id</th>\n",
       "      <th>target</th>\n",
       "    </tr>\n",
       "  </thead>\n",
       "  <tbody>\n",
       "    <tr>\n",
       "      <th>180442</th>\n",
       "      <td>1080442</td>\n",
       "      <td>0.87</td>\n",
       "    </tr>\n",
       "  </tbody>\n",
       "</table>\n",
       "</div>"
      ],
      "text/plain": [
       "             id  target\n",
       "180442  1080442    0.87"
      ]
     },
     "execution_count": 56,
     "metadata": {},
     "output_type": "execute_result"
    }
   ],
   "source": [
    "output = pd.DataFrame({\"id\" : tst_data.index, \"target\" : predictions})\n",
    "output.sample()"
   ]
  },
  {
   "cell_type": "code",
   "execution_count": 57,
   "metadata": {
    "ExecuteTime": {
     "end_time": "2022-05-26T07:02:20.161498Z",
     "start_time": "2022-05-26T07:02:20.146703Z"
    }
   },
   "outputs": [
    {
     "name": "stdout",
     "output_type": "stream",
     "text": [
      "Model Training Started at : Thu, May 26 2022 (123220)\n"
     ]
    }
   ],
   "source": [
    "ctime_ = dt.strftime(dt.strptime(ctime(), \"%a %b %d %H:%M:%S %Y\"), \"%a, %b %d %Y (%H%M%S)\") # time at which model is defined\n",
    "print(f\"Model Training Started at : {ctime_}\")"
   ]
  },
  {
   "cell_type": "code",
   "execution_count": 58,
   "metadata": {
    "ExecuteTime": {
     "end_time": "2022-05-26T07:02:21.355088Z",
     "start_time": "2022-05-26T07:02:20.256817Z"
    },
    "deletable": false,
    "editable": false,
    "run_control": {
     "frozen": true
    }
   },
   "outputs": [],
   "source": [
    "output.to_csv(join(OUTPUT_DIR, f\"XGBClassifier - {ctime_}.csv\"), index = False)"
   ]
  },
  {
   "cell_type": "markdown",
   "metadata": {},
   "source": [
    "### Neural Network"
   ]
  },
  {
   "cell_type": "code",
   "execution_count": 132,
   "metadata": {
    "ExecuteTime": {
     "end_time": "2022-05-26T12:11:59.292445Z",
     "start_time": "2022-05-26T12:11:59.288446Z"
    }
   },
   "outputs": [],
   "source": [
    "# nural network parameters\n",
    "ACTIVATION_FUNCTION = \"swish\"\n",
    "L2_KERNEL_REGULARIZER = tf.keras.regularizers.l2(5e-7)\n",
    "\n",
    "# model tuning parameters\n",
    "LR_START = 1e-3\n",
    "LR_FINAL = 2e-4\n",
    "NUM_EPOCHS = 100\n",
    "BATCH_SIZE = 4096\n",
    "\n",
    "LR_FUNC = tf.keras.callbacks.ReduceLROnPlateau(monitor = \"val_loss\", factor = 0.7, patience = 4)\n",
    "ES_FUNC = tf.keras.callbacks.EarlyStopping(monitor = \"val_loss\", patience = 12, mode = \"min\", restore_best_weights = True)\n",
    "TM_FUNC = tf.keras.callbacks.TerminateOnNaN()\n",
    "\n",
    "# define the callbacks for model\n",
    "callbacks = [\n",
    "    LR_FUNC, # learning rate\n",
    "    ES_FUNC, # early stopping of model training\n",
    "    TM_FUNC  # terminate model training on null value\n",
    "]"
   ]
  },
  {
   "cell_type": "markdown",
   "metadata": {
    "ExecuteTime": {
     "end_time": "2022-05-09T15:15:43.435440Z",
     "start_time": "2022-05-09T15:15:43.420386Z"
    }
   },
   "source": [
    "Generally, the optimal number of neurons in first hidden layer is proposed by the formula:\n",
    "\n",
    "$$\n",
    "  N_h = a (N_i + N_o)\n",
    "$$\n",
    "\n",
    "where, $N_h$ is the number of neurons in hidden layer, and $N_i$ and $N_o$ are the number of neurons in input and output layer respectively; and $a \\in [2, 10]$ is an arbitrary scaling factor."
   ]
  },
  {
   "cell_type": "code",
   "execution_count": 126,
   "metadata": {
    "ExecuteTime": {
     "end_time": "2022-05-26T12:05:19.164767Z",
     "start_time": "2022-05-26T12:05:19.154700Z"
    },
    "deletable": false,
    "editable": false
   },
   "outputs": [
    {
     "name": "stdout",
     "output_type": "stream",
     "text": [
      "Proposed Optimal Number of Neurons on 1st Hidden Layer = 66\n"
     ]
    }
   ],
   "source": [
    "Nh = 2 * (INPUT_SHAPE + OUTPUT_SHAPE)\n",
    "print(f\"Proposed Optimal Number of Neurons on 1st Hidden Layer = {Nh}\")"
   ]
  },
  {
   "cell_type": "code",
   "execution_count": 128,
   "metadata": {
    "ExecuteTime": {
     "end_time": "2022-05-26T12:08:47.830462Z",
     "start_time": "2022-05-26T12:08:46.622915Z"
    }
   },
   "outputs": [
    {
     "name": "stdout",
     "output_type": "stream",
     "text": [
      "Model: \"DFC-1.5.2\"\n",
      "_______________________________________________________________________________________________________________________________\n",
      " Layer (type)                                            Output Shape                                      Param #             \n",
      "===============================================================================================================================\n",
      " iLayer-1 (Dense)                                        (None, 66)                                        2112                \n",
      "                                                                                                                               \n",
      " iBN (BatchNormalization)                                (None, 66)                                        264                 \n",
      "                                                                                                                               \n",
      " iD (Dropout)                                            (None, 66)                                        0                   \n",
      "                                                                                                                               \n",
      " HL1 (Dense)                                             (None, 132)                                       8844                \n",
      "                                                                                                                               \n",
      " BN1 (BatchNormalization)                                (None, 132)                                       528                 \n",
      "                                                                                                                               \n",
      " D1 (Dropout)                                            (None, 132)                                       0                   \n",
      "                                                                                                                               \n",
      " HL2 (Dense)                                             (None, 132)                                       17556               \n",
      "                                                                                                                               \n",
      " BN2 (BatchNormalization)                                (None, 132)                                       528                 \n",
      "                                                                                                                               \n",
      " D2 (Dropout)                                            (None, 132)                                       0                   \n",
      "                                                                                                                               \n",
      " oLayer_R1 (Dense)                                       (None, 16)                                        2128                \n",
      "                                                                                                                               \n",
      " oBNFinal (BatchNormalization)                           (None, 16)                                        64                  \n",
      "                                                                                                                               \n",
      " oDFinal (Dropout)                                       (None, 16)                                        0                   \n",
      "                                                                                                                               \n",
      " oLayer (Dense)                                          (None, 1)                                         17                  \n",
      "                                                                                                                               \n",
      "===============================================================================================================================\n",
      "Total params: 32,041\n",
      "Trainable params: 31,349\n",
      "Non-trainable params: 692\n",
      "_______________________________________________________________________________________________________________________________\n"
     ]
    }
   ],
   "source": [
    "model = tf.keras.Sequential([\n",
    "    ### INPUT LAYER ###\n",
    "    tf.keras.layers.Dense(\n",
    "        Nh,\n",
    "        input_shape = (INPUT_SHAPE, ),\n",
    "        activation = ACTIVATION_FUNCTION,\n",
    "        kernel_regularizer = L2_KERNEL_REGULARIZER,\n",
    "        name = \"iLayer-1\", \n",
    "    ),\n",
    "    \n",
    "    tf.keras.layers.BatchNormalization(name = \"iBN\"),\n",
    "    tf.keras.layers.Dropout(0.2, name = \"iD\"),\n",
    "    \n",
    "    ### Hidden Layers ###\n",
    "    tf.keras.layers.Dense(\n",
    "        int(Nh * 2),\n",
    "        activation = ACTIVATION_FUNCTION,\n",
    "        kernel_regularizer = L2_KERNEL_REGULARIZER,\n",
    "        name = \"HL1\", \n",
    "    ),\n",
    "    \n",
    "    tf.keras.layers.BatchNormalization(name = \"BN1\"),\n",
    "    tf.keras.layers.Dropout(0.2, name = \"D1\"),\n",
    "    \n",
    "    tf.keras.layers.Dense(\n",
    "        int(Nh * 2),\n",
    "        activation = ACTIVATION_FUNCTION,\n",
    "        kernel_regularizer = L2_KERNEL_REGULARIZER,\n",
    "        name = \"HL2\", \n",
    "    ),\n",
    "    \n",
    "    tf.keras.layers.BatchNormalization(name = \"BN2\"),\n",
    "    tf.keras.layers.Dropout(0.2, name = \"D2\"),\n",
    "    \n",
    "    ### OUTPUT Layer ###\n",
    "    tf.keras.layers.Dense(\n",
    "        16,\n",
    "        activation = ACTIVATION_FUNCTION,\n",
    "        name = \"oLayer_R1\", # reducer layer\n",
    "    ),\n",
    "    \n",
    "    tf.keras.layers.BatchNormalization(name = \"oBNFinal\"),\n",
    "    tf.keras.layers.Dropout(0.2, name = \"oDFinal\"),\n",
    "    \n",
    "    tf.keras.layers.Dense(\n",
    "        1,\n",
    "        activation = \"sigmoid\", # binarry data\n",
    "        name = \"oLayer\", \n",
    "    )\n",
    "], name = \"DFC-1.5.2\")\n",
    "\n",
    "model.summary(line_length = 127)"
   ]
  },
  {
   "cell_type": "code",
   "execution_count": 42,
   "metadata": {
    "ExecuteTime": {
     "end_time": "2022-05-25T06:50:30.501641Z",
     "start_time": "2022-05-25T06:50:30.486512Z"
    }
   },
   "outputs": [
    {
     "name": "stdout",
     "output_type": "stream",
     "text": [
      "Model Training Started at : Wed, May 25 2022 (122030)\n"
     ]
    }
   ],
   "source": [
    "ctime_ = dt.strftime(dt.strptime(ctime(), \"%a %b %d %H:%M:%S %Y\"), \"%a, %b %d %Y (%H%M%S)\") # time at which model is defined\n",
    "print(f\"Model Training Started at : {ctime_}\")"
   ]
  },
  {
   "cell_type": "code",
   "execution_count": 130,
   "metadata": {
    "ExecuteTime": {
     "end_time": "2022-05-26T12:09:13.904022Z",
     "start_time": "2022-05-26T12:09:13.583636Z"
    }
   },
   "outputs": [
    {
     "data": {
      "image/png": "[encoded data removed]",
      "text/plain": [
       "<IPython.core.display.Image object>"
      ]
     },
     "execution_count": 130,
     "metadata": {},
     "output_type": "execute_result"
    }
   ],
   "source": [
    "tf.keras.utils.plot_model(model, to_file = join(IMAGE_DIR, f\"{ctime_} {model.name}.png\"), show_shapes = True, show_layer_activations = True)"
   ]
  },
  {
   "cell_type": "code",
   "execution_count": 131,
   "metadata": {
    "ExecuteTime": {
     "end_time": "2022-05-26T12:10:14.541537Z",
     "start_time": "2022-05-26T12:10:14.400896Z"
    }
   },
   "outputs": [],
   "source": [
    "model.compile(\n",
    "    optimizer = tf.keras.optimizers.Adam(learning_rate = LR_START, amsgrad = True),\n",
    "    loss = tf.keras.losses.BinaryCrossentropy(name = \"loss\"),\n",
    "    metrics = [tf.keras.metrics.AUC(name = \"auc\")]\n",
    ")"
   ]
  },
  {
   "cell_type": "code",
   "execution_count": 133,
   "metadata": {
    "ExecuteTime": {
     "end_time": "2022-05-26T12:23:05.455696Z",
     "start_time": "2022-05-26T12:12:15.399087Z"
    },
    "collapsed": true
   },
   "outputs": [
    {
     "name": "stdout",
     "output_type": "stream",
     "text": [
      "Epoch 1/100\n",
      "198/198 [==============================] - 11s 35ms/step - loss: 0.5908 - auc: 0.7576 - val_loss: 0.4968 - val_auc: 0.8483 - lr: 0.0010\n",
      "Epoch 2/100\n",
      "198/198 [==============================] - 6s 32ms/step - loss: 0.5046 - auc: 0.8341 - val_loss: 0.4385 - val_auc: 0.8791 - lr: 0.0010\n",
      "Epoch 3/100\n",
      "198/198 [==============================] - 6s 33ms/step - loss: 0.4698 - auc: 0.8589 - val_loss: 0.4097 - val_auc: 0.8955 - lr: 0.0010\n",
      "Epoch 4/100\n",
      "198/198 [==============================] - 7s 33ms/step - loss: 0.4448 - auc: 0.8750 - val_loss: 0.3825 - val_auc: 0.9095 - lr: 0.0010\n",
      "Epoch 5/100\n",
      "198/198 [==============================] - 6s 32ms/step - loss: 0.4268 - auc: 0.8856 - val_loss: 0.3689 - val_auc: 0.9158 - lr: 0.0010\n",
      "Epoch 6/100\n",
      "198/198 [==============================] - 5s 26ms/step - loss: 0.4137 - auc: 0.8930 - val_loss: 0.3581 - val_auc: 0.9206 - lr: 0.0010\n",
      "Epoch 7/100\n",
      "198/198 [==============================] - 6s 27ms/step - loss: 0.4040 - auc: 0.8981 - val_loss: 0.3491 - val_auc: 0.9244 - lr: 0.0010\n",
      "Epoch 8/100\n",
      "198/198 [==============================] - 7s 33ms/step - loss: 0.3957 - auc: 0.9024 - val_loss: 0.3404 - val_auc: 0.9281 - lr: 0.0010\n",
      "Epoch 9/100\n",
      "198/198 [==============================] - 7s 33ms/step - loss: 0.3892 - auc: 0.9056 - val_loss: 0.3338 - val_auc: 0.9309 - lr: 0.0010\n",
      "Epoch 10/100\n",
      "198/198 [==============================] - 6s 33ms/step - loss: 0.3818 - auc: 0.9092 - val_loss: 0.3275 - val_auc: 0.9332 - lr: 0.0010\n",
      "Epoch 11/100\n",
      "198/198 [==============================] - 6s 33ms/step - loss: 0.3763 - auc: 0.9118 - val_loss: 0.3221 - val_auc: 0.9352 - lr: 0.0010\n",
      "Epoch 12/100\n",
      "198/198 [==============================] - 7s 33ms/step - loss: 0.3704 - auc: 0.9145 - val_loss: 0.3180 - val_auc: 0.9366 - lr: 0.0010\n",
      "Epoch 13/100\n",
      "198/198 [==============================] - 7s 33ms/step - loss: 0.3656 - auc: 0.9167 - val_loss: 0.3107 - val_auc: 0.9393 - lr: 0.0010\n",
      "Epoch 14/100\n",
      "198/198 [==============================] - 7s 33ms/step - loss: 0.3606 - auc: 0.9190 - val_loss: 0.3130 - val_auc: 0.9390 - lr: 0.0010\n",
      "Epoch 15/100\n",
      "198/198 [==============================] - 6s 33ms/step - loss: 0.3559 - auc: 0.9210 - val_loss: 0.3046 - val_auc: 0.9415 - lr: 0.0010\n",
      "Epoch 16/100\n",
      "198/198 [==============================] - 6s 33ms/step - loss: 0.3518 - auc: 0.9228 - val_loss: 0.3020 - val_auc: 0.9425 - lr: 0.0010\n",
      "Epoch 17/100\n",
      "198/198 [==============================] - 6s 33ms/step - loss: 0.3480 - auc: 0.9244 - val_loss: 0.2962 - val_auc: 0.9445 - lr: 0.0010\n",
      "Epoch 18/100\n",
      "198/198 [==============================] - 7s 33ms/step - loss: 0.3450 - auc: 0.9256 - val_loss: 0.2950 - val_auc: 0.9446 - lr: 0.0010\n",
      "Epoch 19/100\n",
      "198/198 [==============================] - 6s 33ms/step - loss: 0.3423 - auc: 0.9267 - val_loss: 0.2925 - val_auc: 0.9454 - lr: 0.0010\n",
      "Epoch 20/100\n",
      "198/198 [==============================] - 6s 33ms/step - loss: 0.3388 - auc: 0.9281 - val_loss: 0.2896 - val_auc: 0.9465 - lr: 0.0010\n",
      "Epoch 21/100\n",
      "198/198 [==============================] - 7s 33ms/step - loss: 0.3362 - auc: 0.9292 - val_loss: 0.2877 - val_auc: 0.9470 - lr: 0.0010\n",
      "Epoch 22/100\n",
      "198/198 [==============================] - 6s 33ms/step - loss: 0.3340 - auc: 0.9301 - val_loss: 0.2847 - val_auc: 0.9478 - lr: 0.0010\n",
      "Epoch 23/100\n",
      "198/198 [==============================] - 6s 33ms/step - loss: 0.3319 - auc: 0.9309 - val_loss: 0.2842 - val_auc: 0.9483 - lr: 0.0010\n",
      "Epoch 24/100\n",
      "198/198 [==============================] - 7s 33ms/step - loss: 0.3305 - auc: 0.9314 - val_loss: 0.2822 - val_auc: 0.9487 - lr: 0.0010\n",
      "Epoch 25/100\n",
      "198/198 [==============================] - 6s 33ms/step - loss: 0.3287 - auc: 0.9321 - val_loss: 0.2798 - val_auc: 0.9495 - lr: 0.0010\n",
      "Epoch 26/100\n",
      "198/198 [==============================] - 7s 33ms/step - loss: 0.3267 - auc: 0.9328 - val_loss: 0.2797 - val_auc: 0.9498 - lr: 0.0010\n",
      "Epoch 27/100\n",
      "198/198 [==============================] - 6s 33ms/step - loss: 0.3249 - auc: 0.9335 - val_loss: 0.2762 - val_auc: 0.9507 - lr: 0.0010\n",
      "Epoch 28/100\n",
      "198/198 [==============================] - 6s 33ms/step - loss: 0.3242 - auc: 0.9338 - val_loss: 0.2756 - val_auc: 0.9508 - lr: 0.0010\n",
      "Epoch 29/100\n",
      "198/198 [==============================] - 6s 33ms/step - loss: 0.3224 - auc: 0.9346 - val_loss: 0.2769 - val_auc: 0.9505 - lr: 0.0010\n",
      "Epoch 30/100\n",
      "198/198 [==============================] - 6s 32ms/step - loss: 0.3214 - auc: 0.9348 - val_loss: 0.2733 - val_auc: 0.9515 - lr: 0.0010\n",
      "Epoch 31/100\n",
      "198/198 [==============================] - 5s 27ms/step - loss: 0.3198 - auc: 0.9354 - val_loss: 0.2740 - val_auc: 0.9513 - lr: 0.0010\n",
      "Epoch 32/100\n",
      "198/198 [==============================] - 6s 33ms/step - loss: 0.3188 - auc: 0.9358 - val_loss: 0.2728 - val_auc: 0.9517 - lr: 0.0010\n",
      "Epoch 33/100\n",
      "198/198 [==============================] - 6s 32ms/step - loss: 0.3177 - auc: 0.9362 - val_loss: 0.2718 - val_auc: 0.9520 - lr: 0.0010\n",
      "Epoch 34/100\n",
      "198/198 [==============================] - 6s 33ms/step - loss: 0.3170 - auc: 0.9364 - val_loss: 0.2712 - val_auc: 0.9523 - lr: 0.0010\n",
      "Epoch 35/100\n",
      "198/198 [==============================] - 6s 33ms/step - loss: 0.3154 - auc: 0.9370 - val_loss: 0.2686 - val_auc: 0.9529 - lr: 0.0010\n",
      "Epoch 36/100\n",
      "198/198 [==============================] - 7s 33ms/step - loss: 0.3139 - auc: 0.9376 - val_loss: 0.2688 - val_auc: 0.9528 - lr: 0.0010\n",
      "Epoch 37/100\n",
      "198/198 [==============================] - 7s 33ms/step - loss: 0.3135 - auc: 0.9377 - val_loss: 0.2680 - val_auc: 0.9532 - lr: 0.0010\n",
      "Epoch 38/100\n",
      "198/198 [==============================] - 7s 33ms/step - loss: 0.3128 - auc: 0.9381 - val_loss: 0.2673 - val_auc: 0.9532 - lr: 0.0010\n",
      "Epoch 39/100\n",
      "198/198 [==============================] - 7s 33ms/step - loss: 0.3108 - auc: 0.9388 - val_loss: 0.2662 - val_auc: 0.9536 - lr: 0.0010\n",
      "Epoch 40/100\n",
      "198/198 [==============================] - 7s 33ms/step - loss: 0.3109 - auc: 0.9386 - val_loss: 0.2664 - val_auc: 0.9536 - lr: 0.0010\n",
      "Epoch 41/100\n",
      "198/198 [==============================] - 7s 33ms/step - loss: 0.3099 - auc: 0.9391 - val_loss: 0.2658 - val_auc: 0.9538 - lr: 0.0010\n",
      "Epoch 42/100\n",
      "198/198 [==============================] - 7s 34ms/step - loss: 0.3089 - auc: 0.9394 - val_loss: 0.2646 - val_auc: 0.9545 - lr: 0.0010\n",
      "Epoch 43/100\n",
      "198/198 [==============================] - 6s 33ms/step - loss: 0.3084 - auc: 0.9395 - val_loss: 0.2631 - val_auc: 0.9546 - lr: 0.0010\n",
      "Epoch 44/100\n",
      "198/198 [==============================] - 6s 32ms/step - loss: 0.3074 - auc: 0.9400 - val_loss: 0.2630 - val_auc: 0.9546 - lr: 0.0010\n",
      "Epoch 45/100\n",
      "198/198 [==============================] - 6s 33ms/step - loss: 0.3070 - auc: 0.9401 - val_loss: 0.2626 - val_auc: 0.9548 - lr: 0.0010\n",
      "Epoch 46/100\n",
      "198/198 [==============================] - 7s 33ms/step - loss: 0.3061 - auc: 0.9404 - val_loss: 0.2615 - val_auc: 0.9550 - lr: 0.0010\n",
      "Epoch 47/100\n",
      "198/198 [==============================] - 6s 33ms/step - loss: 0.3054 - auc: 0.9406 - val_loss: 0.2610 - val_auc: 0.9552 - lr: 0.0010\n",
      "Epoch 48/100\n",
      "198/198 [==============================] - 6s 33ms/step - loss: 0.3051 - auc: 0.9408 - val_loss: 0.2611 - val_auc: 0.9553 - lr: 0.0010\n",
      "Epoch 49/100\n",
      "198/198 [==============================] - 6s 33ms/step - loss: 0.3044 - auc: 0.9411 - val_loss: 0.2605 - val_auc: 0.9555 - lr: 0.0010\n",
      "Epoch 50/100\n",
      "198/198 [==============================] - 6s 33ms/step - loss: 0.3037 - auc: 0.9412 - val_loss: 0.2601 - val_auc: 0.9554 - lr: 0.0010\n",
      "Epoch 51/100\n",
      "198/198 [==============================] - 7s 33ms/step - loss: 0.3038 - auc: 0.9412 - val_loss: 0.2609 - val_auc: 0.9554 - lr: 0.0010\n",
      "Epoch 52/100\n",
      "198/198 [==============================] - 7s 33ms/step - loss: 0.3034 - auc: 0.9414 - val_loss: 0.2591 - val_auc: 0.9557 - lr: 0.0010\n",
      "Epoch 53/100\n",
      "198/198 [==============================] - 7s 33ms/step - loss: 0.3027 - auc: 0.9417 - val_loss: 0.2593 - val_auc: 0.9557 - lr: 0.0010\n",
      "Epoch 54/100\n",
      "198/198 [==============================] - 6s 33ms/step - loss: 0.3023 - auc: 0.9417 - val_loss: 0.2597 - val_auc: 0.9557 - lr: 0.0010\n",
      "Epoch 55/100\n",
      "198/198 [==============================] - 6s 33ms/step - loss: 0.3013 - auc: 0.9421 - val_loss: 0.2586 - val_auc: 0.9560 - lr: 0.0010\n",
      "Epoch 56/100\n"
     ]
    },
    {
     "name": "stdout",
     "output_type": "stream",
     "text": [
      "198/198 [==============================] - 6s 33ms/step - loss: 0.3015 - auc: 0.9420 - val_loss: 0.2586 - val_auc: 0.9561 - lr: 0.0010\n",
      "Epoch 57/100\n",
      "198/198 [==============================] - 6s 33ms/step - loss: 0.3009 - auc: 0.9423 - val_loss: 0.2580 - val_auc: 0.9561 - lr: 0.0010\n",
      "Epoch 58/100\n",
      "198/198 [==============================] - 5s 27ms/step - loss: 0.3002 - auc: 0.9425 - val_loss: 0.2574 - val_auc: 0.9563 - lr: 0.0010\n",
      "Epoch 59/100\n",
      "198/198 [==============================] - 8s 33ms/step - loss: 0.3001 - auc: 0.9425 - val_loss: 0.2575 - val_auc: 0.9562 - lr: 0.0010\n",
      "Epoch 60/100\n",
      "198/198 [==============================] - 7s 33ms/step - loss: 0.3001 - auc: 0.9425 - val_loss: 0.2573 - val_auc: 0.9564 - lr: 0.0010\n",
      "Epoch 61/100\n",
      "198/198 [==============================] - 7s 33ms/step - loss: 0.3000 - auc: 0.9425 - val_loss: 0.2573 - val_auc: 0.9566 - lr: 0.0010\n",
      "Epoch 62/100\n",
      "198/198 [==============================] - 7s 33ms/step - loss: 0.2993 - auc: 0.9428 - val_loss: 0.2581 - val_auc: 0.9563 - lr: 0.0010\n",
      "Epoch 63/100\n",
      "198/198 [==============================] - 7s 34ms/step - loss: 0.2986 - auc: 0.9430 - val_loss: 0.2565 - val_auc: 0.9567 - lr: 7.0000e-04\n",
      "Epoch 64/100\n",
      "198/198 [==============================] - 7s 33ms/step - loss: 0.2980 - auc: 0.9432 - val_loss: 0.2559 - val_auc: 0.9568 - lr: 7.0000e-04\n",
      "Epoch 65/100\n",
      "198/198 [==============================] - 7s 33ms/step - loss: 0.2985 - auc: 0.9430 - val_loss: 0.2557 - val_auc: 0.9570 - lr: 7.0000e-04\n",
      "Epoch 66/100\n",
      "198/198 [==============================] - 6s 33ms/step - loss: 0.2977 - auc: 0.9433 - val_loss: 0.2558 - val_auc: 0.9569 - lr: 7.0000e-04\n",
      "Epoch 67/100\n",
      "198/198 [==============================] - 7s 33ms/step - loss: 0.2972 - auc: 0.9434 - val_loss: 0.2551 - val_auc: 0.9571 - lr: 7.0000e-04\n",
      "Epoch 68/100\n",
      "198/198 [==============================] - 6s 33ms/step - loss: 0.2976 - auc: 0.9435 - val_loss: 0.2547 - val_auc: 0.9572 - lr: 7.0000e-04\n",
      "Epoch 69/100\n",
      "198/198 [==============================] - 5s 27ms/step - loss: 0.2968 - auc: 0.9436 - val_loss: 0.2556 - val_auc: 0.9569 - lr: 7.0000e-04\n",
      "Epoch 70/100\n",
      "198/198 [==============================] - 7s 33ms/step - loss: 0.2964 - auc: 0.9437 - val_loss: 0.2548 - val_auc: 0.9572 - lr: 7.0000e-04\n",
      "Epoch 71/100\n",
      "198/198 [==============================] - 6s 33ms/step - loss: 0.2965 - auc: 0.9437 - val_loss: 0.2553 - val_auc: 0.9572 - lr: 7.0000e-04\n",
      "Epoch 72/100\n",
      "198/198 [==============================] - 6s 33ms/step - loss: 0.2964 - auc: 0.9438 - val_loss: 0.2548 - val_auc: 0.9572 - lr: 7.0000e-04\n",
      "Epoch 73/100\n",
      "198/198 [==============================] - 6s 33ms/step - loss: 0.2949 - auc: 0.9442 - val_loss: 0.2545 - val_auc: 0.9573 - lr: 4.9000e-04\n",
      "Epoch 74/100\n",
      "198/198 [==============================] - 7s 33ms/step - loss: 0.2952 - auc: 0.9441 - val_loss: 0.2534 - val_auc: 0.9576 - lr: 4.9000e-04\n",
      "Epoch 75/100\n",
      "198/198 [==============================] - 7s 33ms/step - loss: 0.2953 - auc: 0.9442 - val_loss: 0.2530 - val_auc: 0.9577 - lr: 4.9000e-04\n",
      "Epoch 76/100\n",
      "198/198 [==============================] - 6s 33ms/step - loss: 0.2948 - auc: 0.9443 - val_loss: 0.2535 - val_auc: 0.9576 - lr: 4.9000e-04\n",
      "Epoch 77/100\n",
      "198/198 [==============================] - 6s 33ms/step - loss: 0.2942 - auc: 0.9444 - val_loss: 0.2531 - val_auc: 0.9576 - lr: 4.9000e-04\n",
      "Epoch 78/100\n",
      "198/198 [==============================] - 7s 33ms/step - loss: 0.2946 - auc: 0.9443 - val_loss: 0.2532 - val_auc: 0.9576 - lr: 4.9000e-04\n",
      "Epoch 79/100\n",
      "198/198 [==============================] - 6s 33ms/step - loss: 0.2941 - auc: 0.9445 - val_loss: 0.2529 - val_auc: 0.9577 - lr: 4.9000e-04\n",
      "Epoch 80/100\n",
      "198/198 [==============================] - 6s 33ms/step - loss: 0.2933 - auc: 0.9448 - val_loss: 0.2524 - val_auc: 0.9579 - lr: 3.4300e-04\n",
      "Epoch 81/100\n",
      "198/198 [==============================] - 6s 33ms/step - loss: 0.2939 - auc: 0.9446 - val_loss: 0.2523 - val_auc: 0.9579 - lr: 3.4300e-04\n",
      "Epoch 82/100\n",
      "198/198 [==============================] - 6s 32ms/step - loss: 0.2935 - auc: 0.9448 - val_loss: 0.2524 - val_auc: 0.9579 - lr: 3.4300e-04\n",
      "Epoch 83/100\n",
      "198/198 [==============================] - 6s 33ms/step - loss: 0.2932 - auc: 0.9449 - val_loss: 0.2523 - val_auc: 0.9579 - lr: 3.4300e-04\n",
      "Epoch 84/100\n",
      "198/198 [==============================] - 6s 33ms/step - loss: 0.2938 - auc: 0.9447 - val_loss: 0.2522 - val_auc: 0.9579 - lr: 3.4300e-04\n",
      "Epoch 85/100\n",
      "198/198 [==============================] - 6s 33ms/step - loss: 0.2930 - auc: 0.9449 - val_loss: 0.2525 - val_auc: 0.9579 - lr: 3.4300e-04\n",
      "Epoch 86/100\n",
      "198/198 [==============================] - 7s 33ms/step - loss: 0.2930 - auc: 0.9449 - val_loss: 0.2517 - val_auc: 0.9581 - lr: 2.4010e-04\n",
      "Epoch 87/100\n",
      "198/198 [==============================] - 6s 33ms/step - loss: 0.2925 - auc: 0.9451 - val_loss: 0.2518 - val_auc: 0.9580 - lr: 2.4010e-04\n",
      "Epoch 88/100\n",
      "198/198 [==============================] - 5s 27ms/step - loss: 0.2929 - auc: 0.9450 - val_loss: 0.2516 - val_auc: 0.9581 - lr: 2.4010e-04\n",
      "Epoch 89/100\n",
      "198/198 [==============================] - 7s 33ms/step - loss: 0.2924 - auc: 0.9451 - val_loss: 0.2511 - val_auc: 0.9582 - lr: 2.4010e-04\n",
      "Epoch 90/100\n",
      "198/198 [==============================] - 6s 33ms/step - loss: 0.2923 - auc: 0.9452 - val_loss: 0.2517 - val_auc: 0.9581 - lr: 2.4010e-04\n",
      "Epoch 91/100\n",
      "198/198 [==============================] - 6s 33ms/step - loss: 0.2930 - auc: 0.9449 - val_loss: 0.2513 - val_auc: 0.9582 - lr: 2.4010e-04\n",
      "Epoch 92/100\n",
      "198/198 [==============================] - 6s 33ms/step - loss: 0.2917 - auc: 0.9454 - val_loss: 0.2518 - val_auc: 0.9581 - lr: 2.4010e-04\n",
      "Epoch 93/100\n",
      "198/198 [==============================] - 7s 33ms/step - loss: 0.2922 - auc: 0.9452 - val_loss: 0.2511 - val_auc: 0.9582 - lr: 2.4010e-04\n",
      "Epoch 94/100\n",
      "198/198 [==============================] - 6s 33ms/step - loss: 0.2919 - auc: 0.9453 - val_loss: 0.2513 - val_auc: 0.9582 - lr: 1.6807e-04\n",
      "Epoch 95/100\n",
      "198/198 [==============================] - 6s 33ms/step - loss: 0.2915 - auc: 0.9454 - val_loss: 0.2511 - val_auc: 0.9582 - lr: 1.6807e-04\n",
      "Epoch 96/100\n",
      "198/198 [==============================] - 7s 33ms/step - loss: 0.2922 - auc: 0.9452 - val_loss: 0.2509 - val_auc: 0.9583 - lr: 1.6807e-04\n",
      "Epoch 97/100\n",
      "198/198 [==============================] - 6s 33ms/step - loss: 0.2916 - auc: 0.9454 - val_loss: 0.2513 - val_auc: 0.9583 - lr: 1.6807e-04\n",
      "Epoch 98/100\n",
      "198/198 [==============================] - 7s 33ms/step - loss: 0.2918 - auc: 0.9453 - val_loss: 0.2509 - val_auc: 0.9583 - lr: 1.6807e-04\n",
      "Epoch 99/100\n",
      "198/198 [==============================] - 7s 33ms/step - loss: 0.2914 - auc: 0.9455 - val_loss: 0.2511 - val_auc: 0.9583 - lr: 1.6807e-04\n",
      "Epoch 100/100\n",
      "198/198 [==============================] - 7s 33ms/step - loss: 0.2912 - auc: 0.9456 - val_loss: 0.2510 - val_auc: 0.9583 - lr: 1.6807e-04\n"
     ]
    }
   ],
   "source": [
    "history = model.fit(\n",
    "    x_train_sc, y_train,\n",
    "    epochs = NUM_EPOCHS, batch_size = BATCH_SIZE, validation_split = 0.1, shuffle = True,\n",
    "    callbacks = callbacks\n",
    ")"
   ]
  },
  {
   "cell_type": "markdown",
   "metadata": {},
   "source": [
    "#### Model Performance\n",
    "\n",
    "Check the performance of the model using the `history` and plot different curves."
   ]
  },
  {
   "cell_type": "code",
   "execution_count": 140,
   "metadata": {
    "ExecuteTime": {
     "end_time": "2022-05-26T12:39:43.741353Z",
     "start_time": "2022-05-26T12:39:43.315501Z"
    }
   },
   "outputs": [
    {
     "data": {
      "image/png": "[encoded data removed]",
      "text/plain": [
       "<Figure size 1512x504 with 2 Axes>"
      ]
     },
     "metadata": {},
     "output_type": "display_data"
    }
   ],
   "source": [
    "# plot model accuracy\n",
    "plt.subplot(121)\n",
    "plt.plot(history.history[\"auc\"], label = \"training\")\n",
    "plt.plot(history.history[\"val_auc\"], label = \"validation\")\n",
    "\n",
    "plt.title(\"Model Accuracy\")\n",
    "plt.legend(loc = \"upper right\")\n",
    "\n",
    "plt.subplot(122)\n",
    "plt.plot(history.history[\"loss\"], label = \"training\")\n",
    "plt.plot(history.history[\"val_loss\"], label = \"validation\")\n",
    "\n",
    "plt.title(\"Model Loss\")\n",
    "plt.legend(loc = \"upper right\")\n",
    "\n",
    "plt.suptitle(f\"Performance of {model.name}\")\n",
    "plt.savefig(join(IMAGE_DIR, f\"{model.name} - {ctime_}.png\"))\n",
    "plt.show()"
   ]
  },
  {
   "cell_type": "markdown",
   "metadata": {},
   "source": [
    "#### Model Prediction and Submission"
   ]
  },
  {
   "cell_type": "code",
   "execution_count": 136,
   "metadata": {
    "ExecuteTime": {
     "end_time": "2022-05-26T12:33:58.953231Z",
     "start_time": "2022-05-26T12:32:30.165089Z"
    }
   },
   "outputs": [],
   "source": [
    "predictions = model.predict(x_test_sc)"
   ]
  },
  {
   "cell_type": "code",
   "execution_count": 137,
   "metadata": {
    "ExecuteTime": {
     "end_time": "2022-05-26T12:33:59.060078Z",
     "start_time": "2022-05-26T12:33:59.045075Z"
    }
   },
   "outputs": [
    {
     "data": {
      "text/plain": [
       "array([[0.932],\n",
       "       [0.978],\n",
       "       [0.002],\n",
       "       ...,\n",
       "       [0.273],\n",
       "       [0.085],\n",
       "       [0.009]], dtype=float32)"
      ]
     },
     "execution_count": 137,
     "metadata": {},
     "output_type": "execute_result"
    }
   ],
   "source": [
    "predictions"
   ]
  },
  {
   "cell_type": "code",
   "execution_count": 139,
   "metadata": {
    "ExecuteTime": {
     "end_time": "2022-05-26T12:38:01.655706Z",
     "start_time": "2022-05-26T12:37:56.146968Z"
    }
   },
   "outputs": [],
   "source": [
    "output = pd.DataFrame({\"id\" : tst_data.index, \"target\" : predictions.reshape(1, -1)[0]})\n",
    "output.to_csv(join(OUTPUT_DIR, f\"{model.name} - {ctime_}.csv\"), index = False)"
   ]
  },
  {
   "cell_type": "markdown",
   "metadata": {},
   "source": [
    "### GRN Model"
   ]
  },
  {
   "cell_type": "code",
   "execution_count": null,
   "metadata": {},
   "outputs": [],
   "source": [
    "def create_model(encodingSize, dropout = 0.2):\n",
    "    inputs = tf.layers.Input(INPUT_SHAPE)\n",
    "    features = "
   ]
  },
  {
   "cell_type": "code",
   "execution_count": 35,
   "metadata": {
    "ExecuteTime": {
     "end_time": "2022-05-24T09:13:30.800146Z",
     "start_time": "2022-05-24T09:12:48.640145Z"
    }
   },
   "outputs": [],
   "source": [
    "yPredicted = model.predict(x_test)"
   ]
  },
  {
   "cell_type": "code",
   "execution_count": 36,
   "metadata": {
    "ExecuteTime": {
     "end_time": "2022-05-24T09:13:30.815015Z",
     "start_time": "2022-05-24T09:13:30.801994Z"
    }
   },
   "outputs": [
    {
     "data": {
      "text/plain": [
       "array([[0.575],\n",
       "       [0.509],\n",
       "       [0.463],\n",
       "       ...,\n",
       "       [0.542],\n",
       "       [0.461],\n",
       "       [0.508]], dtype=float32)"
      ]
     },
     "execution_count": 36,
     "metadata": {},
     "output_type": "execute_result"
    }
   ],
   "source": [
    "yPredicted"
   ]
  },
  {
   "cell_type": "code",
   "execution_count": 37,
   "metadata": {
    "ExecuteTime": {
     "end_time": "2022-05-24T09:13:30.830992Z",
     "start_time": "2022-05-24T09:13:30.817008Z"
    }
   },
   "outputs": [],
   "source": [
    "# output = pd.DataFrame({\"id\" : tst_data.index, \"target\" : np.argmax(yPredicted, axis = 1)})\n",
    "# output.sample()"
   ]
  },
  {
   "cell_type": "code",
   "execution_count": 135,
   "metadata": {
    "ExecuteTime": {
     "end_time": "2022-05-26T12:31:40.737638Z",
     "start_time": "2022-05-26T12:31:40.714784Z"
    },
    "scrolled": true
   },
   "outputs": [
    {
     "ename": "NameError",
     "evalue": "name 'yPredicted' is not defined",
     "output_type": "error",
     "traceback": [
      "\u001b[1;31m---------------------------------------------------------------------------\u001b[0m",
      "\u001b[1;31mNameError\u001b[0m                                 Traceback (most recent call last)",
      "Input \u001b[1;32mIn [135]\u001b[0m, in \u001b[0;36m<cell line: 1>\u001b[1;34m()\u001b[0m\n\u001b[1;32m----> 1\u001b[0m output \u001b[38;5;241m=\u001b[39m pd\u001b[38;5;241m.\u001b[39mDataFrame({\u001b[38;5;124m\"\u001b[39m\u001b[38;5;124mid\u001b[39m\u001b[38;5;124m\"\u001b[39m : tst_data\u001b[38;5;241m.\u001b[39mindex, \u001b[38;5;124m\"\u001b[39m\u001b[38;5;124mtarget\u001b[39m\u001b[38;5;124m\"\u001b[39m : \u001b[43myPredicted\u001b[49m\u001b[38;5;241m.\u001b[39mreshape(\u001b[38;5;241m1\u001b[39m, \u001b[38;5;241m-\u001b[39m\u001b[38;5;241m1\u001b[39m)[\u001b[38;5;241m0\u001b[39m]})\n\u001b[0;32m      2\u001b[0m \u001b[38;5;66;03m# output[\"target\"] = output[\"target\"].apply(lambda x : 0 if x <= 0.5135 else 1) # since target = 0 in `input` is about 51.35%\u001b[39;00m\n\u001b[0;32m      4\u001b[0m output\u001b[38;5;241m.\u001b[39msample()\n",
      "\u001b[1;31mNameError\u001b[0m: name 'yPredicted' is not defined"
     ]
    }
   ],
   "source": [
    "output = pd.DataFrame({\"id\" : tst_data.index, \"target\" : yPredicted.reshape(1, -1)[0]})\n",
    "# output[\"target\"] = output[\"target\"].apply(lambda x : 0 if x <= 0.5135 else 1) # since target = 0 in `input` is about 51.35%\n",
    "\n",
    "output.sample()"
   ]
  },
  {
   "cell_type": "code",
   "execution_count": 39,
   "metadata": {
    "ExecuteTime": {
     "end_time": "2022-05-24T09:13:32.196625Z",
     "start_time": "2022-05-24T09:13:30.863551Z"
    }
   },
   "outputs": [],
   "source": [
    "output.to_csv(join(OUTPUT_DIR, f\"{model.name} - {ctime_}.csv\"), index = False)"
   ]
  }
 ],
 "metadata": {
  "hide_input": false,
  "kernelspec": {
   "display_name": "TensorFlow 2.8.0 (GPU)",
   "language": "python",
   "name": "tensorflow"
  },
  "language_info": {
   "codemirror_mode": {
    "name": "ipython",
    "version": 3
   },
   "file_extension": ".py",
   "mimetype": "text/x-python",
   "name": "python",
   "nbconvert_exporter": "python",
   "pygments_lexer": "ipython3",
   "version": "3.9.12"
  },
  "latex_envs": {
   "LaTeX_envs_menu_present": true,
   "autoclose": true,
   "autocomplete": true,
   "bibliofile": "biblio.bib",
   "cite_by": "apalike",
   "current_citInitial": 1,
   "eqLabelWithNumbers": true,
   "eqNumInitial": 1,
   "hotkeys": {
    "equation": "Ctrl-E",
    "itemize": "Ctrl-I"
   },
   "labels_anchors": false,
   "latex_user_defs": false,
   "report_style_numbering": false,
   "user_envs_cfg": false
  },
  "toc": {
   "base_numbering": 1,
   "nav_menu": {},
   "number_sections": false,
   "sideBar": true,
   "skip_h1_title": true,
   "title_cell": "Table of Contents",
   "title_sidebar": "Contents",
   "toc_cell": false,
   "toc_position": {},
   "toc_section_display": true,
   "toc_window_display": false
  },
  "varInspector": {
   "cols": {
    "lenName": 16,
    "lenType": 16,
    "lenVar": 40
   },
   "kernels_config": {
    "python": {
     "delete_cmd_postfix": "",
     "delete_cmd_prefix": "del ",
     "library": "var_list.py",
     "varRefreshCmd": "print(var_dic_list())"
    },
    "r": {
     "delete_cmd_postfix": ") ",
     "delete_cmd_prefix": "rm(",
     "library": "var_list.r",
     "varRefreshCmd": "cat(var_dic_list()) "
    }
   },
   "position": {
    "height": "582.833px",
    "left": "966.667px",
    "right": "20px",
    "top": "151px",
    "width": "603px"
   },
   "types_to_exclude": [
    "module",
    "function",
    "builtin_function_or_method",
    "instance",
    "_Feature"
   ],
   "window_display": false
  }
 },
 "nbformat": 4,
 "nbformat_minor": 2
}
