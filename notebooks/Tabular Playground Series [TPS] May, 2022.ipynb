{
 "cells": [
  {
   "cell_type": "markdown",
   "metadata": {},
   "source": [
    "<h1 align = \"center\">TPS May 2022</h1>\n",
    "\n",
    "---\n",
    "\n",
    "\n",
    "**Objective:** The May edition of the 2022 Tabular Playground series binary classification problem that includes a number of different feature interactions. This competition is an opportunity to explore various methods for identifying and exploiting these feature interactions ([competition](https://www.kaggle.com/competitions/tabular-playground-series-may-2022/overview)). This notebook serves to provide codes that I've used for solving TPS May 2022. My initial plan is to use a powerful *neural network* to do a binary classification for *predicting states of manufacturing control data*."
   ]
  },
  {
   "cell_type": "markdown",
   "metadata": {},
   "source": [
    "## Code Imports\n",
    "\n",
    "**PEP8 Style Guide** lists out the following [*guidelines*](https://peps.python.org/pep-0008/#imports) for imports:\n",
    " 1. Imports should be on separate lines,\n",
    " 2. Import order should be:\n",
    "    * standard library/modules,\n",
    "    * related third party imports,\n",
    "    * local application/user defined imports\n",
    " 3. Wildcard import (`*`) should be avoided, else specifically tagged with **`# noqa: F403`** as per `flake8` [(ignoring errors)](https://flake8.pycqa.org/en/3.1.1/user/ignoring-errors.html).\n",
    " 4. Avoid using relative imports; use explicit imports instead."
   ]
  },
  {
   "cell_type": "code",
   "execution_count": 1,
   "metadata": {
    "ExecuteTime": {
     "end_time": "2022-05-09T06:30:44.195981Z",
     "start_time": "2022-05-09T06:30:44.187958Z"
    }
   },
   "outputs": [],
   "source": [
    "import sys # append additional directories to list\n",
    "import warnings # display specified user warnings as required"
   ]
  },
  {
   "cell_type": "code",
   "execution_count": 2,
   "metadata": {
    "ExecuteTime": {
     "end_time": "2022-05-09T06:30:44.415651Z",
     "start_time": "2022-05-09T06:30:44.393989Z"
    }
   },
   "outputs": [],
   "source": [
    "from time import ctime # print computer time in human redable format\n",
    "from os import makedirs # create directories dynamically\n",
    "from os.path import join # joins mutiple path without os dependency\n",
    "# from copy import deepcopy # make an actual copy of immutable objects like `str`\n",
    "# from tqdm import tqdm as TQ # for displaying a nice progress bar while running\n",
    "# from uuid import uuid1 as UUID # for generating unique identifier\n",
    "from datetime import datetime as dt # formatting/defining datetime objects"
   ]
  },
  {
   "cell_type": "markdown",
   "metadata": {},
   "source": [
    "[**`logging`**](https://docs.python.org/3/howto/logging.html) is a standard python module that is meant for tracking any events that happen during any software/code operations. This module is super powerful and helpful for code debugging and other purposes. The next section defines a `logging` configuration in **`../logs/`** directory. Modify the **`LOGS_DIR`** variable under *Global Arguments* to change the default directory. The module is configured with a simplistic approach, such that any `print())` statement can be update to `logging.LEVEL_NAME()` and the code will work. Use logging operations like:\n",
    "\n",
    "```python\n",
    " >> logging.debug(\"This is a Debug Message.\")\n",
    " >> logging.info(\"This is a Information Message.\")\n",
    " >> logging.warning(\"This is a Warning Message.\")\n",
    " >> logging.error(\"This is a ERROR Message.\")\n",
    " >> logging.critical(\"This is a CRITICAL Message.\")\n",
    "```\n",
    "\n",
    "Note: some directories related to logging is created by default. This can be updated/changed in the following configuration section."
   ]
  },
  {
   "cell_type": "code",
   "execution_count": 3,
   "metadata": {
    "ExecuteTime": {
     "end_time": "2022-05-09T06:30:44.766254Z",
     "start_time": "2022-05-09T06:30:44.743867Z"
    }
   },
   "outputs": [],
   "source": [
    "import logging # configure logging on `global arguments` section, as file path is required"
   ]
  },
  {
   "cell_type": "code",
   "execution_count": 4,
   "metadata": {
    "ExecuteTime": {
     "end_time": "2022-05-09T06:30:46.360297Z",
     "start_time": "2022-05-09T06:30:44.902302Z"
    }
   },
   "outputs": [],
   "source": [
    "import numpy as np\n",
    "import pandas as pd\n",
    "import seaborn as sns\n",
    "import matplotlib.pyplot as plt\n",
    "\n",
    "%precision 3\n",
    "%matplotlib inline\n",
    "sns.set_style('whitegrid');\n",
    "plt.style.use('default-style');\n",
    "pd.set_option('display.max_rows', 50)\n",
    "pd.set_option('display.max_columns', 35)\n",
    "np.set_printoptions(precision = 3, threshold = 15)\n",
    "pd.options.display.float_format = '{:,.2f}'.format"
   ]
  },
  {
   "cell_type": "markdown",
   "metadata": {},
   "source": [
    "### AI-ML Libraries\n",
    "\n",
    "In this project, to build a neural network, I am using the **`TensorFlow`** module with GPU Compatibility. **Note:** Not able to load GPU capability in Jupyter Notebooks, but works through terminal (system issue)!"
   ]
  },
  {
   "cell_type": "code",
   "execution_count": 5,
   "metadata": {
    "ExecuteTime": {
     "end_time": "2022-05-09T06:30:46.496087Z",
     "start_time": "2022-05-09T06:30:46.403869Z"
    }
   },
   "outputs": [],
   "source": [
    "from sklearn.preprocessing import LabelEncoder"
   ]
  },
  {
   "cell_type": "code",
   "execution_count": 6,
   "metadata": {
    "ExecuteTime": {
     "end_time": "2022-05-09T06:30:48.582956Z",
     "start_time": "2022-05-09T06:30:46.544106Z"
    }
   },
   "outputs": [
    {
     "name": "stdout",
     "output_type": "stream",
     "text": [
      "Tensorflow Version: 2.6.0\n"
     ]
    },
    {
     "data": {
      "text/plain": [
       "[PhysicalDevice(name='/physical_device:CPU:0', device_type='CPU')]"
      ]
     },
     "execution_count": 6,
     "metadata": {},
     "output_type": "execute_result"
    }
   ],
   "source": [
    "import tensorflow as tf\n",
    "print(f\"Tensorflow Version: {tf.__version__}\")\n",
    "\n",
    "# check physical devices\n",
    "tf.config.list_physical_devices()"
   ]
  },
  {
   "cell_type": "markdown",
   "metadata": {},
   "source": [
    "## Global Argument(s)\n",
    "\n",
    "The global arguments are *notebook* specific, however they may also be extended to external libraries and functions on import. The *boilerplate* provides a basic ML directory structure which contains a directory for `data` and a separate directory for `output`. In addition, a separate directory (`data/processed`) is created to save processed dataset such that preprocessing can be avoided."
   ]
  },
  {
   "cell_type": "code",
   "execution_count": 7,
   "metadata": {
    "ExecuteTime": {
     "end_time": "2022-05-09T06:30:48.649468Z",
     "start_time": "2022-05-09T06:30:48.630946Z"
    }
   },
   "outputs": [],
   "source": [
    "ROOT = \"..\" # the document root is one level up, that contains all code structure\n",
    "DATA = join(ROOT, \"data\") # the directory contains all data files, subdirectory (if any) can also be used/defined\n",
    "\n",
    "# processed data directory can be used, such that preprocessing steps is not\n",
    "# required to run again-and-again each time on kernel restart\n",
    "PROCESSED_DATA = join(DATA, \"processed\")"
   ]
  },
  {
   "cell_type": "code",
   "execution_count": 8,
   "metadata": {
    "ExecuteTime": {
     "end_time": "2022-05-09T06:30:48.713542Z",
     "start_time": "2022-05-09T06:30:48.697360Z"
    }
   },
   "outputs": [
    {
     "name": "stdout",
     "output_type": "stream",
     "text": [
      "Code Execution Started on: Mon, May 09 2022\n"
     ]
    }
   ],
   "source": [
    "# long projects can be overwhelming, and keeping track of files, outputs and\n",
    "# saved models can be intriguing! to help this out, `today` can be used. for\n",
    "# instance output can be stored at `output/<today>/` etc.\n",
    "# `today` is so configured that it permits windows/*.nix file/directory names\n",
    "today = dt.strftime(dt.strptime(ctime(), \"%a %b %d %H:%M:%S %Y\"), \"%a, %b %d %Y\")\n",
    "print(f\"Code Execution Started on: {today}\") # only date, name of the sub-directory"
   ]
  },
  {
   "cell_type": "code",
   "execution_count": 9,
   "metadata": {
    "ExecuteTime": {
     "end_time": "2022-05-09T06:30:48.777572Z",
     "start_time": "2022-05-09T06:30:48.761548Z"
    }
   },
   "outputs": [],
   "source": [
    "OUTPUT_DIR = join(ROOT, \"output\", today)\n",
    "makedirs(OUTPUT_DIR, exist_ok = True) # create dir if not exist\n",
    "\n",
    "# also create directory for `logs`\n",
    "LOGS_DIR = join(ROOT, \"logs\", \"TPS May 2022\")\n",
    "makedirs(LOGS_DIR, exist_ok = True)"
   ]
  },
  {
   "cell_type": "code",
   "execution_count": 10,
   "metadata": {
    "ExecuteTime": {
     "end_time": "2022-05-09T06:30:48.841548Z",
     "start_time": "2022-05-09T06:30:48.825554Z"
    },
    "deletable": false,
    "editable": false
   },
   "outputs": [
    {
     "name": "stdout",
     "output_type": "stream",
     "text": [
      "..\\logs\\TPS May 2022\n"
     ]
    }
   ],
   "source": [
    "print(LOGS_DIR) # logs file will be generated here"
   ]
  },
  {
   "cell_type": "code",
   "execution_count": 11,
   "metadata": {
    "ExecuteTime": {
     "end_time": "2022-05-09T06:30:48.905550Z",
     "start_time": "2022-05-09T06:30:48.889553Z"
    },
    "deletable": false,
    "editable": false
   },
   "outputs": [],
   "source": [
    "logging.captureWarnings(True) # send warnings to log file automatically https://stackoverflow.com/a/37979724/6623589\n",
    "logging.basicConfig(\n",
    "    filename = join(LOGS_DIR, f\"{today}.log\"), # change `reports` file name\n",
    "    filemode = \"a\", # append logs to existing file, if file exists\n",
    "    format = \"%(asctime)s - %(name)s - CLASS:%(levelname)s:%(levelno)s:L#%(lineno)d - %(message)s\",\n",
    "    level = logging.DEBUG\n",
    ")"
   ]
  },
  {
   "cell_type": "code",
   "execution_count": 12,
   "metadata": {
    "ExecuteTime": {
     "end_time": "2022-05-09T06:30:48.969548Z",
     "start_time": "2022-05-09T06:30:48.953585Z"
    },
    "deletable": false,
    "editable": false
   },
   "outputs": [],
   "source": [
    "logging.info(\"Initializing Kernel, Global Arguments Configured....\")\n",
    "logging.info(f\"Data Directory: {DATA}\")\n",
    "logging.info(f\"Output Data Directory: {OUTPUT_DIR}\")"
   ]
  },
  {
   "cell_type": "code",
   "execution_count": 13,
   "metadata": {
    "ExecuteTime": {
     "end_time": "2022-05-09T06:30:49.033545Z",
     "start_time": "2022-05-09T06:30:49.017548Z"
    },
    "deletable": false,
    "editable": false
   },
   "outputs": [],
   "source": [
    "logging.info(f\"Tensorflow Version: {tf.__version__}\")\n",
    "\n",
    "NUM_GPUs = len(tf.config.list_physical_devices('GPU'))\n",
    "logging.info(f\"Num GPUs Available: {NUM_GPUs}\")\n",
    "if NUM_GPUs == 0:\n",
    "    warnings.warn(\"Using TF in CPU Only Mode. Is GPU Configured?\")"
   ]
  },
  {
   "cell_type": "markdown",
   "metadata": {},
   "source": [
    "## User Defined Function(s)\n",
    "\n",
    "It is recommended that any UDFs are defined outside the scope of the *jupyter notebook* such that development/editing of function can be done more practically. As per *programming guidelines* as [`src`](https://fileinfo.com/extension/src) file/directory is beneficial in code development and/or production release. However, *jupyter notebook* requires *kernel restart* if any imported code file is changed in disc, for this frequently changing functions can be defined in this section.\n",
    "\n",
    "**Getting Started** with **`PYTHONPATH`**\n",
    "\n",
    "One must know what are [Environment Variable](https://medium.com/chingu/an-introduction-to-environment-variables-and-how-to-use-them-f602f66d15fa) and how to call/use them in your choice of programming language. Note that an environment variable is *case sensitive* in all operating systems (except windows, since DOS is not case sensitive). Generally, we can access environment variables from terminal/shell/command prompt as:\n",
    "\n",
    "```shell\n",
    "# macOS/*nix\n",
    "echo $VARNAME\n",
    "\n",
    "# windows\n",
    "echo %VARNAME%\n",
    "```\n",
    "\n",
    "Once you've setup your system with [`PYTHONPATH`](https://bic-berkeley.github.io/psych-214-fall-2016/using_pythonpath.html) as per [*python documentation*](https://docs.python.org/3/using/cmdline.html#envvar-PYTHONPATH) is an important directory where any `import` statements looks for based on their order of importance. If a source code/module is not available check necessary environment variables and/or ask the administrator for the source files.\n",
    "\n",
    "For testing purpose, the module boasts the use of `src`, `utils` and `config` directories. However, these directories are available at `ROOT` level, and thus using `sys.path.append()` to add directories while importing."
   ]
  },
  {
   "cell_type": "code",
   "execution_count": 14,
   "metadata": {
    "ExecuteTime": {
     "end_time": "2022-05-09T06:30:49.097546Z",
     "start_time": "2022-05-09T06:30:49.081545Z"
    },
    "deletable": false,
    "editable": false
   },
   "outputs": [],
   "source": [
    "sys.path.append(join(ROOT, \"src\")) # source files\n",
    "sys.path.append(join(ROOT, \"src\", \"agents\")) # agents for an efficient rl model\n",
    "sys.path.append(join(ROOT, \"src\", \"engine\")) # ai/ml code engines for modelling\n",
    "sys.path.append(join(ROOT, \"src\", \"models\")) # defination of actual ai/ml model\n",
    "sys.path.append(join(ROOT, \"utilities\")) # provide a list of utility functions"
   ]
  },
  {
   "cell_type": "code",
   "execution_count": 15,
   "metadata": {
    "ExecuteTime": {
     "end_time": "2022-05-09T06:30:49.177547Z",
     "start_time": "2022-05-09T06:30:49.145557Z"
    }
   },
   "outputs": [],
   "source": [
    "from dfutils import reduce_mem_usage\n",
    "from visualizations import corr_heatmap"
   ]
  },
  {
   "cell_type": "code",
   "execution_count": 126,
   "metadata": {
    "ExecuteTime": {
     "end_time": "2022-05-09T13:58:12.190324Z",
     "start_time": "2022-05-09T13:58:12.180324Z"
    }
   },
   "outputs": [],
   "source": [
    "def read_file(filepaths : str, **kwargs) -> pd.DataFrame:\n",
    "    trn = pd.read_csv(filepaths[0]) # read training data csv file as is\n",
    "    tst = pd.read_csv(filepaths[1]) # read training data csv file as is\n",
    "    \n",
    "    # since the data set has different values in categorical variables,\n",
    "    # thus, the data is first concatenated - to perform the following ops:\n",
    "    #  1. `one_hot_encode` : `cat_cols` which was identified previously\n",
    "    #  2. `perform_encode` : on `f_27` using `LabelEncoder()`\n",
    "    trn[\"isTrain\"] = True\n",
    "    tst[\"isTrain\"] = False\n",
    "    \n",
    "    data = pd.concat([trn, tst], ignore_index = True) # index is later replaced\n",
    "    # do some pre-processing on the data-frame\n",
    "    data.set_index(\"id\", inplace = True) # set index\n",
    "    \n",
    "    # get keyword arguments, and do operations\n",
    "    drop_feature = kwargs.get(\"drop_feature\", False)\n",
    "    reduce_memory = kwargs.get(\"reduce_memory\", True)\n",
    "    one_hot_encode = kwargs.get(\"one_hot_encode\", True)\n",
    "    perform_encode = kwargs.get(\"perform_encode\", True)\n",
    "    \n",
    "    if perform_encode:\n",
    "        encoder = LabelEncoder()\n",
    "        data[\"f_27_enc\"] = encoder.fit_transform(data[\"f_27\"])\n",
    "    \n",
    "    if drop_feature:\n",
    "        # remove `f_27` column from data set\n",
    "        data.drop(columns = [\"f_27\"], inplace = True) # drop object feature\n",
    "        \n",
    "    if one_hot_encode:\n",
    "        # apply one hot encoding on the dataset\n",
    "        # using the inbuilt `pd.get_dummies` method\n",
    "        # also drop the categorical columns which were previously identified\n",
    "        cat_cols = [\n",
    "            'f_07', 'f_08', 'f_09', 'f_10', 'f_11', 'f_12', 'f_13',\n",
    "            'f_14', 'f_15', 'f_16', 'f_17', 'f_18', 'f_29', 'f_30'\n",
    "        ]\n",
    "        \n",
    "        data = pd.get_dummies(data, columns = cat_cols, drop_first = True)\n",
    "        # data.drop(columns = cat_cols, inplace = True)\n",
    "        \n",
    "    if reduce_memory:\n",
    "        # perform data type casting to reduce memory usage\n",
    "        # check documentation for more information on the method\n",
    "        data = reduce_mem_usage(data, subset = None, copy = False)\n",
    "        \n",
    "    # now seperate the training and testing dataset\n",
    "    # and return a deep copy version of the data frame\n",
    "    trn_trf = data[data[\"isTrain\"]]\n",
    "    tst_trf = data[~data[\"isTrain\"]]\n",
    "    \n",
    "    trn_trf.drop(columns = [\"isTrain\"], inplace = True)\n",
    "    tst_trf.drop(columns = [\"isTrain\", \"target\"], inplace = True)\n",
    "    \n",
    "    return trn_trf.copy(), tst_trf.copy()"
   ]
  },
  {
   "cell_type": "markdown",
   "metadata": {},
   "source": [
    "## Read Input File(s)\n",
    "\n",
    "A typical machine learning project revolves around six important stages (as available in [Amazon ML Life Cycle Documentation](https://docs.aws.amazon.com/wellarchitected/latest/machine-learning-lens/well-architected-machine-learning-lifecycle.html)). The notebook boilerplate is provided to address two pillars:\n",
    "\n",
    " 1. **Data Processing:** An integral part of any machine learning project, which is the most time consuming step! A brief introduction and best practices is available [here](https://towardsdatascience.com/introduction-to-data-preprocessing-in-machine-learning-a9fa83a5dc9d).\n",
    " 2. **Model Development:** From understanding to deployment, this section address development (training, validating and testing) of an machine learning model.\n",
    "\n",
    "![ML Life Cycle](https://docs.aws.amazon.com/wellarchitected/latest/machine-learning-lens/images/ml-lifecycle.png)"
   ]
  },
  {
   "cell_type": "code",
   "execution_count": 127,
   "metadata": {
    "ExecuteTime": {
     "end_time": "2022-05-09T13:59:10.572820Z",
     "start_time": "2022-05-09T13:58:56.039038Z"
    }
   },
   "outputs": [],
   "source": [
    "trn_data, tst_data = read_file(filepaths = [join(DATA, \"train.csv\"), join(DATA, \"test.csv\")], drop_feature = True, reduce_memory = False)"
   ]
  },
  {
   "cell_type": "markdown",
   "metadata": {},
   "source": [
    "### Basic Data Information\n",
    "\n",
    "Training and testing data is read into two variables `trn_data` and `tst_data` respectively. Let's use the basic `pandas` functionalities to find information about the data. The target is a binary column and marked as `target`, and the data has a total of 31 features marked as `f_00, f_01, ..., f_30`. Apart from this, let's display some statistical information for analysis.\n",
    "\n",
    " * There are a total of 0.9 million records in training data, and testing is to be performed on 0.7 million records (a fair ratio).\n",
    " * There are no `NaN` values (can be verified using `trn_data.isnull().sum().sum()`).\n",
    " * The target is binary i.e. either `0` or `1`, generally a `sigmoid` activation should be okay? Let's check this while the model is developed.\n",
    " \n",
    "Below, we can use the `value_counts` method to quickly check the distribution of target variable."
   ]
  },
  {
   "cell_type": "code",
   "execution_count": 32,
   "metadata": {
    "ExecuteTime": {
     "end_time": "2022-05-09T07:44:31.825346Z",
     "start_time": "2022-05-09T07:44:31.744008Z"
    },
    "deletable": false,
    "editable": false,
    "run_control": {
     "frozen": true
    }
   },
   "outputs": [
    {
     "data": {
      "image/png": "[encoded data removed]",
      "text/plain": [
       "<Figure size 1512x504 with 1 Axes>"
      ]
     },
     "metadata": {},
     "output_type": "display_data"
    }
   ],
   "source": [
    "target_distribution = trn_data[\"target\"].value_counts(normalize = True)\n",
    "\n",
    "graph_labels = [f\"State-{idx}\" for idx in  target_distribution.index]\n",
    "\n",
    "fig, axs = plt.subplots()\n",
    "_, _, autopct = plt.pie(target_distribution, labels = graph_labels, autopct = lambda v : f\"{v:.2f}%\", pctdistance = 0.85, textprops = {\"weight\" : \"bold\"}) # plot a pie chart\n",
    "plt.setp(autopct, **{\"color\" : \"white\", \"weight\" : \"regular\", \"fontsize\" : 12.5})\n",
    "\n",
    "circle = plt.Circle((0, 0), 0.7, color = \"white\")\n",
    "plt.gcf().gca().add_artist(circle)\n",
    "\n",
    "plt.title(\"Target Distribution\")\n",
    "plt.show()"
   ]
  },
  {
   "cell_type": "markdown",
   "metadata": {},
   "source": [
    "The target variable is evenly distributed (i.e. around 50% of data is present in each state)."
   ]
  },
  {
   "cell_type": "code",
   "execution_count": 21,
   "metadata": {
    "ExecuteTime": {
     "end_time": "2022-05-08T16:29:33.873697Z",
     "start_time": "2022-05-08T16:29:33.829668Z"
    },
    "deletable": false,
    "editable": false,
    "run_control": {
     "frozen": true
    }
   },
   "outputs": [
    {
     "data": {
      "text/html": [
       "<div>\n",
       "<style scoped>\n",
       "    .dataframe tbody tr th:only-of-type {\n",
       "        vertical-align: middle;\n",
       "    }\n",
       "\n",
       "    .dataframe tbody tr th {\n",
       "        vertical-align: top;\n",
       "    }\n",
       "\n",
       "    .dataframe thead th {\n",
       "        text-align: right;\n",
       "    }\n",
       "</style>\n",
       "<table border=\"1\" class=\"dataframe\">\n",
       "  <thead>\n",
       "    <tr style=\"text-align: right;\">\n",
       "      <th></th>\n",
       "      <th>f_00</th>\n",
       "      <th>f_01</th>\n",
       "      <th>f_02</th>\n",
       "      <th>f_03</th>\n",
       "      <th>f_04</th>\n",
       "      <th>f_05</th>\n",
       "      <th>f_06</th>\n",
       "      <th>f_07</th>\n",
       "      <th>f_08</th>\n",
       "      <th>f_09</th>\n",
       "      <th>f_10</th>\n",
       "      <th>f_11</th>\n",
       "      <th>f_12</th>\n",
       "      <th>f_13</th>\n",
       "      <th>f_14</th>\n",
       "      <th>f_15</th>\n",
       "      <th>f_16</th>\n",
       "      <th>f_17</th>\n",
       "      <th>f_18</th>\n",
       "      <th>f_19</th>\n",
       "      <th>f_20</th>\n",
       "      <th>f_21</th>\n",
       "      <th>f_22</th>\n",
       "      <th>f_23</th>\n",
       "      <th>f_24</th>\n",
       "      <th>f_25</th>\n",
       "      <th>f_26</th>\n",
       "      <th>f_27</th>\n",
       "      <th>f_28</th>\n",
       "      <th>f_29</th>\n",
       "      <th>f_30</th>\n",
       "      <th>target</th>\n",
       "    </tr>\n",
       "    <tr>\n",
       "      <th>id</th>\n",
       "      <th></th>\n",
       "      <th></th>\n",
       "      <th></th>\n",
       "      <th></th>\n",
       "      <th></th>\n",
       "      <th></th>\n",
       "      <th></th>\n",
       "      <th></th>\n",
       "      <th></th>\n",
       "      <th></th>\n",
       "      <th></th>\n",
       "      <th></th>\n",
       "      <th></th>\n",
       "      <th></th>\n",
       "      <th></th>\n",
       "      <th></th>\n",
       "      <th></th>\n",
       "      <th></th>\n",
       "      <th></th>\n",
       "      <th></th>\n",
       "      <th></th>\n",
       "      <th></th>\n",
       "      <th></th>\n",
       "      <th></th>\n",
       "      <th></th>\n",
       "      <th></th>\n",
       "      <th></th>\n",
       "      <th></th>\n",
       "      <th></th>\n",
       "      <th></th>\n",
       "      <th></th>\n",
       "      <th></th>\n",
       "    </tr>\n",
       "  </thead>\n",
       "  <tbody>\n",
       "    <tr>\n",
       "      <th>317060</th>\n",
       "      <td>-0.46</td>\n",
       "      <td>-1.15</td>\n",
       "      <td>-0.85</td>\n",
       "      <td>-0.33</td>\n",
       "      <td>-0.64</td>\n",
       "      <td>1.39</td>\n",
       "      <td>-1.07</td>\n",
       "      <td>3</td>\n",
       "      <td>0</td>\n",
       "      <td>2</td>\n",
       "      <td>1</td>\n",
       "      <td>1</td>\n",
       "      <td>4</td>\n",
       "      <td>1</td>\n",
       "      <td>4</td>\n",
       "      <td>0</td>\n",
       "      <td>3</td>\n",
       "      <td>1</td>\n",
       "      <td>2</td>\n",
       "      <td>-2.25</td>\n",
       "      <td>3.50</td>\n",
       "      <td>-8.55</td>\n",
       "      <td>1.45</td>\n",
       "      <td>-2.68</td>\n",
       "      <td>-1.00</td>\n",
       "      <td>1.17</td>\n",
       "      <td>-0.09</td>\n",
       "      <td>BABEAACMAB</td>\n",
       "      <td>-71.49</td>\n",
       "      <td>1</td>\n",
       "      <td>1</td>\n",
       "      <td>0</td>\n",
       "    </tr>\n",
       "    <tr>\n",
       "      <th>188147</th>\n",
       "      <td>-0.29</td>\n",
       "      <td>-0.48</td>\n",
       "      <td>-2.44</td>\n",
       "      <td>-1.78</td>\n",
       "      <td>-1.44</td>\n",
       "      <td>0.93</td>\n",
       "      <td>0.74</td>\n",
       "      <td>2</td>\n",
       "      <td>5</td>\n",
       "      <td>4</td>\n",
       "      <td>0</td>\n",
       "      <td>3</td>\n",
       "      <td>3</td>\n",
       "      <td>0</td>\n",
       "      <td>2</td>\n",
       "      <td>1</td>\n",
       "      <td>2</td>\n",
       "      <td>2</td>\n",
       "      <td>2</td>\n",
       "      <td>1.61</td>\n",
       "      <td>1.72</td>\n",
       "      <td>-2.27</td>\n",
       "      <td>2.52</td>\n",
       "      <td>-1.91</td>\n",
       "      <td>2.02</td>\n",
       "      <td>-1.20</td>\n",
       "      <td>-0.66</td>\n",
       "      <td>BDBADADICF</td>\n",
       "      <td>-151.33</td>\n",
       "      <td>0</td>\n",
       "      <td>2</td>\n",
       "      <td>0</td>\n",
       "    </tr>\n",
       "    <tr>\n",
       "      <th>644769</th>\n",
       "      <td>0.51</td>\n",
       "      <td>-0.98</td>\n",
       "      <td>-1.93</td>\n",
       "      <td>1.60</td>\n",
       "      <td>0.43</td>\n",
       "      <td>1.22</td>\n",
       "      <td>0.04</td>\n",
       "      <td>2</td>\n",
       "      <td>2</td>\n",
       "      <td>1</td>\n",
       "      <td>5</td>\n",
       "      <td>4</td>\n",
       "      <td>4</td>\n",
       "      <td>3</td>\n",
       "      <td>1</td>\n",
       "      <td>4</td>\n",
       "      <td>2</td>\n",
       "      <td>3</td>\n",
       "      <td>1</td>\n",
       "      <td>1.01</td>\n",
       "      <td>-1.88</td>\n",
       "      <td>-0.72</td>\n",
       "      <td>-3.43</td>\n",
       "      <td>2.09</td>\n",
       "      <td>-0.40</td>\n",
       "      <td>-3.80</td>\n",
       "      <td>0.81</td>\n",
       "      <td>BDBDABEFBE</td>\n",
       "      <td>47.71</td>\n",
       "      <td>0</td>\n",
       "      <td>0</td>\n",
       "      <td>1</td>\n",
       "    </tr>\n",
       "    <tr>\n",
       "      <th>407494</th>\n",
       "      <td>0.06</td>\n",
       "      <td>-0.52</td>\n",
       "      <td>0.51</td>\n",
       "      <td>0.30</td>\n",
       "      <td>0.37</td>\n",
       "      <td>-0.81</td>\n",
       "      <td>0.69</td>\n",
       "      <td>1</td>\n",
       "      <td>1</td>\n",
       "      <td>2</td>\n",
       "      <td>2</td>\n",
       "      <td>2</td>\n",
       "      <td>2</td>\n",
       "      <td>0</td>\n",
       "      <td>3</td>\n",
       "      <td>3</td>\n",
       "      <td>2</td>\n",
       "      <td>0</td>\n",
       "      <td>1</td>\n",
       "      <td>-1.83</td>\n",
       "      <td>-0.36</td>\n",
       "      <td>-3.03</td>\n",
       "      <td>-0.29</td>\n",
       "      <td>-1.44</td>\n",
       "      <td>0.16</td>\n",
       "      <td>-0.86</td>\n",
       "      <td>0.29</td>\n",
       "      <td>ADBDAADDCD</td>\n",
       "      <td>-54.02</td>\n",
       "      <td>0</td>\n",
       "      <td>0</td>\n",
       "      <td>0</td>\n",
       "    </tr>\n",
       "    <tr>\n",
       "      <th>582457</th>\n",
       "      <td>-2.11</td>\n",
       "      <td>-0.82</td>\n",
       "      <td>1.48</td>\n",
       "      <td>-0.37</td>\n",
       "      <td>-0.66</td>\n",
       "      <td>-0.82</td>\n",
       "      <td>0.65</td>\n",
       "      <td>1</td>\n",
       "      <td>1</td>\n",
       "      <td>2</td>\n",
       "      <td>4</td>\n",
       "      <td>5</td>\n",
       "      <td>4</td>\n",
       "      <td>1</td>\n",
       "      <td>2</td>\n",
       "      <td>0</td>\n",
       "      <td>4</td>\n",
       "      <td>2</td>\n",
       "      <td>2</td>\n",
       "      <td>-0.68</td>\n",
       "      <td>0.57</td>\n",
       "      <td>-3.97</td>\n",
       "      <td>-2.11</td>\n",
       "      <td>-2.91</td>\n",
       "      <td>-0.75</td>\n",
       "      <td>-0.13</td>\n",
       "      <td>3.11</td>\n",
       "      <td>BCBCBBBPBA</td>\n",
       "      <td>84.01</td>\n",
       "      <td>1</td>\n",
       "      <td>0</td>\n",
       "      <td>0</td>\n",
       "    </tr>\n",
       "  </tbody>\n",
       "</table>\n",
       "</div>"
      ],
      "text/plain": [
       "        f_00  f_01  f_02  f_03  f_04  f_05  f_06  f_07  f_08  f_09  f_10  \\\n",
       "id                                                                         \n",
       "317060 -0.46 -1.15 -0.85 -0.33 -0.64  1.39 -1.07     3     0     2     1   \n",
       "188147 -0.29 -0.48 -2.44 -1.78 -1.44  0.93  0.74     2     5     4     0   \n",
       "644769  0.51 -0.98 -1.93  1.60  0.43  1.22  0.04     2     2     1     5   \n",
       "407494  0.06 -0.52  0.51  0.30  0.37 -0.81  0.69     1     1     2     2   \n",
       "582457 -2.11 -0.82  1.48 -0.37 -0.66 -0.82  0.65     1     1     2     4   \n",
       "\n",
       "        f_11  f_12  f_13  f_14  f_15  f_16  f_17  f_18  f_19  f_20  f_21  \\\n",
       "id                                                                         \n",
       "317060     1     4     1     4     0     3     1     2 -2.25  3.50 -8.55   \n",
       "188147     3     3     0     2     1     2     2     2  1.61  1.72 -2.27   \n",
       "644769     4     4     3     1     4     2     3     1  1.01 -1.88 -0.72   \n",
       "407494     2     2     0     3     3     2     0     1 -1.83 -0.36 -3.03   \n",
       "582457     5     4     1     2     0     4     2     2 -0.68  0.57 -3.97   \n",
       "\n",
       "        f_22  f_23  f_24  f_25  f_26        f_27    f_28  f_29  f_30  target  \n",
       "id                                                                            \n",
       "317060  1.45 -2.68 -1.00  1.17 -0.09  BABEAACMAB  -71.49     1     1       0  \n",
       "188147  2.52 -1.91  2.02 -1.20 -0.66  BDBADADICF -151.33     0     2       0  \n",
       "644769 -3.43  2.09 -0.40 -3.80  0.81  BDBDABEFBE   47.71     0     0       1  \n",
       "407494 -0.29 -1.44  0.16 -0.86  0.29  ADBDAADDCD  -54.02     0     0       0  \n",
       "582457 -2.11 -2.91 -0.75 -0.13  3.11  BCBCBBBPBA   84.01     1     0       0  "
      ]
     },
     "execution_count": 21,
     "metadata": {},
     "output_type": "execute_result"
    }
   ],
   "source": [
    "trn_data.sample(5)"
   ]
  },
  {
   "cell_type": "code",
   "execution_count": 38,
   "metadata": {
    "ExecuteTime": {
     "end_time": "2022-05-08T16:29:56.207714Z",
     "start_time": "2022-05-08T16:29:56.190718Z"
    },
    "deletable": false,
    "editable": false,
    "run_control": {
     "frozen": true
    }
   },
   "outputs": [
    {
     "data": {
      "text/plain": [
       "(900000, 32)"
      ]
     },
     "execution_count": 38,
     "metadata": {},
     "output_type": "execute_result"
    }
   ],
   "source": [
    "trn_data.shape"
   ]
  },
  {
   "cell_type": "code",
   "execution_count": 34,
   "metadata": {
    "ExecuteTime": {
     "end_time": "2022-05-08T16:29:49.955662Z",
     "start_time": "2022-05-08T16:29:49.136103Z"
    },
    "deletable": false,
    "editable": false,
    "run_control": {
     "frozen": true
    }
   },
   "outputs": [
    {
     "data": {
      "text/html": [
       "<div>\n",
       "<style scoped>\n",
       "    .dataframe tbody tr th:only-of-type {\n",
       "        vertical-align: middle;\n",
       "    }\n",
       "\n",
       "    .dataframe tbody tr th {\n",
       "        vertical-align: top;\n",
       "    }\n",
       "\n",
       "    .dataframe thead th {\n",
       "        text-align: right;\n",
       "    }\n",
       "</style>\n",
       "<table border=\"1\" class=\"dataframe\">\n",
       "  <thead>\n",
       "    <tr style=\"text-align: right;\">\n",
       "      <th></th>\n",
       "      <th>f_00</th>\n",
       "      <th>f_01</th>\n",
       "      <th>f_02</th>\n",
       "      <th>f_03</th>\n",
       "      <th>f_04</th>\n",
       "      <th>f_05</th>\n",
       "      <th>f_06</th>\n",
       "      <th>f_07</th>\n",
       "      <th>f_08</th>\n",
       "      <th>f_09</th>\n",
       "      <th>f_10</th>\n",
       "      <th>f_11</th>\n",
       "      <th>f_12</th>\n",
       "      <th>f_13</th>\n",
       "      <th>f_14</th>\n",
       "      <th>f_15</th>\n",
       "      <th>f_16</th>\n",
       "      <th>f_17</th>\n",
       "      <th>f_18</th>\n",
       "      <th>f_19</th>\n",
       "      <th>f_20</th>\n",
       "      <th>f_21</th>\n",
       "      <th>f_22</th>\n",
       "      <th>f_23</th>\n",
       "      <th>f_24</th>\n",
       "      <th>f_25</th>\n",
       "      <th>f_26</th>\n",
       "      <th>f_28</th>\n",
       "      <th>f_29</th>\n",
       "      <th>f_30</th>\n",
       "      <th>target</th>\n",
       "    </tr>\n",
       "  </thead>\n",
       "  <tbody>\n",
       "    <tr>\n",
       "      <th>count</th>\n",
       "      <td>900,000.00</td>\n",
       "      <td>900,000.00</td>\n",
       "      <td>900,000.00</td>\n",
       "      <td>900,000.00</td>\n",
       "      <td>900,000.00</td>\n",
       "      <td>900,000.00</td>\n",
       "      <td>900,000.00</td>\n",
       "      <td>900,000.00</td>\n",
       "      <td>900,000.00</td>\n",
       "      <td>900,000.00</td>\n",
       "      <td>900,000.00</td>\n",
       "      <td>900,000.00</td>\n",
       "      <td>900,000.00</td>\n",
       "      <td>900,000.00</td>\n",
       "      <td>900,000.00</td>\n",
       "      <td>900,000.00</td>\n",
       "      <td>900,000.00</td>\n",
       "      <td>900,000.00</td>\n",
       "      <td>900,000.00</td>\n",
       "      <td>900,000.00</td>\n",
       "      <td>900,000.00</td>\n",
       "      <td>900,000.00</td>\n",
       "      <td>900,000.00</td>\n",
       "      <td>900,000.00</td>\n",
       "      <td>900,000.00</td>\n",
       "      <td>900,000.00</td>\n",
       "      <td>900,000.00</td>\n",
       "      <td>900,000.00</td>\n",
       "      <td>900,000.00</td>\n",
       "      <td>900,000.00</td>\n",
       "      <td>900,000.00</td>\n",
       "    </tr>\n",
       "    <tr>\n",
       "      <th>mean</th>\n",
       "      <td>-0.00</td>\n",
       "      <td>0.00</td>\n",
       "      <td>0.00</td>\n",
       "      <td>-0.00</td>\n",
       "      <td>-0.00</td>\n",
       "      <td>0.00</td>\n",
       "      <td>-0.00</td>\n",
       "      <td>2.03</td>\n",
       "      <td>2.06</td>\n",
       "      <td>2.36</td>\n",
       "      <td>2.18</td>\n",
       "      <td>1.80</td>\n",
       "      <td>2.84</td>\n",
       "      <td>2.24</td>\n",
       "      <td>1.51</td>\n",
       "      <td>2.10</td>\n",
       "      <td>2.10</td>\n",
       "      <td>1.86</td>\n",
       "      <td>2.07</td>\n",
       "      <td>0.31</td>\n",
       "      <td>-0.18</td>\n",
       "      <td>-0.16</td>\n",
       "      <td>-0.01</td>\n",
       "      <td>-0.37</td>\n",
       "      <td>-0.34</td>\n",
       "      <td>0.18</td>\n",
       "      <td>0.36</td>\n",
       "      <td>-0.38</td>\n",
       "      <td>0.35</td>\n",
       "      <td>1.00</td>\n",
       "      <td>0.49</td>\n",
       "    </tr>\n",
       "    <tr>\n",
       "      <th>std</th>\n",
       "      <td>1.00</td>\n",
       "      <td>1.00</td>\n",
       "      <td>1.00</td>\n",
       "      <td>1.00</td>\n",
       "      <td>1.00</td>\n",
       "      <td>1.00</td>\n",
       "      <td>1.00</td>\n",
       "      <td>1.66</td>\n",
       "      <td>1.59</td>\n",
       "      <td>1.64</td>\n",
       "      <td>1.65</td>\n",
       "      <td>1.54</td>\n",
       "      <td>1.76</td>\n",
       "      <td>1.54</td>\n",
       "      <td>1.36</td>\n",
       "      <td>1.57</td>\n",
       "      <td>1.56</td>\n",
       "      <td>1.47</td>\n",
       "      <td>1.56</td>\n",
       "      <td>2.32</td>\n",
       "      <td>2.40</td>\n",
       "      <td>2.48</td>\n",
       "      <td>2.45</td>\n",
       "      <td>2.45</td>\n",
       "      <td>2.39</td>\n",
       "      <td>2.42</td>\n",
       "      <td>2.48</td>\n",
       "      <td>238.77</td>\n",
       "      <td>0.48</td>\n",
       "      <td>0.82</td>\n",
       "      <td>0.50</td>\n",
       "    </tr>\n",
       "    <tr>\n",
       "      <th>min</th>\n",
       "      <td>-4.60</td>\n",
       "      <td>-4.68</td>\n",
       "      <td>-4.64</td>\n",
       "      <td>-4.66</td>\n",
       "      <td>-4.75</td>\n",
       "      <td>-4.75</td>\n",
       "      <td>-4.84</td>\n",
       "      <td>0.00</td>\n",
       "      <td>0.00</td>\n",
       "      <td>0.00</td>\n",
       "      <td>0.00</td>\n",
       "      <td>0.00</td>\n",
       "      <td>0.00</td>\n",
       "      <td>0.00</td>\n",
       "      <td>0.00</td>\n",
       "      <td>0.00</td>\n",
       "      <td>0.00</td>\n",
       "      <td>0.00</td>\n",
       "      <td>0.00</td>\n",
       "      <td>-11.28</td>\n",
       "      <td>-11.26</td>\n",
       "      <td>-13.31</td>\n",
       "      <td>-11.85</td>\n",
       "      <td>-12.30</td>\n",
       "      <td>-11.42</td>\n",
       "      <td>-11.92</td>\n",
       "      <td>-14.30</td>\n",
       "      <td>-1,229.75</td>\n",
       "      <td>0.00</td>\n",
       "      <td>0.00</td>\n",
       "      <td>0.00</td>\n",
       "    </tr>\n",
       "    <tr>\n",
       "      <th>5%</th>\n",
       "      <td>-1.64</td>\n",
       "      <td>-1.64</td>\n",
       "      <td>-1.65</td>\n",
       "      <td>-1.65</td>\n",
       "      <td>-1.64</td>\n",
       "      <td>-1.64</td>\n",
       "      <td>-1.65</td>\n",
       "      <td>0.00</td>\n",
       "      <td>0.00</td>\n",
       "      <td>0.00</td>\n",
       "      <td>0.00</td>\n",
       "      <td>0.00</td>\n",
       "      <td>0.00</td>\n",
       "      <td>0.00</td>\n",
       "      <td>0.00</td>\n",
       "      <td>0.00</td>\n",
       "      <td>0.00</td>\n",
       "      <td>0.00</td>\n",
       "      <td>0.00</td>\n",
       "      <td>-3.53</td>\n",
       "      <td>-4.11</td>\n",
       "      <td>-4.24</td>\n",
       "      <td>-4.11</td>\n",
       "      <td>-4.36</td>\n",
       "      <td>-4.26</td>\n",
       "      <td>-3.77</td>\n",
       "      <td>-3.78</td>\n",
       "      <td>-392.09</td>\n",
       "      <td>0.00</td>\n",
       "      <td>0.00</td>\n",
       "      <td>0.00</td>\n",
       "    </tr>\n",
       "    <tr>\n",
       "      <th>25%</th>\n",
       "      <td>-0.68</td>\n",
       "      <td>-0.68</td>\n",
       "      <td>-0.67</td>\n",
       "      <td>-0.68</td>\n",
       "      <td>-0.68</td>\n",
       "      <td>-0.67</td>\n",
       "      <td>-0.67</td>\n",
       "      <td>1.00</td>\n",
       "      <td>1.00</td>\n",
       "      <td>1.00</td>\n",
       "      <td>1.00</td>\n",
       "      <td>1.00</td>\n",
       "      <td>2.00</td>\n",
       "      <td>1.00</td>\n",
       "      <td>0.00</td>\n",
       "      <td>1.00</td>\n",
       "      <td>1.00</td>\n",
       "      <td>1.00</td>\n",
       "      <td>1.00</td>\n",
       "      <td>-1.24</td>\n",
       "      <td>-1.80</td>\n",
       "      <td>-1.82</td>\n",
       "      <td>-1.65</td>\n",
       "      <td>-2.02</td>\n",
       "      <td>-1.96</td>\n",
       "      <td>-1.44</td>\n",
       "      <td>-1.26</td>\n",
       "      <td>-159.43</td>\n",
       "      <td>0.00</td>\n",
       "      <td>0.00</td>\n",
       "      <td>0.00</td>\n",
       "    </tr>\n",
       "    <tr>\n",
       "      <th>50%</th>\n",
       "      <td>0.00</td>\n",
       "      <td>0.00</td>\n",
       "      <td>0.00</td>\n",
       "      <td>-0.00</td>\n",
       "      <td>-0.00</td>\n",
       "      <td>-0.00</td>\n",
       "      <td>-0.00</td>\n",
       "      <td>2.00</td>\n",
       "      <td>2.00</td>\n",
       "      <td>2.00</td>\n",
       "      <td>2.00</td>\n",
       "      <td>2.00</td>\n",
       "      <td>3.00</td>\n",
       "      <td>2.00</td>\n",
       "      <td>1.00</td>\n",
       "      <td>2.00</td>\n",
       "      <td>2.00</td>\n",
       "      <td>2.00</td>\n",
       "      <td>2.00</td>\n",
       "      <td>0.33</td>\n",
       "      <td>-0.19</td>\n",
       "      <td>-0.15</td>\n",
       "      <td>0.03</td>\n",
       "      <td>-0.39</td>\n",
       "      <td>-0.34</td>\n",
       "      <td>0.16</td>\n",
       "      <td>0.40</td>\n",
       "      <td>-0.52</td>\n",
       "      <td>0.00</td>\n",
       "      <td>1.00</td>\n",
       "      <td>0.00</td>\n",
       "    </tr>\n",
       "    <tr>\n",
       "      <th>75%</th>\n",
       "      <td>0.67</td>\n",
       "      <td>0.68</td>\n",
       "      <td>0.68</td>\n",
       "      <td>0.67</td>\n",
       "      <td>0.67</td>\n",
       "      <td>0.68</td>\n",
       "      <td>0.67</td>\n",
       "      <td>3.00</td>\n",
       "      <td>3.00</td>\n",
       "      <td>3.00</td>\n",
       "      <td>3.00</td>\n",
       "      <td>3.00</td>\n",
       "      <td>4.00</td>\n",
       "      <td>3.00</td>\n",
       "      <td>2.00</td>\n",
       "      <td>3.00</td>\n",
       "      <td>3.00</td>\n",
       "      <td>3.00</td>\n",
       "      <td>3.00</td>\n",
       "      <td>1.88</td>\n",
       "      <td>1.44</td>\n",
       "      <td>1.51</td>\n",
       "      <td>1.66</td>\n",
       "      <td>1.26</td>\n",
       "      <td>1.27</td>\n",
       "      <td>1.80</td>\n",
       "      <td>2.03</td>\n",
       "      <td>158.99</td>\n",
       "      <td>1.00</td>\n",
       "      <td>2.00</td>\n",
       "      <td>1.00</td>\n",
       "    </tr>\n",
       "    <tr>\n",
       "      <th>95%</th>\n",
       "      <td>1.64</td>\n",
       "      <td>1.65</td>\n",
       "      <td>1.65</td>\n",
       "      <td>1.64</td>\n",
       "      <td>1.65</td>\n",
       "      <td>1.65</td>\n",
       "      <td>1.65</td>\n",
       "      <td>5.00</td>\n",
       "      <td>5.00</td>\n",
       "      <td>5.00</td>\n",
       "      <td>5.00</td>\n",
       "      <td>5.00</td>\n",
       "      <td>6.00</td>\n",
       "      <td>5.00</td>\n",
       "      <td>4.00</td>\n",
       "      <td>5.00</td>\n",
       "      <td>5.00</td>\n",
       "      <td>5.00</td>\n",
       "      <td>5.00</td>\n",
       "      <td>4.08</td>\n",
       "      <td>3.78</td>\n",
       "      <td>3.91</td>\n",
       "      <td>3.95</td>\n",
       "      <td>3.71</td>\n",
       "      <td>3.58</td>\n",
       "      <td>4.16</td>\n",
       "      <td>4.34</td>\n",
       "      <td>392.65</td>\n",
       "      <td>1.00</td>\n",
       "      <td>2.00</td>\n",
       "      <td>1.00</td>\n",
       "    </tr>\n",
       "    <tr>\n",
       "      <th>max</th>\n",
       "      <td>4.75</td>\n",
       "      <td>4.82</td>\n",
       "      <td>4.96</td>\n",
       "      <td>4.45</td>\n",
       "      <td>4.95</td>\n",
       "      <td>4.97</td>\n",
       "      <td>4.82</td>\n",
       "      <td>15.00</td>\n",
       "      <td>16.00</td>\n",
       "      <td>14.00</td>\n",
       "      <td>14.00</td>\n",
       "      <td>13.00</td>\n",
       "      <td>16.00</td>\n",
       "      <td>12.00</td>\n",
       "      <td>14.00</td>\n",
       "      <td>14.00</td>\n",
       "      <td>15.00</td>\n",
       "      <td>14.00</td>\n",
       "      <td>13.00</td>\n",
       "      <td>12.08</td>\n",
       "      <td>11.48</td>\n",
       "      <td>14.46</td>\n",
       "      <td>11.34</td>\n",
       "      <td>12.25</td>\n",
       "      <td>12.39</td>\n",
       "      <td>12.53</td>\n",
       "      <td>12.91</td>\n",
       "      <td>1,229.56</td>\n",
       "      <td>1.00</td>\n",
       "      <td>2.00</td>\n",
       "      <td>1.00</td>\n",
       "    </tr>\n",
       "  </tbody>\n",
       "</table>\n",
       "</div>"
      ],
      "text/plain": [
       "            f_00       f_01       f_02       f_03       f_04       f_05  \\\n",
       "count 900,000.00 900,000.00 900,000.00 900,000.00 900,000.00 900,000.00   \n",
       "mean       -0.00       0.00       0.00      -0.00      -0.00       0.00   \n",
       "std         1.00       1.00       1.00       1.00       1.00       1.00   \n",
       "min        -4.60      -4.68      -4.64      -4.66      -4.75      -4.75   \n",
       "5%         -1.64      -1.64      -1.65      -1.65      -1.64      -1.64   \n",
       "25%        -0.68      -0.68      -0.67      -0.68      -0.68      -0.67   \n",
       "50%         0.00       0.00       0.00      -0.00      -0.00      -0.00   \n",
       "75%         0.67       0.68       0.68       0.67       0.67       0.68   \n",
       "95%         1.64       1.65       1.65       1.64       1.65       1.65   \n",
       "max         4.75       4.82       4.96       4.45       4.95       4.97   \n",
       "\n",
       "            f_06       f_07       f_08       f_09       f_10       f_11  \\\n",
       "count 900,000.00 900,000.00 900,000.00 900,000.00 900,000.00 900,000.00   \n",
       "mean       -0.00       2.03       2.06       2.36       2.18       1.80   \n",
       "std         1.00       1.66       1.59       1.64       1.65       1.54   \n",
       "min        -4.84       0.00       0.00       0.00       0.00       0.00   \n",
       "5%         -1.65       0.00       0.00       0.00       0.00       0.00   \n",
       "25%        -0.67       1.00       1.00       1.00       1.00       1.00   \n",
       "50%        -0.00       2.00       2.00       2.00       2.00       2.00   \n",
       "75%         0.67       3.00       3.00       3.00       3.00       3.00   \n",
       "95%         1.65       5.00       5.00       5.00       5.00       5.00   \n",
       "max         4.82      15.00      16.00      14.00      14.00      13.00   \n",
       "\n",
       "            f_12       f_13       f_14       f_15       f_16       f_17  \\\n",
       "count 900,000.00 900,000.00 900,000.00 900,000.00 900,000.00 900,000.00   \n",
       "mean        2.84       2.24       1.51       2.10       2.10       1.86   \n",
       "std         1.76       1.54       1.36       1.57       1.56       1.47   \n",
       "min         0.00       0.00       0.00       0.00       0.00       0.00   \n",
       "5%          0.00       0.00       0.00       0.00       0.00       0.00   \n",
       "25%         2.00       1.00       0.00       1.00       1.00       1.00   \n",
       "50%         3.00       2.00       1.00       2.00       2.00       2.00   \n",
       "75%         4.00       3.00       2.00       3.00       3.00       3.00   \n",
       "95%         6.00       5.00       4.00       5.00       5.00       5.00   \n",
       "max        16.00      12.00      14.00      14.00      15.00      14.00   \n",
       "\n",
       "            f_18       f_19       f_20       f_21       f_22       f_23  \\\n",
       "count 900,000.00 900,000.00 900,000.00 900,000.00 900,000.00 900,000.00   \n",
       "mean        2.07       0.31      -0.18      -0.16      -0.01      -0.37   \n",
       "std         1.56       2.32       2.40       2.48       2.45       2.45   \n",
       "min         0.00     -11.28     -11.26     -13.31     -11.85     -12.30   \n",
       "5%          0.00      -3.53      -4.11      -4.24      -4.11      -4.36   \n",
       "25%         1.00      -1.24      -1.80      -1.82      -1.65      -2.02   \n",
       "50%         2.00       0.33      -0.19      -0.15       0.03      -0.39   \n",
       "75%         3.00       1.88       1.44       1.51       1.66       1.26   \n",
       "95%         5.00       4.08       3.78       3.91       3.95       3.71   \n",
       "max        13.00      12.08      11.48      14.46      11.34      12.25   \n",
       "\n",
       "            f_24       f_25       f_26       f_28       f_29       f_30  \\\n",
       "count 900,000.00 900,000.00 900,000.00 900,000.00 900,000.00 900,000.00   \n",
       "mean       -0.34       0.18       0.36      -0.38       0.35       1.00   \n",
       "std         2.39       2.42       2.48     238.77       0.48       0.82   \n",
       "min       -11.42     -11.92     -14.30  -1,229.75       0.00       0.00   \n",
       "5%         -4.26      -3.77      -3.78    -392.09       0.00       0.00   \n",
       "25%        -1.96      -1.44      -1.26    -159.43       0.00       0.00   \n",
       "50%        -0.34       0.16       0.40      -0.52       0.00       1.00   \n",
       "75%         1.27       1.80       2.03     158.99       1.00       2.00   \n",
       "95%         3.58       4.16       4.34     392.65       1.00       2.00   \n",
       "max        12.39      12.53      12.91   1,229.56       1.00       2.00   \n",
       "\n",
       "          target  \n",
       "count 900,000.00  \n",
       "mean        0.49  \n",
       "std         0.50  \n",
       "min         0.00  \n",
       "5%          0.00  \n",
       "25%         0.00  \n",
       "50%         0.00  \n",
       "75%         1.00  \n",
       "95%         1.00  \n",
       "max         1.00  "
      ]
     },
     "execution_count": 34,
     "metadata": {},
     "output_type": "execute_result"
    }
   ],
   "source": [
    "trn_data.describe(percentiles = [0.05, 0.25, 0.50, 0.75, 0.95])"
   ]
  },
  {
   "cell_type": "markdown",
   "metadata": {},
   "source": [
    "### Correlation \\& Feature Engineering"
   ]
  },
  {
   "cell_type": "code",
   "execution_count": 46,
   "metadata": {
    "ExecuteTime": {
     "end_time": "2022-05-08T17:16:44.094544Z",
     "start_time": "2022-05-08T17:16:41.184259Z"
    },
    "deletable": false,
    "editable": false,
    "run_control": {
     "frozen": true
    }
   },
   "outputs": [
    {
     "data": {
      "image/png": "[encoded data removed]",
      "text/plain": [
       "<Figure size 1512x504 with 2 Axes>"
      ]
     },
     "metadata": {},
     "output_type": "display_data"
    }
   ],
   "source": [
    "corr_heatmap(trn_data, annot_threshold = 0.1)\n",
    "\n",
    "plt.title(\"Correlation Heat-Map\")\n",
    "plt.show()"
   ]
  },
  {
   "cell_type": "markdown",
   "metadata": {},
   "source": [
    "From correlation heat map, it is evident that there is no column which shares a strong relation with the target variable. In this type of cases, feature engineering may improve the prediction results significantly. Thus, let's perform the following feature engineering."
   ]
  },
  {
   "cell_type": "markdown",
   "metadata": {},
   "source": [
    "#### Categorical Variable \\& One-Hot Encoding\n",
    "\n",
    "Let's first check the number of unique values for each given features (excluding *target variable*). Also from the data sample we know that `f_27` is already a *categorical variable*, however we can see that the number of unique count is high (so some special attention for this column)."
   ]
  },
  {
   "cell_type": "code",
   "execution_count": 48,
   "metadata": {
    "ExecuteTime": {
     "end_time": "2022-05-08T17:26:23.652663Z",
     "start_time": "2022-05-08T17:26:22.542592Z"
    },
    "deletable": false,
    "editable": false,
    "run_control": {
     "frozen": true
    }
   },
   "outputs": [
    {
     "data": {
      "text/plain": [
       "f_29         2\n",
       "f_30         3\n",
       "f_13        13\n",
       "f_18        14\n",
       "f_17        14\n",
       "f_14        14\n",
       "f_11        14\n",
       "f_10        15\n",
       "f_09        15\n",
       "f_15        15\n",
       "f_07        16\n",
       "f_12        16\n",
       "f_16        16\n",
       "f_08        16\n",
       "f_27    741354\n",
       "f_28    900000\n",
       "f_26    900000\n",
       "f_25    900000\n",
       "f_24    900000\n",
       "f_23    900000\n",
       "f_22    900000\n",
       "f_20    900000\n",
       "f_19    900000\n",
       "f_01    900000\n",
       "f_02    900000\n",
       "f_03    900000\n",
       "f_04    900000\n",
       "f_05    900000\n",
       "f_06    900000\n",
       "f_21    900000\n",
       "f_00    900000\n",
       "dtype: int64"
      ]
     },
     "execution_count": 48,
     "metadata": {},
     "output_type": "execute_result"
    }
   ],
   "source": [
    "trn_data.drop(columns = \"target\").nunique().sort_values(ascending = True) # check unique value count"
   ]
  },
  {
   "cell_type": "markdown",
   "metadata": {},
   "source": [
    "Let's check the data of only the identified categorical data. For this, using the `np.where` functionality to filter the column names."
   ]
  },
  {
   "cell_type": "code",
   "execution_count": 35,
   "metadata": {
    "ExecuteTime": {
     "end_time": "2022-05-09T07:49:56.532968Z",
     "start_time": "2022-05-09T07:49:56.515934Z"
    },
    "deletable": false,
    "editable": false
   },
   "outputs": [
    {
     "name": "stdout",
     "output_type": "stream",
     "text": [
      "['f_07', 'f_08', 'f_09', 'f_10', 'f_11', 'f_12', 'f_13', 'f_14', 'f_15', 'f_16', 'f_17', 'f_18', 'f_29', 'f_30']\n"
     ]
    }
   ],
   "source": [
    "# cat_cols = trn_data.drop(columns = \"target\").nunique().where(lambda x : x <= 16).dropna().index.tolist() # maybe do featuring\n",
    "cat_cols = [\n",
    "    'f_07', 'f_08', 'f_09', 'f_10', 'f_11', 'f_12', 'f_13',\n",
    "    'f_14', 'f_15', 'f_16', 'f_17', 'f_18', 'f_29', 'f_30'\n",
    "]\n",
    "\n",
    "print(cat_cols) # list of previously identified categorical variables"
   ]
  },
  {
   "cell_type": "code",
   "execution_count": 50,
   "metadata": {
    "ExecuteTime": {
     "end_time": "2022-05-08T17:30:15.509280Z",
     "start_time": "2022-05-08T17:30:15.443131Z"
    },
    "deletable": false,
    "editable": false,
    "run_control": {
     "frozen": true
    }
   },
   "outputs": [
    {
     "data": {
      "text/html": [
       "<div>\n",
       "<style scoped>\n",
       "    .dataframe tbody tr th:only-of-type {\n",
       "        vertical-align: middle;\n",
       "    }\n",
       "\n",
       "    .dataframe tbody tr th {\n",
       "        vertical-align: top;\n",
       "    }\n",
       "\n",
       "    .dataframe thead th {\n",
       "        text-align: right;\n",
       "    }\n",
       "</style>\n",
       "<table border=\"1\" class=\"dataframe\">\n",
       "  <thead>\n",
       "    <tr style=\"text-align: right;\">\n",
       "      <th></th>\n",
       "      <th>f_07</th>\n",
       "      <th>f_08</th>\n",
       "      <th>f_09</th>\n",
       "      <th>f_10</th>\n",
       "      <th>f_11</th>\n",
       "      <th>f_12</th>\n",
       "      <th>f_13</th>\n",
       "      <th>f_14</th>\n",
       "      <th>f_15</th>\n",
       "      <th>f_16</th>\n",
       "      <th>f_17</th>\n",
       "      <th>f_18</th>\n",
       "      <th>f_29</th>\n",
       "      <th>f_30</th>\n",
       "    </tr>\n",
       "    <tr>\n",
       "      <th>id</th>\n",
       "      <th></th>\n",
       "      <th></th>\n",
       "      <th></th>\n",
       "      <th></th>\n",
       "      <th></th>\n",
       "      <th></th>\n",
       "      <th></th>\n",
       "      <th></th>\n",
       "      <th></th>\n",
       "      <th></th>\n",
       "      <th></th>\n",
       "      <th></th>\n",
       "      <th></th>\n",
       "      <th></th>\n",
       "    </tr>\n",
       "  </thead>\n",
       "  <tbody>\n",
       "    <tr>\n",
       "      <th>874189</th>\n",
       "      <td>1</td>\n",
       "      <td>1</td>\n",
       "      <td>3</td>\n",
       "      <td>7</td>\n",
       "      <td>5</td>\n",
       "      <td>3</td>\n",
       "      <td>1</td>\n",
       "      <td>0</td>\n",
       "      <td>2</td>\n",
       "      <td>0</td>\n",
       "      <td>1</td>\n",
       "      <td>1</td>\n",
       "      <td>1</td>\n",
       "      <td>2</td>\n",
       "    </tr>\n",
       "    <tr>\n",
       "      <th>496397</th>\n",
       "      <td>1</td>\n",
       "      <td>0</td>\n",
       "      <td>0</td>\n",
       "      <td>2</td>\n",
       "      <td>1</td>\n",
       "      <td>0</td>\n",
       "      <td>3</td>\n",
       "      <td>3</td>\n",
       "      <td>1</td>\n",
       "      <td>3</td>\n",
       "      <td>3</td>\n",
       "      <td>1</td>\n",
       "      <td>1</td>\n",
       "      <td>1</td>\n",
       "    </tr>\n",
       "    <tr>\n",
       "      <th>238913</th>\n",
       "      <td>0</td>\n",
       "      <td>4</td>\n",
       "      <td>4</td>\n",
       "      <td>0</td>\n",
       "      <td>1</td>\n",
       "      <td>2</td>\n",
       "      <td>2</td>\n",
       "      <td>1</td>\n",
       "      <td>3</td>\n",
       "      <td>1</td>\n",
       "      <td>3</td>\n",
       "      <td>1</td>\n",
       "      <td>0</td>\n",
       "      <td>1</td>\n",
       "    </tr>\n",
       "    <tr>\n",
       "      <th>86127</th>\n",
       "      <td>2</td>\n",
       "      <td>1</td>\n",
       "      <td>0</td>\n",
       "      <td>3</td>\n",
       "      <td>4</td>\n",
       "      <td>3</td>\n",
       "      <td>3</td>\n",
       "      <td>0</td>\n",
       "      <td>1</td>\n",
       "      <td>3</td>\n",
       "      <td>0</td>\n",
       "      <td>2</td>\n",
       "      <td>1</td>\n",
       "      <td>0</td>\n",
       "    </tr>\n",
       "    <tr>\n",
       "      <th>565713</th>\n",
       "      <td>3</td>\n",
       "      <td>4</td>\n",
       "      <td>4</td>\n",
       "      <td>4</td>\n",
       "      <td>2</td>\n",
       "      <td>3</td>\n",
       "      <td>2</td>\n",
       "      <td>1</td>\n",
       "      <td>5</td>\n",
       "      <td>1</td>\n",
       "      <td>4</td>\n",
       "      <td>2</td>\n",
       "      <td>1</td>\n",
       "      <td>2</td>\n",
       "    </tr>\n",
       "  </tbody>\n",
       "</table>\n",
       "</div>"
      ],
      "text/plain": [
       "        f_07  f_08  f_09  f_10  f_11  f_12  f_13  f_14  f_15  f_16  f_17  \\\n",
       "id                                                                         \n",
       "874189     1     1     3     7     5     3     1     0     2     0     1   \n",
       "496397     1     0     0     2     1     0     3     3     1     3     3   \n",
       "238913     0     4     4     0     1     2     2     1     3     1     3   \n",
       "86127      2     1     0     3     4     3     3     0     1     3     0   \n",
       "565713     3     4     4     4     2     3     2     1     5     1     4   \n",
       "\n",
       "        f_18  f_29  f_30  \n",
       "id                        \n",
       "874189     1     1     2  \n",
       "496397     1     1     1  \n",
       "238913     1     0     1  \n",
       "86127      2     1     0  \n",
       "565713     2     1     2  "
      ]
     },
     "execution_count": 50,
     "metadata": {},
     "output_type": "execute_result"
    }
   ],
   "source": [
    "trn_data[cat_cols].sample(5)"
   ]
  },
  {
   "cell_type": "code",
   "execution_count": 55,
   "metadata": {
    "ExecuteTime": {
     "end_time": "2022-05-08T17:36:44.395860Z",
     "start_time": "2022-05-08T17:36:44.306218Z"
    },
    "deletable": false,
    "editable": false,
    "run_control": {
     "frozen": true
    }
   },
   "outputs": [
    {
     "data": {
      "text/plain": [
       "{'f_07': [0, 1, 2, 3, 4, 5, 6, 7, 8, 9, 10, 11, 12, 13, 14, 15],\n",
       " 'f_08': [0, 1, 2, 3, 4, 5, 6, 7, 8, 9, 10, 11, 12, 13, 14, 16],\n",
       " 'f_09': [0, 1, 2, 3, 4, 5, 6, 7, 8, 9, 10, 11, 12, 13, 14],\n",
       " 'f_10': [0, 1, 2, 3, 4, 5, 6, 7, 8, 9, 10, 11, 12, 13, 14],\n",
       " 'f_11': [0, 1, 2, 3, 4, 5, 6, 7, 8, 9, 10, 11, 12, 13],\n",
       " 'f_12': [0, 1, 2, 3, 4, 5, 6, 7, 8, 9, 10, 11, 12, 13, 14, 16],\n",
       " 'f_13': [0, 1, 2, 3, 4, 5, 6, 7, 8, 9, 10, 11, 12],\n",
       " 'f_14': [0, 1, 2, 3, 4, 5, 6, 7, 8, 9, 10, 11, 12, 14],\n",
       " 'f_15': [0, 1, 2, 3, 4, 5, 6, 7, 8, 9, 10, 11, 12, 13, 14],\n",
       " 'f_16': [0, 1, 2, 3, 4, 5, 6, 7, 8, 9, 10, 11, 12, 13, 14, 15],\n",
       " 'f_17': [0, 1, 2, 3, 4, 5, 6, 7, 8, 9, 10, 11, 12, 14],\n",
       " 'f_18': [0, 1, 2, 3, 4, 5, 6, 7, 8, 9, 10, 11, 12, 13],\n",
       " 'f_29': [0, 1],\n",
       " 'f_30': [0, 1, 2]}"
      ]
     },
     "execution_count": 55,
     "metadata": {},
     "output_type": "execute_result"
    }
   ],
   "source": [
    "# let's check the unique values\n",
    "{col : sorted(trn_data[col].unique().tolist()) for col in cat_cols}"
   ]
  },
  {
   "cell_type": "code",
   "execution_count": 105,
   "metadata": {
    "ExecuteTime": {
     "end_time": "2022-05-09T13:37:21.959170Z",
     "start_time": "2022-05-09T13:37:21.871556Z"
    },
    "deletable": false,
    "editable": false,
    "run_control": {
     "frozen": true
    }
   },
   "outputs": [
    {
     "data": {
      "text/plain": [
       "{'f_07': [0, 1, 2, 3, 4, 5, 6, 7, 8, 9, 10, 11, 12, 13, 15, 16],\n",
       " 'f_08': [0, 1, 2, 3, 4, 5, 6, 7, 8, 9, 10, 11, 12, 13],\n",
       " 'f_09': [0, 1, 2, 3, 4, 5, 6, 7, 8, 9, 10, 11, 12, 13, 14, 16],\n",
       " 'f_10': [0, 1, 2, 3, 4, 5, 6, 7, 8, 9, 10, 11, 12, 13, 14, 15],\n",
       " 'f_11': [0, 1, 2, 3, 4, 5, 6, 7, 8, 9, 10, 11, 12, 13, 14],\n",
       " 'f_12': [0, 1, 2, 3, 4, 5, 6, 7, 8, 9, 10, 11, 12, 13, 14, 15],\n",
       " 'f_13': [0, 1, 2, 3, 4, 5, 6, 7, 8, 9, 10, 11, 12, 13],\n",
       " 'f_14': [0, 1, 2, 3, 4, 5, 6, 7, 8, 9, 10, 11, 12],\n",
       " 'f_15': [0, 1, 2, 3, 4, 5, 6, 7, 8, 9, 10, 11, 12, 14],\n",
       " 'f_16': [0, 1, 2, 3, 4, 5, 6, 7, 8, 9, 10, 11, 12, 13],\n",
       " 'f_17': [0, 1, 2, 3, 4, 5, 6, 7, 8, 9, 10, 11, 12, 13],\n",
       " 'f_18': [0, 1, 2, 3, 4, 5, 6, 7, 8, 9, 10, 11, 12, 13],\n",
       " 'f_29': [0, 1],\n",
       " 'f_30': [0, 1, 2]}"
      ]
     },
     "execution_count": 105,
     "metadata": {},
     "output_type": "execute_result"
    }
   ],
   "source": [
    "# let's check the unique values\n",
    "{col : sorted(tst_data[col].unique().tolist()) for col in cat_cols}"
   ]
  },
  {
   "cell_type": "markdown",
   "metadata": {},
   "source": [
    "Thus, considering the above detected variables, implementing the *one hot encoding* method in the `read_file` method, to make our life easy! Also, the original columns are deleted, as they are not required."
   ]
  },
  {
   "cell_type": "code",
   "execution_count": 33,
   "metadata": {
    "ExecuteTime": {
     "end_time": "2022-05-08T18:12:30.653471Z",
     "start_time": "2022-05-08T18:12:30.606999Z"
    },
    "deletable": false,
    "editable": false,
    "run_control": {
     "frozen": true
    },
    "scrolled": true
   },
   "outputs": [
    {
     "data": {
      "text/html": [
       "<div>\n",
       "<style scoped>\n",
       "    .dataframe tbody tr th:only-of-type {\n",
       "        vertical-align: middle;\n",
       "    }\n",
       "\n",
       "    .dataframe tbody tr th {\n",
       "        vertical-align: top;\n",
       "    }\n",
       "\n",
       "    .dataframe thead th {\n",
       "        text-align: right;\n",
       "    }\n",
       "</style>\n",
       "<table border=\"1\" class=\"dataframe\">\n",
       "  <thead>\n",
       "    <tr style=\"text-align: right;\">\n",
       "      <th></th>\n",
       "      <th>f_00</th>\n",
       "      <th>f_01</th>\n",
       "      <th>f_02</th>\n",
       "      <th>f_03</th>\n",
       "      <th>f_04</th>\n",
       "      <th>f_05</th>\n",
       "      <th>f_06</th>\n",
       "      <th>f_19</th>\n",
       "      <th>f_20</th>\n",
       "      <th>f_21</th>\n",
       "      <th>f_22</th>\n",
       "      <th>f_23</th>\n",
       "      <th>f_24</th>\n",
       "      <th>f_25</th>\n",
       "      <th>f_26</th>\n",
       "      <th>f_28</th>\n",
       "      <th>target</th>\n",
       "      <th>...</th>\n",
       "      <th>f_17_14</th>\n",
       "      <th>f_18_1</th>\n",
       "      <th>f_18_2</th>\n",
       "      <th>f_18_3</th>\n",
       "      <th>f_18_4</th>\n",
       "      <th>f_18_5</th>\n",
       "      <th>f_18_6</th>\n",
       "      <th>f_18_7</th>\n",
       "      <th>f_18_8</th>\n",
       "      <th>f_18_9</th>\n",
       "      <th>f_18_10</th>\n",
       "      <th>f_18_11</th>\n",
       "      <th>f_18_12</th>\n",
       "      <th>f_18_13</th>\n",
       "      <th>f_29_1</th>\n",
       "      <th>f_30_1</th>\n",
       "      <th>f_30_2</th>\n",
       "    </tr>\n",
       "    <tr>\n",
       "      <th>id</th>\n",
       "      <th></th>\n",
       "      <th></th>\n",
       "      <th></th>\n",
       "      <th></th>\n",
       "      <th></th>\n",
       "      <th></th>\n",
       "      <th></th>\n",
       "      <th></th>\n",
       "      <th></th>\n",
       "      <th></th>\n",
       "      <th></th>\n",
       "      <th></th>\n",
       "      <th></th>\n",
       "      <th></th>\n",
       "      <th></th>\n",
       "      <th></th>\n",
       "      <th></th>\n",
       "      <th></th>\n",
       "      <th></th>\n",
       "      <th></th>\n",
       "      <th></th>\n",
       "      <th></th>\n",
       "      <th></th>\n",
       "      <th></th>\n",
       "      <th></th>\n",
       "      <th></th>\n",
       "      <th></th>\n",
       "      <th></th>\n",
       "      <th></th>\n",
       "      <th></th>\n",
       "      <th></th>\n",
       "      <th></th>\n",
       "      <th></th>\n",
       "      <th></th>\n",
       "      <th></th>\n",
       "    </tr>\n",
       "  </thead>\n",
       "  <tbody>\n",
       "    <tr>\n",
       "      <th>203867</th>\n",
       "      <td>-1.10</td>\n",
       "      <td>-1.31</td>\n",
       "      <td>0.56</td>\n",
       "      <td>-0.21</td>\n",
       "      <td>1.85</td>\n",
       "      <td>0.18</td>\n",
       "      <td>0.02</td>\n",
       "      <td>0.34</td>\n",
       "      <td>-1.28</td>\n",
       "      <td>-1.01</td>\n",
       "      <td>-1.38</td>\n",
       "      <td>0.91</td>\n",
       "      <td>1.66</td>\n",
       "      <td>0.32</td>\n",
       "      <td>2.33</td>\n",
       "      <td>87.62</td>\n",
       "      <td>1</td>\n",
       "      <td>...</td>\n",
       "      <td>0</td>\n",
       "      <td>0</td>\n",
       "      <td>0</td>\n",
       "      <td>0</td>\n",
       "      <td>0</td>\n",
       "      <td>0</td>\n",
       "      <td>0</td>\n",
       "      <td>0</td>\n",
       "      <td>0</td>\n",
       "      <td>0</td>\n",
       "      <td>0</td>\n",
       "      <td>0</td>\n",
       "      <td>0</td>\n",
       "      <td>0</td>\n",
       "      <td>0</td>\n",
       "      <td>0</td>\n",
       "      <td>0</td>\n",
       "    </tr>\n",
       "    <tr>\n",
       "      <th>369825</th>\n",
       "      <td>-0.88</td>\n",
       "      <td>-1.29</td>\n",
       "      <td>1.76</td>\n",
       "      <td>-1.79</td>\n",
       "      <td>0.28</td>\n",
       "      <td>0.21</td>\n",
       "      <td>-0.93</td>\n",
       "      <td>0.98</td>\n",
       "      <td>-0.53</td>\n",
       "      <td>1.86</td>\n",
       "      <td>-3.69</td>\n",
       "      <td>2.70</td>\n",
       "      <td>1.73</td>\n",
       "      <td>-1.35</td>\n",
       "      <td>0.31</td>\n",
       "      <td>-488.50</td>\n",
       "      <td>1</td>\n",
       "      <td>...</td>\n",
       "      <td>0</td>\n",
       "      <td>0</td>\n",
       "      <td>1</td>\n",
       "      <td>0</td>\n",
       "      <td>0</td>\n",
       "      <td>0</td>\n",
       "      <td>0</td>\n",
       "      <td>0</td>\n",
       "      <td>0</td>\n",
       "      <td>0</td>\n",
       "      <td>0</td>\n",
       "      <td>0</td>\n",
       "      <td>0</td>\n",
       "      <td>0</td>\n",
       "      <td>0</td>\n",
       "      <td>0</td>\n",
       "      <td>0</td>\n",
       "    </tr>\n",
       "    <tr>\n",
       "      <th>379045</th>\n",
       "      <td>0.69</td>\n",
       "      <td>0.94</td>\n",
       "      <td>0.73</td>\n",
       "      <td>-1.18</td>\n",
       "      <td>-0.45</td>\n",
       "      <td>0.70</td>\n",
       "      <td>-1.35</td>\n",
       "      <td>-7.12</td>\n",
       "      <td>-1.25</td>\n",
       "      <td>-2.66</td>\n",
       "      <td>3.51</td>\n",
       "      <td>1.03</td>\n",
       "      <td>4.48</td>\n",
       "      <td>4.53</td>\n",
       "      <td>-3.38</td>\n",
       "      <td>-167.12</td>\n",
       "      <td>1</td>\n",
       "      <td>...</td>\n",
       "      <td>0</td>\n",
       "      <td>0</td>\n",
       "      <td>1</td>\n",
       "      <td>0</td>\n",
       "      <td>0</td>\n",
       "      <td>0</td>\n",
       "      <td>0</td>\n",
       "      <td>0</td>\n",
       "      <td>0</td>\n",
       "      <td>0</td>\n",
       "      <td>0</td>\n",
       "      <td>0</td>\n",
       "      <td>0</td>\n",
       "      <td>0</td>\n",
       "      <td>0</td>\n",
       "      <td>1</td>\n",
       "      <td>0</td>\n",
       "    </tr>\n",
       "    <tr>\n",
       "      <th>274848</th>\n",
       "      <td>-0.19</td>\n",
       "      <td>-0.94</td>\n",
       "      <td>0.34</td>\n",
       "      <td>-2.16</td>\n",
       "      <td>0.85</td>\n",
       "      <td>1.37</td>\n",
       "      <td>0.60</td>\n",
       "      <td>1.03</td>\n",
       "      <td>5.20</td>\n",
       "      <td>0.91</td>\n",
       "      <td>0.17</td>\n",
       "      <td>3.10</td>\n",
       "      <td>-3.01</td>\n",
       "      <td>-2.61</td>\n",
       "      <td>-1.37</td>\n",
       "      <td>-50.91</td>\n",
       "      <td>0</td>\n",
       "      <td>...</td>\n",
       "      <td>0</td>\n",
       "      <td>0</td>\n",
       "      <td>1</td>\n",
       "      <td>0</td>\n",
       "      <td>0</td>\n",
       "      <td>0</td>\n",
       "      <td>0</td>\n",
       "      <td>0</td>\n",
       "      <td>0</td>\n",
       "      <td>0</td>\n",
       "      <td>0</td>\n",
       "      <td>0</td>\n",
       "      <td>0</td>\n",
       "      <td>0</td>\n",
       "      <td>0</td>\n",
       "      <td>0</td>\n",
       "      <td>0</td>\n",
       "    </tr>\n",
       "    <tr>\n",
       "      <th>725608</th>\n",
       "      <td>0.08</td>\n",
       "      <td>-1.43</td>\n",
       "      <td>-0.03</td>\n",
       "      <td>1.70</td>\n",
       "      <td>-0.87</td>\n",
       "      <td>-0.14</td>\n",
       "      <td>0.79</td>\n",
       "      <td>1.90</td>\n",
       "      <td>-0.03</td>\n",
       "      <td>-0.81</td>\n",
       "      <td>1.05</td>\n",
       "      <td>-0.82</td>\n",
       "      <td>0.04</td>\n",
       "      <td>-0.76</td>\n",
       "      <td>0.28</td>\n",
       "      <td>186.25</td>\n",
       "      <td>0</td>\n",
       "      <td>...</td>\n",
       "      <td>0</td>\n",
       "      <td>0</td>\n",
       "      <td>0</td>\n",
       "      <td>0</td>\n",
       "      <td>1</td>\n",
       "      <td>0</td>\n",
       "      <td>0</td>\n",
       "      <td>0</td>\n",
       "      <td>0</td>\n",
       "      <td>0</td>\n",
       "      <td>0</td>\n",
       "      <td>0</td>\n",
       "      <td>0</td>\n",
       "      <td>0</td>\n",
       "      <td>1</td>\n",
       "      <td>0</td>\n",
       "      <td>0</td>\n",
       "    </tr>\n",
       "  </tbody>\n",
       "</table>\n",
       "<p>5 rows × 187 columns</p>\n",
       "</div>"
      ],
      "text/plain": [
       "        f_00  f_01  f_02  f_03  f_04  f_05  f_06  f_19  f_20  f_21  f_22  \\\n",
       "id                                                                         \n",
       "203867 -1.10 -1.31  0.56 -0.21  1.85  0.18  0.02  0.34 -1.28 -1.01 -1.38   \n",
       "369825 -0.88 -1.29  1.76 -1.79  0.28  0.21 -0.93  0.98 -0.53  1.86 -3.69   \n",
       "379045  0.69  0.94  0.73 -1.18 -0.45  0.70 -1.35 -7.12 -1.25 -2.66  3.51   \n",
       "274848 -0.19 -0.94  0.34 -2.16  0.85  1.37  0.60  1.03  5.20  0.91  0.17   \n",
       "725608  0.08 -1.43 -0.03  1.70 -0.87 -0.14  0.79  1.90 -0.03 -0.81  1.05   \n",
       "\n",
       "        f_23  f_24  f_25  f_26    f_28 target  ... f_17_14 f_18_1 f_18_2  \\\n",
       "id                                             ...                         \n",
       "203867  0.91  1.66  0.32  2.33   87.62      1  ...       0      0      0   \n",
       "369825  2.70  1.73 -1.35  0.31 -488.50      1  ...       0      0      1   \n",
       "379045  1.03  4.48  4.53 -3.38 -167.12      1  ...       0      0      1   \n",
       "274848  3.10 -3.01 -2.61 -1.37  -50.91      0  ...       0      0      1   \n",
       "725608 -0.82  0.04 -0.76  0.28  186.25      0  ...       0      0      0   \n",
       "\n",
       "       f_18_3 f_18_4 f_18_5 f_18_6 f_18_7 f_18_8 f_18_9 f_18_10 f_18_11  \\\n",
       "id                                                                        \n",
       "203867      0      0      0      0      0      0      0       0       0   \n",
       "369825      0      0      0      0      0      0      0       0       0   \n",
       "379045      0      0      0      0      0      0      0       0       0   \n",
       "274848      0      0      0      0      0      0      0       0       0   \n",
       "725608      0      1      0      0      0      0      0       0       0   \n",
       "\n",
       "       f_18_12 f_18_13 f_29_1 f_30_1 f_30_2  \n",
       "id                                           \n",
       "203867       0       0      0      0      0  \n",
       "369825       0       0      0      0      0  \n",
       "379045       0       0      0      1      0  \n",
       "274848       0       0      0      0      0  \n",
       "725608       0       0      1      0      0  \n",
       "\n",
       "[5 rows x 187 columns]"
      ]
     },
     "execution_count": 33,
     "metadata": {},
     "output_type": "execute_result"
    }
   ],
   "source": [
    "trn_data.sample(5)"
   ]
  },
  {
   "cell_type": "markdown",
   "metadata": {},
   "source": [
    "#### EDA on Numerical Variables"
   ]
  },
  {
   "cell_type": "code",
   "execution_count": 38,
   "metadata": {
    "ExecuteTime": {
     "end_time": "2022-05-09T07:53:39.969105Z",
     "start_time": "2022-05-09T07:53:39.952078Z"
    },
    "deletable": false,
    "editable": false
   },
   "outputs": [
    {
     "name": "stdout",
     "output_type": "stream",
     "text": [
      "['f_00', 'f_01', 'f_02', 'f_03', 'f_04', 'f_05', 'f_06', 'f_19', 'f_20', 'f_21', 'f_22', 'f_23', 'f_24', 'f_25', 'f_26', 'f_28']\n"
     ]
    }
   ],
   "source": [
    "num_cols = ['f_00', 'f_01', 'f_02', 'f_03', 'f_04', 'f_05', 'f_06', 'f_19','f_20', 'f_21', 'f_22', 'f_23', 'f_24', 'f_25', 'f_26', 'f_28']\n",
    "print(num_cols)"
   ]
  },
  {
   "cell_type": "code",
   "execution_count": 101,
   "metadata": {
    "ExecuteTime": {
     "end_time": "2022-05-09T08:52:19.265789Z",
     "start_time": "2022-05-09T08:52:12.569378Z"
    },
    "deletable": false,
    "editable": false,
    "run_control": {
     "frozen": true
    },
    "scrolled": false
   },
   "outputs": [
    {
     "data": {
      "image/png": "[encoded data removed]",
      "text/plain": [
       "<Figure size 1512x1728 with 16 Axes>"
      ]
     },
     "metadata": {},
     "output_type": "display_data"
    }
   ],
   "source": [
    "fig, axs = plt.subplots(4, 4, figsize = (21, 24))\n",
    "\n",
    "grouped = trn_data.groupby(\"target\").agg([\"median\", \"min\", \"max\"])\n",
    "axs = axs.ravel() # https://stackoverflow.com/a/17211410/6623589\n",
    "for idx, col in enumerate(num_cols):\n",
    "    # sns.boxplot with axs https://stackoverflow.com/a/41384984/6623589\n",
    "    g = sns.boxplot(x = \"target\", y = col, data = trn_data, palette = [\"#38A6A5\", \"#E1B580\"], ax = axs[idx])\n",
    "    \n",
    "    # https://stackoverflow.com/a/58476779/6623589\n",
    "    g.set(title = \"Feature: \" + col.split(\"_\")[1])\n",
    "    g.set(ylabel = None)\n",
    "    \n",
    "    # also display statistican values in boxplot\n",
    "    mins = np.round(grouped[col, \"min\"].values, 2)\n",
    "    maxs = np.round(grouped[col, \"max\"].values, 2)\n",
    "    medians = np.round(grouped[col, \"median\"].values, 2)\n",
    "    \n",
    "    ind = 0\n",
    "    for tick in range(len(g.get_xticklabels())):\n",
    "        # adding min and max values\n",
    "        g.text(tick + 0.2, mins[ind + 1] - 0.05, str(mins[ind + 1]), ha = \"center\")\n",
    "        g.text(tick + 0.2, maxs[ind + 1] - 0.05, str(maxs[ind + 1]), ha = \"center\")\n",
    "        \n",
    "        # adding median value\n",
    "        # https://stackoverflow.com/a/45476485/6623589\n",
    "        g.text(tick, medians[ind + 1] + 0.2, str(medians[ind + 1]), ha = \"center\", color = \"white\", weight = \"semibold\")\n",
    "    \n",
    "plt.suptitle(\"Distribution of Numerical Variables\")\n",
    "plt.tight_layout(rect=[0, 0.2, 1, 0.99])\n",
    "plt.show()"
   ]
  },
  {
   "cell_type": "markdown",
   "metadata": {},
   "source": [
    "## Deep Learning Application"
   ]
  },
  {
   "cell_type": "markdown",
   "metadata": {},
   "source": [
    "### Base Model"
   ]
  },
  {
   "cell_type": "code",
   "execution_count": null,
   "metadata": {
    "ExecuteTime": {
     "end_time": "2022-05-08T18:17:29.757313Z",
     "start_time": "2022-05-08T18:17:29.219032Z"
    }
   },
   "outputs": [],
   "source": [
    "x = trn_data.drop(columns = \"target\").values\n",
    "y = trn_data[\"target\"].values"
   ]
  },
  {
   "cell_type": "code",
   "execution_count": null,
   "metadata": {
    "ExecuteTime": {
     "end_time": "2022-05-08T18:17:49.038184Z",
     "start_time": "2022-05-08T18:17:49.024209Z"
    }
   },
   "outputs": [],
   "source": [
    "trn_data.shape"
   ]
  },
  {
   "cell_type": "code",
   "execution_count": null,
   "metadata": {
    "ExecuteTime": {
     "end_time": "2022-05-08T18:17:55.892353Z",
     "start_time": "2022-05-08T18:17:55.884260Z"
    }
   },
   "outputs": [],
   "source": [
    "tst_data.shape"
   ]
  },
  {
   "cell_type": "code",
   "execution_count": null,
   "metadata": {
    "ExecuteTime": {
     "end_time": "2022-05-08T18:17:30.327689Z",
     "start_time": "2022-05-08T18:17:30.268546Z"
    }
   },
   "outputs": [],
   "source": [
    "INPUT_SHAPE = x.shape[1]\n",
    "OUTPUT_SHAPE = len(set(y))\n",
    "\n",
    "INPUT_SHAPE, OUTPUT_SHAPE"
   ]
  },
  {
   "cell_type": "code",
   "execution_count": null,
   "metadata": {
    "ExecuteTime": {
     "end_time": "2022-05-08T18:17:35.447646Z",
     "start_time": "2022-05-08T18:17:35.380231Z"
    }
   },
   "outputs": [],
   "source": [
    "model = tf.keras.Sequential([\n",
    "    tf.keras.layers.Dense(64, input_shape = (INPUT_SHAPE, ), activation = \"swish\", name = \"iLayer\"),\n",
    "    tf.keras.layers.Dropout(0.2),\n",
    "    tf.keras.layers.Dense(128, activation = \"swish\"),\n",
    "    tf.keras.layers.Dropout(0.2),\n",
    "    tf.keras.layers.Dense(256, activation = \"swish\"),\n",
    "    tf.keras.layers.Dropout(0.2),\n",
    "    tf.keras.layers.Dense(64, activation = \"swish\"),\n",
    "    tf.keras.layers.BatchNormalization(),\n",
    "    tf.keras.layers.Dense(OUTPUT_SHAPE, activation = \"sigmoid\", name = \"oLayer\"),\n",
    "], name = \"DFC-1.0.0\")\n",
    "\n",
    "model.summary(line_length = 127)"
   ]
  },
  {
   "cell_type": "code",
   "execution_count": null,
   "metadata": {
    "ExecuteTime": {
     "end_time": "2022-05-08T18:13:13.784335Z",
     "start_time": "2022-05-08T18:13:13.764895Z"
    }
   },
   "outputs": [],
   "source": [
    "model.compile(\n",
    "    optimizer = \"adam\",\n",
    "    loss = tf.keras.losses.SparseCategoricalCrossentropy(from_logits = True),\n",
    "    metrics = [tf.keras.metrics.SparseCategoricalAccuracy()]\n",
    ")"
   ]
  },
  {
   "cell_type": "code",
   "execution_count": null,
   "metadata": {
    "ExecuteTime": {
     "end_time": "2022-05-08T18:16:23.171288Z",
     "start_time": "2022-05-08T18:15:05.654752Z"
    }
   },
   "outputs": [],
   "source": [
    "history = model.fit(x, y, epochs = 5, batch_size = 128)"
   ]
  },
  {
   "cell_type": "code",
   "execution_count": null,
   "metadata": {
    "ExecuteTime": {
     "end_time": "2022-05-08T18:17:03.071082Z",
     "start_time": "2022-05-08T18:17:02.267854Z"
    }
   },
   "outputs": [],
   "source": [
    "yPredicted = model.predict(tst_data.values)"
   ]
  },
  {
   "cell_type": "code",
   "execution_count": null,
   "metadata": {
    "ExecuteTime": {
     "end_time": "2022-05-08T18:02:54.983001Z",
     "start_time": "2022-05-08T18:02:54.983001Z"
    }
   },
   "outputs": [],
   "source": [
    "yPredicted"
   ]
  },
  {
   "cell_type": "code",
   "execution_count": null,
   "metadata": {
    "ExecuteTime": {
     "end_time": "2022-05-08T18:02:54.983986Z",
     "start_time": "2022-05-08T18:02:54.983986Z"
    }
   },
   "outputs": [],
   "source": [
    "output = pd.DataFrame({\"id\" : tst_data.index, \"target\" : np.argmax(yPredicted, axis = 1)})\n",
    "output.to_csv(join(OUTPUT_DIR, \"DFC100-08052022.csv\"), index = False)"
   ]
  }
 ],
 "metadata": {
  "hide_input": false,
  "kernelspec": {
   "display_name": "TensorFlow-2.6.0 (GPU)",
   "language": "python",
   "name": "tensorflow"
  },
  "language_info": {
   "codemirror_mode": {
    "name": "ipython",
    "version": 3
   },
   "file_extension": ".py",
   "mimetype": "text/x-python",
   "name": "python",
   "nbconvert_exporter": "python",
   "pygments_lexer": "ipython3",
   "version": "3.9.12"
  },
  "latex_envs": {
   "LaTeX_envs_menu_present": true,
   "autoclose": true,
   "autocomplete": true,
   "bibliofile": "biblio.bib",
   "cite_by": "apalike",
   "current_citInitial": 1,
   "eqLabelWithNumbers": true,
   "eqNumInitial": 1,
   "hotkeys": {
    "equation": "Ctrl-E",
    "itemize": "Ctrl-I"
   },
   "labels_anchors": false,
   "latex_user_defs": false,
   "report_style_numbering": false,
   "user_envs_cfg": false
  },
  "toc": {
   "base_numbering": 1,
   "nav_menu": {},
   "number_sections": false,
   "sideBar": true,
   "skip_h1_title": true,
   "title_cell": "Table of Contents",
   "title_sidebar": "Contents",
   "toc_cell": false,
   "toc_position": {},
   "toc_section_display": true,
   "toc_window_display": false
  },
  "varInspector": {
   "cols": {
    "lenName": 16,
    "lenType": 16,
    "lenVar": 40
   },
   "kernels_config": {
    "python": {
     "delete_cmd_postfix": "",
     "delete_cmd_prefix": "del ",
     "library": "var_list.py",
     "varRefreshCmd": "print(var_dic_list())"
    },
    "r": {
     "delete_cmd_postfix": ") ",
     "delete_cmd_prefix": "rm(",
     "library": "var_list.r",
     "varRefreshCmd": "cat(var_dic_list()) "
    }
   },
   "types_to_exclude": [
    "module",
    "function",
    "builtin_function_or_method",
    "instance",
    "_Feature"
   ],
   "window_display": false
  }
 },
 "nbformat": 4,
 "nbformat_minor": 2
}
