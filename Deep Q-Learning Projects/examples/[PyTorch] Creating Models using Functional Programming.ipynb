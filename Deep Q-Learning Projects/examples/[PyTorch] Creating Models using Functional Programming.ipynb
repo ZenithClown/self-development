{
 "cells": [
  {
   "cell_type": "code",
   "execution_count": 1,
   "metadata": {
    "ExecuteTime": {
     "end_time": "2022-02-02T10:25:43.905793Z",
     "start_time": "2022-02-02T10:25:43.901813Z"
    }
   },
   "outputs": [],
   "source": [
    "import os\n",
    "import sys\n",
    "\n",
    "sys.path.append(os.path.join(\"..\")) # append path to get all model features"
   ]
  },
  {
   "cell_type": "code",
   "execution_count": 2,
   "metadata": {},
   "outputs": [],
   "source": [
    "import numpy as np"
   ]
  },
  {
   "cell_type": "code",
   "execution_count": 3,
   "metadata": {
    "ExecuteTime": {
     "end_time": "2022-02-02T10:25:44.190069Z",
     "start_time": "2022-02-02T10:25:43.907809Z"
    }
   },
   "outputs": [],
   "source": [
    "import torch\n",
    "import torch.nn as nn\n",
    "import torch.optim as optim\n",
    "import torch.nn.functional as F\n",
    "from torchsummary import summary"
   ]
  },
  {
   "cell_type": "code",
   "execution_count": 4,
   "metadata": {},
   "outputs": [],
   "source": [
    "class LinearQNet(nn.Module):\n",
    "    \"\"\"\n",
    "    LinearQNet - A Linear Q-Learning Neural Network\n",
    "    \n",
    "    A simplified linear neural network is sufficient to train most\n",
    "    types of agents, infact more the simple the model is the better!\n",
    "    This neural network will serve as the backbone of the `agent`\n",
    "    that will learn to play the snake game.\n",
    "    \"\"\"\n",
    "    \n",
    "    def __init__(self, input_size : int, hidden_size : int, output_size : int) -> None:\n",
    "        super().__init__()\n",
    "        \n",
    "        # layer definations\n",
    "        self.linear1 = nn.Linear(input_size, hidden_size)\n",
    "        self.linear2 = nn.Linear(hidden_size, output_size)\n",
    "        \n",
    "    \n",
    "    def forward(self, x) -> torch.Tensor:\n",
    "        x = F.relu(self.linear1(x))\n",
    "        x = self.linear2(x)\n",
    "        \n",
    "        return x\n",
    "    \n",
    "    \n",
    "    def save(self, directory : str, filename : str = \"model.pth\"):\n",
    "        # output path is `join(directory, filename)`\n",
    "        if not os.path.exists(directory):\n",
    "            os.makedirs(directory)\n",
    "            \n",
    "        fullpath = os.path.join(directory, filename)\n",
    "        torch.save(self.state_dict(), fullpath)"
   ]
  },
  {
   "cell_type": "code",
   "execution_count": 5,
   "metadata": {},
   "outputs": [
    {
     "name": "stdout",
     "output_type": "stream",
     "text": [
      "----------------------------------------------------------------\n",
      "        Layer (type)               Output Shape         Param #\n",
      "================================================================\n",
      "            Linear-1                  [-1, 256]           3,072\n",
      "            Linear-2                    [-1, 3]             771\n",
      "================================================================\n",
      "Total params: 3,843\n",
      "Trainable params: 3,843\n",
      "Non-trainable params: 0\n",
      "----------------------------------------------------------------\n",
      "Input size (MB): 0.00\n",
      "Forward/backward pass size (MB): 0.00\n",
      "Params size (MB): 0.01\n",
      "Estimated Total Size (MB): 0.02\n",
      "----------------------------------------------------------------\n"
     ]
    }
   ],
   "source": [
    "model = LinearQNet(11, 256, 3)\n",
    "summary(model, (11, )) # print model summary"
   ]
  },
  {
   "cell_type": "code",
   "execution_count": 6,
   "metadata": {},
   "outputs": [],
   "source": [
    "prediction = model(torch.tensor(np.random.randint(low = 0, high = 2, size = 11), dtype = torch.float))"
   ]
  },
  {
   "cell_type": "code",
   "execution_count": 7,
   "metadata": {},
   "outputs": [
    {
     "data": {
      "text/plain": [
       "tensor([ 0.0040, -0.2901, -0.1886], grad_fn=<AddBackward0>)"
      ]
     },
     "execution_count": 7,
     "metadata": {},
     "output_type": "execute_result"
    }
   ],
   "source": [
    "prediction"
   ]
  },
  {
   "cell_type": "code",
   "execution_count": 17,
   "metadata": {},
   "outputs": [],
   "source": [
    "class QTrainer(object):\n",
    "    \"\"\"Defination of a QTrainer, a Trainer for Q-Learning\"\"\"\n",
    "    \n",
    "    def __init__(self, model, lr, gamma) -> None:\n",
    "        \"\"\"\n",
    "        Create an instance of QTrainer with `trainer = QTrainer(model, lr, gamma)`\n",
    "        that understands the `environment` and sets attributes to the `agent`s' which\n",
    "        performs certain tasks.\n",
    "        \n",
    "        :param model: A neural network model (using `pytorch`) that will be used for\n",
    "                      training and validation.\n",
    "                      \n",
    "        :param lr: Learning rate of the model.\n",
    "        \n",
    "        :param gamma: Discount parameter of the QNet.\n",
    "        \"\"\"\n",
    "        \n",
    "        self.lr = lr\n",
    "        self.gamma = gamma\n",
    "        self.model = model\n",
    "        self.criterion = nn.MSELoss()\n",
    "        self.optimizer = optim.Adam(model.parameters(), lr = self.lr)\n",
    "        \n",
    "        \n",
    "    def train_step(self, states, action, reward, next_state, _is_game_over_) -> float:\n",
    "        states = torch.tensor(states, dtype = torch.float)\n",
    "        action = torch.tensor(action, dtype = torch.float)\n",
    "        reward = torch.tensor(reward, dtype = torch.float)\n",
    "        next_state = torch.tensor(next_state, dtype = torch.float)\n",
    "        \n",
    "        if len(states.shape) == 1:\n",
    "            # (1, x); else (n, x)\n",
    "            # learn with a particular random information\n",
    "            states = torch.unsqueeze(states, 0)\n",
    "            action = torch.unsqueeze(action, 0)\n",
    "            reward = torch.unsqueeze(reward, 0)\n",
    "            next_state = torch.unsqueeze(next_state, 0)\n",
    "            \n",
    "            gameOver = (_is_game_over_, )\n",
    "            \n",
    "        ### predict Q-Value with current state ###\n",
    "        prediction = model(states) # perform forward operation\n",
    "        \n",
    "        target = prediction.clone().detach()\n",
    "        for idx in range(len(gameOver)):\n",
    "            QNew = reward[idx]\n",
    "            \n",
    "            print(target)\n",
    "            if not gameOver[idx]:\n",
    "                QNew = reward[idx] + self.gamma * torch.max(self.model(next_state[idx]))\n",
    "            \n",
    "            print(target)\n",
    "            target[idx][torch.argmax(action[idx]).item()] = QNew\n",
    "            print(target)\n",
    "            \n",
    "        ### update nn based on Q-Value ###\n",
    "        self.optimizer.zero_grad()\n",
    "        losses = self.criterion(target, prediction)\n",
    "        print(losses)\n",
    "        losses.backward() # gradient descent\n",
    "        self.optimizer.step()\n",
    "        \n",
    "        return round(float(losses), 3)"
   ]
  },
  {
   "cell_type": "code",
   "execution_count": 18,
   "metadata": {},
   "outputs": [],
   "source": [
    "trainer = QTrainer(model, 1e-3, 0.9)"
   ]
  },
  {
   "cell_type": "code",
   "execution_count": 19,
   "metadata": {},
   "outputs": [
    {
     "name": "stdout",
     "output_type": "stream",
     "text": [
      "tensor([[-0.1991, -0.3462, -0.4581]])\n",
      "tensor([[-0.1991, -0.3462, -0.4581]])\n",
      "tensor([[-2.0000, -0.3462, -0.4581]])\n",
      "tensor(1.0811, grad_fn=<MeanBackward0>)\n"
     ]
    },
    {
     "name": "stderr",
     "output_type": "stream",
     "text": [
      "<ipython-input-17-8b002a713d57>:26: UserWarning: To copy construct from a tensor, it is recommended to use sourceTensor.clone().detach() or sourceTensor.clone().detach().requires_grad_(True), rather than torch.tensor(sourceTensor).\n",
      "  states = torch.tensor(states, dtype = torch.float)\n",
      "<ipython-input-17-8b002a713d57>:29: UserWarning: To copy construct from a tensor, it is recommended to use sourceTensor.clone().detach() or sourceTensor.clone().detach().requires_grad_(True), rather than torch.tensor(sourceTensor).\n",
      "  next_state = torch.tensor(next_state, dtype = torch.float)\n"
     ]
    },
    {
     "data": {
      "text/plain": [
       "1.081"
      ]
     },
     "execution_count": 19,
     "metadata": {},
     "output_type": "execute_result"
    }
   ],
   "source": [
    "trainer.train_step(\n",
    "    torch.tensor(np.random.randint(low = 0, high = 2, size = 11), dtype = torch.float),\n",
    "    [1, 0, 0], -2, torch.tensor(np.random.randint(low = 0, high = 2, size = 11), dtype = torch.float), 1\n",
    ")"
   ]
  }
 ],
 "metadata": {
  "kernelspec": {
   "display_name": "PyTorch [GPU]",
   "language": "python",
   "name": "pytorch"
  },
  "language_info": {
   "codemirror_mode": {
    "name": "ipython",
    "version": 3
   },
   "file_extension": ".py",
   "mimetype": "text/x-python",
   "name": "python",
   "nbconvert_exporter": "python",
   "pygments_lexer": "ipython3",
   "version": "3.8.3"
  },
  "latex_envs": {
   "LaTeX_envs_menu_present": true,
   "autoclose": false,
   "autocomplete": true,
   "bibliofile": "biblio.bib",
   "cite_by": "apalike",
   "current_citInitial": 1,
   "eqLabelWithNumbers": true,
   "eqNumInitial": 1,
   "hotkeys": {
    "equation": "Ctrl-E",
    "itemize": "Ctrl-I"
   },
   "labels_anchors": false,
   "latex_user_defs": false,
   "report_style_numbering": false,
   "user_envs_cfg": false
  },
  "toc": {
   "base_numbering": 1,
   "nav_menu": {},
   "number_sections": false,
   "sideBar": true,
   "skip_h1_title": true,
   "title_cell": "Table of Contents",
   "title_sidebar": "Contents",
   "toc_cell": false,
   "toc_position": {},
   "toc_section_display": true,
   "toc_window_display": false
  },
  "varInspector": {
   "cols": {
    "lenName": 16,
    "lenType": 16,
    "lenVar": 40
   },
   "kernels_config": {
    "python": {
     "delete_cmd_postfix": "",
     "delete_cmd_prefix": "del ",
     "library": "var_list.py",
     "varRefreshCmd": "print(var_dic_list())"
    },
    "r": {
     "delete_cmd_postfix": ") ",
     "delete_cmd_prefix": "rm(",
     "library": "var_list.r",
     "varRefreshCmd": "cat(var_dic_list()) "
    }
   },
   "types_to_exclude": [
    "module",
    "function",
    "builtin_function_or_method",
    "instance",
    "_Feature"
   ],
   "window_display": false
  }
 },
 "nbformat": 4,
 "nbformat_minor": 5
}
