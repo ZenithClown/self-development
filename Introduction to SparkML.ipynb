{
    "cells": [
        {
            "metadata": {
                "collapsed": true
            },
            "cell_type": "markdown",
            "source": "<center>\n    <h1>An Introduction to SparkML</h1>\n</center>\n\n---"
        },
        {
            "metadata": {},
            "cell_type": "code",
            "source": "!git clone https://github.com/wchill/HMP_Dataset",
            "execution_count": 1,
            "outputs": [
                {
                    "output_type": "stream",
                    "text": "Cloning into 'HMP_Dataset'...\nremote: Enumerating objects: 865, done.\u001b[K\nremote: Total 865 (delta 0), reused 0 (delta 0), pack-reused 865\u001b[K\nReceiving objects: 100% (865/865), 1010.96 KiB | 0 bytes/s, done.\n",
                    "name": "stdout"
                }
            ]
        },
        {
            "metadata": {
                "collapsed": true
            },
            "cell_type": "code",
            "source": "!ls -l HMP_Dataset/",
            "execution_count": 4,
            "outputs": [
                {
                    "output_type": "stream",
                    "text": "total 132\r\ndrwxr-x--- 2 dsxuser dsxuser  4096 Jun  1 18:18 Brush_teeth\r\ndrwxr-x--- 2 dsxuser dsxuser 12288 Jun  1 18:18 Climb_stairs\r\ndrwxr-x--- 2 dsxuser dsxuser  4096 Jun  1 18:18 Comb_hair\r\ndrwxr-x--- 2 dsxuser dsxuser  4096 Jun  1 18:18 Descend_stairs\r\ndrwxr-x--- 2 dsxuser dsxuser 12288 Jun  1 18:18 Drink_glass\r\ndrwxr-x--- 2 dsxuser dsxuser  4096 Jun  1 18:18 Eat_meat\r\ndrwxr-x--- 2 dsxuser dsxuser  4096 Jun  1 18:18 Eat_soup\r\n-rw-r----- 1 dsxuser dsxuser   479 Jun  1 18:18 final.py\r\ndrwxr-x--- 2 dsxuser dsxuser 12288 Jun  1 18:18 Getup_bed\r\n-rw-r----- 1 dsxuser dsxuser  1610 Jun  1 18:18 impdata.py\r\ndrwxr-x--- 2 dsxuser dsxuser  4096 Jun  1 18:18 Liedown_bed\r\n-rw-r----- 1 dsxuser dsxuser  4314 Jun  1 18:18 MANUAL.txt\r\ndrwxr-x--- 2 dsxuser dsxuser 12288 Jun  1 18:18 Pour_water\r\n-rw-r----- 1 dsxuser dsxuser  3157 Jun  1 18:18 README.txt\r\ndrwxr-x--- 2 dsxuser dsxuser 12288 Jun  1 18:18 Sitdown_chair\r\ndrwxr-x--- 2 dsxuser dsxuser 12288 Jun  1 18:18 Standup_chair\r\ndrwxr-x--- 2 dsxuser dsxuser  4096 Jun  1 18:18 Use_telephone\r\ndrwxr-x--- 2 dsxuser dsxuser 12288 Jun  1 18:18 Walk\r\n",
                    "name": "stdout"
                }
            ]
        },
        {
            "metadata": {
                "collapsed": true
            },
            "cell_type": "code",
            "source": "!pip install pyspark",
            "execution_count": 6,
            "outputs": [
                {
                    "output_type": "stream",
                    "text": "Collecting pyspark\n\u001b[?25l  Downloading https://files.pythonhosted.org/packages/9a/5a/271c416c1c2185b6cb0151b29a91fff6fcaed80173c8584ff6d20e46b465/pyspark-2.4.5.tar.gz (217.8MB)\n\u001b[K     |\u2588\u2588\u2588\u2588\u2588\u2588\u2588\u2588\u2588\u2588\u2588\u2588\u2588\u2588\u2588\u2588\u2588\u2588\u2588\u2588\u2588\u2588\u2588\u2588\u2588\u2588\u2588\u2588\u2588\u2588\u2588\u2588| 217.8MB 138kB/s  eta 0:00:01\n\u001b[?25hCollecting py4j==0.10.7 (from pyspark)\n\u001b[?25l  Downloading https://files.pythonhosted.org/packages/e3/53/c737818eb9a7dc32a7cd4f1396e787bd94200c3997c72c1dbe028587bd76/py4j-0.10.7-py2.py3-none-any.whl (197kB)\n\u001b[K     |\u2588\u2588\u2588\u2588\u2588\u2588\u2588\u2588\u2588\u2588\u2588\u2588\u2588\u2588\u2588\u2588\u2588\u2588\u2588\u2588\u2588\u2588\u2588\u2588\u2588\u2588\u2588\u2588\u2588\u2588\u2588\u2588| 204kB 42.8MB/s eta 0:00:01\n\u001b[?25hBuilding wheels for collected packages: pyspark\n  Building wheel for pyspark (setup.py) ... \u001b[?25ldone\n\u001b[?25h  Stored in directory: /home/dsxuser/.cache/pip/wheels/bf/db/04/61d66a5939364e756eb1c1be4ec5bdce6e04047fc7929a3c3c\nSuccessfully built pyspark\nInstalling collected packages: py4j, pyspark\nSuccessfully installed py4j-0.10.7 pyspark-2.4.5\n",
                    "name": "stdout"
                }
            ]
        },
        {
            "metadata": {},
            "cell_type": "code",
            "source": "import os\nimport glob\nimport time",
            "execution_count": 24,
            "outputs": []
        },
        {
            "metadata": {},
            "cell_type": "code",
            "source": "try:\n    from pyspark.sql import SparkSession\n    from pyspark import SparkContext, SparkConf\nexcept ImportError as e:\n    raise ImportError('PySpark is not Configured')\n    \n# Creating a Spark-Context\nsc = SparkContext.getOrCreate(SparkConf().setMaster('local[*]'))\n# Spark Builder\nspark = SparkSession.builder.getOrCreate()",
            "execution_count": 27,
            "outputs": []
        },
        {
            "metadata": {},
            "cell_type": "code",
            "source": "from pyspark.ml import Pipeline\nfrom pyspark.ml.linalg import Vectors\nfrom pyspark.sql.functions import lit\nfrom pyspark.sql.types import StructType, StructField, IntegerType\n\nfrom pyspark.ml.feature import (\n        Normalizer,\n        StringIndexer,\n        OneHotEncoder,\n        VectorAssembler\n    )",
            "execution_count": 50,
            "outputs": []
        },
        {
            "metadata": {},
            "cell_type": "code",
            "source": "schema = StructType((\n        StructField('x', IntegerType(), nullable = True),\n        StructField('y', IntegerType(), nullable = True),\n        StructField('z', IntegerType(), nullable = True)\n    ))",
            "execution_count": 9,
            "outputs": []
        },
        {
            "metadata": {},
            "cell_type": "code",
            "source": "folderList = [i for i in os.listdir('HMP_Dataset') if '.' not in i]",
            "execution_count": 17,
            "outputs": []
        },
        {
            "metadata": {},
            "cell_type": "code",
            "source": "%%time\ndata = None\n\nfor category in folderList:\n    print(f'[{time.ctime()}] Reading Category : {category}')\n    for dataFile in glob.glob(f'HMP_Dataset/{category}/*.txt'):\n        _temp = spark.read.option('header', 'false').option('delimiter', ' ').csv(dataFile, schema = schema)\n        \n        # Adding the Category & Source-File Information into the Temporary Created DataFrame\n        _temp = _temp.withColumn('class', lit(category))\n        _temp = _temp.withColumn('source', lit(dataFile))\n        \n        if data is None:\n            data = _temp # Add the Data, for the First Iteration\n        else:\n            data = data.union(_temp)",
            "execution_count": 28,
            "outputs": [
                {
                    "output_type": "stream",
                    "text": "[Mon Jun  1 18:39:31 2020] Reading Category : Liedown_bed\n[Mon Jun  1 18:39:43 2020] Reading Category : Pour_water\n[Mon Jun  1 18:39:58 2020] Reading Category : Descend_stairs\n[Mon Jun  1 18:40:04 2020] Reading Category : Standup_chair\n[Mon Jun  1 18:40:17 2020] Reading Category : Brush_teeth\n[Mon Jun  1 18:40:18 2020] Reading Category : Sitdown_chair\n[Mon Jun  1 18:40:32 2020] Reading Category : Climb_stairs\n[Mon Jun  1 18:40:45 2020] Reading Category : Eat_meat\n[Mon Jun  1 18:40:46 2020] Reading Category : Drink_glass\n[Mon Jun  1 18:41:00 2020] Reading Category : Getup_bed\n[Mon Jun  1 18:41:15 2020] Reading Category : Eat_soup\n[Mon Jun  1 18:41:16 2020] Reading Category : Walk\n[Mon Jun  1 18:41:31 2020] Reading Category : Comb_hair\n[Mon Jun  1 18:41:36 2020] Reading Category : Use_telephone\nCPU times: user 2.39 s, sys: 955 ms, total: 3.35 s\nWall time: 2min 7s\n",
                    "name": "stdout"
                }
            ]
        },
        {
            "metadata": {},
            "cell_type": "code",
            "source": "data.show()",
            "execution_count": 30,
            "outputs": [
                {
                    "output_type": "stream",
                    "text": "+---+---+---+-----------+--------------------+\n|  x|  y|  z|      class|              source|\n+---+---+---+-----------+--------------------+\n| 14| 39| 35|Liedown_bed|HMP_Dataset/Liedo...|\n| 13| 39| 36|Liedown_bed|HMP_Dataset/Liedo...|\n| 12| 38| 36|Liedown_bed|HMP_Dataset/Liedo...|\n| 13| 38| 35|Liedown_bed|HMP_Dataset/Liedo...|\n| 13| 38| 35|Liedown_bed|HMP_Dataset/Liedo...|\n| 13| 40| 36|Liedown_bed|HMP_Dataset/Liedo...|\n| 14| 39| 36|Liedown_bed|HMP_Dataset/Liedo...|\n| 13| 38| 34|Liedown_bed|HMP_Dataset/Liedo...|\n| 13| 39| 34|Liedown_bed|HMP_Dataset/Liedo...|\n| 14| 37| 34|Liedown_bed|HMP_Dataset/Liedo...|\n| 13| 39| 34|Liedown_bed|HMP_Dataset/Liedo...|\n| 13| 39| 34|Liedown_bed|HMP_Dataset/Liedo...|\n| 15| 37| 34|Liedown_bed|HMP_Dataset/Liedo...|\n| 14| 37| 34|Liedown_bed|HMP_Dataset/Liedo...|\n| 15| 42| 35|Liedown_bed|HMP_Dataset/Liedo...|\n| 14| 39| 33|Liedown_bed|HMP_Dataset/Liedo...|\n| 13| 37| 33|Liedown_bed|HMP_Dataset/Liedo...|\n| 10| 39| 31|Liedown_bed|HMP_Dataset/Liedo...|\n| 10| 40| 30|Liedown_bed|HMP_Dataset/Liedo...|\n|  9| 36| 28|Liedown_bed|HMP_Dataset/Liedo...|\n+---+---+---+-----------+--------------------+\nonly showing top 20 rows\n\n",
                    "name": "stdout"
                }
            ]
        },
        {
            "metadata": {},
            "cell_type": "code",
            "source": "indexer = StringIndexer(inputCol = 'class', outputCol = 'classIndex')",
            "execution_count": 34,
            "outputs": []
        },
        {
            "metadata": {},
            "cell_type": "code",
            "source": "indexedData = indexer.fit(data).transform(data)",
            "execution_count": 35,
            "outputs": []
        },
        {
            "metadata": {},
            "cell_type": "code",
            "source": "indexedData.show()",
            "execution_count": 36,
            "outputs": [
                {
                    "output_type": "stream",
                    "text": "+---+---+---+-----------+--------------------+----------+\n|  x|  y|  z|      class|              source|classIndex|\n+---+---+---+-----------+--------------------+----------+\n| 14| 39| 35|Liedown_bed|HMP_Dataset/Liedo...|      12.0|\n| 13| 39| 36|Liedown_bed|HMP_Dataset/Liedo...|      12.0|\n| 12| 38| 36|Liedown_bed|HMP_Dataset/Liedo...|      12.0|\n| 13| 38| 35|Liedown_bed|HMP_Dataset/Liedo...|      12.0|\n| 13| 38| 35|Liedown_bed|HMP_Dataset/Liedo...|      12.0|\n| 13| 40| 36|Liedown_bed|HMP_Dataset/Liedo...|      12.0|\n| 14| 39| 36|Liedown_bed|HMP_Dataset/Liedo...|      12.0|\n| 13| 38| 34|Liedown_bed|HMP_Dataset/Liedo...|      12.0|\n| 13| 39| 34|Liedown_bed|HMP_Dataset/Liedo...|      12.0|\n| 14| 37| 34|Liedown_bed|HMP_Dataset/Liedo...|      12.0|\n| 13| 39| 34|Liedown_bed|HMP_Dataset/Liedo...|      12.0|\n| 13| 39| 34|Liedown_bed|HMP_Dataset/Liedo...|      12.0|\n| 15| 37| 34|Liedown_bed|HMP_Dataset/Liedo...|      12.0|\n| 14| 37| 34|Liedown_bed|HMP_Dataset/Liedo...|      12.0|\n| 15| 42| 35|Liedown_bed|HMP_Dataset/Liedo...|      12.0|\n| 14| 39| 33|Liedown_bed|HMP_Dataset/Liedo...|      12.0|\n| 13| 37| 33|Liedown_bed|HMP_Dataset/Liedo...|      12.0|\n| 10| 39| 31|Liedown_bed|HMP_Dataset/Liedo...|      12.0|\n| 10| 40| 30|Liedown_bed|HMP_Dataset/Liedo...|      12.0|\n|  9| 36| 28|Liedown_bed|HMP_Dataset/Liedo...|      12.0|\n+---+---+---+-----------+--------------------+----------+\nonly showing top 20 rows\n\n",
                    "name": "stdout"
                }
            ]
        },
        {
            "metadata": {},
            "cell_type": "code",
            "source": "encoder = OneHotEncoder(inputCol = 'classIndex', outputCol = 'categoryVector')",
            "execution_count": 38,
            "outputs": []
        },
        {
            "metadata": {},
            "cell_type": "code",
            "source": "encodedData = encoder.transform(indexedData)",
            "execution_count": 40,
            "outputs": []
        },
        {
            "metadata": {},
            "cell_type": "code",
            "source": "encodedData.show()",
            "execution_count": 41,
            "outputs": [
                {
                    "output_type": "stream",
                    "text": "+---+---+---+-----------+--------------------+----------+---------------+\n|  x|  y|  z|      class|              source|classIndex| categoryVector|\n+---+---+---+-----------+--------------------+----------+---------------+\n| 14| 39| 35|Liedown_bed|HMP_Dataset/Liedo...|      12.0|(13,[12],[1.0])|\n| 13| 39| 36|Liedown_bed|HMP_Dataset/Liedo...|      12.0|(13,[12],[1.0])|\n| 12| 38| 36|Liedown_bed|HMP_Dataset/Liedo...|      12.0|(13,[12],[1.0])|\n| 13| 38| 35|Liedown_bed|HMP_Dataset/Liedo...|      12.0|(13,[12],[1.0])|\n| 13| 38| 35|Liedown_bed|HMP_Dataset/Liedo...|      12.0|(13,[12],[1.0])|\n| 13| 40| 36|Liedown_bed|HMP_Dataset/Liedo...|      12.0|(13,[12],[1.0])|\n| 14| 39| 36|Liedown_bed|HMP_Dataset/Liedo...|      12.0|(13,[12],[1.0])|\n| 13| 38| 34|Liedown_bed|HMP_Dataset/Liedo...|      12.0|(13,[12],[1.0])|\n| 13| 39| 34|Liedown_bed|HMP_Dataset/Liedo...|      12.0|(13,[12],[1.0])|\n| 14| 37| 34|Liedown_bed|HMP_Dataset/Liedo...|      12.0|(13,[12],[1.0])|\n| 13| 39| 34|Liedown_bed|HMP_Dataset/Liedo...|      12.0|(13,[12],[1.0])|\n| 13| 39| 34|Liedown_bed|HMP_Dataset/Liedo...|      12.0|(13,[12],[1.0])|\n| 15| 37| 34|Liedown_bed|HMP_Dataset/Liedo...|      12.0|(13,[12],[1.0])|\n| 14| 37| 34|Liedown_bed|HMP_Dataset/Liedo...|      12.0|(13,[12],[1.0])|\n| 15| 42| 35|Liedown_bed|HMP_Dataset/Liedo...|      12.0|(13,[12],[1.0])|\n| 14| 39| 33|Liedown_bed|HMP_Dataset/Liedo...|      12.0|(13,[12],[1.0])|\n| 13| 37| 33|Liedown_bed|HMP_Dataset/Liedo...|      12.0|(13,[12],[1.0])|\n| 10| 39| 31|Liedown_bed|HMP_Dataset/Liedo...|      12.0|(13,[12],[1.0])|\n| 10| 40| 30|Liedown_bed|HMP_Dataset/Liedo...|      12.0|(13,[12],[1.0])|\n|  9| 36| 28|Liedown_bed|HMP_Dataset/Liedo...|      12.0|(13,[12],[1.0])|\n+---+---+---+-----------+--------------------+----------+---------------+\nonly showing top 20 rows\n\n",
                    "name": "stdout"
                }
            ]
        },
        {
            "metadata": {},
            "cell_type": "code",
            "source": "assembler = VectorAssembler(inputCols = 'x y z'.split(), outputCol = \"features\")\nfeatures  = assembler.transform(encodedData)",
            "execution_count": 43,
            "outputs": []
        },
        {
            "metadata": {},
            "cell_type": "code",
            "source": "features.show()",
            "execution_count": 44,
            "outputs": [
                {
                    "output_type": "stream",
                    "text": "+---+---+---+-----------+--------------------+----------+---------------+----------------+\n|  x|  y|  z|      class|              source|classIndex| categoryVector|        features|\n+---+---+---+-----------+--------------------+----------+---------------+----------------+\n| 14| 39| 35|Liedown_bed|HMP_Dataset/Liedo...|      12.0|(13,[12],[1.0])|[14.0,39.0,35.0]|\n| 13| 39| 36|Liedown_bed|HMP_Dataset/Liedo...|      12.0|(13,[12],[1.0])|[13.0,39.0,36.0]|\n| 12| 38| 36|Liedown_bed|HMP_Dataset/Liedo...|      12.0|(13,[12],[1.0])|[12.0,38.0,36.0]|\n| 13| 38| 35|Liedown_bed|HMP_Dataset/Liedo...|      12.0|(13,[12],[1.0])|[13.0,38.0,35.0]|\n| 13| 38| 35|Liedown_bed|HMP_Dataset/Liedo...|      12.0|(13,[12],[1.0])|[13.0,38.0,35.0]|\n| 13| 40| 36|Liedown_bed|HMP_Dataset/Liedo...|      12.0|(13,[12],[1.0])|[13.0,40.0,36.0]|\n| 14| 39| 36|Liedown_bed|HMP_Dataset/Liedo...|      12.0|(13,[12],[1.0])|[14.0,39.0,36.0]|\n| 13| 38| 34|Liedown_bed|HMP_Dataset/Liedo...|      12.0|(13,[12],[1.0])|[13.0,38.0,34.0]|\n| 13| 39| 34|Liedown_bed|HMP_Dataset/Liedo...|      12.0|(13,[12],[1.0])|[13.0,39.0,34.0]|\n| 14| 37| 34|Liedown_bed|HMP_Dataset/Liedo...|      12.0|(13,[12],[1.0])|[14.0,37.0,34.0]|\n| 13| 39| 34|Liedown_bed|HMP_Dataset/Liedo...|      12.0|(13,[12],[1.0])|[13.0,39.0,34.0]|\n| 13| 39| 34|Liedown_bed|HMP_Dataset/Liedo...|      12.0|(13,[12],[1.0])|[13.0,39.0,34.0]|\n| 15| 37| 34|Liedown_bed|HMP_Dataset/Liedo...|      12.0|(13,[12],[1.0])|[15.0,37.0,34.0]|\n| 14| 37| 34|Liedown_bed|HMP_Dataset/Liedo...|      12.0|(13,[12],[1.0])|[14.0,37.0,34.0]|\n| 15| 42| 35|Liedown_bed|HMP_Dataset/Liedo...|      12.0|(13,[12],[1.0])|[15.0,42.0,35.0]|\n| 14| 39| 33|Liedown_bed|HMP_Dataset/Liedo...|      12.0|(13,[12],[1.0])|[14.0,39.0,33.0]|\n| 13| 37| 33|Liedown_bed|HMP_Dataset/Liedo...|      12.0|(13,[12],[1.0])|[13.0,37.0,33.0]|\n| 10| 39| 31|Liedown_bed|HMP_Dataset/Liedo...|      12.0|(13,[12],[1.0])|[10.0,39.0,31.0]|\n| 10| 40| 30|Liedown_bed|HMP_Dataset/Liedo...|      12.0|(13,[12],[1.0])|[10.0,40.0,30.0]|\n|  9| 36| 28|Liedown_bed|HMP_Dataset/Liedo...|      12.0|(13,[12],[1.0])| [9.0,36.0,28.0]|\n+---+---+---+-----------+--------------------+----------+---------------+----------------+\nonly showing top 20 rows\n\n",
                    "name": "stdout"
                }
            ]
        },
        {
            "metadata": {},
            "cell_type": "code",
            "source": "StdScalar = Normalizer(inputCol = 'features', outputCol = 'NormalizedFeatures', p = 1.0)",
            "execution_count": 46,
            "outputs": []
        },
        {
            "metadata": {},
            "cell_type": "code",
            "source": "NormalizedData = StdScalar.transform(features)",
            "execution_count": 48,
            "outputs": []
        },
        {
            "metadata": {},
            "cell_type": "code",
            "source": "NormalizedData.show()",
            "execution_count": 49,
            "outputs": [
                {
                    "output_type": "stream",
                    "text": "+---+---+---+-----------+--------------------+----------+---------------+----------------+--------------------+\n|  x|  y|  z|      class|              source|classIndex| categoryVector|        features|  NormalizedFeatures|\n+---+---+---+-----------+--------------------+----------+---------------+----------------+--------------------+\n| 14| 39| 35|Liedown_bed|HMP_Dataset/Liedo...|      12.0|(13,[12],[1.0])|[14.0,39.0,35.0]|[0.15909090909090...|\n| 13| 39| 36|Liedown_bed|HMP_Dataset/Liedo...|      12.0|(13,[12],[1.0])|[13.0,39.0,36.0]|[0.14772727272727...|\n| 12| 38| 36|Liedown_bed|HMP_Dataset/Liedo...|      12.0|(13,[12],[1.0])|[12.0,38.0,36.0]|[0.13953488372093...|\n| 13| 38| 35|Liedown_bed|HMP_Dataset/Liedo...|      12.0|(13,[12],[1.0])|[13.0,38.0,35.0]|[0.15116279069767...|\n| 13| 38| 35|Liedown_bed|HMP_Dataset/Liedo...|      12.0|(13,[12],[1.0])|[13.0,38.0,35.0]|[0.15116279069767...|\n| 13| 40| 36|Liedown_bed|HMP_Dataset/Liedo...|      12.0|(13,[12],[1.0])|[13.0,40.0,36.0]|[0.14606741573033...|\n| 14| 39| 36|Liedown_bed|HMP_Dataset/Liedo...|      12.0|(13,[12],[1.0])|[14.0,39.0,36.0]|[0.15730337078651...|\n| 13| 38| 34|Liedown_bed|HMP_Dataset/Liedo...|      12.0|(13,[12],[1.0])|[13.0,38.0,34.0]|[0.15294117647058...|\n| 13| 39| 34|Liedown_bed|HMP_Dataset/Liedo...|      12.0|(13,[12],[1.0])|[13.0,39.0,34.0]|[0.15116279069767...|\n| 14| 37| 34|Liedown_bed|HMP_Dataset/Liedo...|      12.0|(13,[12],[1.0])|[14.0,37.0,34.0]|[0.16470588235294...|\n| 13| 39| 34|Liedown_bed|HMP_Dataset/Liedo...|      12.0|(13,[12],[1.0])|[13.0,39.0,34.0]|[0.15116279069767...|\n| 13| 39| 34|Liedown_bed|HMP_Dataset/Liedo...|      12.0|(13,[12],[1.0])|[13.0,39.0,34.0]|[0.15116279069767...|\n| 15| 37| 34|Liedown_bed|HMP_Dataset/Liedo...|      12.0|(13,[12],[1.0])|[15.0,37.0,34.0]|[0.17441860465116...|\n| 14| 37| 34|Liedown_bed|HMP_Dataset/Liedo...|      12.0|(13,[12],[1.0])|[14.0,37.0,34.0]|[0.16470588235294...|\n| 15| 42| 35|Liedown_bed|HMP_Dataset/Liedo...|      12.0|(13,[12],[1.0])|[15.0,42.0,35.0]|[0.16304347826086...|\n| 14| 39| 33|Liedown_bed|HMP_Dataset/Liedo...|      12.0|(13,[12],[1.0])|[14.0,39.0,33.0]|[0.16279069767441...|\n| 13| 37| 33|Liedown_bed|HMP_Dataset/Liedo...|      12.0|(13,[12],[1.0])|[13.0,37.0,33.0]|[0.15662650602409...|\n| 10| 39| 31|Liedown_bed|HMP_Dataset/Liedo...|      12.0|(13,[12],[1.0])|[10.0,39.0,31.0]|[0.125,0.4875,0.3...|\n| 10| 40| 30|Liedown_bed|HMP_Dataset/Liedo...|      12.0|(13,[12],[1.0])|[10.0,40.0,30.0]|   [0.125,0.5,0.375]|\n|  9| 36| 28|Liedown_bed|HMP_Dataset/Liedo...|      12.0|(13,[12],[1.0])| [9.0,36.0,28.0]|[0.12328767123287...|\n+---+---+---+-----------+--------------------+----------+---------------+----------------+--------------------+\nonly showing top 20 rows\n\n",
                    "name": "stdout"
                }
            ]
        },
        {
            "metadata": {},
            "cell_type": "code",
            "source": "ETL_PipeLine = Pipeline(stages = [\n    indexer,   # Indexing Data, using StringIndexer\n    encoder,   # One-Hot Encoding of the Data\n    assembler, # Assemble Data as Vector Objects\n    StdScalar  # Scaling the Data, i.e. Normalization\n])\n\nmodel      = ETL_PipeLine.fit(data)\nprediction = model.transform(data)",
            "execution_count": 54,
            "outputs": []
        },
        {
            "metadata": {},
            "cell_type": "code",
            "source": "prediction.show()",
            "execution_count": 55,
            "outputs": [
                {
                    "output_type": "stream",
                    "text": "+---+---+---+-----------+--------------------+----------+---------------+----------------+--------------------+\n|  x|  y|  z|      class|              source|classIndex| categoryVector|        features|  NormalizedFeatures|\n+---+---+---+-----------+--------------------+----------+---------------+----------------+--------------------+\n| 14| 39| 35|Liedown_bed|HMP_Dataset/Liedo...|      12.0|(13,[12],[1.0])|[14.0,39.0,35.0]|[0.15909090909090...|\n| 13| 39| 36|Liedown_bed|HMP_Dataset/Liedo...|      12.0|(13,[12],[1.0])|[13.0,39.0,36.0]|[0.14772727272727...|\n| 12| 38| 36|Liedown_bed|HMP_Dataset/Liedo...|      12.0|(13,[12],[1.0])|[12.0,38.0,36.0]|[0.13953488372093...|\n| 13| 38| 35|Liedown_bed|HMP_Dataset/Liedo...|      12.0|(13,[12],[1.0])|[13.0,38.0,35.0]|[0.15116279069767...|\n| 13| 38| 35|Liedown_bed|HMP_Dataset/Liedo...|      12.0|(13,[12],[1.0])|[13.0,38.0,35.0]|[0.15116279069767...|\n| 13| 40| 36|Liedown_bed|HMP_Dataset/Liedo...|      12.0|(13,[12],[1.0])|[13.0,40.0,36.0]|[0.14606741573033...|\n| 14| 39| 36|Liedown_bed|HMP_Dataset/Liedo...|      12.0|(13,[12],[1.0])|[14.0,39.0,36.0]|[0.15730337078651...|\n| 13| 38| 34|Liedown_bed|HMP_Dataset/Liedo...|      12.0|(13,[12],[1.0])|[13.0,38.0,34.0]|[0.15294117647058...|\n| 13| 39| 34|Liedown_bed|HMP_Dataset/Liedo...|      12.0|(13,[12],[1.0])|[13.0,39.0,34.0]|[0.15116279069767...|\n| 14| 37| 34|Liedown_bed|HMP_Dataset/Liedo...|      12.0|(13,[12],[1.0])|[14.0,37.0,34.0]|[0.16470588235294...|\n| 13| 39| 34|Liedown_bed|HMP_Dataset/Liedo...|      12.0|(13,[12],[1.0])|[13.0,39.0,34.0]|[0.15116279069767...|\n| 13| 39| 34|Liedown_bed|HMP_Dataset/Liedo...|      12.0|(13,[12],[1.0])|[13.0,39.0,34.0]|[0.15116279069767...|\n| 15| 37| 34|Liedown_bed|HMP_Dataset/Liedo...|      12.0|(13,[12],[1.0])|[15.0,37.0,34.0]|[0.17441860465116...|\n| 14| 37| 34|Liedown_bed|HMP_Dataset/Liedo...|      12.0|(13,[12],[1.0])|[14.0,37.0,34.0]|[0.16470588235294...|\n| 15| 42| 35|Liedown_bed|HMP_Dataset/Liedo...|      12.0|(13,[12],[1.0])|[15.0,42.0,35.0]|[0.16304347826086...|\n| 14| 39| 33|Liedown_bed|HMP_Dataset/Liedo...|      12.0|(13,[12],[1.0])|[14.0,39.0,33.0]|[0.16279069767441...|\n| 13| 37| 33|Liedown_bed|HMP_Dataset/Liedo...|      12.0|(13,[12],[1.0])|[13.0,37.0,33.0]|[0.15662650602409...|\n| 10| 39| 31|Liedown_bed|HMP_Dataset/Liedo...|      12.0|(13,[12],[1.0])|[10.0,39.0,31.0]|[0.125,0.4875,0.3...|\n| 10| 40| 30|Liedown_bed|HMP_Dataset/Liedo...|      12.0|(13,[12],[1.0])|[10.0,40.0,30.0]|   [0.125,0.5,0.375]|\n|  9| 36| 28|Liedown_bed|HMP_Dataset/Liedo...|      12.0|(13,[12],[1.0])| [9.0,36.0,28.0]|[0.12328767123287...|\n+---+---+---+-----------+--------------------+----------+---------------+----------------+--------------------+\nonly showing top 20 rows\n\n",
                    "name": "stdout"
                }
            ]
        },
        {
            "metadata": {},
            "cell_type": "code",
            "source": "trainingData = prediction.drop('x').drop('y').drop('z').drop('class').drop('classIndex').drop('features')",
            "execution_count": 56,
            "outputs": []
        },
        {
            "metadata": {},
            "cell_type": "code",
            "source": "trainingData.show()",
            "execution_count": 57,
            "outputs": [
                {
                    "output_type": "stream",
                    "text": "+--------------------+---------------+--------------------+\n|              source| categoryVector|  NormalizedFeatures|\n+--------------------+---------------+--------------------+\n|HMP_Dataset/Liedo...|(13,[12],[1.0])|[0.15909090909090...|\n|HMP_Dataset/Liedo...|(13,[12],[1.0])|[0.14772727272727...|\n|HMP_Dataset/Liedo...|(13,[12],[1.0])|[0.13953488372093...|\n|HMP_Dataset/Liedo...|(13,[12],[1.0])|[0.15116279069767...|\n|HMP_Dataset/Liedo...|(13,[12],[1.0])|[0.15116279069767...|\n|HMP_Dataset/Liedo...|(13,[12],[1.0])|[0.14606741573033...|\n|HMP_Dataset/Liedo...|(13,[12],[1.0])|[0.15730337078651...|\n|HMP_Dataset/Liedo...|(13,[12],[1.0])|[0.15294117647058...|\n|HMP_Dataset/Liedo...|(13,[12],[1.0])|[0.15116279069767...|\n|HMP_Dataset/Liedo...|(13,[12],[1.0])|[0.16470588235294...|\n|HMP_Dataset/Liedo...|(13,[12],[1.0])|[0.15116279069767...|\n|HMP_Dataset/Liedo...|(13,[12],[1.0])|[0.15116279069767...|\n|HMP_Dataset/Liedo...|(13,[12],[1.0])|[0.17441860465116...|\n|HMP_Dataset/Liedo...|(13,[12],[1.0])|[0.16470588235294...|\n|HMP_Dataset/Liedo...|(13,[12],[1.0])|[0.16304347826086...|\n|HMP_Dataset/Liedo...|(13,[12],[1.0])|[0.16279069767441...|\n|HMP_Dataset/Liedo...|(13,[12],[1.0])|[0.15662650602409...|\n|HMP_Dataset/Liedo...|(13,[12],[1.0])|[0.125,0.4875,0.3...|\n|HMP_Dataset/Liedo...|(13,[12],[1.0])|   [0.125,0.5,0.375]|\n|HMP_Dataset/Liedo...|(13,[12],[1.0])|[0.12328767123287...|\n+--------------------+---------------+--------------------+\nonly showing top 20 rows\n\n",
                    "name": "stdout"
                }
            ]
        }
    ],
    "metadata": {
        "kernelspec": {
            "name": "python3",
            "display_name": "Python 3.6",
            "language": "python"
        },
        "language_info": {
            "name": "python",
            "version": "3.6.9",
            "mimetype": "text/x-python",
            "codemirror_mode": {
                "name": "ipython",
                "version": 3
            },
            "pygments_lexer": "ipython3",
            "nbconvert_exporter": "python",
            "file_extension": ".py"
        }
    },
    "nbformat": 4,
    "nbformat_minor": 1
}