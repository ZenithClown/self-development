{
    "cells": [
        {
            "metadata": {},
            "cell_type": "code",
            "source": "!pip install pyspark",
            "execution_count": 1,
            "outputs": [
                {
                    "output_type": "stream",
                    "text": "Requirement already satisfied: pyspark in /opt/conda/envs/Python36/lib/python3.6/site-packages (2.4.5)\nRequirement already satisfied: py4j==0.10.7 in /opt/conda/envs/Python36/lib/python3.6/site-packages (from pyspark) (0.10.7)\n",
                    "name": "stdout"
                }
            ]
        },
        {
            "metadata": {},
            "cell_type": "code",
            "source": "import random\nfrom math import sqrt",
            "execution_count": 2,
            "outputs": []
        },
        {
            "metadata": {},
            "cell_type": "code",
            "source": "try:\n    from pyspark.sql import SparkSession\n    from pyspark.mllib.stat import Statistics\n    from pyspark import SparkContext, SparkConf\nexcept ImportError as e:\n    raise ImportError('PySpark is not Configured')\n    \n# Creating a Spark-Context\nsc = SparkContext.getOrCreate(SparkConf().setMaster('local[*]'))\n# Spark Builder\nspark = SparkSession.builder.getOrCreate()",
            "execution_count": 3,
            "outputs": []
        },
        {
            "metadata": {},
            "cell_type": "code",
            "source": "RDD1 = sc.parallelize([1,2,3,4,5,6,7,8,9,10]) # sc.parallelize(range(100))\nRDD2 = sc.parallelize([7,6,5,4,5,6,7,8,9,10]) # sc.parallelize(range(100))",
            "execution_count": 4,
            "outputs": []
        },
        {
            "metadata": {},
            "cell_type": "code",
            "source": "calculateMean   = lambda RDD : RDD.sum() / RDD.count()\ncalculateStdDev = lambda RDD, mean, numElems : sqrt(RDD.map(lambda x: pow(x - mean, 2)).sum() / numElems)",
            "execution_count": 5,
            "outputs": []
        },
        {
            "metadata": {},
            "cell_type": "code",
            "source": "numElems = RDD1.count()",
            "execution_count": 6,
            "outputs": []
        },
        {
            "metadata": {},
            "cell_type": "code",
            "source": "RDD1_mean = calculateMean(RDD1)\nRDD2_mean = calculateMean(RDD2)\n\nRDD1_sd   = calculateStdDev(RDD1, RDD1_mean, numElems)\nRDD2_sd   = calculateStdDev(RDD2, RDD2_mean, numElems)",
            "execution_count": 7,
            "outputs": []
        },
        {
            "metadata": {},
            "cell_type": "code",
            "source": "print(round(RDD1_mean, 3), round(RDD2_mean, 3))",
            "execution_count": 8,
            "outputs": [
                {
                    "output_type": "stream",
                    "text": "5.5 6.7\n",
                    "name": "stdout"
                }
            ]
        },
        {
            "metadata": {},
            "cell_type": "code",
            "source": "print(round(RDD1_sd, 3), round(RDD2_sd, 3))",
            "execution_count": 9,
            "outputs": [
                {
                    "output_type": "stream",
                    "text": "2.872 1.792\n",
                    "name": "stdout"
                }
            ]
        },
        {
            "metadata": {},
            "cell_type": "code",
            "source": "cov = RDD1.zip(RDD2).map(lambda x: (x[0] - RDD1_mean) * (x[1] - RDD2_mean)).sum() / numElems",
            "execution_count": 10,
            "outputs": []
        },
        {
            "metadata": {},
            "cell_type": "code",
            "source": "print(f'Co-Variance : {round(cov, 5)}')",
            "execution_count": 15,
            "outputs": [
                {
                    "output_type": "stream",
                    "text": "Co-Variance : 3.65\n",
                    "name": "stdout"
                }
            ]
        },
        {
            "metadata": {},
            "cell_type": "code",
            "source": "corr = cov / (RDD1_sd * RDD2_sd)",
            "execution_count": 12,
            "outputs": []
        },
        {
            "metadata": {},
            "cell_type": "code",
            "source": "print(f'Correlation : {round(corr, 5)}')",
            "execution_count": 14,
            "outputs": [
                {
                    "output_type": "stream",
                    "text": "Correlation : 0.70927\n",
                    "name": "stdout"
                }
            ]
        },
        {
            "metadata": {},
            "cell_type": "markdown",
            "source": "**Correlation Matrix**"
        },
        {
            "metadata": {},
            "cell_type": "code",
            "source": "Feature1 = sc.parallelize(range(100))\nFeature2 = sc.parallelize(range(100, 200))\nFeature3 = sc.parallelize(list(reversed(range(100))))\nFeature4 = sc.parallelize(random.sample(range(100), 100))",
            "execution_count": 10,
            "outputs": []
        },
        {
            "metadata": {
                "scrolled": false
            },
            "cell_type": "code",
            "source": "zippedFeatures = Feature1.zip(Feature2).zip(Feature3).zip(Feature4).map(lambda x : [x[0][0][0], x[0][0][1], x[0][1], x[1]])",
            "execution_count": 19,
            "outputs": []
        },
        {
            "metadata": {},
            "cell_type": "code",
            "source": "print(f'Correlation Matrix:\\n{Statistics.corr(zippedFeatures)}')",
            "execution_count": 20,
            "outputs": [
                {
                    "output_type": "stream",
                    "text": "Correlation Matrix:\n[[ 1.         1.        -1.         0.0970297]\n [ 1.         1.        -1.         0.0970297]\n [-1.        -1.         1.        -0.0970297]\n [ 0.0970297  0.0970297 -0.0970297  1.       ]]\n",
                    "name": "stdout"
                }
            ]
        }
    ],
    "metadata": {
        "kernelspec": {
            "name": "python3",
            "display_name": "Python 3.6",
            "language": "python"
        },
        "language_info": {
            "name": "python",
            "version": "3.6.9",
            "mimetype": "text/x-python",
            "codemirror_mode": {
                "name": "ipython",
                "version": 3
            },
            "pygments_lexer": "ipython3",
            "nbconvert_exporter": "python",
            "file_extension": ".py"
        }
    },
    "nbformat": 4,
    "nbformat_minor": 1
}