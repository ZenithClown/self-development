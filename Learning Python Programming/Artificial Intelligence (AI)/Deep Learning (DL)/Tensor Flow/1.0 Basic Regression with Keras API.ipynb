{
 "cells": [
  {
   "cell_type": "markdown",
   "metadata": {},
   "source": [
    "<h1 align = \"center\">Regression Analysis</h1>\n",
    "\n",
    "<p align = \"justify\">In <i>statistical modeling</i>, <b><i>regression analysis</b></i> is a defined set of approach of predicting continuous \"target\" variable from a set(s) of \"independent\" variable. The most common type of analysis is called as the <i>linear regression</i> where a \"linear\" relationship is maintained by an equation like:</p>\n",
    "\n",
    "$$\n",
    "  y = \\beta_0 + \\beta_1 x_1 + \\beta_2 x_2 + ... + \\beta_n x_n\n",
    "$$\n",
    "\n",
    "where, $\\beta_0$ is the constant coefficient, and $\\beta_1, \\beta_2, ..., \\beta_n$ are weight involved with each independent variable $x_1, x_2, ..., x_n$, $n$ is the number of independent feature and $y$ is the target.\n",
    "\n",
    "## Non-Linear Regression\n",
    "\n",
    "<p align = \"justify\">When the dependent variable is not linearly dependent with the target, then prediction of such a term is defined as non-linear regression analysis. Often this is used interchangbly with \"polynomial regression\" however, they are bit different.</p>\n",
    "\n",
    "## Prediction of Fuel Efficiency\n",
    "\n",
    "<p align = \"justify\">In this basic tutorial, will be using the classic <a href = \"https://archive.ics.uci.edu/ml/datasets/auto+mpg\">Auto MPG</a> dataset to build and predict the fuel efficiency for the given automobiles. The notebook and code(s) are referred from <a href = \"https://www.tensorflow.org/tutorials/keras/regression\">tensorflow documentations</a> while some parts are modified as required.</p>"
   ]
  },
  {
   "cell_type": "code",
   "execution_count": 1,
   "metadata": {},
   "outputs": [],
   "source": [
    "import numpy as np\n",
    "import pandas as pd\n",
    "import seaborn as sns\n",
    "import matplotlib.pyplot as plt\n",
    "\n",
    "%precision 3\n",
    "%matplotlib inline\n",
    "sns.set_style('whitegrid');\n",
    "plt.style.use('default-style'); # https://gitlab.com/ZenithClown/computer-configurations-and-setups\n",
    "pd.set_option('display.max_rows', 50) # max. rows to show\n",
    "pd.set_option('display.max_columns', 15) # max. cols to show\n",
    "np.set_printoptions(precision = 3, threshold = 15) # set np options\n",
    "pd.options.display.float_format = '{:,.2f}'.format # float precisions"
   ]
  },
  {
   "cell_type": "code",
   "execution_count": 3,
   "metadata": {},
   "outputs": [
    {
     "name": "stdout",
     "output_type": "stream",
     "text": [
      "Tensorflow Version: 2.8.0 | GPU Computing Available.\n"
     ]
    }
   ],
   "source": [
    "import tensorflow as tf # base library\n",
    "\n",
    "# in addition, it is often easier to work with the keras api\n",
    "# import the `keras` and `layer` functionality, to reduce code\n",
    "from tensorflow import keras\n",
    "from tensorflow.keras import layers\n",
    "\n",
    "# check the tensorflow version,\n",
    "# different version has some compatibility issues\n",
    "# currently using v2.8.0 (tensorboard v2.8.0) version\n",
    "print(f\"Tensorflow Version: {tf.__version__}\", end = \" | \")\n",
    "\n",
    "# check the list of physical available devices\n",
    "# if `gpu` is configured, then it should be displayed\n",
    "tf.config.list_physical_devices() # for tf >= 2.x\n",
    "\n",
    "# in addition, the user is also prompted if `GPU` is available\n",
    "# using the functionalities available under 2.x version\n",
    "if len(tf.config.list_physical_devices(device_type = \"GPU\")):\n",
    "    # https://stackoverflow.com/q/38009682/6623589\n",
    "    # https://stackoverflow.com/a/59179238/6623589\n",
    "    print(\"GPU Computing Available.\")\n",
    "else:\n",
    "    print(\"GPU Computing Not Available. If `GPU` is present, check configuration.\")"
   ]
  },
  {
   "cell_type": "markdown",
   "metadata": {},
   "source": [
    "### Getting the Auto MPG Dataset"
   ]
  },
  {
   "cell_type": "code",
   "execution_count": 23,
   "metadata": {},
   "outputs": [
    {
     "data": {
      "text/html": [
       "<div>\n",
       "<style scoped>\n",
       "    .dataframe tbody tr th:only-of-type {\n",
       "        vertical-align: middle;\n",
       "    }\n",
       "\n",
       "    .dataframe tbody tr th {\n",
       "        vertical-align: top;\n",
       "    }\n",
       "\n",
       "    .dataframe thead th {\n",
       "        text-align: right;\n",
       "    }\n",
       "</style>\n",
       "<table border=\"1\" class=\"dataframe\">\n",
       "  <thead>\n",
       "    <tr style=\"text-align: right;\">\n",
       "      <th></th>\n",
       "      <th>mpg</th>\n",
       "      <th>cylinders</th>\n",
       "      <th>displacement</th>\n",
       "      <th>hp</th>\n",
       "      <th>wt</th>\n",
       "      <th>accelaration</th>\n",
       "      <th>year</th>\n",
       "      <th>origin</th>\n",
       "    </tr>\n",
       "  </thead>\n",
       "  <tbody>\n",
       "    <tr>\n",
       "      <th>253</th>\n",
       "      <td>20.50</td>\n",
       "      <td>6</td>\n",
       "      <td>200.00</td>\n",
       "      <td>95.00</td>\n",
       "      <td>3,155.00</td>\n",
       "      <td>18.20</td>\n",
       "      <td>78</td>\n",
       "      <td>1</td>\n",
       "    </tr>\n",
       "    <tr>\n",
       "      <th>7</th>\n",
       "      <td>14.00</td>\n",
       "      <td>8</td>\n",
       "      <td>440.00</td>\n",
       "      <td>215.0</td>\n",
       "      <td>4,312.00</td>\n",
       "      <td>8.50</td>\n",
       "      <td>70</td>\n",
       "      <td>1</td>\n",
       "    </tr>\n",
       "    <tr>\n",
       "      <th>397</th>\n",
       "      <td>31.00</td>\n",
       "      <td>4</td>\n",
       "      <td>119.00</td>\n",
       "      <td>82.00</td>\n",
       "      <td>2,720.00</td>\n",
       "      <td>19.40</td>\n",
       "      <td>82</td>\n",
       "      <td>1</td>\n",
       "    </tr>\n",
       "    <tr>\n",
       "      <th>193</th>\n",
       "      <td>24.00</td>\n",
       "      <td>6</td>\n",
       "      <td>200.00</td>\n",
       "      <td>81.00</td>\n",
       "      <td>3,012.00</td>\n",
       "      <td>17.60</td>\n",
       "      <td>76</td>\n",
       "      <td>1</td>\n",
       "    </tr>\n",
       "    <tr>\n",
       "      <th>388</th>\n",
       "      <td>26.00</td>\n",
       "      <td>4</td>\n",
       "      <td>156.00</td>\n",
       "      <td>92.00</td>\n",
       "      <td>2,585.00</td>\n",
       "      <td>14.50</td>\n",
       "      <td>82</td>\n",
       "      <td>1</td>\n",
       "    </tr>\n",
       "  </tbody>\n",
       "</table>\n",
       "</div>"
      ],
      "text/plain": [
       "      mpg  cylinders  displacement     hp       wt  accelaration  year  origin\n",
       "253 20.50          6        200.00  95.00 3,155.00         18.20    78       1\n",
       "7   14.00          8        440.00  215.0 4,312.00          8.50    70       1\n",
       "397 31.00          4        119.00  82.00 2,720.00         19.40    82       1\n",
       "193 24.00          6        200.00  81.00 3,012.00         17.60    76       1\n",
       "388 26.00          4        156.00  92.00 2,585.00         14.50    82       1"
      ]
     },
     "execution_count": 23,
     "metadata": {},
     "output_type": "execute_result"
    }
   ],
   "source": [
    "dataset = pd.read_csv(\n",
    "    \"http://archive.ics.uci.edu/ml/machine-learning-databases/auto-mpg/auto-mpg.data\", # url for the data\n",
    "    names = [\"mpg\", \"cylinders\", \"displacement\", \"hp\", \"wt\", \"accelaration\", \"year\", \"origin\"],\n",
    "    comment = \"\\t\", sep = \" \", skipinitialspace = True\n",
    ")\n",
    "\n",
    "dataset.sample(5)"
   ]
  },
  {
   "cell_type": "code",
   "execution_count": 16,
   "metadata": {},
   "outputs": [
    {
     "name": "stdout",
     "output_type": "stream",
     "text": [
      "Data does not contain `NaN` values.\n"
     ]
    }
   ],
   "source": [
    "# let's check the number of nulls in the total dataset\n",
    "_na_values_ = dataset.isnull().sum()\n",
    "if _na_values_.sum():\n",
    "    # only runs when there are nulls\n",
    "    print(_na_values_)\n",
    "else:\n",
    "    print(\"Data does not contain `NaN` values.\")"
   ]
  },
  {
   "cell_type": "markdown",
   "metadata": {},
   "source": [
    "**Note:** In the tutorial, there are `6` null values in `hp` column, but at the time of coding this is missing, and is thus ignored.\n",
    "\n",
    "#### Categorical Columns\n",
    "\n",
    "The `origin` is a categorical column. The column is thus \"one-hot encoded\" using the [`pd.get_dummies`](https://pandas.pydata.org/docs/reference/api/pandas.get_dummies.html) function."
   ]
  },
  {
   "cell_type": "code",
   "execution_count": 24,
   "metadata": {},
   "outputs": [
    {
     "data": {
      "text/html": [
       "<div>\n",
       "<style scoped>\n",
       "    .dataframe tbody tr th:only-of-type {\n",
       "        vertical-align: middle;\n",
       "    }\n",
       "\n",
       "    .dataframe tbody tr th {\n",
       "        vertical-align: top;\n",
       "    }\n",
       "\n",
       "    .dataframe thead th {\n",
       "        text-align: right;\n",
       "    }\n",
       "</style>\n",
       "<table border=\"1\" class=\"dataframe\">\n",
       "  <thead>\n",
       "    <tr style=\"text-align: right;\">\n",
       "      <th></th>\n",
       "      <th>mpg</th>\n",
       "      <th>cylinders</th>\n",
       "      <th>displacement</th>\n",
       "      <th>hp</th>\n",
       "      <th>wt</th>\n",
       "      <th>accelaration</th>\n",
       "      <th>year</th>\n",
       "      <th>EURO</th>\n",
       "      <th>JAP</th>\n",
       "      <th>USA</th>\n",
       "    </tr>\n",
       "  </thead>\n",
       "  <tbody>\n",
       "    <tr>\n",
       "      <th>327</th>\n",
       "      <td>36.40</td>\n",
       "      <td>5</td>\n",
       "      <td>121.00</td>\n",
       "      <td>67.00</td>\n",
       "      <td>2,950.00</td>\n",
       "      <td>19.90</td>\n",
       "      <td>80</td>\n",
       "      <td>1</td>\n",
       "      <td>0</td>\n",
       "      <td>0</td>\n",
       "    </tr>\n",
       "  </tbody>\n",
       "</table>\n",
       "</div>"
      ],
      "text/plain": [
       "      mpg  cylinders  displacement     hp       wt  accelaration  year  EURO  \\\n",
       "327 36.40          5        121.00  67.00 2,950.00         19.90    80     1   \n",
       "\n",
       "     JAP  USA  \n",
       "327    0    0  "
      ]
     },
     "execution_count": 24,
     "metadata": {},
     "output_type": "execute_result"
    }
   ],
   "source": [
    "origin = {1: \"USA\", 2: \"EURO\", 3: \"JAP\"}\n",
    "\n",
    "dataset[\"origin\"] = dataset[\"origin\"].map(origin)\n",
    "dataset = pd.get_dummies(dataset, columns = [\"origin\"], prefix = \"\", prefix_sep = \"\")\n",
    "\n",
    "dataset.sample()"
   ]
  },
  {
   "cell_type": "code",
   "execution_count": 25,
   "metadata": {},
   "outputs": [
    {
     "name": "stdout",
     "output_type": "stream",
     "text": [
      "(318, 10) (80, 10)\n"
     ]
    }
   ],
   "source": [
    "train = dataset.sample(frac = 0.8, random_state = 7)\n",
    "test = dataset.drop(train.index) # remove the index present in the training set\n",
    "\n",
    "print(train.shape, test.shape) # show the data shape, i.e. no of records for analysis"
   ]
  },
  {
   "cell_type": "markdown",
   "metadata": {},
   "source": [
    "### Exploratory Data Analysis\n",
    "\n",
    "<p align = \"justify\">The <b>objective</b> is to predict the fuel effiiciency (i.e. `mpg`) of a given automobile. For this, let's first understand the correlation of the features against fuel efficiency.</p>"
   ]
  },
  {
   "cell_type": "code",
   "execution_count": 40,
   "metadata": {},
   "outputs": [
    {
     "data": {
      "image/png": "[encoded data removed]",
      "text/plain": [
       "<Figure size 1512x504 with 1 Axes>"
      ]
     },
     "metadata": {},
     "output_type": "display_data"
    }
   ],
   "source": [
    "# using the `pd.corr()` to get the correlation, and extract the correlation of the fuel efficiency column\n",
    "# convert the series `pd.corr()[\"column\"]` to dataframe using `reset_index` command and finally, sort descending\n",
    "# in addition, drop `index = 0` from `corr` as index = 0 will always given the correlation against self, thus rmeoved\n",
    "corr = train.drop(columns = origin.values()) \\\n",
    "       .corr(method = \"spearman\").round(3)[\"mpg\"].reset_index() \\\n",
    "       .drop(index = 0).sort_values(by = \"mpg\", ascending = False)\n",
    "\n",
    "axs = sns.barplot(x = \"index\", y = \"mpg\", data = corr, palette = sns.color_palette(\"RdYlBu\", corr.shape[0]).as_hex())\n",
    "\n",
    "# also display the correlation values on the graph\n",
    "# ? is `annot = True` available for `sns.barplot` model\n",
    "corr = corr[\"mpg\"].values # returns a ndarray\n",
    "for tick in range(len(axs.get_xticklabels())):\n",
    "    y_pos = corr[tick] + 5e-3 if corr[tick] > 0 else corr[tick] - 5e-2\n",
    "    axs.text(tick, y_pos, str(corr[tick]), ha = \"center\", weight = \"bold\")\n",
    "\n",
    "axs.set_ylim(-1, 1)\n",
    "axs.set(xlabel = \"Feature(s) Name\")\n",
    "axs.set(ylabel = \"Spearman Correlation\")\n",
    "\n",
    "plt.title(\"Correlation of MPG against Independent Variables\")\n",
    "plt.show()"
   ]
  }
 ],
 "metadata": {
  "kernelspec": {
   "display_name": "Python 3.9.12 ('TensorFlow')",
   "language": "python",
   "name": "python3"
  },
  "language_info": {
   "codemirror_mode": {
    "name": "ipython",
    "version": 3
   },
   "file_extension": ".py",
   "mimetype": "text/x-python",
   "name": "python",
   "nbconvert_exporter": "python",
   "pygments_lexer": "ipython3",
   "version": "3.9.12"
  },
  "orig_nbformat": 4,
  "vscode": {
   "interpreter": {
    "hash": "f810d9e9c6b4b19c7fb366fa23d81ab52958b21a1722c54e82c2916d8b506d5d"
   }
  }
 },
 "nbformat": 4,
 "nbformat_minor": 2
}
