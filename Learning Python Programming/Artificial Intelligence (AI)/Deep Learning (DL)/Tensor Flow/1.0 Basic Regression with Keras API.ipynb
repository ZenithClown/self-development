{
 "cells": [
  {
   "cell_type": "markdown",
   "metadata": {},
   "source": [
    "<h1 align = \"center\">Regression Analysis</h1>\n",
    "\n",
    "<p align = \"justify\">In <i>statistical modeling</i>, <b><i>regression analysis</b></i> is a defined set of approach of predicting continuous \"target\" variable from a set(s) of \"independent\" variable. The most common type of analysis is called as the <i>linear regression</i> where a \"linear\" relationship is maintained by an equation like:</p>\n",
    "\n",
    "$$\n",
    "  y = \\beta_0 \\beta_1 x_1 + \\beta_2 x_2 + ... + \\beta_n x_n\n",
    "$$\n",
    "\n",
    "where, $\\beta_0$ is the constant coefficient, and $\\beta_1, \\beta_2, ..., \\beta_n$ are weight involved with each independent variable $x_1, x_2, ..., x_n$, $n$ is the number of independent feature and $y$ is the target."
   ]
  }
 ],
 "metadata": {
  "kernelspec": {
   "display_name": "Python 3.9.12 ('base')",
   "language": "python",
   "name": "python3"
  },
  "language_info": {
   "codemirror_mode": {
    "name": "ipython",
    "version": 3
   },
   "file_extension": ".py",
   "mimetype": "text/x-python",
   "name": "python",
   "nbconvert_exporter": "python",
   "pygments_lexer": "ipython3",
   "version": "3.9.12"
  },
  "orig_nbformat": 4,
  "vscode": {
   "interpreter": {
    "hash": "83d02c4ede04b3089403b23adcda6328daf2b2ee06d9c9ec03c0c771e2cc1934"
   }
  }
 },
 "nbformat": 4,
 "nbformat_minor": 2
}
