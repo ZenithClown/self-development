{
 "cells": [
  {
   "cell_type": "markdown",
   "metadata": {},
   "source": [
    "<h1 align = \"center\">Get a Room : ML Hackathon</h1>\n",
    "\n",
    "---\n",
    "\n",
    "**Duration:** July 22 (10:00 PM IST) to August 21 (10:00 PM IST), 2022"
   ]
  },
  {
   "cell_type": "markdown",
   "metadata": {},
   "source": [
    "## Code Imports\n",
    "\n",
    "**PEP8 Style Guide** lists out the following [*guidelines*](https://peps.python.org/pep-0008/#imports) for imports:\n",
    " 1. Imports should be on separate lines,\n",
    " 2. Import order should be:\n",
    "    * standard library/modules,\n",
    "    * related third party imports,\n",
    "    * local application/user defined imports\n",
    " 3. Wildcard import (`*`) should be avoided, else specifically tagged with **`# noqa: F403`** as per `flake8` [(ignoring errors)](https://flake8.pycqa.org/en/3.1.1/user/ignoring-errors.html).\n",
    " 4. Avoid using relative imports; use explicit imports instead."
   ]
  },
  {
   "cell_type": "code",
   "execution_count": 33,
   "metadata": {
    "ExecuteTime": {
     "end_time": "2022-08-08T14:37:38.730430Z",
     "start_time": "2022-08-08T14:37:38.714803Z"
    }
   },
   "outputs": [],
   "source": [
    "import os # funadamental library for handling\n",
    "import sys # append additional directories to list\n",
    "# import glob # unix style functionalities for patterns\n",
    "import time # for handing time objects, and pretty prints\n",
    "import warnings # display specified user warnings as required\n",
    "import datetime as dt # standard dattime handling and manipulation module"
   ]
  },
  {
   "cell_type": "code",
   "execution_count": 13,
   "metadata": {
    "ExecuteTime": {
     "end_time": "2022-08-08T14:21:46.347434Z",
     "start_time": "2022-08-08T14:21:46.309876Z"
    }
   },
   "outputs": [],
   "source": [
    "from tqdm import tqdm as TQ # library for displaying progress bar"
   ]
  },
  {
   "cell_type": "markdown",
   "metadata": {},
   "source": [
    "[**`logging`**](https://docs.python.org/3/howto/logging.html) is a standard python module that is meant for tracking any events that happen during any software/code operations. This module is super powerful and helpful for code debugging and other purposes. The next section defines a `logging` configuration in **`../logs/`** directory. Modify the **`LOGS_DIR`** variable under *Global Arguments* to change the default directory. The module is configured with a simplistic approach, such that any `print())` statement can be update to `logging.LEVEL_NAME()` and the code will work. Use logging operations like:\n",
    "\n",
    "```python\n",
    " >> logging.debug(\"This is a Debug Message.\")\n",
    " >> logging.info(\"This is a Information Message.\")\n",
    " >> logging.warning(\"This is a Warning Message.\")\n",
    " >> logging.error(\"This is a ERROR Message.\")\n",
    " >> logging.critical(\"This is a CRITICAL Message.\")\n",
    "```\n",
    "\n",
    "Note: some directories related to logging is created by default. This can be updated/changed in the following configuration section."
   ]
  },
  {
   "cell_type": "code",
   "execution_count": 2,
   "metadata": {
    "ExecuteTime": {
     "end_time": "2022-08-08T14:13:35.817061Z",
     "start_time": "2022-08-08T14:13:35.797833Z"
    }
   },
   "outputs": [],
   "source": [
    "import logging # configure logging on `global arguments` section, as file path is required"
   ]
  },
  {
   "cell_type": "markdown",
   "metadata": {},
   "source": [
    "### Data Frame, NumPy and Visualization Libraries\n",
    "\n",
    "Daily use libraries like `pandas`, `numpy` is available for import along with *display* settings in a python notebook. Generally, I prefer to use `matplotlib` and `seaborn` which is imported below with certain configurations as mentioned. Stylesheet is available [here](https://gitlab.com/ZenithClown/computer-configurations-and-setups/-/blob/master/default-style.mplstyle), and the code snippets (for VS code) is available [here](https://gitlab.com/ZenithClown/computer-configurations-and-setups/-/tree/master/template/snippets/vscode)."
   ]
  },
  {
   "cell_type": "code",
   "execution_count": 52,
   "metadata": {
    "ExecuteTime": {
     "end_time": "2022-08-08T15:03:37.973632Z",
     "start_time": "2022-08-08T15:03:37.959528Z"
    }
   },
   "outputs": [],
   "source": [
    "import numpy as np\n",
    "import pandas as pd\n",
    "import seaborn as sns\n",
    "import matplotlib.pyplot as plt\n",
    "\n",
    "%precision 3\n",
    "%matplotlib inline\n",
    "sns.set_style('whitegrid');\n",
    "plt.style.use('default-style'); # https://gitlab.com/ZenithClown/computer-configurations-and-setups\n",
    "pd.set_option('display.max_rows', 50)\n",
    "pd.set_option('display.max_columns', 15)\n",
    "np.set_printoptions(precision = 3, threshold = 15)\n",
    "pd.options.display.float_format = '{:,.2f}'.format"
   ]
  },
  {
   "cell_type": "markdown",
   "metadata": {},
   "source": [
    "### Machine Learning Libraries\n",
    "\n",
    "Well, Machine Learning involves pretty much everything from ETA to model development and deployment (for E2E applications). This section can be used to import basic and/or standard libraries to acheive the same. Uncomment and import any of the `sklearn` libraries below. In addition, boilerplate for importing `tensorflow` is also provided."
   ]
  },
  {
   "cell_type": "code",
   "execution_count": 39,
   "metadata": {
    "ExecuteTime": {
     "end_time": "2022-05-25T05:17:20.563901Z",
     "start_time": "2022-05-25T05:17:19.616295Z"
    }
   },
   "outputs": [],
   "source": [
    "# from sklearn.metrics import \n",
    "# from sklearn.model_selection import \n",
    "# from sklearn.preprocessing import "
   ]
  },
  {
   "cell_type": "code",
   "execution_count": 10,
   "metadata": {
    "ExecuteTime": {
     "end_time": "2022-05-25T05:23:50.950299Z",
     "start_time": "2022-05-25T05:23:49.591705Z"
    }
   },
   "outputs": [
    {
     "name": "stdout",
     "output_type": "stream",
     "text": [
      "Tensorflow Version: 2.8.0\n"
     ]
    },
    {
     "data": {
      "text/plain": [
       "[PhysicalDevice(name='/physical_device:CPU:0', device_type='CPU'),\n",
       " PhysicalDevice(name='/physical_device:GPU:0', device_type='GPU')]"
      ]
     },
     "execution_count": 10,
     "metadata": {},
     "output_type": "execute_result"
    }
   ],
   "source": [
    "# import tensorflow as tf\n",
    "# print(f\"Tensorflow Version: {tf.__version__}\")\n",
    "\n",
    "# # check physical devices\n",
    "# # the given function is available only in tf 2x\n",
    "# tf.config.list_physical_devices()"
   ]
  },
  {
   "cell_type": "code",
   "execution_count": 11,
   "metadata": {
    "ExecuteTime": {
     "end_time": "2022-05-25T05:24:54.310150Z",
     "start_time": "2022-05-25T05:24:54.289777Z"
    },
    "deletable": false,
    "editable": false,
    "run_control": {
     "frozen": true
    }
   },
   "outputs": [
    {
     "name": "stdout",
     "output_type": "stream",
     "text": [
      "GPU Computing Available.\n"
     ]
    }
   ],
   "source": [
    "if len(tf.config.list_physical_devices(device_type = \"GPU\")):\n",
    "    # https://stackoverflow.com/q/38009682/6623589\n",
    "    # https://stackoverflow.com/a/59179238/6623589\n",
    "    print(\"GPU Computing Available.\")\n",
    "else:\n",
    "    print(\"GPU Computing Not Available. If `GPU` is present, check configuration.\")"
   ]
  },
  {
   "cell_type": "code",
   "execution_count": 47,
   "metadata": {
    "ExecuteTime": {
     "end_time": "2022-08-08T14:53:34.083226Z",
     "start_time": "2022-08-08T14:53:34.074827Z"
    }
   },
   "outputs": [],
   "source": [
    "from xgboost import XGBRFRegressor"
   ]
  },
  {
   "cell_type": "markdown",
   "metadata": {},
   "source": [
    "## Global Argument(s)\n",
    "\n",
    "The global arguments are *notebook* specific, however they may also be extended to external libraries and functions on import. The *boilerplate* provides a basic ML directory structure which contains a directory for `data` and a separate directory for `output`. In addition, a separate directory (`data/processed`) is created to save processed dataset such that preprocessing can be avoided."
   ]
  },
  {
   "cell_type": "code",
   "execution_count": 16,
   "metadata": {
    "ExecuteTime": {
     "end_time": "2022-08-08T14:24:32.555691Z",
     "start_time": "2022-08-08T14:24:32.548370Z"
    }
   },
   "outputs": [],
   "source": [
    "ROOT = \".\" # the document root is one level up, that contains all code structure\n",
    "DATA = os.path.join(ROOT, \"dataset\") # the directory contains all data files, subdirectory (if any) can also be used/defined\n",
    "\n",
    "# processed data directory can be used, such that preprocessing steps is not\n",
    "# required to run again-and-again each time on kernel restart\n",
    "PROCESSED_DATA = os.path.join(DATA, \"processed\")\n",
    "\n",
    "# additional data directory can be project specific, or may be available from a global datasets collections/websites\n",
    "# these data are either directly imported from URL and/or saved in the `additional` directory as provided below\n",
    "ADDITIONAL_DATA = os.path.join(DATA, \"additional\")"
   ]
  },
  {
   "cell_type": "code",
   "execution_count": 5,
   "metadata": {
    "ExecuteTime": {
     "end_time": "2022-08-08T14:13:48.504920Z",
     "start_time": "2022-08-08T14:13:48.493821Z"
    }
   },
   "outputs": [
    {
     "name": "stdout",
     "output_type": "stream",
     "text": [
      "Code Execution Started on: Mon, Aug 08 2022\n"
     ]
    }
   ],
   "source": [
    "# long projects can be overwhelming, and keeping track of files, outputs and\n",
    "# saved models can be intriguing! to help this out, `today` can be used. for\n",
    "# instance output can be stored at `output/<today>/` etc.\n",
    "# `today` is so configured that it permits windows/*.nix file/directory names\n",
    "today = dt.datetime.strftime(dt.datetime.strptime(time.ctime(), \"%a %b %d %H:%M:%S %Y\"), \"%a, %b %d %Y\")\n",
    "print(f\"Code Execution Started on: {today}\") # only date, name of the sub-directory"
   ]
  },
  {
   "cell_type": "code",
   "execution_count": 156,
   "metadata": {
    "ExecuteTime": {
     "end_time": "2022-08-08T15:37:11.675551Z",
     "start_time": "2022-08-08T15:37:11.657948Z"
    },
    "deletable": false,
    "editable": false
   },
   "outputs": [],
   "source": [
    "OUTPUT_DIR = os.path.join(ROOT, \"output\", today)\n",
    "os.makedirs(OUTPUT_DIR, exist_ok = True) # create dir if not exist\n",
    "\n",
    "# in addition create directory for images, saved models\n",
    "IMAGE_DIR = os.path.join(ROOT, \"output\", \"images\", today)\n",
    "MODEL_DIR = os.path.join(ROOT, \"output\", \"savedmodels\", today)\n",
    "\n",
    "os.makedirs(IMAGE_DIR, exist_ok = True) # create dir if not exist\n",
    "os.makedirs(MODEL_DIR, exist_ok = True) # create dir if not exist\n",
    "\n",
    "# also create directory for `logs`\n",
    "LOGS_DIR = os.path.join(os.sep, \"D:\", os.sep, \"logs\", \"GET-ROOM ML HACKATHON\") # enter project code to distinguish\n",
    "os.makedirs(LOGS_DIR, exist_ok = True)"
   ]
  },
  {
   "cell_type": "code",
   "execution_count": 7,
   "metadata": {
    "ExecuteTime": {
     "end_time": "2022-08-08T14:14:22.835528Z",
     "start_time": "2022-08-08T14:14:22.829430Z"
    },
    "deletable": false,
    "editable": false
   },
   "outputs": [
    {
     "name": "stdout",
     "output_type": "stream",
     "text": [
      "D:\\logs\\GET-ROOM ML HACKATHON\n"
     ]
    }
   ],
   "source": [
    "print(LOGS_DIR) # logs file will be generated here"
   ]
  },
  {
   "cell_type": "code",
   "execution_count": 8,
   "metadata": {
    "ExecuteTime": {
     "end_time": "2022-08-08T14:14:25.557228Z",
     "start_time": "2022-08-08T14:14:25.548597Z"
    }
   },
   "outputs": [],
   "source": [
    "logging.captureWarnings(True) # send warnings to log file automatically https://stackoverflow.com/a/37979724/6623589\n",
    "logging.basicConfig(\n",
    "    filename = os.path.join(LOGS_DIR, f\"{today}.log\"), # change `reports` file name\n",
    "    filemode = \"a\", # append logs to existing file, if file exists\n",
    "    format = \"%(asctime)s - %(name)s - CLASS:%(levelname)s:%(levelno)s:L#%(lineno)d - %(message)s\",\n",
    "    level = logging.DEBUG\n",
    ")"
   ]
  },
  {
   "cell_type": "markdown",
   "metadata": {},
   "source": [
    "## User Defined Function(s)\n",
    "\n",
    "It is recommended that any UDFs are defined outside the scope of the *jupyter notebook* such that development/editing of function can be done more practically. As per *programming guidelines* as [`src`](https://fileinfo.com/extension/src) file/directory is beneficial in code development and/or production release. However, *jupyter notebook* requires *kernel restart* if any imported code file is changed in disc, for this frequently changing functions can be defined in this section.\n",
    "\n",
    "**Getting Started** with **`PYTHONPATH`**\n",
    "\n",
    "One must know what are [Environment Variable](https://medium.com/chingu/an-introduction-to-environment-variables-and-how-to-use-them-f602f66d15fa) and how to call/use them in your choice of programming language. Note that an environment variable is *case sensitive* in all operating systems (except windows, since DOS is not case sensitive). Generally, we can access environment variables from terminal/shell/command prompt as:\n",
    "\n",
    "```shell\n",
    "# macOS/*nix\n",
    "echo $VARNAME\n",
    "\n",
    "# windows\n",
    "echo %VARNAME%\n",
    "```\n",
    "\n",
    "Once you've setup your system with [`PYTHONPATH`](https://bic-berkeley.github.io/psych-214-fall-2016/using_pythonpath.html) as per [*python documentation*](https://docs.python.org/3/using/cmdline.html#envvar-PYTHONPATH) is an important directory where any `import` statements looks for based on their order of importance. If a source code/module is not available check necessary environment variables and/or ask the administrator for the source files."
   ]
  },
  {
   "cell_type": "code",
   "execution_count": 10,
   "metadata": {
    "ExecuteTime": {
     "end_time": "2022-08-08T14:19:14.143489Z",
     "start_time": "2022-08-08T14:19:14.134438Z"
    }
   },
   "outputs": [],
   "source": [
    "def read_file(filepath : str) -> pd.DataFrame:\n",
    "    \"\"\"\n",
    "    Read the given `csv` file as provided during for the competition. There\n",
    "    are three files `train`, `test` and `sample_submission` representing the\n",
    "    training, testing and sample submission file. All the files are as per\n",
    "    general convention.\n",
    "    \n",
    "    The function reads a particular file, pre-process some of the sections and\n",
    "    finally returns a processed dataframe.\n",
    "    \"\"\"\n",
    "    \n",
    "    data = pd.read_csv(filepath, index_col = \"Property_ID\")\n",
    "    return data.copy() # deep copy the frame"
   ]
  },
  {
   "cell_type": "markdown",
   "metadata": {},
   "source": [
    "## Read Input File(s)\n",
    "\n",
    "A typical machine learning project revolves around six important stages (as available in [Amazon ML Life Cycle Documentation](https://docs.aws.amazon.com/wellarchitected/latest/machine-learning-lens/well-architected-machine-learning-lifecycle.html)). The notebook boilerplate is provided to address two pillars:\n",
    "\n",
    " 1. **Data Processing:** An integral part of any machine learning project, which is the most time consuming step! A brief introduction and best practices is available [here](https://towardsdatascience.com/introduction-to-data-preprocessing-in-machine-learning-a9fa83a5dc9d).\n",
    " 2. **Model Development:** From understanding to deployment, this section address development (training, validating and testing) of an machine learning model.\n",
    "\n",
    "![ML Life Cycle](https://docs.aws.amazon.com/wellarchitected/latest/machine-learning-lens/images/ml-lifecycle.png)"
   ]
  },
  {
   "cell_type": "code",
   "execution_count": 21,
   "metadata": {
    "ExecuteTime": {
     "end_time": "2022-08-08T14:26:16.970329Z",
     "start_time": "2022-08-08T14:26:16.844313Z"
    }
   },
   "outputs": [
    {
     "name": "stderr",
     "output_type": "stream",
     "text": [
      "100%|███████████████████████████████████████████████████████████████████████████████████████████████████████████████████████████████████████████████████████████████████████████████| 3/3 [00:00<00:00, 39.81it/s]"
     ]
    },
    {
     "name": "stdout",
     "output_type": "stream",
     "text": [
      "(39499, 14) (10500, 13)\n",
      "Prediction Columns :  ['Habitability_score']\n",
      "Memory Usage : 20.11 MB\n"
     ]
    },
    {
     "name": "stderr",
     "output_type": "stream",
     "text": [
      "\n"
     ]
    },
    {
     "data": {
      "text/html": [
       "<div>\n",
       "<style scoped>\n",
       "    .dataframe tbody tr th:only-of-type {\n",
       "        vertical-align: middle;\n",
       "    }\n",
       "\n",
       "    .dataframe tbody tr th {\n",
       "        vertical-align: top;\n",
       "    }\n",
       "\n",
       "    .dataframe thead th {\n",
       "        text-align: right;\n",
       "    }\n",
       "</style>\n",
       "<table border=\"1\" class=\"dataframe\">\n",
       "  <thead>\n",
       "    <tr style=\"text-align: right;\">\n",
       "      <th></th>\n",
       "      <th>Property_Type</th>\n",
       "      <th>Property_Area</th>\n",
       "      <th>Number_of_Windows</th>\n",
       "      <th>Number_of_Doors</th>\n",
       "      <th>Furnishing</th>\n",
       "      <th>Frequency_of_Powercuts</th>\n",
       "      <th>Power_Backup</th>\n",
       "      <th>Water_Supply</th>\n",
       "      <th>Traffic_Density_Score</th>\n",
       "      <th>Crime_Rate</th>\n",
       "      <th>Dust_and_Noise</th>\n",
       "      <th>Air_Quality_Index</th>\n",
       "      <th>Neighborhood_Review</th>\n",
       "      <th>Habitability_score</th>\n",
       "    </tr>\n",
       "    <tr>\n",
       "      <th>Property_ID</th>\n",
       "      <th></th>\n",
       "      <th></th>\n",
       "      <th></th>\n",
       "      <th></th>\n",
       "      <th></th>\n",
       "      <th></th>\n",
       "      <th></th>\n",
       "      <th></th>\n",
       "      <th></th>\n",
       "      <th></th>\n",
       "      <th></th>\n",
       "      <th></th>\n",
       "      <th></th>\n",
       "      <th></th>\n",
       "    </tr>\n",
       "  </thead>\n",
       "  <tbody>\n",
       "    <tr>\n",
       "      <th>0x1533</th>\n",
       "      <td>Duplex</td>\n",
       "      <td>626</td>\n",
       "      <td>5.00</td>\n",
       "      <td>2</td>\n",
       "      <td>Fully Furnished</td>\n",
       "      <td>0.00</td>\n",
       "      <td>No</td>\n",
       "      <td>All time</td>\n",
       "      <td>2.91</td>\n",
       "      <td>Slightly below average</td>\n",
       "      <td>Low</td>\n",
       "      <td>56.00</td>\n",
       "      <td>4.30</td>\n",
       "      <td>80.67</td>\n",
       "    </tr>\n",
       "    <tr>\n",
       "      <th>0x4000</th>\n",
       "      <td>Single-family home</td>\n",
       "      <td>1501</td>\n",
       "      <td>4.00</td>\n",
       "      <td>4</td>\n",
       "      <td>Semi_Furnished</td>\n",
       "      <td>NaN</td>\n",
       "      <td>No</td>\n",
       "      <td>All time</td>\n",
       "      <td>9.07</td>\n",
       "      <td>Slightly below average</td>\n",
       "      <td>High</td>\n",
       "      <td>168.00</td>\n",
       "      <td>4.00</td>\n",
       "      <td>87.12</td>\n",
       "    </tr>\n",
       "    <tr>\n",
       "      <th>0xa367</th>\n",
       "      <td>Single-family home</td>\n",
       "      <td>1111</td>\n",
       "      <td>4.00</td>\n",
       "      <td>4</td>\n",
       "      <td>Semi_Furnished</td>\n",
       "      <td>1.00</td>\n",
       "      <td>No</td>\n",
       "      <td>Once in a day - Evening</td>\n",
       "      <td>5.11</td>\n",
       "      <td>Slightly below average</td>\n",
       "      <td>Medium</td>\n",
       "      <td>117.00</td>\n",
       "      <td>2.89</td>\n",
       "      <td>71.29</td>\n",
       "    </tr>\n",
       "    <tr>\n",
       "      <th>0x7dd7</th>\n",
       "      <td>Apartment</td>\n",
       "      <td>508</td>\n",
       "      <td>3.00</td>\n",
       "      <td>1</td>\n",
       "      <td>Semi_Furnished</td>\n",
       "      <td>1.00</td>\n",
       "      <td>No</td>\n",
       "      <td>Once in a day - Morning</td>\n",
       "      <td>6.81</td>\n",
       "      <td>Well below average</td>\n",
       "      <td>Medium</td>\n",
       "      <td>135.00</td>\n",
       "      <td>3.80</td>\n",
       "      <td>81.82</td>\n",
       "    </tr>\n",
       "    <tr>\n",
       "      <th>0x42fc</th>\n",
       "      <td>Container Home</td>\n",
       "      <td>490</td>\n",
       "      <td>2.00</td>\n",
       "      <td>2</td>\n",
       "      <td>Unfurnished</td>\n",
       "      <td>0.00</td>\n",
       "      <td>Yes</td>\n",
       "      <td>Once in a day - Morning</td>\n",
       "      <td>6.00</td>\n",
       "      <td>Well below average</td>\n",
       "      <td>Medium</td>\n",
       "      <td>154.00</td>\n",
       "      <td>4.41</td>\n",
       "      <td>91.82</td>\n",
       "    </tr>\n",
       "  </tbody>\n",
       "</table>\n",
       "</div>"
      ],
      "text/plain": [
       "                  Property_Type  Property_Area  Number_of_Windows  \\\n",
       "Property_ID                                                         \n",
       "0x1533                   Duplex            626               5.00   \n",
       "0x4000       Single-family home           1501               4.00   \n",
       "0xa367       Single-family home           1111               4.00   \n",
       "0x7dd7                Apartment            508               3.00   \n",
       "0x42fc           Container Home            490               2.00   \n",
       "\n",
       "             Number_of_Doors       Furnishing  Frequency_of_Powercuts  \\\n",
       "Property_ID                                                             \n",
       "0x1533                     2  Fully Furnished                    0.00   \n",
       "0x4000                     4   Semi_Furnished                     NaN   \n",
       "0xa367                     4   Semi_Furnished                    1.00   \n",
       "0x7dd7                     1   Semi_Furnished                    1.00   \n",
       "0x42fc                     2      Unfurnished                    0.00   \n",
       "\n",
       "            Power_Backup             Water_Supply  Traffic_Density_Score  \\\n",
       "Property_ID                                                                \n",
       "0x1533                No                 All time                   2.91   \n",
       "0x4000                No                 All time                   9.07   \n",
       "0xa367                No  Once in a day - Evening                   5.11   \n",
       "0x7dd7                No  Once in a day - Morning                   6.81   \n",
       "0x42fc               Yes  Once in a day - Morning                   6.00   \n",
       "\n",
       "                         Crime_Rate Dust_and_Noise  Air_Quality_Index  \\\n",
       "Property_ID                                                             \n",
       "0x1533       Slightly below average            Low              56.00   \n",
       "0x4000       Slightly below average           High             168.00   \n",
       "0xa367       Slightly below average         Medium             117.00   \n",
       "0x7dd7           Well below average         Medium             135.00   \n",
       "0x42fc           Well below average         Medium             154.00   \n",
       "\n",
       "             Neighborhood_Review  Habitability_score  \n",
       "Property_ID                                           \n",
       "0x1533                      4.30               80.67  \n",
       "0x4000                      4.00               87.12  \n",
       "0xa367                      2.89               71.29  \n",
       "0x7dd7                      3.80               81.82  \n",
       "0x42fc                      4.41               91.82  "
      ]
     },
     "execution_count": 21,
     "metadata": {},
     "output_type": "execute_result"
    }
   ],
   "source": [
    "train, test, sample = [read_file(os.path.join(DATA, f\"{filename}.csv\")) for filename in TQ([\"train\", \"test\", \"sample_submission\"])]\n",
    "\n",
    "# print additional infos about the file\n",
    "print(train.shape, test.shape)\n",
    "print(\"Prediction Columns : \", [cols for cols in train.columns if cols not in test.columns])\n",
    "\n",
    "# print memory usage, later apply optimization techniques\n",
    "print(f\"Memory Usage : {train.memory_usage(deep = True).sum() / 1024 ** 2:.2f} MB\")\n",
    "\n",
    "train.sample(5) # display sample records"
   ]
  },
  {
   "cell_type": "markdown",
   "metadata": {},
   "source": [
    "### Data Validation\n",
    "\n",
    "In addition to statistical data validation, a basic validation between the training and testing set is necessary. This include: finding if there is any mismatch of the *category* between the training and testing set."
   ]
  },
  {
   "cell_type": "code",
   "execution_count": 34,
   "metadata": {
    "ExecuteTime": {
     "end_time": "2022-08-08T14:39:16.667203Z",
     "start_time": "2022-08-08T14:39:16.553824Z"
    },
    "collapsed": true
   },
   "outputs": [
    {
     "name": "stdout",
     "output_type": "stream",
     "text": [
      "Categorical Column Name : Property_Type\n",
      "  > Columns Matched, Unique Values : ['Apartment' 'Bungalow' 'Single-family home' 'Duplex' '#R%$G&867'\n",
      " 'Container Home']\n",
      "Categorical Column Name : Furnishing\n",
      "  > Columns Matched, Unique Values : ['Semi_Furnished' 'Unfurnished' 'Fully Furnished' nan]\n",
      "Categorical Column Name : Power_Backup\n",
      "  > Columns Matched, Unique Values : ['No' 'Yes' 'NOT MENTIONED']\n",
      "Categorical Column Name : Water_Supply\n",
      "  > Columns Matched, Unique Values : ['Once in a day - Morning' 'Once in a day - Evening' 'All time'\n",
      " 'NOT MENTIONED' 'Once in two days']\n",
      "Categorical Column Name : Crime_Rate\n",
      "  > Columns Matched, Unique Values : ['Slightly below average' 'Well below average' 'Well above average' nan\n",
      " 'Slightly above average']\n",
      "Categorical Column Name : Dust_and_Noise\n",
      "  > Columns Matched, Unique Values : ['Medium' nan 'High' 'Low']\n"
     ]
    }
   ],
   "source": [
    "CATEGORICAL_COLUMNS = train.select_dtypes(include = [\"object\"]).columns\n",
    "\n",
    "for col in CATEGORICAL_COLUMNS:\n",
    "    print(f\"Categorical Column Name : {col}\")\n",
    "    \n",
    "    condition = any(train[col].sort_values().unique() == test[col].sort_values().unique())\n",
    "    if condition:\n",
    "        print(f\"  > Columns Matched, Unique Values : {train[col].unique()}\")\n",
    "    else:\n",
    "        warnings.warn(\"Mis-Matched Categories in `training` and `testing` Data.\")"
   ]
  },
  {
   "cell_type": "markdown",
   "metadata": {},
   "source": [
    "#### Base Model Performance\n",
    "\n",
    "Let's do a *point blank approach* and randomly fit the `xgboost` model on numeric columns and fill null data with `median` (as we have yet not done any statistical analysis yet) and call this as the [base model]()."
   ]
  },
  {
   "cell_type": "code",
   "execution_count": 50,
   "metadata": {
    "ExecuteTime": {
     "end_time": "2022-08-08T15:00:16.100822Z",
     "start_time": "2022-08-08T15:00:16.077723Z"
    }
   },
   "outputs": [
    {
     "data": {
      "text/html": [
       "<div>\n",
       "<style scoped>\n",
       "    .dataframe tbody tr th:only-of-type {\n",
       "        vertical-align: middle;\n",
       "    }\n",
       "\n",
       "    .dataframe tbody tr th {\n",
       "        vertical-align: top;\n",
       "    }\n",
       "\n",
       "    .dataframe thead th {\n",
       "        text-align: right;\n",
       "    }\n",
       "</style>\n",
       "<table border=\"1\" class=\"dataframe\">\n",
       "  <thead>\n",
       "    <tr style=\"text-align: right;\">\n",
       "      <th></th>\n",
       "      <th>Property_Area</th>\n",
       "      <th>Number_of_Windows</th>\n",
       "      <th>Number_of_Doors</th>\n",
       "      <th>Frequency_of_Powercuts</th>\n",
       "      <th>Traffic_Density_Score</th>\n",
       "      <th>Air_Quality_Index</th>\n",
       "      <th>Neighborhood_Review</th>\n",
       "      <th>Habitability_score</th>\n",
       "    </tr>\n",
       "    <tr>\n",
       "      <th>Property_ID</th>\n",
       "      <th></th>\n",
       "      <th></th>\n",
       "      <th></th>\n",
       "      <th></th>\n",
       "      <th></th>\n",
       "      <th></th>\n",
       "      <th></th>\n",
       "      <th></th>\n",
       "    </tr>\n",
       "  </thead>\n",
       "  <tbody>\n",
       "    <tr>\n",
       "      <th>0xc2c</th>\n",
       "      <td>1011</td>\n",
       "      <td>4.00</td>\n",
       "      <td>2</td>\n",
       "      <td>0.00</td>\n",
       "      <td>4.91</td>\n",
       "      <td>107.00</td>\n",
       "      <td>3.85</td>\n",
       "      <td>79.07</td>\n",
       "    </tr>\n",
       "  </tbody>\n",
       "</table>\n",
       "</div>"
      ],
      "text/plain": [
       "             Property_Area  Number_of_Windows  Number_of_Doors  \\\n",
       "Property_ID                                                      \n",
       "0xc2c                 1011               4.00                2   \n",
       "\n",
       "             Frequency_of_Powercuts  Traffic_Density_Score  Air_Quality_Index  \\\n",
       "Property_ID                                                                     \n",
       "0xc2c                          0.00                   4.91             107.00   \n",
       "\n",
       "             Neighborhood_Review  Habitability_score  \n",
       "Property_ID                                           \n",
       "0xc2c                       3.85               79.07  "
      ]
     },
     "execution_count": 50,
     "metadata": {},
     "output_type": "execute_result"
    }
   ],
   "source": [
    "train_, test_ = train.select_dtypes(exclude = [\"object\"]).copy(), test.select_dtypes(exclude = [\"object\"]).copy()\n",
    "train_.sample() # just check one numeric data row"
   ]
  },
  {
   "cell_type": "code",
   "execution_count": 142,
   "metadata": {
    "ExecuteTime": {
     "end_time": "2022-08-08T15:28:31.654431Z",
     "start_time": "2022-08-08T15:28:31.594577Z"
    }
   },
   "outputs": [
    {
     "name": "stderr",
     "output_type": "stream",
     "text": [
      "100%|██████████████████████████████████████████████████████████████████████████████████████████████████████████████████████████████████████████████████████████████████████████████| 7/7 [00:00<00:00, 179.68it/s]\n"
     ]
    }
   ],
   "source": [
    "values = {col : np.median(np.array(list(train_[col].dropna().values) + list(test_[col].dropna().values))) for col in TQ(test_.columns)}\n",
    "\n",
    "# fillna with `median` values on combined values from total dataset\n",
    "test_.fillna(values, inplace = True)\n",
    "train_.fillna(values, inplace = True)"
   ]
  },
  {
   "cell_type": "code",
   "execution_count": 144,
   "metadata": {
    "ExecuteTime": {
     "end_time": "2022-08-08T15:29:38.519384Z",
     "start_time": "2022-08-08T15:29:38.515293Z"
    }
   },
   "outputs": [],
   "source": [
    "logging.info(\"Created Dataset for `basemodel` Evaluation.\")"
   ]
  },
  {
   "cell_type": "code",
   "execution_count": 148,
   "metadata": {
    "ExecuteTime": {
     "end_time": "2022-08-08T15:33:42.498690Z",
     "start_time": "2022-08-08T15:33:41.714210Z"
    }
   },
   "outputs": [
    {
     "data": {
      "text/plain": [
       "XGBRFRegressor(base_score=0.5, booster='gbtree', callbacks=None,\n",
       "               colsample_bylevel=1, colsample_bytree=1,\n",
       "               early_stopping_rounds=None, enable_categorical=False,\n",
       "               eval_metric=None, gamma=0, gpu_id=-1, grow_policy='depthwise',\n",
       "               importance_type=None, interaction_constraints='', max_bin=256,\n",
       "               max_cat_to_onehot=4, max_delta_step=0, max_depth=6, max_leaves=0,\n",
       "               min_child_weight=1, missing=nan, monotone_constraints='()',\n",
       "               n_estimators=100, n_jobs=0, num_parallel_tree=100,\n",
       "               objective='reg:squarederror', predictor='auto', random_state=0,\n",
       "               reg_alpha=0, sampling_method='uniform', scale_pos_weight=1, ...)"
      ]
     },
     "execution_count": 148,
     "metadata": {},
     "output_type": "execute_result"
    }
   ],
   "source": [
    "basemodel = XGBRFRegressor()\n",
    "basemodel.fit(train_.drop(columns = [\"Habitability_score\"]), train_[\"Habitability_score\"])"
   ]
  },
  {
   "cell_type": "code",
   "execution_count": 157,
   "metadata": {
    "ExecuteTime": {
     "end_time": "2022-08-08T15:37:27.235768Z",
     "start_time": "2022-08-08T15:37:27.177858Z"
    }
   },
   "outputs": [],
   "source": [
    "y_predicted_ = basemodel.predict(test_) # find the predictions\n",
    "pd.DataFrame({\n",
    "    \"Property_ID\" : test_.index,\n",
    "    \"Habitability_score\" : y_predicted_\n",
    "}).to_csv(os.path.join(OUTPUT_DIR, \"base_model_submission_xgboost.csv\"), index = False)"
   ]
  },
  {
   "cell_type": "markdown",
   "metadata": {},
   "source": [
    "**Base Model Score:** 36.33460"
   ]
  },
  {
   "cell_type": "markdown",
   "metadata": {},
   "source": [
    "#### Missing Value Analysis"
   ]
  },
  {
   "cell_type": "code",
   "execution_count": 143,
   "metadata": {
    "ExecuteTime": {
     "end_time": "2022-08-08T15:28:35.530938Z",
     "start_time": "2022-08-08T15:28:34.915544Z"
    }
   },
   "outputs": [
    {
     "data": {
      "image/png": "[encoded data removed]",
      "text/plain": [
       "<Figure size 1512x504 with 4 Axes>"
      ]
     },
     "metadata": {},
     "output_type": "display_data"
    }
   ],
   "source": [
    "plt.subplot(121)\n",
    "sns.heatmap(train_.isnull(), cmap = \"viridis\", yticklabels = False)\n",
    "plt.title(\"`train`\")\n",
    "\n",
    "plt.subplot(122)\n",
    "sns.heatmap(test_.isnull(), cmap = \"viridis\", yticklabels = False)\n",
    "plt.title(\"`test`\")\n",
    "\n",
    "plt.suptitle(\"Missing Data Plot\")\n",
    "plt.show()"
   ]
  },
  {
   "cell_type": "markdown",
   "metadata": {},
   "source": [
    "### Data Correlation"
   ]
  },
  {
   "cell_type": "code",
   "execution_count": 46,
   "metadata": {
    "ExecuteTime": {
     "end_time": "2022-08-08T14:49:16.590461Z",
     "start_time": "2022-08-08T14:49:16.217875Z"
    },
    "collapsed": true
   },
   "outputs": [
    {
     "data": {
      "text/plain": [
       "<AxesSubplot:>"
      ]
     },
     "execution_count": 46,
     "metadata": {},
     "output_type": "execute_result"
    },
    {
     "data": {
      "image/png": "[encoded data removed]",
      "text/plain": [
       "<Figure size 1512x504 with 2 Axes>"
      ]
     },
     "metadata": {},
     "output_type": "display_data"
    }
   ],
   "source": [
    "sns.heatmap(train.corr(), annot = True)"
   ]
  }
 ],
 "metadata": {
  "hide_input": false,
  "kernelspec": {
   "display_name": "TensorFlow 2.8.0 (GPU)",
   "language": "python",
   "name": "tensorflow"
  },
  "language_info": {
   "codemirror_mode": {
    "name": "ipython",
    "version": 3
   },
   "file_extension": ".py",
   "mimetype": "text/x-python",
   "name": "python",
   "nbconvert_exporter": "python",
   "pygments_lexer": "ipython3",
   "version": "3.9.12"
  },
  "latex_envs": {
   "LaTeX_envs_menu_present": true,
   "autoclose": true,
   "autocomplete": true,
   "bibliofile": "biblio.bib",
   "cite_by": "apalike",
   "current_citInitial": 1,
   "eqLabelWithNumbers": true,
   "eqNumInitial": 1,
   "hotkeys": {
    "equation": "Ctrl-E",
    "itemize": "Ctrl-I"
   },
   "labels_anchors": false,
   "latex_user_defs": false,
   "report_style_numbering": false,
   "user_envs_cfg": false
  },
  "toc": {
   "base_numbering": 1,
   "nav_menu": {},
   "number_sections": false,
   "sideBar": true,
   "skip_h1_title": true,
   "title_cell": "Table of Contents",
   "title_sidebar": "Contents",
   "toc_cell": false,
   "toc_position": {},
   "toc_section_display": true,
   "toc_window_display": false
  },
  "varInspector": {
   "cols": {
    "lenName": 16,
    "lenType": 16,
    "lenVar": 40
   },
   "kernels_config": {
    "python": {
     "delete_cmd_postfix": "",
     "delete_cmd_prefix": "del ",
     "library": "var_list.py",
     "varRefreshCmd": "print(var_dic_list())"
    },
    "r": {
     "delete_cmd_postfix": ") ",
     "delete_cmd_prefix": "rm(",
     "library": "var_list.r",
     "varRefreshCmd": "cat(var_dic_list()) "
    }
   },
   "types_to_exclude": [
    "module",
    "function",
    "builtin_function_or_method",
    "instance",
    "_Feature"
   ],
   "window_display": false
  }
 },
 "nbformat": 4,
 "nbformat_minor": 2
}
