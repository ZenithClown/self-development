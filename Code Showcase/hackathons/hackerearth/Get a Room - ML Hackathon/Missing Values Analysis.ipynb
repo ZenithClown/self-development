{
 "cells": [
  {
   "cell_type": "code",
   "execution_count": 21,
   "id": "202a58aa",
   "metadata": {
    "ExecuteTime": {
     "end_time": "2022-08-18T15:00:58.502593Z",
     "start_time": "2022-08-18T15:00:58.488595Z"
    }
   },
   "outputs": [],
   "source": [
    "import os # funadamental library for handling\n",
    "from statistics import mode # calculate mode on `object`\n",
    "from tqdm import tqdm as TQ # library for displaying progress bar"
   ]
  },
  {
   "cell_type": "code",
   "execution_count": 1,
   "id": "664d36cb",
   "metadata": {
    "ExecuteTime": {
     "end_time": "2022-08-18T14:51:33.921771Z",
     "start_time": "2022-08-18T14:51:32.610928Z"
    }
   },
   "outputs": [],
   "source": [
    "import numpy as np\n",
    "import pandas as pd\n",
    "import seaborn as sns\n",
    "import matplotlib.pyplot as plt\n",
    "\n",
    "%precision 3\n",
    "%matplotlib inline\n",
    "sns.set_style('whitegrid');\n",
    "plt.style.use('default-style'); # https://gitlab.com/ZenithClown/computer-configurations-and-setups\n",
    "pd.set_option('display.max_rows', 50)\n",
    "pd.set_option('display.max_columns', 15)\n",
    "np.set_printoptions(precision = 3, threshold = 15)\n",
    "pd.options.display.float_format = '{:,.2f}'.format"
   ]
  },
  {
   "cell_type": "code",
   "execution_count": 4,
   "id": "f19713be",
   "metadata": {
    "ExecuteTime": {
     "end_time": "2022-08-18T14:52:35.876944Z",
     "start_time": "2022-08-18T14:52:35.865932Z"
    }
   },
   "outputs": [],
   "source": [
    "ROOT = \".\" # the document root is one level up, that contains all code structure\n",
    "DATA = os.path.join(ROOT, \"dataset\") # the directory contains all data files, subdirectory (if any) can also be used/defined"
   ]
  },
  {
   "cell_type": "code",
   "execution_count": 2,
   "id": "58c281c7",
   "metadata": {
    "ExecuteTime": {
     "end_time": "2022-08-18T14:51:51.877665Z",
     "start_time": "2022-08-18T14:51:51.857625Z"
    }
   },
   "outputs": [],
   "source": [
    "def read_file(filepath : str) -> pd.DataFrame:\n",
    "    \"\"\"\n",
    "    Read the given `csv` file as provided during for the competition. There\n",
    "    are three files `train`, `test` and `sample_submission` representing the\n",
    "    training, testing and sample submission file. All the files are as per\n",
    "    general convention.\n",
    "    \n",
    "    The function reads a particular file, pre-process some of the sections and\n",
    "    finally returns a processed dataframe.\n",
    "    \"\"\"\n",
    "    \n",
    "    data = pd.read_csv(filepath, index_col = \"Property_ID\")\n",
    "    return data.copy() # deep copy the frame"
   ]
  },
  {
   "cell_type": "code",
   "execution_count": 5,
   "id": "fac1a8d9",
   "metadata": {
    "ExecuteTime": {
     "end_time": "2022-08-18T14:52:52.321899Z",
     "start_time": "2022-08-18T14:52:51.800868Z"
    }
   },
   "outputs": [
    {
     "name": "stderr",
     "output_type": "stream",
     "text": [
      "100%|███████████████████████████████████████████████████████████████████████████████████████████████████████████████████████████████████████████████████████████████████████████████| 3/3 [00:00<00:00,  6.42it/s]"
     ]
    },
    {
     "name": "stdout",
     "output_type": "stream",
     "text": [
      "(39499, 14) (10500, 13)\n",
      "Prediction Columns :  ['Habitability_score']\n",
      "Memory Usage : 20.11 MB\n"
     ]
    },
    {
     "name": "stderr",
     "output_type": "stream",
     "text": [
      "\n"
     ]
    },
    {
     "data": {
      "text/html": [
       "<div>\n",
       "<style scoped>\n",
       "    .dataframe tbody tr th:only-of-type {\n",
       "        vertical-align: middle;\n",
       "    }\n",
       "\n",
       "    .dataframe tbody tr th {\n",
       "        vertical-align: top;\n",
       "    }\n",
       "\n",
       "    .dataframe thead th {\n",
       "        text-align: right;\n",
       "    }\n",
       "</style>\n",
       "<table border=\"1\" class=\"dataframe\">\n",
       "  <thead>\n",
       "    <tr style=\"text-align: right;\">\n",
       "      <th></th>\n",
       "      <th>Property_Type</th>\n",
       "      <th>Property_Area</th>\n",
       "      <th>Number_of_Windows</th>\n",
       "      <th>Number_of_Doors</th>\n",
       "      <th>Furnishing</th>\n",
       "      <th>Frequency_of_Powercuts</th>\n",
       "      <th>Power_Backup</th>\n",
       "      <th>Water_Supply</th>\n",
       "      <th>Traffic_Density_Score</th>\n",
       "      <th>Crime_Rate</th>\n",
       "      <th>Dust_and_Noise</th>\n",
       "      <th>Air_Quality_Index</th>\n",
       "      <th>Neighborhood_Review</th>\n",
       "      <th>Habitability_score</th>\n",
       "    </tr>\n",
       "    <tr>\n",
       "      <th>Property_ID</th>\n",
       "      <th></th>\n",
       "      <th></th>\n",
       "      <th></th>\n",
       "      <th></th>\n",
       "      <th></th>\n",
       "      <th></th>\n",
       "      <th></th>\n",
       "      <th></th>\n",
       "      <th></th>\n",
       "      <th></th>\n",
       "      <th></th>\n",
       "      <th></th>\n",
       "      <th></th>\n",
       "      <th></th>\n",
       "    </tr>\n",
       "  </thead>\n",
       "  <tbody>\n",
       "    <tr>\n",
       "      <th>0x83c1</th>\n",
       "      <td>Bungalow</td>\n",
       "      <td>2563</td>\n",
       "      <td>15.00</td>\n",
       "      <td>4</td>\n",
       "      <td>Semi_Furnished</td>\n",
       "      <td>1.00</td>\n",
       "      <td>No</td>\n",
       "      <td>Once in a day - Morning</td>\n",
       "      <td>6.96</td>\n",
       "      <td>Slightly below average</td>\n",
       "      <td>Medium</td>\n",
       "      <td>125.00</td>\n",
       "      <td>3.18</td>\n",
       "      <td>75.69</td>\n",
       "    </tr>\n",
       "    <tr>\n",
       "      <th>0x3fbf</th>\n",
       "      <td>Apartment</td>\n",
       "      <td>817</td>\n",
       "      <td>4.00</td>\n",
       "      <td>2</td>\n",
       "      <td>Semi_Furnished</td>\n",
       "      <td>1.00</td>\n",
       "      <td>No</td>\n",
       "      <td>Once in a day - Morning</td>\n",
       "      <td>8.04</td>\n",
       "      <td>Well below average</td>\n",
       "      <td>High</td>\n",
       "      <td>157.00</td>\n",
       "      <td>3.70</td>\n",
       "      <td>65.13</td>\n",
       "    </tr>\n",
       "    <tr>\n",
       "      <th>0xbc65</th>\n",
       "      <td>Bungalow</td>\n",
       "      <td>2878</td>\n",
       "      <td>7.00</td>\n",
       "      <td>5</td>\n",
       "      <td>Unfurnished</td>\n",
       "      <td>0.00</td>\n",
       "      <td>Yes</td>\n",
       "      <td>Once in a day - Morning</td>\n",
       "      <td>7.72</td>\n",
       "      <td>Well below average</td>\n",
       "      <td>Medium</td>\n",
       "      <td>105.00</td>\n",
       "      <td>4.46</td>\n",
       "      <td>74.28</td>\n",
       "    </tr>\n",
       "    <tr>\n",
       "      <th>0x92e5</th>\n",
       "      <td>Single-family home</td>\n",
       "      <td>2169</td>\n",
       "      <td>5.00</td>\n",
       "      <td>4</td>\n",
       "      <td>Unfurnished</td>\n",
       "      <td>0.00</td>\n",
       "      <td>No</td>\n",
       "      <td>Once in a day - Evening</td>\n",
       "      <td>6.82</td>\n",
       "      <td>Well below average</td>\n",
       "      <td>Medium</td>\n",
       "      <td>126.00</td>\n",
       "      <td>4.12</td>\n",
       "      <td>71.62</td>\n",
       "    </tr>\n",
       "    <tr>\n",
       "      <th>0x59f5</th>\n",
       "      <td>Single-family home</td>\n",
       "      <td>1939</td>\n",
       "      <td>3.00</td>\n",
       "      <td>3</td>\n",
       "      <td>Semi_Furnished</td>\n",
       "      <td>1.00</td>\n",
       "      <td>No</td>\n",
       "      <td>Once in two days</td>\n",
       "      <td>4.13</td>\n",
       "      <td>Slightly below average</td>\n",
       "      <td>Medium</td>\n",
       "      <td>80.00</td>\n",
       "      <td>2.63</td>\n",
       "      <td>69.10</td>\n",
       "    </tr>\n",
       "  </tbody>\n",
       "</table>\n",
       "</div>"
      ],
      "text/plain": [
       "                  Property_Type  Property_Area  Number_of_Windows  \\\n",
       "Property_ID                                                         \n",
       "0x83c1                 Bungalow           2563              15.00   \n",
       "0x3fbf                Apartment            817               4.00   \n",
       "0xbc65                 Bungalow           2878               7.00   \n",
       "0x92e5       Single-family home           2169               5.00   \n",
       "0x59f5       Single-family home           1939               3.00   \n",
       "\n",
       "             Number_of_Doors      Furnishing  Frequency_of_Powercuts  \\\n",
       "Property_ID                                                            \n",
       "0x83c1                     4  Semi_Furnished                    1.00   \n",
       "0x3fbf                     2  Semi_Furnished                    1.00   \n",
       "0xbc65                     5     Unfurnished                    0.00   \n",
       "0x92e5                     4     Unfurnished                    0.00   \n",
       "0x59f5                     3  Semi_Furnished                    1.00   \n",
       "\n",
       "            Power_Backup             Water_Supply  Traffic_Density_Score  \\\n",
       "Property_ID                                                                \n",
       "0x83c1                No  Once in a day - Morning                   6.96   \n",
       "0x3fbf                No  Once in a day - Morning                   8.04   \n",
       "0xbc65               Yes  Once in a day - Morning                   7.72   \n",
       "0x92e5                No  Once in a day - Evening                   6.82   \n",
       "0x59f5                No         Once in two days                   4.13   \n",
       "\n",
       "                         Crime_Rate Dust_and_Noise  Air_Quality_Index  \\\n",
       "Property_ID                                                             \n",
       "0x83c1       Slightly below average         Medium             125.00   \n",
       "0x3fbf           Well below average           High             157.00   \n",
       "0xbc65           Well below average         Medium             105.00   \n",
       "0x92e5           Well below average         Medium             126.00   \n",
       "0x59f5       Slightly below average         Medium              80.00   \n",
       "\n",
       "             Neighborhood_Review  Habitability_score  \n",
       "Property_ID                                           \n",
       "0x83c1                      3.18               75.69  \n",
       "0x3fbf                      3.70               65.13  \n",
       "0xbc65                      4.46               74.28  \n",
       "0x92e5                      4.12               71.62  \n",
       "0x59f5                      2.63               69.10  "
      ]
     },
     "execution_count": 5,
     "metadata": {},
     "output_type": "execute_result"
    }
   ],
   "source": [
    "train, test, _ = [read_file(os.path.join(DATA, f\"{filename}.csv\")) for filename in TQ([\"train\", \"test\", \"sample_submission\"])]\n",
    "\n",
    "# print additional infos about the file\n",
    "print(train.shape, test.shape)\n",
    "print(\"Prediction Columns : \", [cols for cols in train.columns if cols not in test.columns])\n",
    "\n",
    "# print memory usage, later apply optimization techniques\n",
    "print(f\"Memory Usage : {train.memory_usage(deep = True).sum() / 1024 ** 2:.2f} MB\")\n",
    "\n",
    "train.sample(5) # display sample records"
   ]
  },
  {
   "cell_type": "code",
   "execution_count": 16,
   "id": "57cec230",
   "metadata": {
    "ExecuteTime": {
     "end_time": "2022-08-18T14:56:14.875724Z",
     "start_time": "2022-08-18T14:56:14.865200Z"
    }
   },
   "outputs": [],
   "source": [
    "test[\"type\"] = \"test\"\n",
    "train[\"type\"] = \"train\""
   ]
  },
  {
   "cell_type": "code",
   "execution_count": 17,
   "id": "18f5dfe7",
   "metadata": {
    "ExecuteTime": {
     "end_time": "2022-08-18T14:56:48.380721Z",
     "start_time": "2022-08-18T14:56:48.360913Z"
    }
   },
   "outputs": [
    {
     "data": {
      "text/plain": [
       "((39499, 15), (10500, 14))"
      ]
     },
     "execution_count": 17,
     "metadata": {},
     "output_type": "execute_result"
    }
   ],
   "source": [
    "train.shape, test.shape"
   ]
  },
  {
   "cell_type": "code",
   "execution_count": 41,
   "id": "320aea27",
   "metadata": {
    "ExecuteTime": {
     "end_time": "2022-08-18T15:19:02.866895Z",
     "start_time": "2022-08-18T15:19:02.829893Z"
    }
   },
   "outputs": [
    {
     "data": {
      "text/plain": [
       "((49999, 15), (39499, 15))"
      ]
     },
     "execution_count": 41,
     "metadata": {},
     "output_type": "execute_result"
    }
   ],
   "source": [
    "total = pd.concat([train, test], axis = 0) # concat total data, for na analysis\n",
    "total.shape, total[total[\"type\"] == \"train\"].shape"
   ]
  },
  {
   "cell_type": "code",
   "execution_count": 33,
   "id": "9757c45e",
   "metadata": {
    "ExecuteTime": {
     "end_time": "2022-08-18T15:12:31.520958Z",
     "start_time": "2022-08-18T15:12:31.249062Z"
    }
   },
   "outputs": [
    {
     "data": {
      "image/png": "[encoded data removed]",
      "text/plain": [
       "<Figure size 1512x504 with 3 Axes>"
      ]
     },
     "metadata": {},
     "output_type": "display_data"
    }
   ],
   "source": [
    "columns = [col for col in total.columns if (total[col].dtype != object) and (total[col].isnull().sum() > 0)]\n",
    "fig, (ax1, ax2, ax3) = plt.subplots(1, 3)\n",
    "\n",
    "for col, axs in zip(columns, (ax1, ax2, ax3)):\n",
    "    sns.boxplot(x = col, data = train, ax = axs)"
   ]
  },
  {
   "cell_type": "code",
   "execution_count": 42,
   "id": "0022d3d4",
   "metadata": {
    "ExecuteTime": {
     "end_time": "2022-08-18T15:19:06.701334Z",
     "start_time": "2022-08-18T15:19:06.644730Z"
    }
   },
   "outputs": [
    {
     "name": "stdout",
     "output_type": "stream",
     "text": [
      "Missing Value Analysis : Property_Type\n",
      " >> No Values NULL.\n",
      "Missing Value Analysis : Property_Area\n",
      " >> No Values NULL.\n",
      "Missing Value Analysis : Number_of_Windows\n",
      "Missing Value Analysis : Number_of_Doors\n",
      " >> No Values NULL.\n",
      "Missing Value Analysis : Furnishing\n",
      "Missing Value Analysis : Frequency_of_Powercuts\n",
      "Missing Value Analysis : Power_Backup\n",
      " >> No Values NULL.\n",
      "Missing Value Analysis : Water_Supply\n",
      " >> No Values NULL.\n",
      "Missing Value Analysis : Traffic_Density_Score\n",
      " >> No Values NULL.\n",
      "Missing Value Analysis : Crime_Rate\n",
      "Missing Value Analysis : Dust_and_Noise\n",
      "Missing Value Analysis : Air_Quality_Index\n",
      " >> No Values NULL.\n",
      "Missing Value Analysis : Neighborhood_Review\n",
      " >> No Values NULL.\n",
      "Missing Value Analysis : Habitability_score\n",
      "Missing Value Analysis : type\n",
      " >> No Values NULL.\n"
     ]
    },
    {
     "data": {
      "text/plain": [
       "{'Number_of_Windows': 3.918,\n",
       " 'Furnishing': 'Semi_Furnished',\n",
       " 'Frequency_of_Powercuts': 0.485,\n",
       " 'Crime_Rate': 'Well below average',\n",
       " 'Dust_and_Noise': 'Medium',\n",
       " 'Habitability_score': 73.482}"
      ]
     },
     "execution_count": 42,
     "metadata": {},
     "output_type": "execute_result"
    }
   ],
   "source": [
    "missing_value = dict()\n",
    "for col in total.columns:\n",
    "    print(f\"Missing Value Analysis : {col}\")\n",
    "    \n",
    "    if total[col].isnull().sum() > 0:\n",
    "        if total[col].dtype == object:\n",
    "            # calculate mode on the same, and append the value\n",
    "            missing_value[col] = mode(total[~total[col].isnull()][col].values)\n",
    "        else:\n",
    "            missing_value[col] = total[col].mean()\n",
    "    else:\n",
    "        print(\" >> No Values NULL.\")\n",
    "        \n",
    "missing_value"
   ]
  },
  {
   "cell_type": "code",
   "execution_count": 43,
   "id": "80901bd9",
   "metadata": {
    "ExecuteTime": {
     "end_time": "2022-08-18T15:19:09.340833Z",
     "start_time": "2022-08-18T15:19:09.316137Z"
    }
   },
   "outputs": [],
   "source": [
    "total.fillna(missing_value, inplace = True)"
   ]
  },
  {
   "cell_type": "code",
   "execution_count": 44,
   "id": "f9dc39d1",
   "metadata": {
    "ExecuteTime": {
     "end_time": "2022-08-18T15:19:10.914143Z",
     "start_time": "2022-08-18T15:19:10.236645Z"
    }
   },
   "outputs": [
    {
     "data": {
      "image/png": "[encoded data removed]",
      "text/plain": [
       "<Figure size 1512x504 with 2 Axes>"
      ]
     },
     "metadata": {},
     "output_type": "display_data"
    }
   ],
   "source": [
    "sns.heatmap(total.isnull(), cmap = \"viridis\", yticklabels = False)\n",
    "\n",
    "plt.suptitle(\"Missing Data Plot\")\n",
    "plt.show()"
   ]
  },
  {
   "cell_type": "code",
   "execution_count": 48,
   "id": "1231e113",
   "metadata": {
    "ExecuteTime": {
     "end_time": "2022-08-18T15:21:33.527381Z",
     "start_time": "2022-08-18T15:21:24.260580Z"
    }
   },
   "outputs": [],
   "source": [
    "total.to_excel(\"./dataset/total.xlsx\", sheet_name = \"no null\") # total data for analysis"
   ]
  }
 ],
 "metadata": {
  "kernelspec": {
   "display_name": "Python 3 (ipykernel)",
   "language": "python",
   "name": "python3"
  },
  "language_info": {
   "codemirror_mode": {
    "name": "ipython",
    "version": 3
   },
   "file_extension": ".py",
   "mimetype": "text/x-python",
   "name": "python",
   "nbconvert_exporter": "python",
   "pygments_lexer": "ipython3",
   "version": "3.9.12"
  },
  "latex_envs": {
   "LaTeX_envs_menu_present": true,
   "autoclose": false,
   "autocomplete": true,
   "bibliofile": "biblio.bib",
   "cite_by": "apalike",
   "current_citInitial": 1,
   "eqLabelWithNumbers": true,
   "eqNumInitial": 1,
   "hotkeys": {
    "equation": "Ctrl-E",
    "itemize": "Ctrl-I"
   },
   "labels_anchors": false,
   "latex_user_defs": false,
   "report_style_numbering": false,
   "user_envs_cfg": false
  },
  "toc": {
   "base_numbering": 1,
   "nav_menu": {},
   "number_sections": false,
   "sideBar": true,
   "skip_h1_title": true,
   "title_cell": "Table of Contents",
   "title_sidebar": "Contents",
   "toc_cell": false,
   "toc_position": {},
   "toc_section_display": true,
   "toc_window_display": false
  },
  "varInspector": {
   "cols": {
    "lenName": 16,
    "lenType": 16,
    "lenVar": 40
   },
   "kernels_config": {
    "python": {
     "delete_cmd_postfix": "",
     "delete_cmd_prefix": "del ",
     "library": "var_list.py",
     "varRefreshCmd": "print(var_dic_list())"
    },
    "r": {
     "delete_cmd_postfix": ") ",
     "delete_cmd_prefix": "rm(",
     "library": "var_list.r",
     "varRefreshCmd": "cat(var_dic_list()) "
    }
   },
   "types_to_exclude": [
    "module",
    "function",
    "builtin_function_or_method",
    "instance",
    "_Feature"
   ],
   "window_display": false
  }
 },
 "nbformat": 4,
 "nbformat_minor": 5
}
