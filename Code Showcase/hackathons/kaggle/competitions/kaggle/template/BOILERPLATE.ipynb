{
 "cells": [
  {
   "cell_type": "markdown",
   "metadata": {},
   "source": [
    "<h1 align = \"center\">BOILERPLATE</h1>\n",
    "\n",
    "---\n",
    "\n",
    "**Objective:** The file provides a simple *boilerplate* to concentrate on what is necessary, and stop doing same tasks! The boilerplate is also configured with certain [**nbextensions**](https://gitlab.com/ZenithClown/computer-configurations-and-setups) that I personally use. Install them, if required, else ignore them as they do not participate in any type of code-optimizations. For any new given competitions *edit* this file or `File > Make a Copy` to get started with the project. Some settings and configurations are already provided, as mentioned below.\n",
    "\n",
    "**Table of Contents**\n",
    "\n",
    "Generally, I use the [**`Table of Contents (2)`**](https://jupyter-contrib-nbextensions.readthedocs.io/en/latest/nbextensions/toc2/README.html) to easily create and manage my notebook sections. However, in the section some already *pre-defined* sections are explained:\n",
    " 1. **Code Imports** - As per [PEP8 Conventions](https://riptutorial.com/python/example/11956/pep8-rules-for-imports) all imports should be addressed at the beginning of the file. This section can be used for the same.\n",
    " 2. **Global Arguments** - The are defined to control the project flow - like defining a **`PROJECT_CODE`** which will serve as an identification for each sub-competitions.\n",
    " 3. **Read & Process Input File(s)** - Process input file(s) and prepare it for any ML/AI/Analysis model."
   ]
  },
  {
   "cell_type": "code",
   "execution_count": 11,
   "metadata": {
    "ExecuteTime": {
     "end_time": "2022-04-06T12:18:31.377215Z",
     "start_time": "2022-04-06T12:18:31.357912Z"
    },
    "deletable": false,
    "editable": false,
    "run_control": {
     "frozen": true
    }
   },
   "outputs": [
    {
     "data": {
      "text/plain": [
       "'development #semver-2.0.0'"
      ]
     },
     "execution_count": 11,
     "metadata": {},
     "output_type": "execute_result"
    }
   ],
   "source": [
    "# show current code version\n",
    "# use https://semver.org/\n",
    "# this file is kept to keep track of individual\n",
    "# project/competitions progress in check\n",
    "# the actual tag is represented as: <PROJECT_CODE>:<version>\n",
    "open(\"VERSION\", 'rt').read() # bump codecov"
   ]
  },
  {
   "cell_type": "markdown",
   "metadata": {},
   "source": [
    "## Code Imports\n",
    "\n",
    "**PEP8 Style Guide** lists out the following *guidelines* for imports:\n",
    " 1. Imports should be on separate lines,\n",
    " 2. Import order should be:\n",
    "    * standard library/modules,\n",
    "    * related third party imports,\n",
    "    * local application/user defined imports\n",
    " 3. Wildcard import (`*`) should be avoided, else specifically tagged with **`# noqa: F403`** as per `flake8`\n",
    " 4. Avoid using relative imports; use explicit imports instead.\n",
    " \n",
    "For more details, visit [here](https://peps.python.org/pep-0008/#imports) for more information. Note, that actual `flake8` file is currently missing from the template, and will be later added if required. In addition, `logging` module is imported and configured.\n",
    "\n",
    "[**`logging`**](https://docs.python.org/3/howto/logging.html) is a standard python module that is meant for tracking any events that happen during any software/code operations. This module is super powerful and helpful for code debugging and other purposes. The next section defines a `logging` configuration in **`/logs/`** directory. Each project is separated as `<PROJECT_CODE>/<VERSION>/<DATE>.log` file. The directory is automatically created, if not available. Use logging operations like:\n",
    "\n",
    "```python\n",
    " >> logging.debug(\"This is a Debug Message.\")\n",
    " >> logging.info(\"This is a Information Message.\")\n",
    " >> logging.warning(\"This is a Warning Message.\")\n",
    " >> logging.error(\"This is a ERROR Message.\")\n",
    " >> logging.critical(\"This is a CRITICAL Message.\")\n",
    "```"
   ]
  },
  {
   "cell_type": "code",
   "execution_count": 6,
   "metadata": {
    "ExecuteTime": {
     "end_time": "2022-04-06T12:15:01.830683Z",
     "start_time": "2022-04-06T12:15:01.809734Z"
    },
    "deletable": false,
    "editable": false
   },
   "outputs": [],
   "source": [
    "import logging # configure logging on `global arguments` section"
   ]
  },
  {
   "cell_type": "code",
   "execution_count": 4,
   "metadata": {
    "ExecuteTime": {
     "end_time": "2022-04-06T12:07:49.178251Z",
     "start_time": "2022-04-06T12:07:49.154248Z"
    }
   },
   "outputs": [],
   "source": [
    "from time import ctime # will be used in logging, file/output directory create etc.\n",
    "from os import makedirs # create directories dynamically, if not already done so manually\n",
    "from os.path import join # keep directories `os`-independent\n",
    "from copy import deepcopy # `pd.Dataframe` is mutable, so any `df` operation may need `deepcopy`\n",
    "from tqdm import tqdm as TQ # provide progress bar for code completions\n",
    "from uuid import uuid1 as UUID # keep output file name unique\n",
    "from datetime import datetime as dt # formatting datetime objects"
   ]
  },
  {
   "cell_type": "code",
   "execution_count": 5,
   "metadata": {
    "ExecuteTime": {
     "end_time": "2022-04-06T12:07:51.698403Z",
     "start_time": "2022-04-06T12:07:51.393684Z"
    }
   },
   "outputs": [],
   "source": [
    "# import numpy as np\n",
    "import pandas as pd"
   ]
  },
  {
   "cell_type": "markdown",
   "metadata": {},
   "source": [
    "## Define Global Arguments"
   ]
  },
  {
   "cell_type": "code",
   "execution_count": 7,
   "metadata": {
    "ExecuteTime": {
     "end_time": "2022-04-06T12:15:52.909819Z",
     "start_time": "2022-04-06T12:15:52.904551Z"
    },
    "deletable": false,
    "editable": false
   },
   "outputs": [],
   "source": [
    "# a single project can have multiple sub-projects and/or output\n",
    "# generally, each sub-project has it's own `notebook` and code files\n",
    "# use the `PROJECT_CODE` tag to create a directory of the format\n",
    "# <execution date>/<PROJECT_CODE> thus giving an unique identity for\n",
    "# each run of code. Once defined, keep this code same throughout.\n",
    "# this code can also be used for keeping track on progress per\n",
    "# sub-project level.\n",
    "PROJECT_CODE = \"BOILERPLATE\""
   ]
  },
  {
   "cell_type": "code",
   "execution_count": 8,
   "metadata": {
    "ExecuteTime": {
     "end_time": "2022-04-06T12:16:19.805152Z",
     "start_time": "2022-04-06T12:16:19.785819Z"
    }
   },
   "outputs": [],
   "source": [
    "ROOT = \".\" # current directory\n",
    "DATA = join(ROOT, \"data\")"
   ]
  },
  {
   "cell_type": "code",
   "execution_count": 9,
   "metadata": {
    "ExecuteTime": {
     "end_time": "2022-04-06T12:17:31.629915Z",
     "start_time": "2022-04-06T12:17:31.608978Z"
    },
    "deletable": false,
    "editable": false
   },
   "outputs": [
    {
     "name": "stdout",
     "output_type": "stream",
     "text": [
      "Code Execution Started on: Wed, Apr 06 2022\n"
     ]
    }
   ],
   "source": [
    "# define output directory\n",
    "# this is defined on current date\n",
    "# `today` is so configured that it permits windows/*.nix file/directory names\n",
    "today = dt.strftime(dt.strptime(ctime(), \"%a %b %d %H:%M:%S %Y\"), \"%a, %b %d %Y\")\n",
    "\n",
    "print(f\"Code Execution Started on: {today}\") # only date"
   ]
  },
  {
   "cell_type": "code",
   "execution_count": 12,
   "metadata": {
    "ExecuteTime": {
     "end_time": "2022-04-06T12:20:39.109814Z",
     "start_time": "2022-04-06T12:20:39.089107Z"
    },
    "deletable": false,
    "editable": false
   },
   "outputs": [],
   "source": [
    "OUTPUT_DIR = join(ROOT, \"output\", today, PROJECT_CODE)\n",
    "makedirs(OUTPUT_DIR, exist_ok = True) # create dir if not exist\n",
    "\n",
    "# also create directory for `logs`\n",
    "LOGS_DIR = join(\"/\", \"logs\", PROJECT_CODE, open(\"VERSION\", 'rt').read())\n",
    "makedirs(LOGS_DIR, exist_ok = True)"
   ]
  },
  {
   "cell_type": "code",
   "execution_count": 13,
   "metadata": {
    "ExecuteTime": {
     "end_time": "2022-04-06T12:21:21.595779Z",
     "start_time": "2022-04-06T12:21:21.578171Z"
    },
    "deletable": false,
    "editable": false
   },
   "outputs": [],
   "source": [
    "logging.basicConfig(\n",
    "    filename = join(LOGS_DIR, f\"{today}.log\"), # change `reports` file name\n",
    "    filemode = \"a\", # append logs to existing file, if file exists\n",
    "    format = \"%(asctime)s - %(name)s - CLASS:%(levelname)s:%(levelno)s:L#%(lineno)d - %(message)s\",\n",
    "    level = logging.DEBUG\n",
    ")"
   ]
  },
  {
   "cell_type": "code",
   "execution_count": 14,
   "metadata": {
    "ExecuteTime": {
     "end_time": "2022-04-06T12:21:36.936294Z",
     "start_time": "2022-04-06T12:21:36.928277Z"
    }
   },
   "outputs": [
    {
     "name": "stdout",
     "output_type": "stream",
     "text": [
      "Output File : .\\output\\Wed, Apr 06 2022\\BOILERPLATE\\1ab9acd9-b5a4-11ec-92d7-5405db104a4e.xlsx\n"
     ]
    }
   ],
   "source": [
    "# set/change output file name\n",
    "OUTPUT_FILE = f\"{UUID()}.xlsx\" # randomly generate names\n",
    "\n",
    "# log/inform users of current output file name\n",
    "logging.info(f\"Output File : {join(OUTPUT_DIR, OUTPUT_FILE)}\")\n",
    "print(f\"Output File : {join(OUTPUT_DIR, OUTPUT_FILE)}\") # use this syntax"
   ]
  },
  {
   "cell_type": "code",
   "execution_count": 10,
   "metadata": {},
   "outputs": [],
   "source": [
    "INPUT_FILENAME = join(DATA, \"<give-file-name-here-with-extension>\")"
   ]
  },
  {
   "cell_type": "markdown",
   "metadata": {},
   "source": [
    "## Read & Process Input File(s)"
   ]
  },
  {
   "cell_type": "code",
   "execution_count": null,
   "metadata": {},
   "outputs": [],
   "source": [
    "data = pd.read_excel(INPUT_FILENAME)\n",
    "data.sample()"
   ]
  }
 ],
 "metadata": {
  "hide_input": false,
  "kernelspec": {
   "display_name": "Python 3 (ipykernel)",
   "language": "python",
   "name": "python3"
  },
  "language_info": {
   "codemirror_mode": {
    "name": "ipython",
    "version": 3
   },
   "file_extension": ".py",
   "mimetype": "text/x-python",
   "name": "python",
   "nbconvert_exporter": "python",
   "pygments_lexer": "ipython3",
   "version": "3.9.7"
  },
  "latex_envs": {
   "LaTeX_envs_menu_present": true,
   "autoclose": true,
   "autocomplete": true,
   "bibliofile": "biblio.bib",
   "cite_by": "apalike",
   "current_citInitial": 1,
   "eqLabelWithNumbers": true,
   "eqNumInitial": 1,
   "hotkeys": {
    "equation": "Ctrl-E",
    "itemize": "Ctrl-I"
   },
   "labels_anchors": false,
   "latex_user_defs": false,
   "report_style_numbering": false,
   "user_envs_cfg": false
  },
  "toc": {
   "base_numbering": 1,
   "nav_menu": {},
   "number_sections": false,
   "sideBar": true,
   "skip_h1_title": true,
   "title_cell": "Table of Contents",
   "title_sidebar": "Contents",
   "toc_cell": false,
   "toc_position": {},
   "toc_section_display": true,
   "toc_window_display": false
  },
  "varInspector": {
   "cols": {
    "lenName": 16,
    "lenType": 16,
    "lenVar": 40
   },
   "kernels_config": {
    "python": {
     "delete_cmd_postfix": "",
     "delete_cmd_prefix": "del ",
     "library": "var_list.py",
     "varRefreshCmd": "print(var_dic_list())"
    },
    "r": {
     "delete_cmd_postfix": ") ",
     "delete_cmd_prefix": "rm(",
     "library": "var_list.r",
     "varRefreshCmd": "cat(var_dic_list()) "
    }
   },
   "types_to_exclude": [
    "module",
    "function",
    "builtin_function_or_method",
    "instance",
    "_Feature"
   ],
   "window_display": false
  }
 },
 "nbformat": 4,
 "nbformat_minor": 2
}
