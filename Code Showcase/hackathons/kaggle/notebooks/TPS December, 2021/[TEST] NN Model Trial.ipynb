{
 "cells": [
  {
   "cell_type": "code",
   "execution_count": 1,
   "metadata": {
    "ExecuteTime": {
     "end_time": "2021-12-16T08:20:16.428772Z",
     "start_time": "2021-12-16T08:20:16.224193Z"
    }
   },
   "outputs": [],
   "source": [
    "from os.path import join\n",
    "from copy import deepcopy\n",
    "from tqdm import tqdm as TQ"
   ]
  },
  {
   "cell_type": "code",
   "execution_count": 2,
   "metadata": {
    "ExecuteTime": {
     "end_time": "2021-12-16T08:20:31.508811Z",
     "start_time": "2021-12-16T08:20:16.428772Z"
    }
   },
   "outputs": [],
   "source": [
    "import numpy as np\n",
    "import pandas as pd\n",
    "import seaborn as sns\n",
    "import matplotlib.pyplot as plt\n",
    "\n",
    "%precision 3\n",
    "%matplotlib inline\n",
    "sns.set_style('whitegrid');\n",
    "plt.style.use('default-style');\n",
    "np.set_printoptions(precision = 3, threshold = 15)"
   ]
  },
  {
   "cell_type": "code",
   "execution_count": 3,
   "metadata": {
    "ExecuteTime": {
     "end_time": "2021-12-16T08:20:31.524917Z",
     "start_time": "2021-12-16T08:20:31.508811Z"
    }
   },
   "outputs": [],
   "source": [
    "# ignore specific warnings\n",
    "import warnings\n",
    "warnings.simplefilter(\"ignore\", FutureWarning)"
   ]
  },
  {
   "cell_type": "code",
   "execution_count": 4,
   "metadata": {
    "ExecuteTime": {
     "end_time": "2021-12-16T08:20:32.397388Z",
     "start_time": "2021-12-16T08:20:31.526843Z"
    }
   },
   "outputs": [],
   "source": [
    "from sklearn.preprocessing import (\n",
    "    MinMaxScaler,\n",
    "    LabelEncoder\n",
    ")"
   ]
  },
  {
   "cell_type": "code",
   "execution_count": 5,
   "metadata": {
    "ExecuteTime": {
     "end_time": "2021-12-16T08:20:53.932048Z",
     "start_time": "2021-12-16T08:20:32.397388Z"
    }
   },
   "outputs": [
    {
     "name": "stdout",
     "output_type": "stream",
     "text": [
      "Tensorflow Version: 2.3.1\n"
     ]
    },
    {
     "data": {
      "text/plain": [
       "[PhysicalDevice(name='/physical_device:CPU:0', device_type='CPU'),\n",
       " PhysicalDevice(name='/physical_device:XLA_CPU:0', device_type='XLA_CPU'),\n",
       " PhysicalDevice(name='/physical_device:GPU:0', device_type='GPU'),\n",
       " PhysicalDevice(name='/physical_device:XLA_GPU:0', device_type='XLA_GPU')]"
      ]
     },
     "execution_count": 5,
     "metadata": {},
     "output_type": "execute_result"
    }
   ],
   "source": [
    "import tensorflow as tf\n",
    "print('Tensorflow Version: {}'.format(tf.__version__))\n",
    "\n",
    "# check physical devices\n",
    "tf.config.list_physical_devices()"
   ]
  },
  {
   "cell_type": "code",
   "execution_count": 6,
   "metadata": {
    "ExecuteTime": {
     "end_time": "2021-12-16T08:20:53.947081Z",
     "start_time": "2021-12-16T08:20:53.933047Z"
    }
   },
   "outputs": [],
   "source": [
    "# https://www.analyticsvidhya.com/blog/2021/04/how-to-reduce-memory-usage-in-python-pandas/\n",
    "# https://towardsdatascience.com/reducing-memory-usage-in-pandas-with-smaller-datatypes-b527635830af\n",
    "\n",
    "calculateMemory = lambda frame : frame.memory_usage(deep = True).sum() / 1024 ** 2 # return usage in MB\n",
    "\n",
    "def limitNumeric(frame : pd.DataFrame, verbose : bool = True) -> pd.DataFrame:\n",
    "    \"\"\"Given a DataFrame (frame) - the function considers each numeric columns (integer and/or float) and sets the data type to any of `np.dtypes` to Reduce Memory Usage\"\"\"\n",
    "    \n",
    "    if verbose:\n",
    "        actual = calculateMemory(frame)\n",
    "    \n",
    "    frame = deepcopy(frame)\n",
    "    \n",
    "    # foreach column calculate the min and max value\n",
    "    # and map the data to its relevant unit category - int8, int16, int32 or int64\n",
    "    # by default - pandas treats each numeric column to its highest number base - int64/float64\n",
    "    for col in TQ(frame.columns, desc = \"converting dtypes\"):\n",
    "        c_min = frame[col].min()\n",
    "        c_max = frame[col].max()\n",
    "        \n",
    "        if c_min > np.iinfo(np.int8).min and c_max <= np.iinfo(np.int8).max:\n",
    "            frame[col] = frame[col].astype(np.int8)\n",
    "        elif c_min > np.iinfo(np.int16).min and c_max <= np.iinfo(np.int16).max:\n",
    "            frame[col] = frame[col].astype(np.int16)\n",
    "        if c_min > np.iinfo(np.int32).min and c_max <= np.iinfo(np.int32).max:\n",
    "            frame[col] = frame[col].astype(np.int32)\n",
    "        else:\n",
    "            frame[col] = frame[col].astype(np.int64)\n",
    "            \n",
    "    if verbose:\n",
    "        final = calculateMemory(frame)\n",
    "        print(f\"Actual Size : {actual:.2f} MB | Final Size : {final:.2f} MB || Reduction Ration = {((actual - final) / actual) * 100:.2f}%\")\n",
    "        \n",
    "    return frame"
   ]
  },
  {
   "cell_type": "markdown",
   "metadata": {},
   "source": [
    "#### Loading Data"
   ]
  },
  {
   "cell_type": "code",
   "execution_count": 7,
   "metadata": {
    "ExecuteTime": {
     "end_time": "2021-12-16T08:20:53.962962Z",
     "start_time": "2021-12-16T08:20:53.948956Z"
    }
   },
   "outputs": [],
   "source": [
    "TRAIN_DATA = join(\".\", \"output\", \"trainSynthesized.csv\")\n",
    "EVALUATION_DATA = join(\".\", \"output\", \"testAddedFeatures.csv\")"
   ]
  },
  {
   "cell_type": "code",
   "execution_count": 34,
   "metadata": {
    "ExecuteTime": {
     "end_time": "2021-12-16T09:09:43.299054Z",
     "start_time": "2021-12-16T09:08:56.281234Z"
    }
   },
   "outputs": [
    {
     "name": "stderr",
     "output_type": "stream",
     "text": [
      "converting dtypes: 100%|████████████████████████████████████████████████████████████████████████████████████████████████████████████████████████████████████| 58/58 [00:23<00:00,  2.44it/s]\n"
     ]
    },
    {
     "name": "stdout",
     "output_type": "stream",
     "text": [
      "Actual Size : 2516.85 MB | Final Size : 1258.42 MB || Reduction Ration = 50.00%\n"
     ]
    },
    {
     "data": {
      "text/html": [
       "<div>\n",
       "<style scoped>\n",
       "    .dataframe tbody tr th:only-of-type {\n",
       "        vertical-align: middle;\n",
       "    }\n",
       "\n",
       "    .dataframe tbody tr th {\n",
       "        vertical-align: top;\n",
       "    }\n",
       "\n",
       "    .dataframe thead th {\n",
       "        text-align: right;\n",
       "    }\n",
       "</style>\n",
       "<table border=\"1\" class=\"dataframe\">\n",
       "  <thead>\n",
       "    <tr style=\"text-align: right;\">\n",
       "      <th></th>\n",
       "      <th>Elevation</th>\n",
       "      <th>Aspect</th>\n",
       "      <th>Slope</th>\n",
       "      <th>Horizontal_Distance_To_Hydrology</th>\n",
       "      <th>Vertical_Distance_To_Hydrology</th>\n",
       "      <th>Horizontal_Distance_To_Roadways</th>\n",
       "      <th>Hillshade_9am</th>\n",
       "      <th>Hillshade_Noon</th>\n",
       "      <th>Hillshade_3pm</th>\n",
       "      <th>Horizontal_Distance_To_Fire_Points</th>\n",
       "      <th>...</th>\n",
       "      <th>Soil_Type35</th>\n",
       "      <th>Soil_Type36</th>\n",
       "      <th>Soil_Type37</th>\n",
       "      <th>Soil_Type38</th>\n",
       "      <th>Soil_Type39</th>\n",
       "      <th>Soil_Type40</th>\n",
       "      <th>distance</th>\n",
       "      <th>soil_type_count</th>\n",
       "      <th>wilderness_area_count</th>\n",
       "      <th>Cover_Type</th>\n",
       "    </tr>\n",
       "  </thead>\n",
       "  <tbody>\n",
       "    <tr>\n",
       "      <th>0</th>\n",
       "      <td>2017</td>\n",
       "      <td>345</td>\n",
       "      <td>26</td>\n",
       "      <td>136</td>\n",
       "      <td>155</td>\n",
       "      <td>1341</td>\n",
       "      <td>108</td>\n",
       "      <td>178</td>\n",
       "      <td>161</td>\n",
       "      <td>652</td>\n",
       "      <td>...</td>\n",
       "      <td>0</td>\n",
       "      <td>0</td>\n",
       "      <td>0</td>\n",
       "      <td>0</td>\n",
       "      <td>0</td>\n",
       "      <td>0</td>\n",
       "      <td>206</td>\n",
       "      <td>1</td>\n",
       "      <td>1</td>\n",
       "      <td>3</td>\n",
       "    </tr>\n",
       "    <tr>\n",
       "      <th>1</th>\n",
       "      <td>2327</td>\n",
       "      <td>335</td>\n",
       "      <td>27</td>\n",
       "      <td>162</td>\n",
       "      <td>59</td>\n",
       "      <td>133</td>\n",
       "      <td>147</td>\n",
       "      <td>144</td>\n",
       "      <td>173</td>\n",
       "      <td>383</td>\n",
       "      <td>...</td>\n",
       "      <td>0</td>\n",
       "      <td>0</td>\n",
       "      <td>0</td>\n",
       "      <td>0</td>\n",
       "      <td>0</td>\n",
       "      <td>0</td>\n",
       "      <td>172</td>\n",
       "      <td>1</td>\n",
       "      <td>1</td>\n",
       "      <td>3</td>\n",
       "    </tr>\n",
       "    <tr>\n",
       "      <th>2</th>\n",
       "      <td>2089</td>\n",
       "      <td>309</td>\n",
       "      <td>20</td>\n",
       "      <td>226</td>\n",
       "      <td>97</td>\n",
       "      <td>911</td>\n",
       "      <td>164</td>\n",
       "      <td>216</td>\n",
       "      <td>212</td>\n",
       "      <td>621</td>\n",
       "      <td>...</td>\n",
       "      <td>0</td>\n",
       "      <td>0</td>\n",
       "      <td>0</td>\n",
       "      <td>0</td>\n",
       "      <td>0</td>\n",
       "      <td>0</td>\n",
       "      <td>245</td>\n",
       "      <td>1</td>\n",
       "      <td>1</td>\n",
       "      <td>3</td>\n",
       "    </tr>\n",
       "    <tr>\n",
       "      <th>3</th>\n",
       "      <td>2171</td>\n",
       "      <td>339</td>\n",
       "      <td>34</td>\n",
       "      <td>141</td>\n",
       "      <td>112</td>\n",
       "      <td>1385</td>\n",
       "      <td>161</td>\n",
       "      <td>198</td>\n",
       "      <td>180</td>\n",
       "      <td>1085</td>\n",
       "      <td>...</td>\n",
       "      <td>0</td>\n",
       "      <td>0</td>\n",
       "      <td>0</td>\n",
       "      <td>0</td>\n",
       "      <td>0</td>\n",
       "      <td>0</td>\n",
       "      <td>180</td>\n",
       "      <td>1</td>\n",
       "      <td>1</td>\n",
       "      <td>3</td>\n",
       "    </tr>\n",
       "    <tr>\n",
       "      <th>4</th>\n",
       "      <td>2211</td>\n",
       "      <td>274</td>\n",
       "      <td>24</td>\n",
       "      <td>263</td>\n",
       "      <td>65</td>\n",
       "      <td>1158</td>\n",
       "      <td>172</td>\n",
       "      <td>236</td>\n",
       "      <td>220</td>\n",
       "      <td>977</td>\n",
       "      <td>...</td>\n",
       "      <td>0</td>\n",
       "      <td>0</td>\n",
       "      <td>0</td>\n",
       "      <td>0</td>\n",
       "      <td>0</td>\n",
       "      <td>0</td>\n",
       "      <td>270</td>\n",
       "      <td>1</td>\n",
       "      <td>1</td>\n",
       "      <td>3</td>\n",
       "    </tr>\n",
       "  </tbody>\n",
       "</table>\n",
       "<p>5 rows × 58 columns</p>\n",
       "</div>"
      ],
      "text/plain": [
       "   Elevation  Aspect  Slope  Horizontal_Distance_To_Hydrology  \\\n",
       "0       2017     345     26                               136   \n",
       "1       2327     335     27                               162   \n",
       "2       2089     309     20                               226   \n",
       "3       2171     339     34                               141   \n",
       "4       2211     274     24                               263   \n",
       "\n",
       "   Vertical_Distance_To_Hydrology  Horizontal_Distance_To_Roadways  \\\n",
       "0                             155                             1341   \n",
       "1                              59                              133   \n",
       "2                              97                              911   \n",
       "3                             112                             1385   \n",
       "4                              65                             1158   \n",
       "\n",
       "   Hillshade_9am  Hillshade_Noon  Hillshade_3pm  \\\n",
       "0            108             178            161   \n",
       "1            147             144            173   \n",
       "2            164             216            212   \n",
       "3            161             198            180   \n",
       "4            172             236            220   \n",
       "\n",
       "   Horizontal_Distance_To_Fire_Points  ...  Soil_Type35  Soil_Type36  \\\n",
       "0                                 652  ...            0            0   \n",
       "1                                 383  ...            0            0   \n",
       "2                                 621  ...            0            0   \n",
       "3                                1085  ...            0            0   \n",
       "4                                 977  ...            0            0   \n",
       "\n",
       "   Soil_Type37  Soil_Type38  Soil_Type39  Soil_Type40  distance  \\\n",
       "0            0            0            0            0       206   \n",
       "1            0            0            0            0       172   \n",
       "2            0            0            0            0       245   \n",
       "3            0            0            0            0       180   \n",
       "4            0            0            0            0       270   \n",
       "\n",
       "   soil_type_count  wilderness_area_count  Cover_Type  \n",
       "0                1                      1           3  \n",
       "1                1                      1           3  \n",
       "2                1                      1           3  \n",
       "3                1                      1           3  \n",
       "4                1                      1           3  \n",
       "\n",
       "[5 rows x 58 columns]"
      ]
     },
     "execution_count": 34,
     "metadata": {},
     "output_type": "execute_result"
    }
   ],
   "source": [
    "dataTrain = pd.read_csv(TRAIN_DATA)\n",
    "dataTrain = limitNumeric(dataTrain)\n",
    "\n",
    "dataTrain.head()"
   ]
  },
  {
   "cell_type": "code",
   "execution_count": 35,
   "metadata": {
    "ExecuteTime": {
     "end_time": "2021-12-16T09:09:53.049353Z",
     "start_time": "2021-12-16T09:09:44.201390Z"
    }
   },
   "outputs": [
    {
     "name": "stderr",
     "output_type": "stream",
     "text": [
      "converting dtypes: 100%|████████████████████████████████████████████████████████████████████████████████████████████████████████████████████████████████████| 57/57 [00:03<00:00, 15.43it/s]\n"
     ]
    },
    {
     "name": "stdout",
     "output_type": "stream",
     "text": [
      "Actual Size : 434.88 MB | Final Size : 217.44 MB || Reduction Ration = 50.00%\n"
     ]
    },
    {
     "data": {
      "text/html": [
       "<div>\n",
       "<style scoped>\n",
       "    .dataframe tbody tr th:only-of-type {\n",
       "        vertical-align: middle;\n",
       "    }\n",
       "\n",
       "    .dataframe tbody tr th {\n",
       "        vertical-align: top;\n",
       "    }\n",
       "\n",
       "    .dataframe thead th {\n",
       "        text-align: right;\n",
       "    }\n",
       "</style>\n",
       "<table border=\"1\" class=\"dataframe\">\n",
       "  <thead>\n",
       "    <tr style=\"text-align: right;\">\n",
       "      <th></th>\n",
       "      <th>Elevation</th>\n",
       "      <th>Aspect</th>\n",
       "      <th>Slope</th>\n",
       "      <th>Horizontal_Distance_To_Hydrology</th>\n",
       "      <th>Vertical_Distance_To_Hydrology</th>\n",
       "      <th>Horizontal_Distance_To_Roadways</th>\n",
       "      <th>Hillshade_9am</th>\n",
       "      <th>Hillshade_Noon</th>\n",
       "      <th>Hillshade_3pm</th>\n",
       "      <th>Horizontal_Distance_To_Fire_Points</th>\n",
       "      <th>...</th>\n",
       "      <th>Soil_Type34</th>\n",
       "      <th>Soil_Type35</th>\n",
       "      <th>Soil_Type36</th>\n",
       "      <th>Soil_Type37</th>\n",
       "      <th>Soil_Type38</th>\n",
       "      <th>Soil_Type39</th>\n",
       "      <th>Soil_Type40</th>\n",
       "      <th>distance</th>\n",
       "      <th>soil_type_count</th>\n",
       "      <th>wilderness_area_count</th>\n",
       "    </tr>\n",
       "  </thead>\n",
       "  <tbody>\n",
       "    <tr>\n",
       "      <th>0</th>\n",
       "      <td>2763</td>\n",
       "      <td>78</td>\n",
       "      <td>20</td>\n",
       "      <td>377</td>\n",
       "      <td>88</td>\n",
       "      <td>3104</td>\n",
       "      <td>218</td>\n",
       "      <td>213</td>\n",
       "      <td>195</td>\n",
       "      <td>1931</td>\n",
       "      <td>...</td>\n",
       "      <td>0</td>\n",
       "      <td>0</td>\n",
       "      <td>0</td>\n",
       "      <td>0</td>\n",
       "      <td>0</td>\n",
       "      <td>0</td>\n",
       "      <td>0</td>\n",
       "      <td>387</td>\n",
       "      <td>0</td>\n",
       "      <td>0</td>\n",
       "    </tr>\n",
       "    <tr>\n",
       "      <th>1</th>\n",
       "      <td>2826</td>\n",
       "      <td>153</td>\n",
       "      <td>11</td>\n",
       "      <td>264</td>\n",
       "      <td>39</td>\n",
       "      <td>295</td>\n",
       "      <td>219</td>\n",
       "      <td>238</td>\n",
       "      <td>148</td>\n",
       "      <td>2557</td>\n",
       "      <td>...</td>\n",
       "      <td>0</td>\n",
       "      <td>0</td>\n",
       "      <td>0</td>\n",
       "      <td>0</td>\n",
       "      <td>0</td>\n",
       "      <td>0</td>\n",
       "      <td>0</td>\n",
       "      <td>266</td>\n",
       "      <td>1</td>\n",
       "      <td>0</td>\n",
       "    </tr>\n",
       "    <tr>\n",
       "      <th>2</th>\n",
       "      <td>2948</td>\n",
       "      <td>57</td>\n",
       "      <td>19</td>\n",
       "      <td>56</td>\n",
       "      <td>44</td>\n",
       "      <td>852</td>\n",
       "      <td>202</td>\n",
       "      <td>217</td>\n",
       "      <td>163</td>\n",
       "      <td>1803</td>\n",
       "      <td>...</td>\n",
       "      <td>0</td>\n",
       "      <td>0</td>\n",
       "      <td>0</td>\n",
       "      <td>0</td>\n",
       "      <td>0</td>\n",
       "      <td>0</td>\n",
       "      <td>0</td>\n",
       "      <td>71</td>\n",
       "      <td>1</td>\n",
       "      <td>0</td>\n",
       "    </tr>\n",
       "    <tr>\n",
       "      <th>3</th>\n",
       "      <td>2926</td>\n",
       "      <td>119</td>\n",
       "      <td>6</td>\n",
       "      <td>158</td>\n",
       "      <td>134</td>\n",
       "      <td>2136</td>\n",
       "      <td>234</td>\n",
       "      <td>240</td>\n",
       "      <td>142</td>\n",
       "      <td>857</td>\n",
       "      <td>...</td>\n",
       "      <td>0</td>\n",
       "      <td>0</td>\n",
       "      <td>0</td>\n",
       "      <td>0</td>\n",
       "      <td>0</td>\n",
       "      <td>0</td>\n",
       "      <td>0</td>\n",
       "      <td>207</td>\n",
       "      <td>0</td>\n",
       "      <td>2</td>\n",
       "    </tr>\n",
       "    <tr>\n",
       "      <th>4</th>\n",
       "      <td>2690</td>\n",
       "      <td>10</td>\n",
       "      <td>4</td>\n",
       "      <td>38</td>\n",
       "      <td>108</td>\n",
       "      <td>3589</td>\n",
       "      <td>213</td>\n",
       "      <td>221</td>\n",
       "      <td>229</td>\n",
       "      <td>431</td>\n",
       "      <td>...</td>\n",
       "      <td>0</td>\n",
       "      <td>0</td>\n",
       "      <td>0</td>\n",
       "      <td>0</td>\n",
       "      <td>0</td>\n",
       "      <td>0</td>\n",
       "      <td>0</td>\n",
       "      <td>114</td>\n",
       "      <td>1</td>\n",
       "      <td>1</td>\n",
       "    </tr>\n",
       "  </tbody>\n",
       "</table>\n",
       "<p>5 rows × 57 columns</p>\n",
       "</div>"
      ],
      "text/plain": [
       "   Elevation  Aspect  Slope  Horizontal_Distance_To_Hydrology  \\\n",
       "0       2763      78     20                               377   \n",
       "1       2826     153     11                               264   \n",
       "2       2948      57     19                                56   \n",
       "3       2926     119      6                               158   \n",
       "4       2690      10      4                                38   \n",
       "\n",
       "   Vertical_Distance_To_Hydrology  Horizontal_Distance_To_Roadways  \\\n",
       "0                              88                             3104   \n",
       "1                              39                              295   \n",
       "2                              44                              852   \n",
       "3                             134                             2136   \n",
       "4                             108                             3589   \n",
       "\n",
       "   Hillshade_9am  Hillshade_Noon  Hillshade_3pm  \\\n",
       "0            218             213            195   \n",
       "1            219             238            148   \n",
       "2            202             217            163   \n",
       "3            234             240            142   \n",
       "4            213             221            229   \n",
       "\n",
       "   Horizontal_Distance_To_Fire_Points  ...  Soil_Type34  Soil_Type35  \\\n",
       "0                                1931  ...            0            0   \n",
       "1                                2557  ...            0            0   \n",
       "2                                1803  ...            0            0   \n",
       "3                                 857  ...            0            0   \n",
       "4                                 431  ...            0            0   \n",
       "\n",
       "   Soil_Type36  Soil_Type37  Soil_Type38  Soil_Type39  Soil_Type40  distance  \\\n",
       "0            0            0            0            0            0       387   \n",
       "1            0            0            0            0            0       266   \n",
       "2            0            0            0            0            0        71   \n",
       "3            0            0            0            0            0       207   \n",
       "4            0            0            0            0            0       114   \n",
       "\n",
       "   soil_type_count  wilderness_area_count  \n",
       "0                0                      0  \n",
       "1                1                      0  \n",
       "2                1                      0  \n",
       "3                0                      2  \n",
       "4                1                      1  \n",
       "\n",
       "[5 rows x 57 columns]"
      ]
     },
     "execution_count": 35,
     "metadata": {},
     "output_type": "execute_result"
    }
   ],
   "source": [
    "dataTest = pd.read_csv(EVALUATION_DATA)\n",
    "dataTest = limitNumeric(dataTest)\n",
    "\n",
    "dataTest.head()"
   ]
  },
  {
   "cell_type": "markdown",
   "metadata": {},
   "source": [
    "#### Feature Engineering"
   ]
  },
  {
   "cell_type": "code",
   "execution_count": 36,
   "metadata": {
    "ExecuteTime": {
     "end_time": "2021-12-16T09:09:58.470439Z",
     "start_time": "2021-12-16T09:09:56.896365Z"
    }
   },
   "outputs": [],
   "source": [
    "X = dataTrain.drop(columns = \"Cover_Type\")\n",
    "y = dataTrain.Cover_Type"
   ]
  },
  {
   "cell_type": "code",
   "execution_count": 37,
   "metadata": {
    "ExecuteTime": {
     "end_time": "2021-12-16T09:09:58.973628Z",
     "start_time": "2021-12-16T09:09:58.960084Z"
    }
   },
   "outputs": [],
   "source": [
    "scaler = MinMaxScaler()\n",
    "encoder = LabelEncoder()"
   ]
  },
  {
   "cell_type": "code",
   "execution_count": 38,
   "metadata": {
    "ExecuteTime": {
     "end_time": "2021-12-16T09:10:02.422168Z",
     "start_time": "2021-12-16T09:09:59.380277Z"
    }
   },
   "outputs": [],
   "source": [
    "XScaled = scaler.fit_transform(X)\n",
    "yScaled = encoder.fit_transform(y)"
   ]
  },
  {
   "cell_type": "code",
   "execution_count": 39,
   "metadata": {
    "ExecuteTime": {
     "end_time": "2021-12-16T09:10:03.335962Z",
     "start_time": "2021-12-16T09:10:02.875049Z"
    }
   },
   "outputs": [],
   "source": [
    "testScaled = scaler.transform(dataTest)"
   ]
  },
  {
   "cell_type": "markdown",
   "metadata": {},
   "source": [
    "#### Creating Model"
   ]
  },
  {
   "cell_type": "code",
   "execution_count": 40,
   "metadata": {
    "ExecuteTime": {
     "end_time": "2021-12-16T09:10:08.775916Z",
     "start_time": "2021-12-16T09:10:08.759912Z"
    }
   },
   "outputs": [
    {
     "data": {
      "text/plain": [
       "(57, 7)"
      ]
     },
     "execution_count": 40,
     "metadata": {},
     "output_type": "execute_result"
    }
   ],
   "source": [
    "INPUT_SHAPE = XScaled.shape[1]\n",
    "OUTPUT_SHAPE = encoder.classes_.shape[0]\n",
    "\n",
    "INPUT_SHAPE, OUTPUT_SHAPE"
   ]
  },
  {
   "cell_type": "code",
   "execution_count": 51,
   "metadata": {
    "ExecuteTime": {
     "end_time": "2021-12-16T09:31:51.360140Z",
     "start_time": "2021-12-16T09:31:51.184296Z"
    }
   },
   "outputs": [
    {
     "name": "stdout",
     "output_type": "stream",
     "text": [
      "Model: \"DFC-1.1.0\"\n",
      "_______________________________________________________________________________________________________________________________\n",
      "Layer (type)                                             Output Shape                                      Param #             \n",
      "===============================================================================================================================\n",
      "iLayer (Dense)                                           (None, 64)                                        3712                \n",
      "_______________________________________________________________________________________________________________________________\n",
      "dropout_61 (Dropout)                                     (None, 64)                                        0                   \n",
      "_______________________________________________________________________________________________________________________________\n",
      "dense_61 (Dense)                                         (None, 128)                                       8320                \n",
      "_______________________________________________________________________________________________________________________________\n",
      "dropout_62 (Dropout)                                     (None, 128)                                       0                   \n",
      "_______________________________________________________________________________________________________________________________\n",
      "dense_62 (Dense)                                         (None, 64)                                        8256                \n",
      "_______________________________________________________________________________________________________________________________\n",
      "dropout_63 (Dropout)                                     (None, 64)                                        0                   \n",
      "_______________________________________________________________________________________________________________________________\n",
      "dense_63 (Dense)                                         (None, 32)                                        2080                \n",
      "_______________________________________________________________________________________________________________________________\n",
      "batch_normalization_10 (BatchNormalization)              (None, 32)                                        128                 \n",
      "_______________________________________________________________________________________________________________________________\n",
      "oLayer (Dense)                                           (None, 7)                                         231                 \n",
      "===============================================================================================================================\n",
      "Total params: 22,727\n",
      "Trainable params: 22,663\n",
      "Non-trainable params: 64\n",
      "_______________________________________________________________________________________________________________________________\n"
     ]
    }
   ],
   "source": [
    "model = tf.keras.Sequential([\n",
    "    tf.keras.layers.Dense(64, input_shape = (INPUT_SHAPE, ), activation = \"relu\", kernel_initializer = \"lecun_normal\", name = \"iLayer\"),\n",
    "    tf.keras.layers.Dropout(0.2),\n",
    "    tf.keras.layers.Dense(128, activation = \"relu\", kernel_initializer = \"lecun_normal\"),\n",
    "    tf.keras.layers.Dropout(0.3),\n",
    "    tf.keras.layers.Dense(64, activation = \"relu\", kernel_initializer = \"lecun_normal\"),\n",
    "    tf.keras.layers.Dropout(0.1),\n",
    "    tf.keras.layers.Dense(32, activation = \"relu\", kernel_initializer = \"lecun_normal\"),\n",
    "    tf.keras.layers.BatchNormalization(),\n",
    "    tf.keras.layers.Dense(OUTPUT_SHAPE, activation = \"softmax\", name = \"oLayer\"),\n",
    "], name = \"DFC-1.1.0\")\n",
    "\n",
    "model.summary(line_length = 127)"
   ]
  },
  {
   "cell_type": "code",
   "execution_count": 52,
   "metadata": {
    "ExecuteTime": {
     "end_time": "2021-12-16T09:31:53.785279Z",
     "start_time": "2021-12-16T09:31:53.744465Z"
    }
   },
   "outputs": [],
   "source": [
    "model.compile(\n",
    "    optimizer = \"adam\",\n",
    "    loss = tf.keras.losses.SparseCategoricalCrossentropy(from_logits = True),\n",
    "    metrics = [tf.keras.metrics.SparseCategoricalAccuracy()]\n",
    ")"
   ]
  },
  {
   "cell_type": "code",
   "execution_count": 53,
   "metadata": {
    "ExecuteTime": {
     "end_time": "2021-12-16T09:36:15.596936Z",
     "start_time": "2021-12-16T09:31:55.370280Z"
    }
   },
   "outputs": [
    {
     "name": "stdout",
     "output_type": "stream",
     "text": [
      "Epoch 1/10\n",
      "11109/11109 [==============================] - 30s 3ms/step - loss: 1.2657 - sparse_categorical_accuracy: 0.9000\n",
      "Epoch 2/10\n",
      "11109/11109 [==============================] - 30s 3ms/step - loss: 1.2381 - sparse_categorical_accuracy: 0.9269\n",
      "Epoch 3/10\n",
      "11109/11109 [==============================] - 29s 3ms/step - loss: 1.2340 - sparse_categorical_accuracy: 0.9310\n",
      "Epoch 4/10\n",
      "11109/11109 [==============================] - 28s 3ms/step - loss: 1.2315 - sparse_categorical_accuracy: 0.9336\n",
      "Epoch 5/10\n",
      "11109/11109 [==============================] - 23s 2ms/step - loss: 1.2294 - sparse_categorical_accuracy: 0.9356\n",
      "Epoch 6/10\n",
      "11109/11109 [==============================] - 23s 2ms/step - loss: 1.2285 - sparse_categorical_accuracy: 0.9366\n",
      "Epoch 7/10\n",
      "11109/11109 [==============================] - 23s 2ms/step - loss: 1.2272 - sparse_categorical_accuracy: 0.9378\n",
      "Epoch 8/10\n",
      "11109/11109 [==============================] - 23s 2ms/step - loss: 1.2264 - sparse_categorical_accuracy: 0.9387\n",
      "Epoch 9/10\n",
      "11109/11109 [==============================] - 24s 2ms/step - loss: 1.2257 - sparse_categorical_accuracy: 0.9394\n",
      "Epoch 10/10\n",
      "11109/11109 [==============================] - 23s 2ms/step - loss: 1.2251 - sparse_categorical_accuracy: 0.9400\n"
     ]
    },
    {
     "data": {
      "text/plain": [
       "<tensorflow.python.keras.callbacks.History at 0x21bd4bc7a30>"
      ]
     },
     "execution_count": 53,
     "metadata": {},
     "output_type": "execute_result"
    }
   ],
   "source": [
    "model.fit(XScaled, yScaled, epochs = 10, batch_size = 512)"
   ]
  },
  {
   "cell_type": "code",
   "execution_count": null,
   "metadata": {
    "ExecuteTime": {
     "end_time": "2021-12-16T08:22:49.702977Z",
     "start_time": "2021-12-16T08:20:16.259Z"
    }
   },
   "outputs": [],
   "source": [
    "yPredicted = model.predict(testScaled)\n",
    "\n",
    "# considering argmax\n",
    "yPredictedMax = [np.argmax(i) + 1 for i in yPredicted]"
   ]
  }
 ],
 "metadata": {
  "kernelspec": {
   "display_name": "TensorFlow 2.8.0 (GPU)",
   "language": "python",
   "name": "tensorflow"
  },
  "language_info": {
   "codemirror_mode": {
    "name": "ipython",
    "version": 3
   },
   "file_extension": ".py",
   "mimetype": "text/x-python",
   "name": "python",
   "nbconvert_exporter": "python",
   "pygments_lexer": "ipython3",
   "version": "3.9.12"
  },
  "latex_envs": {
   "LaTeX_envs_menu_present": true,
   "autoclose": false,
   "autocomplete": true,
   "bibliofile": "biblio.bib",
   "cite_by": "apalike",
   "current_citInitial": 1,
   "eqLabelWithNumbers": true,
   "eqNumInitial": 1,
   "hotkeys": {
    "equation": "Ctrl-E",
    "itemize": "Ctrl-I"
   },
   "labels_anchors": false,
   "latex_user_defs": false,
   "report_style_numbering": false,
   "user_envs_cfg": false
  },
  "toc": {
   "base_numbering": 1,
   "nav_menu": {},
   "number_sections": false,
   "sideBar": true,
   "skip_h1_title": true,
   "title_cell": "Table of Contents",
   "title_sidebar": "Contents",
   "toc_cell": false,
   "toc_position": {},
   "toc_section_display": true,
   "toc_window_display": false
  },
  "varInspector": {
   "cols": {
    "lenName": 16,
    "lenType": 16,
    "lenVar": 40
   },
   "kernels_config": {
    "python": {
     "delete_cmd_postfix": "",
     "delete_cmd_prefix": "del ",
     "library": "var_list.py",
     "varRefreshCmd": "print(var_dic_list())"
    },
    "r": {
     "delete_cmd_postfix": ") ",
     "delete_cmd_prefix": "rm(",
     "library": "var_list.r",
     "varRefreshCmd": "cat(var_dic_list()) "
    }
   },
   "types_to_exclude": [
    "module",
    "function",
    "builtin_function_or_method",
    "instance",
    "_Feature"
   ],
   "window_display": false
  }
 },
 "nbformat": 4,
 "nbformat_minor": 4
}
