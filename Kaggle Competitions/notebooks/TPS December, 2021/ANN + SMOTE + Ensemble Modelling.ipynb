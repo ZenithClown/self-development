{
 "cells": [
  {
   "cell_type": "code",
   "execution_count": 50,
   "metadata": {
    "ExecuteTime": {
     "end_time": "2021-12-16T19:20:09.751324Z",
     "start_time": "2021-12-16T19:20:09.746310Z"
    }
   },
   "outputs": [],
   "source": [
    "from time import ctime\n",
    "from uuid import uuid4\n",
    "from os.path import join\n",
    "from copy import deepcopy\n",
    "from tqdm import tqdm as TQ"
   ]
  },
  {
   "cell_type": "code",
   "execution_count": 2,
   "metadata": {
    "ExecuteTime": {
     "end_time": "2021-12-16T18:32:39.220336Z",
     "start_time": "2021-12-16T18:32:30.860172Z"
    }
   },
   "outputs": [],
   "source": [
    "import numpy as np\n",
    "import pandas as pd\n",
    "import seaborn as sns\n",
    "import matplotlib.pyplot as plt\n",
    "\n",
    "%precision 3\n",
    "%matplotlib inline\n",
    "sns.set_style('whitegrid');\n",
    "plt.style.use('default-style');\n",
    "np.set_printoptions(precision = 3, threshold = 15)"
   ]
  },
  {
   "cell_type": "code",
   "execution_count": 3,
   "metadata": {
    "ExecuteTime": {
     "end_time": "2021-12-16T18:32:39.763405Z",
     "start_time": "2021-12-16T18:32:39.222959Z"
    }
   },
   "outputs": [],
   "source": [
    "from sklearn.preprocessing import (\n",
    "    MinMaxScaler,\n",
    "    LabelEncoder\n",
    ")"
   ]
  },
  {
   "cell_type": "code",
   "execution_count": 4,
   "metadata": {
    "ExecuteTime": {
     "end_time": "2021-12-16T18:32:53.748026Z",
     "start_time": "2021-12-16T18:32:39.765273Z"
    }
   },
   "outputs": [
    {
     "name": "stdout",
     "output_type": "stream",
     "text": [
      "Tensorflow Version: 2.3.1\n"
     ]
    },
    {
     "data": {
      "text/plain": [
       "[PhysicalDevice(name='/physical_device:CPU:0', device_type='CPU'),\n",
       " PhysicalDevice(name='/physical_device:XLA_CPU:0', device_type='XLA_CPU'),\n",
       " PhysicalDevice(name='/physical_device:GPU:0', device_type='GPU'),\n",
       " PhysicalDevice(name='/physical_device:XLA_GPU:0', device_type='XLA_GPU')]"
      ]
     },
     "execution_count": 4,
     "metadata": {},
     "output_type": "execute_result"
    }
   ],
   "source": [
    "import tensorflow as tf\n",
    "print('Tensorflow Version: {}'.format(tf.__version__))\n",
    "\n",
    "# check physical devices\n",
    "tf.config.list_physical_devices()"
   ]
  },
  {
   "cell_type": "code",
   "execution_count": 5,
   "metadata": {
    "ExecuteTime": {
     "end_time": "2021-12-16T18:32:53.763687Z",
     "start_time": "2021-12-16T18:32:53.750037Z"
    }
   },
   "outputs": [],
   "source": [
    "# ignore specific warnings\n",
    "import warnings\n",
    "warnings.simplefilter(\"ignore\", FutureWarning)"
   ]
  },
  {
   "cell_type": "code",
   "execution_count": 6,
   "metadata": {
    "ExecuteTime": {
     "end_time": "2021-12-16T18:32:53.779706Z",
     "start_time": "2021-12-16T18:32:53.764687Z"
    }
   },
   "outputs": [],
   "source": [
    "# https://www.analyticsvidhya.com/blog/2021/04/how-to-reduce-memory-usage-in-python-pandas/\n",
    "# https://towardsdatascience.com/reducing-memory-usage-in-pandas-with-smaller-datatypes-b527635830af\n",
    "\n",
    "calculateMemory = lambda frame : frame.memory_usage(deep = True).sum() / 1024 ** 2 # return usage in MB\n",
    "\n",
    "def limitNumeric(frame : pd.DataFrame, verbose : bool = True, **kwargs) -> pd.DataFrame:\n",
    "    \"\"\"Given a DataFrame (frame) - the function considers each numeric columns (integer and/or float) and sets the data type to any of `np.dtypes` to Reduce Memory Usage\"\"\"\n",
    "    \n",
    "    if verbose:\n",
    "        actual = calculateMemory(frame)\n",
    "    \n",
    "    frame = deepcopy(frame)\n",
    "    \n",
    "    # foreach column calculate the min and max value\n",
    "    # and map the data to its relevant unit category - int8, int16, int32 or int64\n",
    "    # by default - pandas treats each numeric column to its highest number base - int64/float64\n",
    "    for col in TQ(frame.columns, desc = \"converting dtypes\"):\n",
    "        c_min = frame[col].min()\n",
    "        c_max = frame[col].max()\n",
    "        \n",
    "        if c_min > np.iinfo(np.int8).min and c_max <= np.iinfo(np.int8).max:\n",
    "            frame[col] = frame[col].astype(np.int8)\n",
    "        elif c_min > np.iinfo(np.int16).min and c_max <= np.iinfo(np.int16).max:\n",
    "            frame[col] = frame[col].astype(np.int16)\n",
    "        if c_min > np.iinfo(np.int32).min and c_max <= np.iinfo(np.int32).max:\n",
    "            frame[col] = frame[col].astype(np.int32)\n",
    "        else:\n",
    "            frame[col] = frame[col].astype(np.int64)\n",
    "            \n",
    "    if verbose:\n",
    "        final = calculateMemory(frame)\n",
    "        print(f\"Actual Size : {actual:.2f} MB | Final Size : {final:.2f} MB || Reduction Ration = {((actual - final) / actual) * 100:.2f}%\")\n",
    "        \n",
    "    return frame\n",
    "\n",
    "def loadData(path : str, reduce_memory : bool = True, **kwargs) -> pd.DataFrame:\n",
    "    \"\"\"Load a CSV File into Memory, with Optional Arguments\"\"\"\n",
    "    \n",
    "    frame = pd.read_csv(path, **kwargs)\n",
    "    \n",
    "    if reduce_memory: # reduces the dtypes\n",
    "        frame = limitNumeric(frame, **kwargs)\n",
    "        \n",
    "    return frame"
   ]
  },
  {
   "cell_type": "code",
   "execution_count": 7,
   "metadata": {
    "ExecuteTime": {
     "end_time": "2021-12-16T18:32:53.795368Z",
     "start_time": "2021-12-16T18:32:53.780682Z"
    }
   },
   "outputs": [],
   "source": [
    "TRAIN_DATA = join(\".\", \"output\", \"train-100.csv\")\n",
    "EVALUATION_DATA = join(\".\", \"output\", \"test-100.csv\")"
   ]
  },
  {
   "cell_type": "code",
   "execution_count": 8,
   "metadata": {
    "ExecuteTime": {
     "end_time": "2021-12-16T18:33:49.731609Z",
     "start_time": "2021-12-16T18:32:53.797183Z"
    }
   },
   "outputs": [
    {
     "name": "stderr",
     "output_type": "stream",
     "text": [
      "converting dtypes: 100%|████████████████████████████████████████████████████████████████████████████████████████████████████████████████████████████████████| 64/64 [00:25<00:00,  2.54it/s]\n"
     ]
    },
    {
     "name": "stdout",
     "output_type": "stream",
     "text": [
      "Actual Size : 2777.21 MB | Final Size : 1388.60 MB || Reduction Ration = 50.00%\n"
     ]
    },
    {
     "data": {
      "text/html": [
       "<div>\n",
       "<style scoped>\n",
       "    .dataframe tbody tr th:only-of-type {\n",
       "        vertical-align: middle;\n",
       "    }\n",
       "\n",
       "    .dataframe tbody tr th {\n",
       "        vertical-align: top;\n",
       "    }\n",
       "\n",
       "    .dataframe thead th {\n",
       "        text-align: right;\n",
       "    }\n",
       "</style>\n",
       "<table border=\"1\" class=\"dataframe\">\n",
       "  <thead>\n",
       "    <tr style=\"text-align: right;\">\n",
       "      <th></th>\n",
       "      <th>Elevation</th>\n",
       "      <th>Aspect</th>\n",
       "      <th>Slope</th>\n",
       "      <th>Horizontal_Distance_To_Hydrology</th>\n",
       "      <th>Vertical_Distance_To_Hydrology</th>\n",
       "      <th>Horizontal_Distance_To_Roadways</th>\n",
       "      <th>Hillshade_9am</th>\n",
       "      <th>Hillshade_Noon</th>\n",
       "      <th>Hillshade_3pm</th>\n",
       "      <th>Horizontal_Distance_To_Fire_Points</th>\n",
       "      <th>...</th>\n",
       "      <th>distanceHydro</th>\n",
       "      <th>distanceRoads</th>\n",
       "      <th>distanceFires</th>\n",
       "      <th>soil_type_count_r</th>\n",
       "      <th>soil_type_count_vs</th>\n",
       "      <th>soil_type_count_es</th>\n",
       "      <th>soil_type_count_s</th>\n",
       "      <th>soil_type_count_total</th>\n",
       "      <th>wilderness_area_count</th>\n",
       "      <th>Cover_Type</th>\n",
       "    </tr>\n",
       "  </thead>\n",
       "  <tbody>\n",
       "    <tr>\n",
       "      <th>1116045</th>\n",
       "      <td>2199</td>\n",
       "      <td>60</td>\n",
       "      <td>29</td>\n",
       "      <td>18</td>\n",
       "      <td>16</td>\n",
       "      <td>1206</td>\n",
       "      <td>236</td>\n",
       "      <td>214</td>\n",
       "      <td>136</td>\n",
       "      <td>1224</td>\n",
       "      <td>...</td>\n",
       "      <td>24</td>\n",
       "      <td>2510</td>\n",
       "      <td>2520</td>\n",
       "      <td>0</td>\n",
       "      <td>0</td>\n",
       "      <td>0</td>\n",
       "      <td>0</td>\n",
       "      <td>1</td>\n",
       "      <td>1</td>\n",
       "      <td>4</td>\n",
       "    </tr>\n",
       "    <tr>\n",
       "      <th>5411671</th>\n",
       "      <td>2953</td>\n",
       "      <td>114</td>\n",
       "      <td>39</td>\n",
       "      <td>97</td>\n",
       "      <td>111</td>\n",
       "      <td>981</td>\n",
       "      <td>181</td>\n",
       "      <td>209</td>\n",
       "      <td>184</td>\n",
       "      <td>7633</td>\n",
       "      <td>...</td>\n",
       "      <td>147</td>\n",
       "      <td>3111</td>\n",
       "      <td>8184</td>\n",
       "      <td>1</td>\n",
       "      <td>0</td>\n",
       "      <td>0</td>\n",
       "      <td>0</td>\n",
       "      <td>1</td>\n",
       "      <td>1</td>\n",
       "      <td>5</td>\n",
       "    </tr>\n",
       "    <tr>\n",
       "      <th>1286810</th>\n",
       "      <td>2298</td>\n",
       "      <td>153</td>\n",
       "      <td>37</td>\n",
       "      <td>64</td>\n",
       "      <td>35</td>\n",
       "      <td>1112</td>\n",
       "      <td>225</td>\n",
       "      <td>217</td>\n",
       "      <td>165</td>\n",
       "      <td>809</td>\n",
       "      <td>...</td>\n",
       "      <td>74</td>\n",
       "      <td>2554</td>\n",
       "      <td>2437</td>\n",
       "      <td>0</td>\n",
       "      <td>0</td>\n",
       "      <td>0</td>\n",
       "      <td>0</td>\n",
       "      <td>1</td>\n",
       "      <td>1</td>\n",
       "      <td>6</td>\n",
       "    </tr>\n",
       "    <tr>\n",
       "      <th>557347</th>\n",
       "      <td>2460</td>\n",
       "      <td>3</td>\n",
       "      <td>21</td>\n",
       "      <td>40</td>\n",
       "      <td>20</td>\n",
       "      <td>277</td>\n",
       "      <td>199</td>\n",
       "      <td>218</td>\n",
       "      <td>149</td>\n",
       "      <td>1029</td>\n",
       "      <td>...</td>\n",
       "      <td>45</td>\n",
       "      <td>2476</td>\n",
       "      <td>2667</td>\n",
       "      <td>0</td>\n",
       "      <td>0</td>\n",
       "      <td>0</td>\n",
       "      <td>0</td>\n",
       "      <td>1</td>\n",
       "      <td>1</td>\n",
       "      <td>6</td>\n",
       "    </tr>\n",
       "    <tr>\n",
       "      <th>640682</th>\n",
       "      <td>2531</td>\n",
       "      <td>53</td>\n",
       "      <td>14</td>\n",
       "      <td>53</td>\n",
       "      <td>0</td>\n",
       "      <td>2624</td>\n",
       "      <td>178</td>\n",
       "      <td>223</td>\n",
       "      <td>183</td>\n",
       "      <td>1102</td>\n",
       "      <td>...</td>\n",
       "      <td>53</td>\n",
       "      <td>3646</td>\n",
       "      <td>2761</td>\n",
       "      <td>1</td>\n",
       "      <td>0</td>\n",
       "      <td>0</td>\n",
       "      <td>0</td>\n",
       "      <td>1</td>\n",
       "      <td>1</td>\n",
       "      <td>6</td>\n",
       "    </tr>\n",
       "  </tbody>\n",
       "</table>\n",
       "<p>5 rows × 64 columns</p>\n",
       "</div>"
      ],
      "text/plain": [
       "         Elevation  Aspect  Slope  Horizontal_Distance_To_Hydrology  \\\n",
       "1116045       2199      60     29                                18   \n",
       "5411671       2953     114     39                                97   \n",
       "1286810       2298     153     37                                64   \n",
       "557347        2460       3     21                                40   \n",
       "640682        2531      53     14                                53   \n",
       "\n",
       "         Vertical_Distance_To_Hydrology  Horizontal_Distance_To_Roadways  \\\n",
       "1116045                              16                             1206   \n",
       "5411671                             111                              981   \n",
       "1286810                              35                             1112   \n",
       "557347                               20                              277   \n",
       "640682                                0                             2624   \n",
       "\n",
       "         Hillshade_9am  Hillshade_Noon  Hillshade_3pm  \\\n",
       "1116045            236             214            136   \n",
       "5411671            181             209            184   \n",
       "1286810            225             217            165   \n",
       "557347             199             218            149   \n",
       "640682             178             223            183   \n",
       "\n",
       "         Horizontal_Distance_To_Fire_Points  ...  distanceHydro  \\\n",
       "1116045                                1224  ...             24   \n",
       "5411671                                7633  ...            147   \n",
       "1286810                                 809  ...             74   \n",
       "557347                                 1029  ...             45   \n",
       "640682                                 1102  ...             53   \n",
       "\n",
       "         distanceRoads  distanceFires  soil_type_count_r  soil_type_count_vs  \\\n",
       "1116045           2510           2520                  0                   0   \n",
       "5411671           3111           8184                  1                   0   \n",
       "1286810           2554           2437                  0                   0   \n",
       "557347            2476           2667                  0                   0   \n",
       "640682            3646           2761                  1                   0   \n",
       "\n",
       "         soil_type_count_es  soil_type_count_s  soil_type_count_total  \\\n",
       "1116045                   0                  0                      1   \n",
       "5411671                   0                  0                      1   \n",
       "1286810                   0                  0                      1   \n",
       "557347                    0                  0                      1   \n",
       "640682                    0                  0                      1   \n",
       "\n",
       "         wilderness_area_count  Cover_Type  \n",
       "1116045                      1           4  \n",
       "5411671                      1           5  \n",
       "1286810                      1           6  \n",
       "557347                       1           6  \n",
       "640682                       1           6  \n",
       "\n",
       "[5 rows x 64 columns]"
      ]
     },
     "execution_count": 8,
     "metadata": {},
     "output_type": "execute_result"
    }
   ],
   "source": [
    "dataTrain = loadData(TRAIN_DATA)\n",
    "dataTrain.sample(5)"
   ]
  },
  {
   "cell_type": "code",
   "execution_count": 9,
   "metadata": {
    "ExecuteTime": {
     "end_time": "2021-12-16T18:33:58.562454Z",
     "start_time": "2021-12-16T18:33:49.733654Z"
    }
   },
   "outputs": [
    {
     "name": "stderr",
     "output_type": "stream",
     "text": [
      "converting dtypes: 100%|████████████████████████████████████████████████████████████████████████████████████████████████████████████████████████████████████| 63/63 [00:04<00:00, 15.16it/s]\n"
     ]
    },
    {
     "name": "stdout",
     "output_type": "stream",
     "text": [
      "Actual Size : 480.65 MB | Final Size : 240.33 MB || Reduction Ration = 50.00%\n"
     ]
    },
    {
     "data": {
      "text/html": [
       "<div>\n",
       "<style scoped>\n",
       "    .dataframe tbody tr th:only-of-type {\n",
       "        vertical-align: middle;\n",
       "    }\n",
       "\n",
       "    .dataframe tbody tr th {\n",
       "        vertical-align: top;\n",
       "    }\n",
       "\n",
       "    .dataframe thead th {\n",
       "        text-align: right;\n",
       "    }\n",
       "</style>\n",
       "<table border=\"1\" class=\"dataframe\">\n",
       "  <thead>\n",
       "    <tr style=\"text-align: right;\">\n",
       "      <th></th>\n",
       "      <th>Elevation</th>\n",
       "      <th>Aspect</th>\n",
       "      <th>Slope</th>\n",
       "      <th>Horizontal_Distance_To_Hydrology</th>\n",
       "      <th>Vertical_Distance_To_Hydrology</th>\n",
       "      <th>Horizontal_Distance_To_Roadways</th>\n",
       "      <th>Hillshade_9am</th>\n",
       "      <th>Hillshade_Noon</th>\n",
       "      <th>Hillshade_3pm</th>\n",
       "      <th>Horizontal_Distance_To_Fire_Points</th>\n",
       "      <th>...</th>\n",
       "      <th>Soil_Type40</th>\n",
       "      <th>distanceHydro</th>\n",
       "      <th>distanceRoads</th>\n",
       "      <th>distanceFires</th>\n",
       "      <th>soil_type_count_r</th>\n",
       "      <th>soil_type_count_vs</th>\n",
       "      <th>soil_type_count_es</th>\n",
       "      <th>soil_type_count_s</th>\n",
       "      <th>soil_type_count_total</th>\n",
       "      <th>wilderness_area_count</th>\n",
       "    </tr>\n",
       "  </thead>\n",
       "  <tbody>\n",
       "    <tr>\n",
       "      <th>578810</th>\n",
       "      <td>2378</td>\n",
       "      <td>310</td>\n",
       "      <td>15</td>\n",
       "      <td>98</td>\n",
       "      <td>34</td>\n",
       "      <td>674</td>\n",
       "      <td>185</td>\n",
       "      <td>233</td>\n",
       "      <td>102</td>\n",
       "      <td>1087</td>\n",
       "      <td>...</td>\n",
       "      <td>1</td>\n",
       "      <td>103</td>\n",
       "      <td>2471</td>\n",
       "      <td>2614</td>\n",
       "      <td>0</td>\n",
       "      <td>0</td>\n",
       "      <td>1</td>\n",
       "      <td>1</td>\n",
       "      <td>1</td>\n",
       "      <td>1</td>\n",
       "    </tr>\n",
       "    <tr>\n",
       "      <th>58958</th>\n",
       "      <td>3388</td>\n",
       "      <td>243</td>\n",
       "      <td>26</td>\n",
       "      <td>514</td>\n",
       "      <td>-9</td>\n",
       "      <td>3218</td>\n",
       "      <td>203</td>\n",
       "      <td>251</td>\n",
       "      <td>182</td>\n",
       "      <td>3811</td>\n",
       "      <td>...</td>\n",
       "      <td>0</td>\n",
       "      <td>514</td>\n",
       "      <td>4672</td>\n",
       "      <td>5099</td>\n",
       "      <td>0</td>\n",
       "      <td>0</td>\n",
       "      <td>0</td>\n",
       "      <td>0</td>\n",
       "      <td>0</td>\n",
       "      <td>0</td>\n",
       "    </tr>\n",
       "    <tr>\n",
       "      <th>489560</th>\n",
       "      <td>2960</td>\n",
       "      <td>277</td>\n",
       "      <td>25</td>\n",
       "      <td>177</td>\n",
       "      <td>26</td>\n",
       "      <td>1721</td>\n",
       "      <td>223</td>\n",
       "      <td>238</td>\n",
       "      <td>179</td>\n",
       "      <td>1926</td>\n",
       "      <td>...</td>\n",
       "      <td>0</td>\n",
       "      <td>178</td>\n",
       "      <td>3423</td>\n",
       "      <td>3531</td>\n",
       "      <td>1</td>\n",
       "      <td>0</td>\n",
       "      <td>0</td>\n",
       "      <td>0</td>\n",
       "      <td>1</td>\n",
       "      <td>0</td>\n",
       "    </tr>\n",
       "    <tr>\n",
       "      <th>663634</th>\n",
       "      <td>3568</td>\n",
       "      <td>14</td>\n",
       "      <td>0</td>\n",
       "      <td>147</td>\n",
       "      <td>4</td>\n",
       "      <td>1265</td>\n",
       "      <td>203</td>\n",
       "      <td>216</td>\n",
       "      <td>128</td>\n",
       "      <td>734</td>\n",
       "      <td>...</td>\n",
       "      <td>0</td>\n",
       "      <td>147</td>\n",
       "      <td>3785</td>\n",
       "      <td>3642</td>\n",
       "      <td>0</td>\n",
       "      <td>0</td>\n",
       "      <td>0</td>\n",
       "      <td>0</td>\n",
       "      <td>0</td>\n",
       "      <td>1</td>\n",
       "    </tr>\n",
       "    <tr>\n",
       "      <th>149057</th>\n",
       "      <td>2665</td>\n",
       "      <td>-6</td>\n",
       "      <td>29</td>\n",
       "      <td>416</td>\n",
       "      <td>98</td>\n",
       "      <td>941</td>\n",
       "      <td>191</td>\n",
       "      <td>227</td>\n",
       "      <td>131</td>\n",
       "      <td>596</td>\n",
       "      <td>...</td>\n",
       "      <td>0</td>\n",
       "      <td>427</td>\n",
       "      <td>2826</td>\n",
       "      <td>2730</td>\n",
       "      <td>0</td>\n",
       "      <td>0</td>\n",
       "      <td>1</td>\n",
       "      <td>1</td>\n",
       "      <td>2</td>\n",
       "      <td>1</td>\n",
       "    </tr>\n",
       "  </tbody>\n",
       "</table>\n",
       "<p>5 rows × 63 columns</p>\n",
       "</div>"
      ],
      "text/plain": [
       "        Elevation  Aspect  Slope  Horizontal_Distance_To_Hydrology  \\\n",
       "578810       2378     310     15                                98   \n",
       "58958        3388     243     26                               514   \n",
       "489560       2960     277     25                               177   \n",
       "663634       3568      14      0                               147   \n",
       "149057       2665      -6     29                               416   \n",
       "\n",
       "        Vertical_Distance_To_Hydrology  Horizontal_Distance_To_Roadways  \\\n",
       "578810                              34                              674   \n",
       "58958                               -9                             3218   \n",
       "489560                              26                             1721   \n",
       "663634                               4                             1265   \n",
       "149057                              98                              941   \n",
       "\n",
       "        Hillshade_9am  Hillshade_Noon  Hillshade_3pm  \\\n",
       "578810            185             233            102   \n",
       "58958             203             251            182   \n",
       "489560            223             238            179   \n",
       "663634            203             216            128   \n",
       "149057            191             227            131   \n",
       "\n",
       "        Horizontal_Distance_To_Fire_Points  ...  Soil_Type40  distanceHydro  \\\n",
       "578810                                1087  ...            1            103   \n",
       "58958                                 3811  ...            0            514   \n",
       "489560                                1926  ...            0            178   \n",
       "663634                                 734  ...            0            147   \n",
       "149057                                 596  ...            0            427   \n",
       "\n",
       "        distanceRoads  distanceFires  soil_type_count_r  soil_type_count_vs  \\\n",
       "578810           2471           2614                  0                   0   \n",
       "58958            4672           5099                  0                   0   \n",
       "489560           3423           3531                  1                   0   \n",
       "663634           3785           3642                  0                   0   \n",
       "149057           2826           2730                  0                   0   \n",
       "\n",
       "        soil_type_count_es  soil_type_count_s  soil_type_count_total  \\\n",
       "578810                   1                  1                      1   \n",
       "58958                    0                  0                      0   \n",
       "489560                   0                  0                      1   \n",
       "663634                   0                  0                      0   \n",
       "149057                   1                  1                      2   \n",
       "\n",
       "        wilderness_area_count  \n",
       "578810                      1  \n",
       "58958                       0  \n",
       "489560                      0  \n",
       "663634                      1  \n",
       "149057                      1  \n",
       "\n",
       "[5 rows x 63 columns]"
      ]
     },
     "execution_count": 9,
     "metadata": {},
     "output_type": "execute_result"
    }
   ],
   "source": [
    "dataTest = loadData(EVALUATION_DATA)\n",
    "dataTest.sample(5)"
   ]
  },
  {
   "cell_type": "code",
   "execution_count": 10,
   "metadata": {
    "ExecuteTime": {
     "end_time": "2021-12-16T18:33:58.578473Z",
     "start_time": "2021-12-16T18:33:58.563439Z"
    }
   },
   "outputs": [],
   "source": [
    "scaler = MinMaxScaler()\n",
    "encoder = LabelEncoder()"
   ]
  },
  {
   "cell_type": "code",
   "execution_count": 31,
   "metadata": {
    "ExecuteTime": {
     "end_time": "2021-12-16T19:10:42.279370Z",
     "start_time": "2021-12-16T19:10:40.171771Z"
    }
   },
   "outputs": [],
   "source": [
    "scaler.fit(dataTrain.drop(columns = \"Cover_Type\"));\n",
    "# encoder.fit(dataTrain.Cover_Type);"
   ]
  },
  {
   "cell_type": "code",
   "execution_count": 14,
   "metadata": {
    "ExecuteTime": {
     "end_time": "2021-12-16T18:34:02.377242Z",
     "start_time": "2021-12-16T18:34:02.365193Z"
    }
   },
   "outputs": [
    {
     "data": {
      "text/plain": [
       "(63, 7)"
      ]
     },
     "execution_count": 14,
     "metadata": {},
     "output_type": "execute_result"
    }
   ],
   "source": [
    "INPUT_SHAPE = XScaled.shape[1]\n",
    "OUTPUT_SHAPE = encoder.classes_.shape[0]\n",
    "\n",
    "INPUT_SHAPE, OUTPUT_SHAPE"
   ]
  },
  {
   "cell_type": "code",
   "execution_count": 33,
   "metadata": {
    "ExecuteTime": {
     "end_time": "2021-12-16T19:11:14.419405Z",
     "start_time": "2021-12-16T19:11:14.075118Z"
    }
   },
   "outputs": [],
   "source": [
    "testScaled = scaler.transform(dataTest)"
   ]
  },
  {
   "cell_type": "code",
   "execution_count": 16,
   "metadata": {
    "ExecuteTime": {
     "end_time": "2021-12-16T18:34:02.662802Z",
     "start_time": "2021-12-16T18:34:02.650804Z"
    }
   },
   "outputs": [],
   "source": [
    "def ANN(modelName : str):\n",
    "    model = tf.keras.Sequential([\n",
    "        tf.keras.layers.Dense(64, input_shape = (INPUT_SHAPE, ), activation = \"relu\", name = \"iLayer\"),\n",
    "        tf.keras.layers.Dropout(0.2),\n",
    "        tf.keras.layers.Dense(128, activation = \"relu\"),\n",
    "        tf.keras.layers.Dropout(0.2),\n",
    "        tf.keras.layers.Dense(256, activation = \"relu\"),\n",
    "        tf.keras.layers.Dropout(0.2),\n",
    "        tf.keras.layers.Dense(64, activation = \"relu\"),\n",
    "        tf.keras.layers.BatchNormalization(),\n",
    "        tf.keras.layers.Dense(OUTPUT_SHAPE, activation = \"softmax\", name = \"oLayer\"),\n",
    "    ], name = modelName)\n",
    "    \n",
    "    model.compile(\n",
    "        optimizer = \"adam\",\n",
    "        loss = tf.keras.losses.SparseCategoricalCrossentropy(from_logits = True),\n",
    "        metrics = [tf.keras.metrics.SparseCategoricalAccuracy()]\n",
    "    )\n",
    "    \n",
    "    return model"
   ]
  },
  {
   "cell_type": "code",
   "execution_count": 17,
   "metadata": {
    "ExecuteTime": {
     "end_time": "2021-12-16T18:34:07.896638Z",
     "start_time": "2021-12-16T18:34:02.664803Z"
    }
   },
   "outputs": [
    {
     "name": "stderr",
     "output_type": "stream",
     "text": [
      "100%|█████████████████████████████████████████████████████████████████████████████████████████████████████████████████████████████████████████████████████████| 5/5 [00:05<00:00,  1.04s/it]\n"
     ]
    }
   ],
   "source": [
    "models = [ANN(\"DCNV2-\" + str(uuid4())[:7].upper()) for _ in TQ(range(5))] # 2262087 / 391500 ~ 5.78"
   ]
  },
  {
   "cell_type": "code",
   "execution_count": 34,
   "metadata": {
    "ExecuteTime": {
     "end_time": "2021-12-16T19:12:00.670542Z",
     "start_time": "2021-12-16T19:11:52.131446Z"
    }
   },
   "outputs": [
    {
     "name": "stderr",
     "output_type": "stream",
     "text": [
      "100%|█████████████████████████████████████████████████████████████████████████████████████████████████████████████████████████████████████████████████████████| 5/5 [00:07<00:00,  1.56s/it]\n"
     ]
    }
   ],
   "source": [
    "dataSubsets = [\n",
    "    pd.concat([\n",
    "        dataTrain[dataTrain.Cover_Type > 2],\n",
    "        dataTrain[dataTrain.Cover_Type == 1].sample(391500),\n",
    "        dataTrain[dataTrain.Cover_Type == 2].sample(391500),\n",
    "    ])\n",
    "for _ in TQ(range(5))]"
   ]
  },
  {
   "cell_type": "code",
   "execution_count": 44,
   "metadata": {
    "ExecuteTime": {
     "end_time": "2021-12-16T19:16:03.928388Z",
     "start_time": "2021-12-16T19:16:03.915350Z"
    }
   },
   "outputs": [],
   "source": [
    "def getXY(frame : pd.DataFrame):\n",
    "    frame = deepcopy(frame)\n",
    "    \n",
    "    X = frame.drop(columns = \"Cover_Type\")\n",
    "    y = frame.Cover_Type\n",
    "    \n",
    "    X = scaler.transform(X)\n",
    "    y = encoder.fit_transform(y)\n",
    "    \n",
    "    return X, y"
   ]
  },
  {
   "cell_type": "code",
   "execution_count": 53,
   "metadata": {
    "ExecuteTime": {
     "end_time": "2021-12-16T19:39:25.988907Z",
     "start_time": "2021-12-16T19:28:20.526698Z"
    },
    "collapsed": true
   },
   "outputs": [
    {
     "name": "stdout",
     "output_type": "stream",
     "text": [
      "Fri Dec 17 00:58:20 2021 Model-#1\n",
      "Epoch 1/10\n",
      "5353/5353 [==============================] - 10s 2ms/step - loss: 1.2190 - sparse_categorical_accuracy: 0.9462\n",
      "Epoch 2/10\n",
      "5353/5353 [==============================] - 10s 2ms/step - loss: 1.2182 - sparse_categorical_accuracy: 0.9469\n",
      "Epoch 3/10\n",
      "5353/5353 [==============================] - 11s 2ms/step - loss: 1.2179 - sparse_categorical_accuracy: 0.9473\n",
      "Epoch 4/10\n",
      "5353/5353 [==============================] - 11s 2ms/step - loss: 1.2171 - sparse_categorical_accuracy: 0.9481\n",
      "Epoch 5/10\n",
      "5353/5353 [==============================] - 11s 2ms/step - loss: 1.2167 - sparse_categorical_accuracy: 0.9484\n",
      "Epoch 6/10\n",
      "5353/5353 [==============================] - 11s 2ms/step - loss: 1.2166 - sparse_categorical_accuracy: 0.9486\n",
      "Epoch 7/10\n",
      "5353/5353 [==============================] - 11s 2ms/step - loss: 1.2158 - sparse_categorical_accuracy: 0.9494\n",
      "Epoch 8/10\n",
      "5353/5353 [==============================] - 11s 2ms/step - loss: 1.2157 - sparse_categorical_accuracy: 0.9495\n",
      "Epoch 9/10\n",
      "5353/5353 [==============================] - 11s 2ms/step - loss: 1.2153 - sparse_categorical_accuracy: 0.9499\n",
      "Epoch 10/10\n",
      "5353/5353 [==============================] - 11s 2ms/step - loss: 1.2149 - sparse_categorical_accuracy: 0.9503\n",
      "Fri Dec 17 01:00:31 2021 Model-#2\n",
      "Epoch 1/10\n",
      "5353/5353 [==============================] - 11s 2ms/step - loss: 1.2692 - sparse_categorical_accuracy: 0.8966\n",
      "Epoch 2/10\n",
      "5353/5353 [==============================] - 11s 2ms/step - loss: 1.2379 - sparse_categorical_accuracy: 0.9272\n",
      "Epoch 3/10\n",
      "5353/5353 [==============================] - 11s 2ms/step - loss: 1.2314 - sparse_categorical_accuracy: 0.9337\n",
      "Epoch 4/10\n",
      "5353/5353 [==============================] - 11s 2ms/step - loss: 1.2279 - sparse_categorical_accuracy: 0.9372\n",
      "Epoch 5/10\n",
      "5353/5353 [==============================] - 11s 2ms/step - loss: 1.2259 - sparse_categorical_accuracy: 0.9393\n",
      "Epoch 6/10\n",
      "5353/5353 [==============================] - 11s 2ms/step - loss: 1.2242 - sparse_categorical_accuracy: 0.9410\n",
      "Epoch 7/10\n",
      "5353/5353 [==============================] - 11s 2ms/step - loss: 1.2231 - sparse_categorical_accuracy: 0.9421\n",
      "Epoch 8/10\n",
      "5353/5353 [==============================] - 12s 2ms/step - loss: 1.2217 - sparse_categorical_accuracy: 0.9434\n",
      "Epoch 9/10\n",
      "5353/5353 [==============================] - 11s 2ms/step - loss: 1.2208 - sparse_categorical_accuracy: 0.9444\n",
      "Epoch 10/10\n",
      "5353/5353 [==============================] - 11s 2ms/step - loss: 1.2200 - sparse_categorical_accuracy: 0.9451\n",
      "Fri Dec 17 01:02:44 2021 Model-#3\n",
      "Epoch 1/10\n",
      "5353/5353 [==============================] - 11s 2ms/step - loss: 1.2695 - sparse_categorical_accuracy: 0.8963\n",
      "Epoch 2/10\n",
      "5353/5353 [==============================] - 11s 2ms/step - loss: 1.2380 - sparse_categorical_accuracy: 0.9271\n",
      "Epoch 3/10\n",
      "5353/5353 [==============================] - 11s 2ms/step - loss: 1.2320 - sparse_categorical_accuracy: 0.9331\n",
      "Epoch 4/10\n",
      "5353/5353 [==============================] - 11s 2ms/step - loss: 1.2284 - sparse_categorical_accuracy: 0.9367\n",
      "Epoch 5/10\n",
      "5353/5353 [==============================] - 11s 2ms/step - loss: 1.2263 - sparse_categorical_accuracy: 0.9388\n",
      "Epoch 6/10\n",
      "5353/5353 [==============================] - 11s 2ms/step - loss: 1.2247 - sparse_categorical_accuracy: 0.9405\n",
      "Epoch 7/10\n",
      "5353/5353 [==============================] - 11s 2ms/step - loss: 1.2237 - sparse_categorical_accuracy: 0.9415\n",
      "Epoch 8/10\n",
      "5353/5353 [==============================] - 11s 2ms/step - loss: 1.2224 - sparse_categorical_accuracy: 0.9428\n",
      "Epoch 9/10\n",
      "5353/5353 [==============================] - 11s 2ms/step - loss: 1.2215 - sparse_categorical_accuracy: 0.9437\n",
      "Epoch 10/10\n",
      "5353/5353 [==============================] - 11s 2ms/step - loss: 1.2203 - sparse_categorical_accuracy: 0.9448\n",
      "Fri Dec 17 01:04:57 2021 Model-#4\n",
      "Epoch 1/10\n",
      "5353/5353 [==============================] - 11s 2ms/step - loss: 1.2684 - sparse_categorical_accuracy: 0.8974\n",
      "Epoch 2/10\n",
      "5353/5353 [==============================] - 11s 2ms/step - loss: 1.2378 - sparse_categorical_accuracy: 0.9273\n",
      "Epoch 3/10\n",
      "5353/5353 [==============================] - 11s 2ms/step - loss: 1.2314 - sparse_categorical_accuracy: 0.9337\n",
      "Epoch 4/10\n",
      "5353/5353 [==============================] - 11s 2ms/step - loss: 1.2275 - sparse_categorical_accuracy: 0.9376\n",
      "Epoch 5/10\n",
      "5353/5353 [==============================] - 11s 2ms/step - loss: 1.2256 - sparse_categorical_accuracy: 0.9395\n",
      "Epoch 6/10\n",
      "5353/5353 [==============================] - 11s 2ms/step - loss: 1.2240 - sparse_categorical_accuracy: 0.9411\n",
      "Epoch 7/10\n",
      "5353/5353 [==============================] - 11s 2ms/step - loss: 1.2224 - sparse_categorical_accuracy: 0.9427\n",
      "Epoch 8/10\n",
      "5353/5353 [==============================] - 11s 2ms/step - loss: 1.2215 - sparse_categorical_accuracy: 0.9436\n",
      "Epoch 9/10\n",
      "5353/5353 [==============================] - 12s 2ms/step - loss: 1.2206 - sparse_categorical_accuracy: 0.9446\n",
      "Epoch 10/10\n",
      "5353/5353 [==============================] - 11s 2ms/step - loss: 1.2198 - sparse_categorical_accuracy: 0.9454\n",
      "Fri Dec 17 01:07:12 2021 Model-#5\n",
      "Epoch 1/10\n",
      "5353/5353 [==============================] - 11s 2ms/step - loss: 1.2693 - sparse_categorical_accuracy: 0.8963\n",
      "Epoch 2/10\n",
      "5353/5353 [==============================] - 11s 2ms/step - loss: 1.2388 - sparse_categorical_accuracy: 0.9263\n",
      "Epoch 3/10\n",
      "5353/5353 [==============================] - 11s 2ms/step - loss: 1.2321 - sparse_categorical_accuracy: 0.9330\n",
      "Epoch 4/10\n",
      "5353/5353 [==============================] - 11s 2ms/step - loss: 1.2286 - sparse_categorical_accuracy: 0.9365\n",
      "Epoch 5/10\n",
      "5353/5353 [==============================] - 11s 2ms/step - loss: 1.2262 - sparse_categorical_accuracy: 0.9389\n",
      "Epoch 6/10\n",
      "5353/5353 [==============================] - 11s 2ms/step - loss: 1.2243 - sparse_categorical_accuracy: 0.9408\n",
      "Epoch 7/10\n",
      "5353/5353 [==============================] - 11s 2ms/step - loss: 1.2229 - sparse_categorical_accuracy: 0.9422\n",
      "Epoch 8/10\n",
      "5353/5353 [==============================] - 11s 2ms/step - loss: 1.2214 - sparse_categorical_accuracy: 0.9437\n",
      "Epoch 9/10\n",
      "5353/5353 [==============================] - 11s 2ms/step - loss: 1.2205 - sparse_categorical_accuracy: 0.9447\n",
      "Epoch 10/10\n",
      "5353/5353 [==============================] - 11s 2ms/step - loss: 1.2197 - sparse_categorical_accuracy: 0.9455\n"
     ]
    }
   ],
   "source": [
    "histories = []\n",
    "predictions = []\n",
    "predictionsMax = []\n",
    "for idx, (data, model) in enumerate(zip(dataSubsets, models)):\n",
    "    print(ctime(), f\"Model-#{idx + 1}\")\n",
    "    \n",
    "    X, y = getXY(data)\n",
    "    histories.append(model.fit(X, y, epochs = 10, batch_size = 512))\n",
    "    \n",
    "    yPredicted = model.predict(testScaled)\n",
    "    predictions.append(yPredicted)\n",
    "    predictionsMax.append([np.argmax(i) + 1 for i in yPredicted])"
   ]
  },
  {
   "cell_type": "code",
   "execution_count": 86,
   "metadata": {
    "ExecuteTime": {
     "end_time": "2021-12-16T19:55:59.407785Z",
     "start_time": "2021-12-16T19:55:59.393775Z"
    }
   },
   "outputs": [],
   "source": [
    "from collections import Counter"
   ]
  },
  {
   "cell_type": "code",
   "execution_count": 90,
   "metadata": {
    "ExecuteTime": {
     "end_time": "2021-12-16T19:58:48.275525Z",
     "start_time": "2021-12-16T19:58:45.471204Z"
    }
   },
   "outputs": [
    {
     "name": "stderr",
     "output_type": "stream",
     "text": [
      "100%|█████████████████████████████████████████████████████████████████████████████████████████████████████████████████████████████████████████| 1000000/1000000 [00:02<00:00, 358139.94it/s]\n"
     ]
    }
   ],
   "source": [
    "majorityVote = []\n",
    "for i in TQ(range(1000000)):\n",
    "    majorityVote.append(Counter([\n",
    "        predictionsMax[0][i],\n",
    "        predictionsMax[1][i],\n",
    "        predictionsMax[2][i],\n",
    "        predictionsMax[3][i],\n",
    "        predictionsMax[4][i]\n",
    "    ]))"
   ]
  },
  {
   "cell_type": "code",
   "execution_count": 96,
   "metadata": {
    "ExecuteTime": {
     "end_time": "2021-12-16T20:01:20.913626Z",
     "start_time": "2021-12-16T20:01:20.896630Z"
    }
   },
   "outputs": [
    {
     "data": {
      "text/plain": [
       "Counter({2: 5})"
      ]
     },
     "execution_count": 96,
     "metadata": {},
     "output_type": "execute_result"
    }
   ],
   "source": [
    "majorityVote[802]"
   ]
  }
 ],
 "metadata": {
  "kernelspec": {
   "display_name": "TensorFlow-2.6.0 (GPU)",
   "language": "python",
   "name": "tensorflow"
  },
  "language_info": {
   "codemirror_mode": {
    "name": "ipython",
    "version": 3
   },
   "file_extension": ".py",
   "mimetype": "text/x-python",
   "name": "python",
   "nbconvert_exporter": "python",
   "pygments_lexer": "ipython3",
   "version": "3.9.12"
  },
  "latex_envs": {
   "LaTeX_envs_menu_present": true,
   "autoclose": false,
   "autocomplete": true,
   "bibliofile": "biblio.bib",
   "cite_by": "apalike",
   "current_citInitial": 1,
   "eqLabelWithNumbers": true,
   "eqNumInitial": 1,
   "hotkeys": {
    "equation": "Ctrl-E",
    "itemize": "Ctrl-I"
   },
   "labels_anchors": false,
   "latex_user_defs": false,
   "report_style_numbering": false,
   "user_envs_cfg": false
  },
  "toc": {
   "base_numbering": 1,
   "nav_menu": {},
   "number_sections": false,
   "sideBar": true,
   "skip_h1_title": true,
   "title_cell": "Table of Contents",
   "title_sidebar": "Contents",
   "toc_cell": false,
   "toc_position": {},
   "toc_section_display": true,
   "toc_window_display": false
  },
  "varInspector": {
   "cols": {
    "lenName": 16,
    "lenType": 16,
    "lenVar": 40
   },
   "kernels_config": {
    "python": {
     "delete_cmd_postfix": "",
     "delete_cmd_prefix": "del ",
     "library": "var_list.py",
     "varRefreshCmd": "print(var_dic_list())"
    },
    "r": {
     "delete_cmd_postfix": ") ",
     "delete_cmd_prefix": "rm(",
     "library": "var_list.r",
     "varRefreshCmd": "cat(var_dic_list()) "
    }
   },
   "types_to_exclude": [
    "module",
    "function",
    "builtin_function_or_method",
    "instance",
    "_Feature"
   ],
   "window_display": false
  }
 },
 "nbformat": 4,
 "nbformat_minor": 4
}
