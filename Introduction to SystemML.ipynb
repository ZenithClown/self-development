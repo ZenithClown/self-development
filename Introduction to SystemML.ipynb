{
    "cells": [
        {
            "metadata": {
                "collapsed": true
            },
            "cell_type": "code",
            "source": "!pip install pyspark  # SystemML Requires PySpark v2.x+\n!pip install systemml",
            "execution_count": 4,
            "outputs": [
                {
                    "output_type": "stream",
                    "text": "Collecting pyspark\n\u001b[?25l  Downloading https://files.pythonhosted.org/packages/9a/5a/271c416c1c2185b6cb0151b29a91fff6fcaed80173c8584ff6d20e46b465/pyspark-2.4.5.tar.gz (217.8MB)\n\u001b[K     |\u2588\u2588\u2588\u2588\u2588\u2588\u2588\u2588\u2588\u2588\u2588\u2588\u2588\u2588\u2588\u2588\u2588\u2588\u2588\u2588\u2588\u2588\u2588\u2588\u2588\u2588\u2588\u2588\u2588\u2588\u2588\u2588| 217.8MB 20.2MB/s eta 0:00:01\ufffd\u2588\u2588\u2588\u2588\u2588\u2588\u2588\u2588\u2588\u2588\u258d                | 104.9MB 39.3MB/s eta 0:00:03\n\u001b[?25hCollecting py4j==0.10.7 (from pyspark)\n\u001b[?25l  Downloading https://files.pythonhosted.org/packages/e3/53/c737818eb9a7dc32a7cd4f1396e787bd94200c3997c72c1dbe028587bd76/py4j-0.10.7-py2.py3-none-any.whl (197kB)\n\u001b[K     |\u2588\u2588\u2588\u2588\u2588\u2588\u2588\u2588\u2588\u2588\u2588\u2588\u2588\u2588\u2588\u2588\u2588\u2588\u2588\u2588\u2588\u2588\u2588\u2588\u2588\u2588\u2588\u2588\u2588\u2588\u2588\u2588| 204kB 36.9MB/s eta 0:00:01\n\u001b[?25hBuilding wheels for collected packages: pyspark\n  Building wheel for pyspark (setup.py) ... \u001b[?25ldone\n\u001b[?25h  Stored in directory: /home/dsxuser/.cache/pip/wheels/bf/db/04/61d66a5939364e756eb1c1be4ec5bdce6e04047fc7929a3c3c\nSuccessfully built pyspark\nInstalling collected packages: py4j, pyspark\nSuccessfully installed py4j-0.10.7 pyspark-2.4.5\nRequirement already satisfied: systemml in /opt/conda/envs/Python36/lib/python3.6/site-packages (1.2.0)\nRequirement already satisfied: pandas in /opt/conda/envs/Python36/lib/python3.6/site-packages (from systemml) (0.24.1)\nRequirement already satisfied: scipy>=0.15.1 in /opt/conda/envs/Python36/lib/python3.6/site-packages (from systemml) (1.2.0)\nRequirement already satisfied: Pillow>=2.0.0 in /opt/conda/envs/Python36/lib/python3.6/site-packages (from systemml) (5.4.1)\nRequirement already satisfied: scikit-learn in /opt/conda/envs/Python36/lib/python3.6/site-packages (from systemml) (0.20.3)\nRequirement already satisfied: numpy>=1.8.2 in /opt/conda/envs/Python36/lib/python3.6/site-packages (from systemml) (1.15.4)\nRequirement already satisfied: pytz>=2011k in /opt/conda/envs/Python36/lib/python3.6/site-packages (from pandas->systemml) (2018.9)\nRequirement already satisfied: python-dateutil>=2.5.0 in /opt/conda/envs/Python36/lib/python3.6/site-packages (from pandas->systemml) (2.7.5)\nRequirement already satisfied: six>=1.5 in /opt/conda/envs/Python36/lib/python3.6/site-packages (from python-dateutil>=2.5.0->pandas->systemml) (1.12.0)\n",
                    "name": "stdout"
                }
            ]
        },
        {
            "metadata": {},
            "cell_type": "markdown",
            "source": "A **Hello World** Aplication in SystemML"
        },
        {
            "metadata": {},
            "cell_type": "code",
            "source": "import numpy as np",
            "execution_count": 36,
            "outputs": []
        },
        {
            "metadata": {},
            "cell_type": "code",
            "source": "from systemml import MLContext, dml",
            "execution_count": 5,
            "outputs": []
        },
        {
            "metadata": {},
            "cell_type": "code",
            "source": "try:\n    from pyspark.sql import SparkSession\n    from pyspark import SparkContext, SparkConf\nexcept ImportError as e:\n    raise ImportError('PySpark is not Configured')\n    \n# Creating a Spark-Context\nsc = SparkContext.getOrCreate(SparkConf().setMaster('local[*]'))\n# Spark Builder\nspark = SparkSession.builder.getOrCreate()",
            "execution_count": 6,
            "outputs": []
        },
        {
            "metadata": {},
            "cell_type": "code",
            "source": "ML = MLContext(sc) # Creating a MLContext Object",
            "execution_count": 8,
            "outputs": []
        },
        {
            "metadata": {},
            "cell_type": "code",
            "source": "HelloWorldScript = dml(\"\"\"\nprint('Hello World');\n\"\"\")",
            "execution_count": 13,
            "outputs": []
        },
        {
            "metadata": {},
            "cell_type": "code",
            "source": "ML.execute(HelloWorldScript)",
            "execution_count": 14,
            "outputs": [
                {
                    "output_type": "stream",
                    "text": "Hello World\nSystemML Statistics:\nTotal execution time:\t\t0.003 sec.\nNumber of executed Spark inst:\t0.\n\n\n",
                    "name": "stdout"
                },
                {
                    "output_type": "execute_result",
                    "execution_count": 14,
                    "data": {
                        "text/plain": "MLResults"
                    },
                    "metadata": {}
                }
            ]
        },
        {
            "metadata": {},
            "cell_type": "code",
            "source": "HelloWorld = dml(\"\"\"\ns = 'Hello World'\n\"\"\").output('s') # this print() the Output as an Python String",
            "execution_count": 15,
            "outputs": []
        },
        {
            "metadata": {},
            "cell_type": "code",
            "source": "print(ML.execute(HelloWorld).get('s'))",
            "execution_count": 16,
            "outputs": [
                {
                    "output_type": "stream",
                    "text": "SystemML Statistics:\nTotal execution time:\t\t0.000 sec.\nNumber of executed Spark inst:\t0.\n\n\nHello World\n",
                    "name": "stdout"
                }
            ]
        },
        {
            "metadata": {},
            "cell_type": "markdown",
            "source": "**Matrix Multiplication Example**"
        },
        {
            "metadata": {},
            "cell_type": "code",
            "source": "MatrixMultiplicationScript = \"\"\"\n    X = rand(rows = $nr, cols = 1000, sparsity = 0.5)\n    A = t(X)%*%X\n    s = sum(A)\n\"\"\"",
            "execution_count": 30,
            "outputs": []
        },
        {
            "metadata": {},
            "cell_type": "code",
            "source": "MLProgram = dml(MatrixMultiplicationScript).input('$nr', 1e6).output('s')",
            "execution_count": 31,
            "outputs": []
        },
        {
            "metadata": {},
            "cell_type": "code",
            "source": "TotalSum = ML.execute(MLProgram).get('s')",
            "execution_count": 33,
            "outputs": [
                {
                    "output_type": "stream",
                    "text": "[Stage 0:=====>           (18 + 2) / 59][Stage 1:>                 (0 + 0) / 59]\n[Stage 0:=====>           (20 + 2) / 59][Stage 1:>                 (0 + 0) / 59]\n[Stage 0:======>          (21 + 2) / 59][Stage 1:>                 (0 + 0) / 59]\n[Stage 0:======>          (22 + 2) / 59][Stage 1:>                 (0 + 0) / 59]\n[Stage 0:======>          (24 + 2) / 59][Stage 1:>                 (0 + 0) / 59]\n[Stage 0:=======>         (26 + 2) / 59][Stage 1:>                 (0 + 0) / 59]\n[Stage 0:========>        (28 + 2) / 59][Stage 1:>                 (0 + 0) / 59]\n[Stage 0:========>        (30 + 2) / 59][Stage 1:>                 (0 + 0) / 59]\n[Stage 0:=========>       (32 + 2) / 59][Stage 1:>                 (0 + 0) / 59]\n[Stage 0:=========>       (33 + 2) / 59][Stage 1:>                 (0 + 0) / 59]\n[Stage 0:=========>       (34 + 2) / 59][Stage 1:>                 (0 + 0) / 59]\n[Stage 0:==========>      (36 + 2) / 59][Stage 1:>                 (0 + 0) / 59]\n[Stage 0:==========>      (38 + 2) / 59][Stage 1:>                 (0 + 0) / 59]\n[Stage 0:===========>     (40 + 2) / 59][Stage 1:>                 (0 + 0) / 59]\n[Stage 0:============>    (42 + 2) / 59][Stage 1:>                 (0 + 0) / 59]\n[Stage 0:============>    (44 + 2) / 59][Stage 1:>                 (0 + 0) / 59]\n[Stage 0:=============>   (46 + 2) / 59][Stage 1:>                 (0 + 0) / 59]\n[Stage 0:=============>   (47 + 2) / 59][Stage 1:>                 (0 + 0) / 59]\n[Stage 0:=============>   (48 + 2) / 59][Stage 1:>                 (0 + 0) / 59]\n[Stage 0:==============>  (50 + 2) / 59][Stage 1:>                 (0 + 0) / 59]\n[Stage 0:==============>  (52 + 2) / 59][Stage 1:>                 (0 + 0) / 59]\n[Stage 0:===============> (54 + 2) / 59][Stage 1:>                 (0 + 0) / 59]\n[Stage 0:================>(56 + 2) / 59][Stage 1:>                 (0 + 0) / 59]\n[Stage 0:================>(58 + 1) / 59][Stage 1:>                 (0 + 1) / 59]\nSystemML Statistics:\nTotal execution time:\t\t24.705 sec.\nNumber of executed Spark inst:\t2.\n\n                                                                                \n[Stage 1:==>                                                       (3 + 2) / 59]\n[Stage 1:===>                                                      (4 + 2) / 59]\n[Stage 1:=====>                                                    (6 + 2) / 59]\n[Stage 1:======>                                                   (7 + 2) / 59]\n[Stage 1:========>                                                 (9 + 2) / 59]\n[Stage 1:==========>                                              (11 + 2) / 59]\n[Stage 1:============>                                            (13 + 2) / 59]\n[Stage 1:==============>                                          (15 + 2) / 59]\n[Stage 1:================>                                        (17 + 2) / 59]\n[Stage 1:==================>                                      (19 + 2) / 59]\n[Stage 1:====================>                                    (21 + 2) / 59]\n[Stage 1:=====================>                                   (22 + 2) / 59]\n[Stage 1:======================>                                  (23 + 2) / 59]\n[Stage 1:========================>                                (25 + 2) / 59]\n[Stage 1:==========================>                              (27 + 2) / 59]\n[Stage 1:============================>                            (29 + 2) / 59]\n[Stage 1:=============================>                           (31 + 2) / 59]\n[Stage 1:===============================>                         (33 + 2) / 59]\n[Stage 1:=================================>                       (35 + 2) / 59]\n[Stage 1:===================================>                     (37 + 2) / 59]\n[Stage 1:====================================>                    (38 + 2) / 59]\n[Stage 1:======================================>                  (40 + 2) / 59]\n[Stage 1:========================================>                (42 + 2) / 59]\n[Stage 1:==========================================>              (44 + 2) / 59]\n[Stage 1:===========================================>             (45 + 2) / 59]\n[Stage 1:=============================================>           (47 + 2) / 59]\n[Stage 1:===============================================>         (49 + 2) / 59]\n[Stage 1:=================================================>       (51 + 2) / 59]\n[Stage 1:==================================================>      (52 + 2) / 59]\n[Stage 1:====================================================>    (54 + 2) / 59]\n[Stage 1:======================================================>  (56 + 2) / 59]\n[Stage 1:=======================================================> (57 + 2) / 59]\nSystemML Statistics:\nTotal execution time:\t\t57.605 sec.\nNumber of executed Spark inst:\t2.\n\n                                                                                \n\n",
                    "name": "stdout"
                }
            ]
        },
        {
            "metadata": {},
            "cell_type": "code",
            "source": "print(TotalSum)",
            "execution_count": 34,
            "outputs": [
                {
                    "output_type": "stream",
                    "text": "62604410685.6771\n",
                    "name": "stdout"
                }
            ]
        }
    ],
    "metadata": {
        "kernelspec": {
            "name": "python3",
            "display_name": "Python 3.6",
            "language": "python"
        },
        "language_info": {
            "name": "python",
            "version": "3.6.9",
            "mimetype": "text/x-python",
            "codemirror_mode": {
                "name": "ipython",
                "version": 3
            },
            "pygments_lexer": "ipython3",
            "nbconvert_exporter": "python",
            "file_extension": ".py"
        }
    },
    "nbformat": 4,
    "nbformat_minor": 1
}